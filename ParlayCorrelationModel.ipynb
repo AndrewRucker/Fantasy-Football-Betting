{
  "nbformat": 4,
  "nbformat_minor": 0,
  "metadata": {
    "colab": {
      "name": "ParlayCorrelationModel.ipynb",
      "provenance": [],
      "authorship_tag": "ABX9TyPOzS2GDzF32U5eyUStG886",
      "include_colab_link": true
    },
    "kernelspec": {
      "name": "python3",
      "display_name": "Python 3"
    },
    "language_info": {
      "name": "python"
    }
  },
  "cells": [
    {
      "cell_type": "markdown",
      "metadata": {
        "id": "view-in-github",
        "colab_type": "text"
      },
      "source": [
        "<a href=\"https://colab.research.google.com/github/AndrewRucker/ParlayCorrelation/blob/main/ParlayCorrelationModel.ipynb\" target=\"_parent\"><img src=\"https://colab.research.google.com/assets/colab-badge.svg\" alt=\"Open In Colab\"/></a>"
      ]
    },
    {
      "cell_type": "code",
      "metadata": {
        "id": "eN4m5NASJ1-k"
      },
      "source": [
        "#Parlay betting model\n",
        "#The goal of this model is to see the correlation between props hitting in any given football game\n",
        "#With the end result being a framework that bets the most likely outcomes in the form of parlay combinations. Initial thoughts being a framework that bets both underdog and favorite correlation props.\n",
        "\n",
        "\n",
        "# i.e. If the QB hits the over on passing yards, how likely is it that the WR1, WR2, WR3 are hitting the over on receiving stats such as yards, receptions, reception length\n",
        "# This same thing for both teams. In this way, you can cover if the underdog has a good passing game\n",
        "\n",
        "#Other examples include: If the RB hits the over on rushing yards, does the opposing RB hit the under on rushing yards,\n",
        "#opposing QB hit the over on pass attempts, WR1 over on receptions, etc\n",
        "\n",
        "#As there is a lot of variance in interceptions, TDs, and even length of reception/passing completion\n",
        "#the model will be focusing primarily on yards, completions/attempts, receptions, over/under, favorite/underdog covering\n",
        "\n",
        "#At the high end, this would leave potential for 6-7 leg parlays?\n",
        "\n",
        "#How will the dataset to track the test parlays look?\n",
        "#Binary flags. Did the over hit? Yes, 1. Did the under hit? Yes, 0. \n",
        "#But how do you account for underdog/favorites? \n",
        "#Different column for both. i.e. UND_RB_YDS and FAV_RB_YDS\n",
        "\n",
        "\n",
        "#The dataset will have the following columns\n",
        "#FAV_QB_YDS, FAV_QB_ATT, FAV_RB_ATT, FAV_RB_YDS, \n",
        "#FAV_WR1_REC, FAV_WR1_YDS, FAV_WR2_REC, FAV_WR2_YDS, FAV_WR3_REC, FAV_WR3_YDS, OVER, UNDER, FAV_COVER, UND_COVER, UND_QB_YDS, UND_QB_ATT, UND_RB_YDS, UND_RB_ATT, UND_WR1_YDS, UND_WR1_REC,\n",
        "#UND_WR2_YDS, UND_WR2_REC, UND_WR3_YDS, UND_WR3_REC\n",
        "\n",
        "#24 columns in total\n",
        "\n",
        "#Rows will be the games these parlays occur in, and each game will be formatted as follows:\n",
        "#Chiefs 49 vs Buccanneers 17 in week 1. Chiefs were the favorite so they will be listed first. In the row, the game will show as \"KC49_TB17_W1\"\n",
        "\n",
        "#I am not sure at this moment how else to do that, but I am open to changing that game format.\n",
        "\n",
        "\n",
        "#So, an example row of data for this dataset will be as follows:\n",
        "\n",
        "              #FAV_QB_YDS, FAV_QB_ATT, FAV_RB_ATT, FAV_RB_YDS, FAV_WR1_REC, FAV_WR1_YDS, FAV_WR2_REC, FAV_WR2_YDS, FAV_WR3_REC, FAV_WR3_YDS, OVER, UNDER, FAV_COVER, UND_COVER, UND_QB_YDS, UND_QB_ATT, UND_RB_YDS, UND_RB_ATT, UND_WR1_YDS, UND_WR1_REC, UND_WR2_YDS, UND_WR2_REC, UND_WR3_YDS, UND_WR3_REC\n",
        "#KC49_TB17_W1       1           1           0           0           1            1            1            1            0            1         1     0        1          0           0          1            0           0            1           1            0            1            0            1   "
      ],
      "execution_count": null,
      "outputs": []
    }
  ]
}