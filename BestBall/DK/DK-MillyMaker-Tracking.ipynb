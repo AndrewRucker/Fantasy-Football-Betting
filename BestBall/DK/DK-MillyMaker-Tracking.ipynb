{
  "nbformat": 4,
  "nbformat_minor": 0,
  "metadata": {
    "colab": {
      "name": "BBM3.ipynb",
      "provenance": [],
      "authorship_tag": "ABX9TyMHl9WnPtcp2YqL44TFjw7R",
      "include_colab_link": true
    },
    "kernelspec": {
      "name": "python3",
      "display_name": "Python 3"
    },
    "language_info": {
      "name": "python"
    }
  },
  "cells": [
    {
      "cell_type": "markdown",
      "metadata": {
        "id": "view-in-github",
        "colab_type": "text"
      },
      "source": [
        "<a href=\"https://colab.research.google.com/github/AndrewRucker/Fantasy-Football-and-Betting/blob/main/BestBall/DK/DK-MillyMaker-Tracking.ipynb\" target=\"_parent\"><img src=\"https://colab.research.google.com/assets/colab-badge.svg\" alt=\"Open In Colab\"/></a>"
      ]
    },
    {
      "cell_type": "markdown",
      "source": [
        "#### Library imports and dataset creation"
      ],
      "metadata": {
        "id": "3imzieoZt6q_"
      }
    },
    {
      "cell_type": "code",
      "source": [
        "!pip install vega"
      ],
      "metadata": {
        "colab": {
          "base_uri": "https://localhost:8080/"
        },
        "id": "b8kELG4oA_oV",
        "outputId": "062c984e-2e75-4eb8-b70e-1f7b21fcf6ac"
      },
      "execution_count": 296,
      "outputs": [
        {
          "output_type": "stream",
          "name": "stdout",
          "text": [
            "Requirement already satisfied: vega in /usr/local/lib/python3.7/dist-packages (3.6.0)\n",
            "Requirement already satisfied: pandas<2.0.0,>=1.0.0 in /usr/local/lib/python3.7/dist-packages (from vega) (1.3.5)\n",
            "Requirement already satisfied: jupyter<2.0.0,>=1.0.0 in /usr/local/lib/python3.7/dist-packages (from vega) (1.0.0)\n",
            "Requirement already satisfied: notebook in /usr/local/lib/python3.7/dist-packages (from jupyter<2.0.0,>=1.0.0->vega) (5.3.1)\n",
            "Requirement already satisfied: ipykernel in /usr/local/lib/python3.7/dist-packages (from jupyter<2.0.0,>=1.0.0->vega) (4.10.1)\n",
            "Requirement already satisfied: nbconvert in /usr/local/lib/python3.7/dist-packages (from jupyter<2.0.0,>=1.0.0->vega) (5.6.1)\n",
            "Requirement already satisfied: jupyter-console in /usr/local/lib/python3.7/dist-packages (from jupyter<2.0.0,>=1.0.0->vega) (5.2.0)\n",
            "Requirement already satisfied: qtconsole in /usr/local/lib/python3.7/dist-packages (from jupyter<2.0.0,>=1.0.0->vega) (5.3.0)\n",
            "Requirement already satisfied: ipywidgets in /usr/local/lib/python3.7/dist-packages (from jupyter<2.0.0,>=1.0.0->vega) (7.7.0)\n",
            "Requirement already satisfied: numpy>=1.17.3 in /usr/local/lib/python3.7/dist-packages (from pandas<2.0.0,>=1.0.0->vega) (1.21.6)\n",
            "Requirement already satisfied: python-dateutil>=2.7.3 in /usr/local/lib/python3.7/dist-packages (from pandas<2.0.0,>=1.0.0->vega) (2.8.2)\n",
            "Requirement already satisfied: pytz>=2017.3 in /usr/local/lib/python3.7/dist-packages (from pandas<2.0.0,>=1.0.0->vega) (2022.1)\n",
            "Requirement already satisfied: six>=1.5 in /usr/local/lib/python3.7/dist-packages (from python-dateutil>=2.7.3->pandas<2.0.0,>=1.0.0->vega) (1.15.0)\n",
            "Requirement already satisfied: traitlets>=4.1.0 in /usr/local/lib/python3.7/dist-packages (from ipykernel->jupyter<2.0.0,>=1.0.0->vega) (5.2.0)\n",
            "Requirement already satisfied: jupyter-client in /usr/local/lib/python3.7/dist-packages (from ipykernel->jupyter<2.0.0,>=1.0.0->vega) (5.3.5)\n",
            "Requirement already satisfied: tornado>=4.0 in /usr/local/lib/python3.7/dist-packages (from ipykernel->jupyter<2.0.0,>=1.0.0->vega) (5.1.1)\n",
            "Requirement already satisfied: ipython>=4.0.0 in /usr/local/lib/python3.7/dist-packages (from ipykernel->jupyter<2.0.0,>=1.0.0->vega) (5.5.0)\n",
            "Requirement already satisfied: simplegeneric>0.8 in /usr/local/lib/python3.7/dist-packages (from ipython>=4.0.0->ipykernel->jupyter<2.0.0,>=1.0.0->vega) (0.8.1)\n",
            "Requirement already satisfied: pygments in /usr/local/lib/python3.7/dist-packages (from ipython>=4.0.0->ipykernel->jupyter<2.0.0,>=1.0.0->vega) (2.6.1)\n",
            "Requirement already satisfied: pexpect in /usr/local/lib/python3.7/dist-packages (from ipython>=4.0.0->ipykernel->jupyter<2.0.0,>=1.0.0->vega) (4.8.0)\n",
            "Requirement already satisfied: decorator in /usr/local/lib/python3.7/dist-packages (from ipython>=4.0.0->ipykernel->jupyter<2.0.0,>=1.0.0->vega) (4.4.2)\n",
            "Requirement already satisfied: setuptools>=18.5 in /usr/local/lib/python3.7/dist-packages (from ipython>=4.0.0->ipykernel->jupyter<2.0.0,>=1.0.0->vega) (57.4.0)\n",
            "Requirement already satisfied: pickleshare in /usr/local/lib/python3.7/dist-packages (from ipython>=4.0.0->ipykernel->jupyter<2.0.0,>=1.0.0->vega) (0.7.5)\n",
            "Requirement already satisfied: prompt-toolkit<2.0.0,>=1.0.4 in /usr/local/lib/python3.7/dist-packages (from ipython>=4.0.0->ipykernel->jupyter<2.0.0,>=1.0.0->vega) (1.0.18)\n",
            "Requirement already satisfied: wcwidth in /usr/local/lib/python3.7/dist-packages (from prompt-toolkit<2.0.0,>=1.0.4->ipython>=4.0.0->ipykernel->jupyter<2.0.0,>=1.0.0->vega) (0.2.5)\n",
            "Requirement already satisfied: widgetsnbextension~=3.6.0 in /usr/local/lib/python3.7/dist-packages (from ipywidgets->jupyter<2.0.0,>=1.0.0->vega) (3.6.0)\n",
            "Requirement already satisfied: jupyterlab-widgets>=1.0.0 in /usr/local/lib/python3.7/dist-packages (from ipywidgets->jupyter<2.0.0,>=1.0.0->vega) (1.1.0)\n",
            "Requirement already satisfied: ipython-genutils~=0.2.0 in /usr/local/lib/python3.7/dist-packages (from ipywidgets->jupyter<2.0.0,>=1.0.0->vega) (0.2.0)\n",
            "Requirement already satisfied: nbformat>=4.2.0 in /usr/local/lib/python3.7/dist-packages (from ipywidgets->jupyter<2.0.0,>=1.0.0->vega) (5.4.0)\n",
            "Requirement already satisfied: jupyter-core in /usr/local/lib/python3.7/dist-packages (from nbformat>=4.2.0->ipywidgets->jupyter<2.0.0,>=1.0.0->vega) (4.10.0)\n",
            "Requirement already satisfied: fastjsonschema in /usr/local/lib/python3.7/dist-packages (from nbformat>=4.2.0->ipywidgets->jupyter<2.0.0,>=1.0.0->vega) (2.15.3)\n",
            "Requirement already satisfied: jsonschema>=2.6 in /usr/local/lib/python3.7/dist-packages (from nbformat>=4.2.0->ipywidgets->jupyter<2.0.0,>=1.0.0->vega) (4.3.3)\n",
            "Requirement already satisfied: attrs>=17.4.0 in /usr/local/lib/python3.7/dist-packages (from jsonschema>=2.6->nbformat>=4.2.0->ipywidgets->jupyter<2.0.0,>=1.0.0->vega) (21.4.0)\n",
            "Requirement already satisfied: pyrsistent!=0.17.0,!=0.17.1,!=0.17.2,>=0.14.0 in /usr/local/lib/python3.7/dist-packages (from jsonschema>=2.6->nbformat>=4.2.0->ipywidgets->jupyter<2.0.0,>=1.0.0->vega) (0.18.1)\n",
            "Requirement already satisfied: importlib-resources>=1.4.0 in /usr/local/lib/python3.7/dist-packages (from jsonschema>=2.6->nbformat>=4.2.0->ipywidgets->jupyter<2.0.0,>=1.0.0->vega) (5.7.1)\n",
            "Requirement already satisfied: importlib-metadata in /usr/local/lib/python3.7/dist-packages (from jsonschema>=2.6->nbformat>=4.2.0->ipywidgets->jupyter<2.0.0,>=1.0.0->vega) (4.11.3)\n",
            "Requirement already satisfied: typing-extensions in /usr/local/lib/python3.7/dist-packages (from jsonschema>=2.6->nbformat>=4.2.0->ipywidgets->jupyter<2.0.0,>=1.0.0->vega) (4.2.0)\n",
            "Requirement already satisfied: zipp>=3.1.0 in /usr/local/lib/python3.7/dist-packages (from importlib-resources>=1.4.0->jsonschema>=2.6->nbformat>=4.2.0->ipywidgets->jupyter<2.0.0,>=1.0.0->vega) (3.8.0)\n",
            "Requirement already satisfied: terminado>=0.8.1 in /usr/local/lib/python3.7/dist-packages (from notebook->jupyter<2.0.0,>=1.0.0->vega) (0.13.3)\n",
            "Requirement already satisfied: jinja2 in /usr/local/lib/python3.7/dist-packages (from notebook->jupyter<2.0.0,>=1.0.0->vega) (2.11.3)\n",
            "Requirement already satisfied: Send2Trash in /usr/local/lib/python3.7/dist-packages (from notebook->jupyter<2.0.0,>=1.0.0->vega) (1.8.0)\n",
            "Requirement already satisfied: pyzmq>=13 in /usr/local/lib/python3.7/dist-packages (from jupyter-client->ipykernel->jupyter<2.0.0,>=1.0.0->vega) (22.3.0)\n",
            "Requirement already satisfied: ptyprocess in /usr/local/lib/python3.7/dist-packages (from terminado>=0.8.1->notebook->jupyter<2.0.0,>=1.0.0->vega) (0.7.0)\n",
            "Requirement already satisfied: MarkupSafe>=0.23 in /usr/local/lib/python3.7/dist-packages (from jinja2->notebook->jupyter<2.0.0,>=1.0.0->vega) (2.0.1)\n",
            "Requirement already satisfied: testpath in /usr/local/lib/python3.7/dist-packages (from nbconvert->jupyter<2.0.0,>=1.0.0->vega) (0.6.0)\n",
            "Requirement already satisfied: defusedxml in /usr/local/lib/python3.7/dist-packages (from nbconvert->jupyter<2.0.0,>=1.0.0->vega) (0.7.1)\n",
            "Requirement already satisfied: entrypoints>=0.2.2 in /usr/local/lib/python3.7/dist-packages (from nbconvert->jupyter<2.0.0,>=1.0.0->vega) (0.4)\n",
            "Requirement already satisfied: bleach in /usr/local/lib/python3.7/dist-packages (from nbconvert->jupyter<2.0.0,>=1.0.0->vega) (5.0.0)\n",
            "Requirement already satisfied: pandocfilters>=1.4.1 in /usr/local/lib/python3.7/dist-packages (from nbconvert->jupyter<2.0.0,>=1.0.0->vega) (1.5.0)\n",
            "Requirement already satisfied: mistune<2,>=0.8.1 in /usr/local/lib/python3.7/dist-packages (from nbconvert->jupyter<2.0.0,>=1.0.0->vega) (0.8.4)\n",
            "Requirement already satisfied: webencodings in /usr/local/lib/python3.7/dist-packages (from bleach->nbconvert->jupyter<2.0.0,>=1.0.0->vega) (0.5.1)\n",
            "Requirement already satisfied: qtpy>=2.0.1 in /usr/local/lib/python3.7/dist-packages (from qtconsole->jupyter<2.0.0,>=1.0.0->vega) (2.1.0)\n",
            "Requirement already satisfied: packaging in /usr/local/lib/python3.7/dist-packages (from qtpy>=2.0.1->qtconsole->jupyter<2.0.0,>=1.0.0->vega) (21.3)\n",
            "Requirement already satisfied: pyparsing!=3.0.5,>=2.0.2 in /usr/local/lib/python3.7/dist-packages (from packaging->qtpy>=2.0.1->qtconsole->jupyter<2.0.0,>=1.0.0->vega) (3.0.9)\n"
          ]
        }
      ]
    },
    {
      "cell_type": "code",
      "source": [
        "import pandas as pd\n",
        "import seaborn as sns\n",
        "import numpy as np\n",
        "import altair as alt\n",
        "import matplotlib.pyplot as plt\n",
        "import ipywidgets as widgets\n",
        "from IPython.core.pylabtools import figsize\n",
        "from IPython.display import display\n",
        "alt.renderers.enable('notebook')\n",
        "sns.set_context(font_scale=2)\n",
        "\n",
        "# to bypass warnings in various dataframe assignments\n",
        "pd.options.mode.chained_assignment = None"
      ],
      "metadata": {
        "id": "k1fXA10C0TpE"
      },
      "execution_count": 297,
      "outputs": []
    },
    {
      "cell_type": "code",
      "source": [
        "#Read in CSV to dataframe\n",
        "url = 'https://raw.githubusercontent.com/AndrewRucker/Fantasy-Football-and-Betting/main/BestBall/DK/DK5.csv'\n",
        "df = pd.read_csv(url, index_col='Team')\n",
        "df = df.dropna(how='all')\n",
        "\n",
        "df"
      ],
      "metadata": {
        "colab": {
          "base_uri": "https://localhost:8080/",
          "height": 455
        },
        "id": "znmZ-2wgFypn",
        "outputId": "2888c1ec-4d79-4e6a-948d-3d41c035a8cd"
      },
      "execution_count": 298,
      "outputs": [
        {
          "output_type": "execute_result",
          "data": {
            "text/plain": [
              "     POS                 Name TEAM  Round  Pick    ADP  Value Draft Start  \\\n",
              "Team                                                                        \n",
              "1     RB  Christian Mccaffrey  CAR      1     2    2.6   -0.6   5/13/2022   \n",
              "1     TE         Mark Andrews  BAL      2    23   19.3    3.7   5/13/2022   \n",
              "1     RB       Saquon Barkley  NYG      3    26   25.7    0.3   5/13/2022   \n",
              "1     RB         James Conner   AZ      4    47   34.8   12.2   5/13/2022   \n",
              "1     RB            Cam Akers  LAR      5    50   43.5    6.5   5/13/2022   \n",
              "...   ..                  ...  ...    ...   ...    ...    ...         ...   \n",
              "13    RB   Tyrion Davis-Price   SF     16   187  177.0   10.0   5/16/2022   \n",
              "13    RB       Brian Robinson  WAS     17   198  191.9    6.1   5/16/2022   \n",
              "13    RB          James White   NE     18   211  211.0    0.0   5/16/2022   \n",
              "13    WR           Danny Gray   SF     19   222  222.0    0.0   5/16/2022   \n",
              "13    RB          Sony Michel  MIA     20   235  235.0    0.0   5/16/2022   \n",
              "\n",
              "      Cumulative Val         Strategy Elite Onesie  \n",
              "Team                                                \n",
              "1               94.3  Hyperfragile RB     Elite TE  \n",
              "1               94.3  Hyperfragile RB     Elite TE  \n",
              "1               94.3  Hyperfragile RB     Elite TE  \n",
              "1               94.3  Hyperfragile RB     Elite TE  \n",
              "1               94.3  Hyperfragile RB     Elite TE  \n",
              "...              ...              ...          ...  \n",
              "13              60.6        Anchor RB  Elite QB/TE  \n",
              "13              60.6        Anchor RB  Elite QB/TE  \n",
              "13              60.6        Anchor RB  Elite QB/TE  \n",
              "13              60.6        Anchor RB  Elite QB/TE  \n",
              "13              60.6        Anchor RB  Elite QB/TE  \n",
              "\n",
              "[260 rows x 11 columns]"
            ],
            "text/html": [
              "\n",
              "  <div id=\"df-24b4b954-d921-431c-b614-ba8cc41bcc77\">\n",
              "    <div class=\"colab-df-container\">\n",
              "      <div>\n",
              "<style scoped>\n",
              "    .dataframe tbody tr th:only-of-type {\n",
              "        vertical-align: middle;\n",
              "    }\n",
              "\n",
              "    .dataframe tbody tr th {\n",
              "        vertical-align: top;\n",
              "    }\n",
              "\n",
              "    .dataframe thead th {\n",
              "        text-align: right;\n",
              "    }\n",
              "</style>\n",
              "<table border=\"1\" class=\"dataframe\">\n",
              "  <thead>\n",
              "    <tr style=\"text-align: right;\">\n",
              "      <th></th>\n",
              "      <th>POS</th>\n",
              "      <th>Name</th>\n",
              "      <th>TEAM</th>\n",
              "      <th>Round</th>\n",
              "      <th>Pick</th>\n",
              "      <th>ADP</th>\n",
              "      <th>Value</th>\n",
              "      <th>Draft Start</th>\n",
              "      <th>Cumulative Val</th>\n",
              "      <th>Strategy</th>\n",
              "      <th>Elite Onesie</th>\n",
              "    </tr>\n",
              "    <tr>\n",
              "      <th>Team</th>\n",
              "      <th></th>\n",
              "      <th></th>\n",
              "      <th></th>\n",
              "      <th></th>\n",
              "      <th></th>\n",
              "      <th></th>\n",
              "      <th></th>\n",
              "      <th></th>\n",
              "      <th></th>\n",
              "      <th></th>\n",
              "      <th></th>\n",
              "    </tr>\n",
              "  </thead>\n",
              "  <tbody>\n",
              "    <tr>\n",
              "      <th>1</th>\n",
              "      <td>RB</td>\n",
              "      <td>Christian Mccaffrey</td>\n",
              "      <td>CAR</td>\n",
              "      <td>1</td>\n",
              "      <td>2</td>\n",
              "      <td>2.6</td>\n",
              "      <td>-0.6</td>\n",
              "      <td>5/13/2022</td>\n",
              "      <td>94.3</td>\n",
              "      <td>Hyperfragile RB</td>\n",
              "      <td>Elite TE</td>\n",
              "    </tr>\n",
              "    <tr>\n",
              "      <th>1</th>\n",
              "      <td>TE</td>\n",
              "      <td>Mark Andrews</td>\n",
              "      <td>BAL</td>\n",
              "      <td>2</td>\n",
              "      <td>23</td>\n",
              "      <td>19.3</td>\n",
              "      <td>3.7</td>\n",
              "      <td>5/13/2022</td>\n",
              "      <td>94.3</td>\n",
              "      <td>Hyperfragile RB</td>\n",
              "      <td>Elite TE</td>\n",
              "    </tr>\n",
              "    <tr>\n",
              "      <th>1</th>\n",
              "      <td>RB</td>\n",
              "      <td>Saquon Barkley</td>\n",
              "      <td>NYG</td>\n",
              "      <td>3</td>\n",
              "      <td>26</td>\n",
              "      <td>25.7</td>\n",
              "      <td>0.3</td>\n",
              "      <td>5/13/2022</td>\n",
              "      <td>94.3</td>\n",
              "      <td>Hyperfragile RB</td>\n",
              "      <td>Elite TE</td>\n",
              "    </tr>\n",
              "    <tr>\n",
              "      <th>1</th>\n",
              "      <td>RB</td>\n",
              "      <td>James Conner</td>\n",
              "      <td>AZ</td>\n",
              "      <td>4</td>\n",
              "      <td>47</td>\n",
              "      <td>34.8</td>\n",
              "      <td>12.2</td>\n",
              "      <td>5/13/2022</td>\n",
              "      <td>94.3</td>\n",
              "      <td>Hyperfragile RB</td>\n",
              "      <td>Elite TE</td>\n",
              "    </tr>\n",
              "    <tr>\n",
              "      <th>1</th>\n",
              "      <td>RB</td>\n",
              "      <td>Cam Akers</td>\n",
              "      <td>LAR</td>\n",
              "      <td>5</td>\n",
              "      <td>50</td>\n",
              "      <td>43.5</td>\n",
              "      <td>6.5</td>\n",
              "      <td>5/13/2022</td>\n",
              "      <td>94.3</td>\n",
              "      <td>Hyperfragile RB</td>\n",
              "      <td>Elite TE</td>\n",
              "    </tr>\n",
              "    <tr>\n",
              "      <th>...</th>\n",
              "      <td>...</td>\n",
              "      <td>...</td>\n",
              "      <td>...</td>\n",
              "      <td>...</td>\n",
              "      <td>...</td>\n",
              "      <td>...</td>\n",
              "      <td>...</td>\n",
              "      <td>...</td>\n",
              "      <td>...</td>\n",
              "      <td>...</td>\n",
              "      <td>...</td>\n",
              "    </tr>\n",
              "    <tr>\n",
              "      <th>13</th>\n",
              "      <td>RB</td>\n",
              "      <td>Tyrion Davis-Price</td>\n",
              "      <td>SF</td>\n",
              "      <td>16</td>\n",
              "      <td>187</td>\n",
              "      <td>177.0</td>\n",
              "      <td>10.0</td>\n",
              "      <td>5/16/2022</td>\n",
              "      <td>60.6</td>\n",
              "      <td>Anchor RB</td>\n",
              "      <td>Elite QB/TE</td>\n",
              "    </tr>\n",
              "    <tr>\n",
              "      <th>13</th>\n",
              "      <td>RB</td>\n",
              "      <td>Brian Robinson</td>\n",
              "      <td>WAS</td>\n",
              "      <td>17</td>\n",
              "      <td>198</td>\n",
              "      <td>191.9</td>\n",
              "      <td>6.1</td>\n",
              "      <td>5/16/2022</td>\n",
              "      <td>60.6</td>\n",
              "      <td>Anchor RB</td>\n",
              "      <td>Elite QB/TE</td>\n",
              "    </tr>\n",
              "    <tr>\n",
              "      <th>13</th>\n",
              "      <td>RB</td>\n",
              "      <td>James White</td>\n",
              "      <td>NE</td>\n",
              "      <td>18</td>\n",
              "      <td>211</td>\n",
              "      <td>211.0</td>\n",
              "      <td>0.0</td>\n",
              "      <td>5/16/2022</td>\n",
              "      <td>60.6</td>\n",
              "      <td>Anchor RB</td>\n",
              "      <td>Elite QB/TE</td>\n",
              "    </tr>\n",
              "    <tr>\n",
              "      <th>13</th>\n",
              "      <td>WR</td>\n",
              "      <td>Danny Gray</td>\n",
              "      <td>SF</td>\n",
              "      <td>19</td>\n",
              "      <td>222</td>\n",
              "      <td>222.0</td>\n",
              "      <td>0.0</td>\n",
              "      <td>5/16/2022</td>\n",
              "      <td>60.6</td>\n",
              "      <td>Anchor RB</td>\n",
              "      <td>Elite QB/TE</td>\n",
              "    </tr>\n",
              "    <tr>\n",
              "      <th>13</th>\n",
              "      <td>RB</td>\n",
              "      <td>Sony Michel</td>\n",
              "      <td>MIA</td>\n",
              "      <td>20</td>\n",
              "      <td>235</td>\n",
              "      <td>235.0</td>\n",
              "      <td>0.0</td>\n",
              "      <td>5/16/2022</td>\n",
              "      <td>60.6</td>\n",
              "      <td>Anchor RB</td>\n",
              "      <td>Elite QB/TE</td>\n",
              "    </tr>\n",
              "  </tbody>\n",
              "</table>\n",
              "<p>260 rows × 11 columns</p>\n",
              "</div>\n",
              "      <button class=\"colab-df-convert\" onclick=\"convertToInteractive('df-24b4b954-d921-431c-b614-ba8cc41bcc77')\"\n",
              "              title=\"Convert this dataframe to an interactive table.\"\n",
              "              style=\"display:none;\">\n",
              "        \n",
              "  <svg xmlns=\"http://www.w3.org/2000/svg\" height=\"24px\"viewBox=\"0 0 24 24\"\n",
              "       width=\"24px\">\n",
              "    <path d=\"M0 0h24v24H0V0z\" fill=\"none\"/>\n",
              "    <path d=\"M18.56 5.44l.94 2.06.94-2.06 2.06-.94-2.06-.94-.94-2.06-.94 2.06-2.06.94zm-11 1L8.5 8.5l.94-2.06 2.06-.94-2.06-.94L8.5 2.5l-.94 2.06-2.06.94zm10 10l.94 2.06.94-2.06 2.06-.94-2.06-.94-.94-2.06-.94 2.06-2.06.94z\"/><path d=\"M17.41 7.96l-1.37-1.37c-.4-.4-.92-.59-1.43-.59-.52 0-1.04.2-1.43.59L10.3 9.45l-7.72 7.72c-.78.78-.78 2.05 0 2.83L4 21.41c.39.39.9.59 1.41.59.51 0 1.02-.2 1.41-.59l7.78-7.78 2.81-2.81c.8-.78.8-2.07 0-2.86zM5.41 20L4 18.59l7.72-7.72 1.47 1.35L5.41 20z\"/>\n",
              "  </svg>\n",
              "      </button>\n",
              "      \n",
              "  <style>\n",
              "    .colab-df-container {\n",
              "      display:flex;\n",
              "      flex-wrap:wrap;\n",
              "      gap: 12px;\n",
              "    }\n",
              "\n",
              "    .colab-df-convert {\n",
              "      background-color: #E8F0FE;\n",
              "      border: none;\n",
              "      border-radius: 50%;\n",
              "      cursor: pointer;\n",
              "      display: none;\n",
              "      fill: #1967D2;\n",
              "      height: 32px;\n",
              "      padding: 0 0 0 0;\n",
              "      width: 32px;\n",
              "    }\n",
              "\n",
              "    .colab-df-convert:hover {\n",
              "      background-color: #E2EBFA;\n",
              "      box-shadow: 0px 1px 2px rgba(60, 64, 67, 0.3), 0px 1px 3px 1px rgba(60, 64, 67, 0.15);\n",
              "      fill: #174EA6;\n",
              "    }\n",
              "\n",
              "    [theme=dark] .colab-df-convert {\n",
              "      background-color: #3B4455;\n",
              "      fill: #D2E3FC;\n",
              "    }\n",
              "\n",
              "    [theme=dark] .colab-df-convert:hover {\n",
              "      background-color: #434B5C;\n",
              "      box-shadow: 0px 1px 3px 1px rgba(0, 0, 0, 0.15);\n",
              "      filter: drop-shadow(0px 1px 2px rgba(0, 0, 0, 0.3));\n",
              "      fill: #FFFFFF;\n",
              "    }\n",
              "  </style>\n",
              "\n",
              "      <script>\n",
              "        const buttonEl =\n",
              "          document.querySelector('#df-24b4b954-d921-431c-b614-ba8cc41bcc77 button.colab-df-convert');\n",
              "        buttonEl.style.display =\n",
              "          google.colab.kernel.accessAllowed ? 'block' : 'none';\n",
              "\n",
              "        async function convertToInteractive(key) {\n",
              "          const element = document.querySelector('#df-24b4b954-d921-431c-b614-ba8cc41bcc77');\n",
              "          const dataTable =\n",
              "            await google.colab.kernel.invokeFunction('convertToInteractive',\n",
              "                                                     [key], {});\n",
              "          if (!dataTable) return;\n",
              "\n",
              "          const docLinkHtml = 'Like what you see? Visit the ' +\n",
              "            '<a target=\"_blank\" href=https://colab.research.google.com/notebooks/data_table.ipynb>data table notebook</a>'\n",
              "            + ' to learn more about interactive tables.';\n",
              "          element.innerHTML = '';\n",
              "          dataTable['output_type'] = 'display_data';\n",
              "          await google.colab.output.renderOutput(dataTable, element);\n",
              "          const docLink = document.createElement('div');\n",
              "          docLink.innerHTML = docLinkHtml;\n",
              "          element.appendChild(docLink);\n",
              "        }\n",
              "      </script>\n",
              "    </div>\n",
              "  </div>\n",
              "  "
            ]
          },
          "metadata": {},
          "execution_count": 298
        }
      ]
    },
    {
      "cell_type": "markdown",
      "source": [
        "#### Initial data manipulation"
      ],
      "metadata": {
        "id": "drGHzTXst0mm"
      }
    },
    {
      "cell_type": "code",
      "source": [
        "df1 = df.groupby('Team')['POS'].apply(lambda x: ', '.join(x.astype(str))).reset_index()\n",
        "\n",
        "df1['RB'] = df1['POS'].str.count('RB')\n",
        "df1['WR'] = df1['POS'].str.count('WR')\n",
        "df1['QB'] = df1['POS'].str.count('QB')\n",
        "df1['TE'] = df1['POS'].str.count('TE')\n",
        "\n",
        "df1['build'] = df1['QB'].astype(str) + \"/\" + df1['RB'].astype(str) + \"/\" + df1['WR'].astype(str) + \"/\" + df1['TE'].astype(str)\n",
        "df1 = df1.drop(columns=['POS', 'RB', 'WR', 'QB', 'TE'])\n",
        "df1"
      ],
      "metadata": {
        "id": "BCbWKoD43pzL",
        "colab": {
          "base_uri": "https://localhost:8080/",
          "height": 457
        },
        "outputId": "3d7e5d1f-4373-4a76-f921-dcb4c0a66f91"
      },
      "execution_count": 299,
      "outputs": [
        {
          "output_type": "execute_result",
          "data": {
            "text/plain": [
              "    Team     build\n",
              "0      1  3/5/10/2\n",
              "1      2  2/5/10/3\n",
              "2      3  2/5/10/3\n",
              "3      4   2/7/8/3\n",
              "4      5   2/6/9/3\n",
              "5      6   2/7/9/2\n",
              "6      7   2/7/8/3\n",
              "7      8   3/4/9/4\n",
              "8      9  3/5/10/2\n",
              "9     10   3/6/8/3\n",
              "10    11   2/7/9/2\n",
              "11    12   2/7/8/3\n",
              "12    13   2/8/8/2"
            ],
            "text/html": [
              "\n",
              "  <div id=\"df-87579f92-9a49-4865-9429-652b20a26ec3\">\n",
              "    <div class=\"colab-df-container\">\n",
              "      <div>\n",
              "<style scoped>\n",
              "    .dataframe tbody tr th:only-of-type {\n",
              "        vertical-align: middle;\n",
              "    }\n",
              "\n",
              "    .dataframe tbody tr th {\n",
              "        vertical-align: top;\n",
              "    }\n",
              "\n",
              "    .dataframe thead th {\n",
              "        text-align: right;\n",
              "    }\n",
              "</style>\n",
              "<table border=\"1\" class=\"dataframe\">\n",
              "  <thead>\n",
              "    <tr style=\"text-align: right;\">\n",
              "      <th></th>\n",
              "      <th>Team</th>\n",
              "      <th>build</th>\n",
              "    </tr>\n",
              "  </thead>\n",
              "  <tbody>\n",
              "    <tr>\n",
              "      <th>0</th>\n",
              "      <td>1</td>\n",
              "      <td>3/5/10/2</td>\n",
              "    </tr>\n",
              "    <tr>\n",
              "      <th>1</th>\n",
              "      <td>2</td>\n",
              "      <td>2/5/10/3</td>\n",
              "    </tr>\n",
              "    <tr>\n",
              "      <th>2</th>\n",
              "      <td>3</td>\n",
              "      <td>2/5/10/3</td>\n",
              "    </tr>\n",
              "    <tr>\n",
              "      <th>3</th>\n",
              "      <td>4</td>\n",
              "      <td>2/7/8/3</td>\n",
              "    </tr>\n",
              "    <tr>\n",
              "      <th>4</th>\n",
              "      <td>5</td>\n",
              "      <td>2/6/9/3</td>\n",
              "    </tr>\n",
              "    <tr>\n",
              "      <th>5</th>\n",
              "      <td>6</td>\n",
              "      <td>2/7/9/2</td>\n",
              "    </tr>\n",
              "    <tr>\n",
              "      <th>6</th>\n",
              "      <td>7</td>\n",
              "      <td>2/7/8/3</td>\n",
              "    </tr>\n",
              "    <tr>\n",
              "      <th>7</th>\n",
              "      <td>8</td>\n",
              "      <td>3/4/9/4</td>\n",
              "    </tr>\n",
              "    <tr>\n",
              "      <th>8</th>\n",
              "      <td>9</td>\n",
              "      <td>3/5/10/2</td>\n",
              "    </tr>\n",
              "    <tr>\n",
              "      <th>9</th>\n",
              "      <td>10</td>\n",
              "      <td>3/6/8/3</td>\n",
              "    </tr>\n",
              "    <tr>\n",
              "      <th>10</th>\n",
              "      <td>11</td>\n",
              "      <td>2/7/9/2</td>\n",
              "    </tr>\n",
              "    <tr>\n",
              "      <th>11</th>\n",
              "      <td>12</td>\n",
              "      <td>2/7/8/3</td>\n",
              "    </tr>\n",
              "    <tr>\n",
              "      <th>12</th>\n",
              "      <td>13</td>\n",
              "      <td>2/8/8/2</td>\n",
              "    </tr>\n",
              "  </tbody>\n",
              "</table>\n",
              "</div>\n",
              "      <button class=\"colab-df-convert\" onclick=\"convertToInteractive('df-87579f92-9a49-4865-9429-652b20a26ec3')\"\n",
              "              title=\"Convert this dataframe to an interactive table.\"\n",
              "              style=\"display:none;\">\n",
              "        \n",
              "  <svg xmlns=\"http://www.w3.org/2000/svg\" height=\"24px\"viewBox=\"0 0 24 24\"\n",
              "       width=\"24px\">\n",
              "    <path d=\"M0 0h24v24H0V0z\" fill=\"none\"/>\n",
              "    <path d=\"M18.56 5.44l.94 2.06.94-2.06 2.06-.94-2.06-.94-.94-2.06-.94 2.06-2.06.94zm-11 1L8.5 8.5l.94-2.06 2.06-.94-2.06-.94L8.5 2.5l-.94 2.06-2.06.94zm10 10l.94 2.06.94-2.06 2.06-.94-2.06-.94-.94-2.06-.94 2.06-2.06.94z\"/><path d=\"M17.41 7.96l-1.37-1.37c-.4-.4-.92-.59-1.43-.59-.52 0-1.04.2-1.43.59L10.3 9.45l-7.72 7.72c-.78.78-.78 2.05 0 2.83L4 21.41c.39.39.9.59 1.41.59.51 0 1.02-.2 1.41-.59l7.78-7.78 2.81-2.81c.8-.78.8-2.07 0-2.86zM5.41 20L4 18.59l7.72-7.72 1.47 1.35L5.41 20z\"/>\n",
              "  </svg>\n",
              "      </button>\n",
              "      \n",
              "  <style>\n",
              "    .colab-df-container {\n",
              "      display:flex;\n",
              "      flex-wrap:wrap;\n",
              "      gap: 12px;\n",
              "    }\n",
              "\n",
              "    .colab-df-convert {\n",
              "      background-color: #E8F0FE;\n",
              "      border: none;\n",
              "      border-radius: 50%;\n",
              "      cursor: pointer;\n",
              "      display: none;\n",
              "      fill: #1967D2;\n",
              "      height: 32px;\n",
              "      padding: 0 0 0 0;\n",
              "      width: 32px;\n",
              "    }\n",
              "\n",
              "    .colab-df-convert:hover {\n",
              "      background-color: #E2EBFA;\n",
              "      box-shadow: 0px 1px 2px rgba(60, 64, 67, 0.3), 0px 1px 3px 1px rgba(60, 64, 67, 0.15);\n",
              "      fill: #174EA6;\n",
              "    }\n",
              "\n",
              "    [theme=dark] .colab-df-convert {\n",
              "      background-color: #3B4455;\n",
              "      fill: #D2E3FC;\n",
              "    }\n",
              "\n",
              "    [theme=dark] .colab-df-convert:hover {\n",
              "      background-color: #434B5C;\n",
              "      box-shadow: 0px 1px 3px 1px rgba(0, 0, 0, 0.15);\n",
              "      filter: drop-shadow(0px 1px 2px rgba(0, 0, 0, 0.3));\n",
              "      fill: #FFFFFF;\n",
              "    }\n",
              "  </style>\n",
              "\n",
              "      <script>\n",
              "        const buttonEl =\n",
              "          document.querySelector('#df-87579f92-9a49-4865-9429-652b20a26ec3 button.colab-df-convert');\n",
              "        buttonEl.style.display =\n",
              "          google.colab.kernel.accessAllowed ? 'block' : 'none';\n",
              "\n",
              "        async function convertToInteractive(key) {\n",
              "          const element = document.querySelector('#df-87579f92-9a49-4865-9429-652b20a26ec3');\n",
              "          const dataTable =\n",
              "            await google.colab.kernel.invokeFunction('convertToInteractive',\n",
              "                                                     [key], {});\n",
              "          if (!dataTable) return;\n",
              "\n",
              "          const docLinkHtml = 'Like what you see? Visit the ' +\n",
              "            '<a target=\"_blank\" href=https://colab.research.google.com/notebooks/data_table.ipynb>data table notebook</a>'\n",
              "            + ' to learn more about interactive tables.';\n",
              "          element.innerHTML = '';\n",
              "          dataTable['output_type'] = 'display_data';\n",
              "          await google.colab.output.renderOutput(dataTable, element);\n",
              "          const docLink = document.createElement('div');\n",
              "          docLink.innerHTML = docLinkHtml;\n",
              "          element.appendChild(docLink);\n",
              "        }\n",
              "      </script>\n",
              "    </div>\n",
              "  </div>\n",
              "  "
            ]
          },
          "metadata": {},
          "execution_count": 299
        }
      ]
    },
    {
      "cell_type": "code",
      "source": [
        "df2 = pd.merge(df, df1, how='left', on = 'Team')\n",
        "df3 = df2.groupby('Team')['Name'].apply(lambda x: ', '.join(x.astype(str))).reset_index()\n",
        "df2 = pd.merge(df2, df3, how='left', on='Team')"
      ],
      "metadata": {
        "id": "unbQKn51B8jH"
      },
      "execution_count": 300,
      "outputs": []
    },
    {
      "cell_type": "code",
      "source": [
        "final_df = df2.drop(columns=['POS', 'Name_x', 'TEAM', 'Round', 'Pick', 'ADP', 'Value'])\n",
        "final_df = final_df.drop_duplicates()\n",
        "final_df ['Players'] = final_df['Name_y']\n",
        "final_df = final_df.drop(columns=['Name_y'])\n",
        "final_df\n",
        "\n",
        "split_df = pd.concat([final_df['Team'], final_df['Players'].str.split(', ', expand=True)], axis=1)\n",
        "split_df.rename({0 : 1, 1 : 2, 2 : 3, 3 : 4, 4 : 5, 5 : 6, 6 : 7, 7 : 8, 8 : 9, 9 : 10, 10 : 11, 11 : 12, 12 : 13, 13 : 14, 14 : 15, 15 : 16, 16 : 17, 17 : 18, 18 : 19, 19 : 20}, axis='columns', inplace=True)"
      ],
      "metadata": {
        "id": "HIiM1f4opTqy"
      },
      "execution_count": 301,
      "outputs": []
    },
    {
      "cell_type": "code",
      "source": [
        "df1 = pd.merge(df1, df2, how='left', on = 'Team')\n",
        "df1 = df1.drop(columns=['POS', 'Name_x', 'TEAM', 'Round', 'Pick', 'ADP', 'Value', 'Name_y'])\n",
        "df1"
      ],
      "metadata": {
        "colab": {
          "base_uri": "https://localhost:8080/",
          "height": 424
        },
        "id": "5Ag1QfAT0wY0",
        "outputId": "8ba90bce-b424-420f-d7ed-713dced5d32a"
      },
      "execution_count": 302,
      "outputs": [
        {
          "output_type": "execute_result",
          "data": {
            "text/plain": [
              "     Team   build_x Draft Start  Cumulative Val         Strategy Elite Onesie  \\\n",
              "0       1  3/5/10/2   5/13/2022            94.3  Hyperfragile RB     Elite TE   \n",
              "1       1  3/5/10/2   5/13/2022            94.3  Hyperfragile RB     Elite TE   \n",
              "2       1  3/5/10/2   5/13/2022            94.3  Hyperfragile RB     Elite TE   \n",
              "3       1  3/5/10/2   5/13/2022            94.3  Hyperfragile RB     Elite TE   \n",
              "4       1  3/5/10/2   5/13/2022            94.3  Hyperfragile RB     Elite TE   \n",
              "..    ...       ...         ...             ...              ...          ...   \n",
              "255    13   2/8/8/2   5/16/2022            60.6        Anchor RB  Elite QB/TE   \n",
              "256    13   2/8/8/2   5/16/2022            60.6        Anchor RB  Elite QB/TE   \n",
              "257    13   2/8/8/2   5/16/2022            60.6        Anchor RB  Elite QB/TE   \n",
              "258    13   2/8/8/2   5/16/2022            60.6        Anchor RB  Elite QB/TE   \n",
              "259    13   2/8/8/2   5/16/2022            60.6        Anchor RB  Elite QB/TE   \n",
              "\n",
              "      build_y  \n",
              "0    3/5/10/2  \n",
              "1    3/5/10/2  \n",
              "2    3/5/10/2  \n",
              "3    3/5/10/2  \n",
              "4    3/5/10/2  \n",
              "..        ...  \n",
              "255   2/8/8/2  \n",
              "256   2/8/8/2  \n",
              "257   2/8/8/2  \n",
              "258   2/8/8/2  \n",
              "259   2/8/8/2  \n",
              "\n",
              "[260 rows x 7 columns]"
            ],
            "text/html": [
              "\n",
              "  <div id=\"df-39c175f7-bc68-4e71-bec2-ef96ff4c65dc\">\n",
              "    <div class=\"colab-df-container\">\n",
              "      <div>\n",
              "<style scoped>\n",
              "    .dataframe tbody tr th:only-of-type {\n",
              "        vertical-align: middle;\n",
              "    }\n",
              "\n",
              "    .dataframe tbody tr th {\n",
              "        vertical-align: top;\n",
              "    }\n",
              "\n",
              "    .dataframe thead th {\n",
              "        text-align: right;\n",
              "    }\n",
              "</style>\n",
              "<table border=\"1\" class=\"dataframe\">\n",
              "  <thead>\n",
              "    <tr style=\"text-align: right;\">\n",
              "      <th></th>\n",
              "      <th>Team</th>\n",
              "      <th>build_x</th>\n",
              "      <th>Draft Start</th>\n",
              "      <th>Cumulative Val</th>\n",
              "      <th>Strategy</th>\n",
              "      <th>Elite Onesie</th>\n",
              "      <th>build_y</th>\n",
              "    </tr>\n",
              "  </thead>\n",
              "  <tbody>\n",
              "    <tr>\n",
              "      <th>0</th>\n",
              "      <td>1</td>\n",
              "      <td>3/5/10/2</td>\n",
              "      <td>5/13/2022</td>\n",
              "      <td>94.3</td>\n",
              "      <td>Hyperfragile RB</td>\n",
              "      <td>Elite TE</td>\n",
              "      <td>3/5/10/2</td>\n",
              "    </tr>\n",
              "    <tr>\n",
              "      <th>1</th>\n",
              "      <td>1</td>\n",
              "      <td>3/5/10/2</td>\n",
              "      <td>5/13/2022</td>\n",
              "      <td>94.3</td>\n",
              "      <td>Hyperfragile RB</td>\n",
              "      <td>Elite TE</td>\n",
              "      <td>3/5/10/2</td>\n",
              "    </tr>\n",
              "    <tr>\n",
              "      <th>2</th>\n",
              "      <td>1</td>\n",
              "      <td>3/5/10/2</td>\n",
              "      <td>5/13/2022</td>\n",
              "      <td>94.3</td>\n",
              "      <td>Hyperfragile RB</td>\n",
              "      <td>Elite TE</td>\n",
              "      <td>3/5/10/2</td>\n",
              "    </tr>\n",
              "    <tr>\n",
              "      <th>3</th>\n",
              "      <td>1</td>\n",
              "      <td>3/5/10/2</td>\n",
              "      <td>5/13/2022</td>\n",
              "      <td>94.3</td>\n",
              "      <td>Hyperfragile RB</td>\n",
              "      <td>Elite TE</td>\n",
              "      <td>3/5/10/2</td>\n",
              "    </tr>\n",
              "    <tr>\n",
              "      <th>4</th>\n",
              "      <td>1</td>\n",
              "      <td>3/5/10/2</td>\n",
              "      <td>5/13/2022</td>\n",
              "      <td>94.3</td>\n",
              "      <td>Hyperfragile RB</td>\n",
              "      <td>Elite TE</td>\n",
              "      <td>3/5/10/2</td>\n",
              "    </tr>\n",
              "    <tr>\n",
              "      <th>...</th>\n",
              "      <td>...</td>\n",
              "      <td>...</td>\n",
              "      <td>...</td>\n",
              "      <td>...</td>\n",
              "      <td>...</td>\n",
              "      <td>...</td>\n",
              "      <td>...</td>\n",
              "    </tr>\n",
              "    <tr>\n",
              "      <th>255</th>\n",
              "      <td>13</td>\n",
              "      <td>2/8/8/2</td>\n",
              "      <td>5/16/2022</td>\n",
              "      <td>60.6</td>\n",
              "      <td>Anchor RB</td>\n",
              "      <td>Elite QB/TE</td>\n",
              "      <td>2/8/8/2</td>\n",
              "    </tr>\n",
              "    <tr>\n",
              "      <th>256</th>\n",
              "      <td>13</td>\n",
              "      <td>2/8/8/2</td>\n",
              "      <td>5/16/2022</td>\n",
              "      <td>60.6</td>\n",
              "      <td>Anchor RB</td>\n",
              "      <td>Elite QB/TE</td>\n",
              "      <td>2/8/8/2</td>\n",
              "    </tr>\n",
              "    <tr>\n",
              "      <th>257</th>\n",
              "      <td>13</td>\n",
              "      <td>2/8/8/2</td>\n",
              "      <td>5/16/2022</td>\n",
              "      <td>60.6</td>\n",
              "      <td>Anchor RB</td>\n",
              "      <td>Elite QB/TE</td>\n",
              "      <td>2/8/8/2</td>\n",
              "    </tr>\n",
              "    <tr>\n",
              "      <th>258</th>\n",
              "      <td>13</td>\n",
              "      <td>2/8/8/2</td>\n",
              "      <td>5/16/2022</td>\n",
              "      <td>60.6</td>\n",
              "      <td>Anchor RB</td>\n",
              "      <td>Elite QB/TE</td>\n",
              "      <td>2/8/8/2</td>\n",
              "    </tr>\n",
              "    <tr>\n",
              "      <th>259</th>\n",
              "      <td>13</td>\n",
              "      <td>2/8/8/2</td>\n",
              "      <td>5/16/2022</td>\n",
              "      <td>60.6</td>\n",
              "      <td>Anchor RB</td>\n",
              "      <td>Elite QB/TE</td>\n",
              "      <td>2/8/8/2</td>\n",
              "    </tr>\n",
              "  </tbody>\n",
              "</table>\n",
              "<p>260 rows × 7 columns</p>\n",
              "</div>\n",
              "      <button class=\"colab-df-convert\" onclick=\"convertToInteractive('df-39c175f7-bc68-4e71-bec2-ef96ff4c65dc')\"\n",
              "              title=\"Convert this dataframe to an interactive table.\"\n",
              "              style=\"display:none;\">\n",
              "        \n",
              "  <svg xmlns=\"http://www.w3.org/2000/svg\" height=\"24px\"viewBox=\"0 0 24 24\"\n",
              "       width=\"24px\">\n",
              "    <path d=\"M0 0h24v24H0V0z\" fill=\"none\"/>\n",
              "    <path d=\"M18.56 5.44l.94 2.06.94-2.06 2.06-.94-2.06-.94-.94-2.06-.94 2.06-2.06.94zm-11 1L8.5 8.5l.94-2.06 2.06-.94-2.06-.94L8.5 2.5l-.94 2.06-2.06.94zm10 10l.94 2.06.94-2.06 2.06-.94-2.06-.94-.94-2.06-.94 2.06-2.06.94z\"/><path d=\"M17.41 7.96l-1.37-1.37c-.4-.4-.92-.59-1.43-.59-.52 0-1.04.2-1.43.59L10.3 9.45l-7.72 7.72c-.78.78-.78 2.05 0 2.83L4 21.41c.39.39.9.59 1.41.59.51 0 1.02-.2 1.41-.59l7.78-7.78 2.81-2.81c.8-.78.8-2.07 0-2.86zM5.41 20L4 18.59l7.72-7.72 1.47 1.35L5.41 20z\"/>\n",
              "  </svg>\n",
              "      </button>\n",
              "      \n",
              "  <style>\n",
              "    .colab-df-container {\n",
              "      display:flex;\n",
              "      flex-wrap:wrap;\n",
              "      gap: 12px;\n",
              "    }\n",
              "\n",
              "    .colab-df-convert {\n",
              "      background-color: #E8F0FE;\n",
              "      border: none;\n",
              "      border-radius: 50%;\n",
              "      cursor: pointer;\n",
              "      display: none;\n",
              "      fill: #1967D2;\n",
              "      height: 32px;\n",
              "      padding: 0 0 0 0;\n",
              "      width: 32px;\n",
              "    }\n",
              "\n",
              "    .colab-df-convert:hover {\n",
              "      background-color: #E2EBFA;\n",
              "      box-shadow: 0px 1px 2px rgba(60, 64, 67, 0.3), 0px 1px 3px 1px rgba(60, 64, 67, 0.15);\n",
              "      fill: #174EA6;\n",
              "    }\n",
              "\n",
              "    [theme=dark] .colab-df-convert {\n",
              "      background-color: #3B4455;\n",
              "      fill: #D2E3FC;\n",
              "    }\n",
              "\n",
              "    [theme=dark] .colab-df-convert:hover {\n",
              "      background-color: #434B5C;\n",
              "      box-shadow: 0px 1px 3px 1px rgba(0, 0, 0, 0.15);\n",
              "      filter: drop-shadow(0px 1px 2px rgba(0, 0, 0, 0.3));\n",
              "      fill: #FFFFFF;\n",
              "    }\n",
              "  </style>\n",
              "\n",
              "      <script>\n",
              "        const buttonEl =\n",
              "          document.querySelector('#df-39c175f7-bc68-4e71-bec2-ef96ff4c65dc button.colab-df-convert');\n",
              "        buttonEl.style.display =\n",
              "          google.colab.kernel.accessAllowed ? 'block' : 'none';\n",
              "\n",
              "        async function convertToInteractive(key) {\n",
              "          const element = document.querySelector('#df-39c175f7-bc68-4e71-bec2-ef96ff4c65dc');\n",
              "          const dataTable =\n",
              "            await google.colab.kernel.invokeFunction('convertToInteractive',\n",
              "                                                     [key], {});\n",
              "          if (!dataTable) return;\n",
              "\n",
              "          const docLinkHtml = 'Like what you see? Visit the ' +\n",
              "            '<a target=\"_blank\" href=https://colab.research.google.com/notebooks/data_table.ipynb>data table notebook</a>'\n",
              "            + ' to learn more about interactive tables.';\n",
              "          element.innerHTML = '';\n",
              "          dataTable['output_type'] = 'display_data';\n",
              "          await google.colab.output.renderOutput(dataTable, element);\n",
              "          const docLink = document.createElement('div');\n",
              "          docLink.innerHTML = docLinkHtml;\n",
              "          element.appendChild(docLink);\n",
              "        }\n",
              "      </script>\n",
              "    </div>\n",
              "  </div>\n",
              "  "
            ]
          },
          "metadata": {},
          "execution_count": 302
        }
      ]
    },
    {
      "cell_type": "markdown",
      "source": [
        "#### Player/Build viz and stats"
      ],
      "metadata": {
        "id": "kiRbEtV7F4uv"
      }
    },
    {
      "cell_type": "code",
      "source": [
        "df2"
      ],
      "metadata": {
        "colab": {
          "base_uri": "https://localhost:8080/",
          "height": 424
        },
        "id": "Q7De11M4qP2x",
        "outputId": "eb19a474-1f8f-4950-b295-f0cfa9feb776"
      },
      "execution_count": 303,
      "outputs": [
        {
          "output_type": "execute_result",
          "data": {
            "text/plain": [
              "     Team POS               Name_x TEAM  Round  Pick    ADP  Value  \\\n",
              "0       1  RB  Christian Mccaffrey  CAR      1     2    2.6   -0.6   \n",
              "1       1  TE         Mark Andrews  BAL      2    23   19.3    3.7   \n",
              "2       1  RB       Saquon Barkley  NYG      3    26   25.7    0.3   \n",
              "3       1  RB         James Conner   AZ      4    47   34.8   12.2   \n",
              "4       1  RB            Cam Akers  LAR      5    50   43.5    6.5   \n",
              "..    ...  ..                  ...  ...    ...   ...    ...    ...   \n",
              "255    13  RB   Tyrion Davis-Price   SF     16   187  177.0   10.0   \n",
              "256    13  RB       Brian Robinson  WAS     17   198  191.9    6.1   \n",
              "257    13  RB          James White   NE     18   211  211.0    0.0   \n",
              "258    13  WR           Danny Gray   SF     19   222  222.0    0.0   \n",
              "259    13  RB          Sony Michel  MIA     20   235  235.0    0.0   \n",
              "\n",
              "    Draft Start  Cumulative Val         Strategy Elite Onesie     build  \\\n",
              "0     5/13/2022            94.3  Hyperfragile RB     Elite TE  3/5/10/2   \n",
              "1     5/13/2022            94.3  Hyperfragile RB     Elite TE  3/5/10/2   \n",
              "2     5/13/2022            94.3  Hyperfragile RB     Elite TE  3/5/10/2   \n",
              "3     5/13/2022            94.3  Hyperfragile RB     Elite TE  3/5/10/2   \n",
              "4     5/13/2022            94.3  Hyperfragile RB     Elite TE  3/5/10/2   \n",
              "..          ...             ...              ...          ...       ...   \n",
              "255   5/16/2022            60.6        Anchor RB  Elite QB/TE   2/8/8/2   \n",
              "256   5/16/2022            60.6        Anchor RB  Elite QB/TE   2/8/8/2   \n",
              "257   5/16/2022            60.6        Anchor RB  Elite QB/TE   2/8/8/2   \n",
              "258   5/16/2022            60.6        Anchor RB  Elite QB/TE   2/8/8/2   \n",
              "259   5/16/2022            60.6        Anchor RB  Elite QB/TE   2/8/8/2   \n",
              "\n",
              "                                                Name_y  \n",
              "0    Christian Mccaffrey, Mark Andrews, Saquon Bark...  \n",
              "1    Christian Mccaffrey, Mark Andrews, Saquon Bark...  \n",
              "2    Christian Mccaffrey, Mark Andrews, Saquon Bark...  \n",
              "3    Christian Mccaffrey, Mark Andrews, Saquon Bark...  \n",
              "4    Christian Mccaffrey, Mark Andrews, Saquon Bark...  \n",
              "..                                                 ...  \n",
              "255  Jamar Chase, Mark Andrews, Javonte Williams, L...  \n",
              "256  Jamar Chase, Mark Andrews, Javonte Williams, L...  \n",
              "257  Jamar Chase, Mark Andrews, Javonte Williams, L...  \n",
              "258  Jamar Chase, Mark Andrews, Javonte Williams, L...  \n",
              "259  Jamar Chase, Mark Andrews, Javonte Williams, L...  \n",
              "\n",
              "[260 rows x 14 columns]"
            ],
            "text/html": [
              "\n",
              "  <div id=\"df-75f0bc05-e667-48ef-8280-e120dfa0b441\">\n",
              "    <div class=\"colab-df-container\">\n",
              "      <div>\n",
              "<style scoped>\n",
              "    .dataframe tbody tr th:only-of-type {\n",
              "        vertical-align: middle;\n",
              "    }\n",
              "\n",
              "    .dataframe tbody tr th {\n",
              "        vertical-align: top;\n",
              "    }\n",
              "\n",
              "    .dataframe thead th {\n",
              "        text-align: right;\n",
              "    }\n",
              "</style>\n",
              "<table border=\"1\" class=\"dataframe\">\n",
              "  <thead>\n",
              "    <tr style=\"text-align: right;\">\n",
              "      <th></th>\n",
              "      <th>Team</th>\n",
              "      <th>POS</th>\n",
              "      <th>Name_x</th>\n",
              "      <th>TEAM</th>\n",
              "      <th>Round</th>\n",
              "      <th>Pick</th>\n",
              "      <th>ADP</th>\n",
              "      <th>Value</th>\n",
              "      <th>Draft Start</th>\n",
              "      <th>Cumulative Val</th>\n",
              "      <th>Strategy</th>\n",
              "      <th>Elite Onesie</th>\n",
              "      <th>build</th>\n",
              "      <th>Name_y</th>\n",
              "    </tr>\n",
              "  </thead>\n",
              "  <tbody>\n",
              "    <tr>\n",
              "      <th>0</th>\n",
              "      <td>1</td>\n",
              "      <td>RB</td>\n",
              "      <td>Christian Mccaffrey</td>\n",
              "      <td>CAR</td>\n",
              "      <td>1</td>\n",
              "      <td>2</td>\n",
              "      <td>2.6</td>\n",
              "      <td>-0.6</td>\n",
              "      <td>5/13/2022</td>\n",
              "      <td>94.3</td>\n",
              "      <td>Hyperfragile RB</td>\n",
              "      <td>Elite TE</td>\n",
              "      <td>3/5/10/2</td>\n",
              "      <td>Christian Mccaffrey, Mark Andrews, Saquon Bark...</td>\n",
              "    </tr>\n",
              "    <tr>\n",
              "      <th>1</th>\n",
              "      <td>1</td>\n",
              "      <td>TE</td>\n",
              "      <td>Mark Andrews</td>\n",
              "      <td>BAL</td>\n",
              "      <td>2</td>\n",
              "      <td>23</td>\n",
              "      <td>19.3</td>\n",
              "      <td>3.7</td>\n",
              "      <td>5/13/2022</td>\n",
              "      <td>94.3</td>\n",
              "      <td>Hyperfragile RB</td>\n",
              "      <td>Elite TE</td>\n",
              "      <td>3/5/10/2</td>\n",
              "      <td>Christian Mccaffrey, Mark Andrews, Saquon Bark...</td>\n",
              "    </tr>\n",
              "    <tr>\n",
              "      <th>2</th>\n",
              "      <td>1</td>\n",
              "      <td>RB</td>\n",
              "      <td>Saquon Barkley</td>\n",
              "      <td>NYG</td>\n",
              "      <td>3</td>\n",
              "      <td>26</td>\n",
              "      <td>25.7</td>\n",
              "      <td>0.3</td>\n",
              "      <td>5/13/2022</td>\n",
              "      <td>94.3</td>\n",
              "      <td>Hyperfragile RB</td>\n",
              "      <td>Elite TE</td>\n",
              "      <td>3/5/10/2</td>\n",
              "      <td>Christian Mccaffrey, Mark Andrews, Saquon Bark...</td>\n",
              "    </tr>\n",
              "    <tr>\n",
              "      <th>3</th>\n",
              "      <td>1</td>\n",
              "      <td>RB</td>\n",
              "      <td>James Conner</td>\n",
              "      <td>AZ</td>\n",
              "      <td>4</td>\n",
              "      <td>47</td>\n",
              "      <td>34.8</td>\n",
              "      <td>12.2</td>\n",
              "      <td>5/13/2022</td>\n",
              "      <td>94.3</td>\n",
              "      <td>Hyperfragile RB</td>\n",
              "      <td>Elite TE</td>\n",
              "      <td>3/5/10/2</td>\n",
              "      <td>Christian Mccaffrey, Mark Andrews, Saquon Bark...</td>\n",
              "    </tr>\n",
              "    <tr>\n",
              "      <th>4</th>\n",
              "      <td>1</td>\n",
              "      <td>RB</td>\n",
              "      <td>Cam Akers</td>\n",
              "      <td>LAR</td>\n",
              "      <td>5</td>\n",
              "      <td>50</td>\n",
              "      <td>43.5</td>\n",
              "      <td>6.5</td>\n",
              "      <td>5/13/2022</td>\n",
              "      <td>94.3</td>\n",
              "      <td>Hyperfragile RB</td>\n",
              "      <td>Elite TE</td>\n",
              "      <td>3/5/10/2</td>\n",
              "      <td>Christian Mccaffrey, Mark Andrews, Saquon Bark...</td>\n",
              "    </tr>\n",
              "    <tr>\n",
              "      <th>...</th>\n",
              "      <td>...</td>\n",
              "      <td>...</td>\n",
              "      <td>...</td>\n",
              "      <td>...</td>\n",
              "      <td>...</td>\n",
              "      <td>...</td>\n",
              "      <td>...</td>\n",
              "      <td>...</td>\n",
              "      <td>...</td>\n",
              "      <td>...</td>\n",
              "      <td>...</td>\n",
              "      <td>...</td>\n",
              "      <td>...</td>\n",
              "      <td>...</td>\n",
              "    </tr>\n",
              "    <tr>\n",
              "      <th>255</th>\n",
              "      <td>13</td>\n",
              "      <td>RB</td>\n",
              "      <td>Tyrion Davis-Price</td>\n",
              "      <td>SF</td>\n",
              "      <td>16</td>\n",
              "      <td>187</td>\n",
              "      <td>177.0</td>\n",
              "      <td>10.0</td>\n",
              "      <td>5/16/2022</td>\n",
              "      <td>60.6</td>\n",
              "      <td>Anchor RB</td>\n",
              "      <td>Elite QB/TE</td>\n",
              "      <td>2/8/8/2</td>\n",
              "      <td>Jamar Chase, Mark Andrews, Javonte Williams, L...</td>\n",
              "    </tr>\n",
              "    <tr>\n",
              "      <th>256</th>\n",
              "      <td>13</td>\n",
              "      <td>RB</td>\n",
              "      <td>Brian Robinson</td>\n",
              "      <td>WAS</td>\n",
              "      <td>17</td>\n",
              "      <td>198</td>\n",
              "      <td>191.9</td>\n",
              "      <td>6.1</td>\n",
              "      <td>5/16/2022</td>\n",
              "      <td>60.6</td>\n",
              "      <td>Anchor RB</td>\n",
              "      <td>Elite QB/TE</td>\n",
              "      <td>2/8/8/2</td>\n",
              "      <td>Jamar Chase, Mark Andrews, Javonte Williams, L...</td>\n",
              "    </tr>\n",
              "    <tr>\n",
              "      <th>257</th>\n",
              "      <td>13</td>\n",
              "      <td>RB</td>\n",
              "      <td>James White</td>\n",
              "      <td>NE</td>\n",
              "      <td>18</td>\n",
              "      <td>211</td>\n",
              "      <td>211.0</td>\n",
              "      <td>0.0</td>\n",
              "      <td>5/16/2022</td>\n",
              "      <td>60.6</td>\n",
              "      <td>Anchor RB</td>\n",
              "      <td>Elite QB/TE</td>\n",
              "      <td>2/8/8/2</td>\n",
              "      <td>Jamar Chase, Mark Andrews, Javonte Williams, L...</td>\n",
              "    </tr>\n",
              "    <tr>\n",
              "      <th>258</th>\n",
              "      <td>13</td>\n",
              "      <td>WR</td>\n",
              "      <td>Danny Gray</td>\n",
              "      <td>SF</td>\n",
              "      <td>19</td>\n",
              "      <td>222</td>\n",
              "      <td>222.0</td>\n",
              "      <td>0.0</td>\n",
              "      <td>5/16/2022</td>\n",
              "      <td>60.6</td>\n",
              "      <td>Anchor RB</td>\n",
              "      <td>Elite QB/TE</td>\n",
              "      <td>2/8/8/2</td>\n",
              "      <td>Jamar Chase, Mark Andrews, Javonte Williams, L...</td>\n",
              "    </tr>\n",
              "    <tr>\n",
              "      <th>259</th>\n",
              "      <td>13</td>\n",
              "      <td>RB</td>\n",
              "      <td>Sony Michel</td>\n",
              "      <td>MIA</td>\n",
              "      <td>20</td>\n",
              "      <td>235</td>\n",
              "      <td>235.0</td>\n",
              "      <td>0.0</td>\n",
              "      <td>5/16/2022</td>\n",
              "      <td>60.6</td>\n",
              "      <td>Anchor RB</td>\n",
              "      <td>Elite QB/TE</td>\n",
              "      <td>2/8/8/2</td>\n",
              "      <td>Jamar Chase, Mark Andrews, Javonte Williams, L...</td>\n",
              "    </tr>\n",
              "  </tbody>\n",
              "</table>\n",
              "<p>260 rows × 14 columns</p>\n",
              "</div>\n",
              "      <button class=\"colab-df-convert\" onclick=\"convertToInteractive('df-75f0bc05-e667-48ef-8280-e120dfa0b441')\"\n",
              "              title=\"Convert this dataframe to an interactive table.\"\n",
              "              style=\"display:none;\">\n",
              "        \n",
              "  <svg xmlns=\"http://www.w3.org/2000/svg\" height=\"24px\"viewBox=\"0 0 24 24\"\n",
              "       width=\"24px\">\n",
              "    <path d=\"M0 0h24v24H0V0z\" fill=\"none\"/>\n",
              "    <path d=\"M18.56 5.44l.94 2.06.94-2.06 2.06-.94-2.06-.94-.94-2.06-.94 2.06-2.06.94zm-11 1L8.5 8.5l.94-2.06 2.06-.94-2.06-.94L8.5 2.5l-.94 2.06-2.06.94zm10 10l.94 2.06.94-2.06 2.06-.94-2.06-.94-.94-2.06-.94 2.06-2.06.94z\"/><path d=\"M17.41 7.96l-1.37-1.37c-.4-.4-.92-.59-1.43-.59-.52 0-1.04.2-1.43.59L10.3 9.45l-7.72 7.72c-.78.78-.78 2.05 0 2.83L4 21.41c.39.39.9.59 1.41.59.51 0 1.02-.2 1.41-.59l7.78-7.78 2.81-2.81c.8-.78.8-2.07 0-2.86zM5.41 20L4 18.59l7.72-7.72 1.47 1.35L5.41 20z\"/>\n",
              "  </svg>\n",
              "      </button>\n",
              "      \n",
              "  <style>\n",
              "    .colab-df-container {\n",
              "      display:flex;\n",
              "      flex-wrap:wrap;\n",
              "      gap: 12px;\n",
              "    }\n",
              "\n",
              "    .colab-df-convert {\n",
              "      background-color: #E8F0FE;\n",
              "      border: none;\n",
              "      border-radius: 50%;\n",
              "      cursor: pointer;\n",
              "      display: none;\n",
              "      fill: #1967D2;\n",
              "      height: 32px;\n",
              "      padding: 0 0 0 0;\n",
              "      width: 32px;\n",
              "    }\n",
              "\n",
              "    .colab-df-convert:hover {\n",
              "      background-color: #E2EBFA;\n",
              "      box-shadow: 0px 1px 2px rgba(60, 64, 67, 0.3), 0px 1px 3px 1px rgba(60, 64, 67, 0.15);\n",
              "      fill: #174EA6;\n",
              "    }\n",
              "\n",
              "    [theme=dark] .colab-df-convert {\n",
              "      background-color: #3B4455;\n",
              "      fill: #D2E3FC;\n",
              "    }\n",
              "\n",
              "    [theme=dark] .colab-df-convert:hover {\n",
              "      background-color: #434B5C;\n",
              "      box-shadow: 0px 1px 3px 1px rgba(0, 0, 0, 0.15);\n",
              "      filter: drop-shadow(0px 1px 2px rgba(0, 0, 0, 0.3));\n",
              "      fill: #FFFFFF;\n",
              "    }\n",
              "  </style>\n",
              "\n",
              "      <script>\n",
              "        const buttonEl =\n",
              "          document.querySelector('#df-75f0bc05-e667-48ef-8280-e120dfa0b441 button.colab-df-convert');\n",
              "        buttonEl.style.display =\n",
              "          google.colab.kernel.accessAllowed ? 'block' : 'none';\n",
              "\n",
              "        async function convertToInteractive(key) {\n",
              "          const element = document.querySelector('#df-75f0bc05-e667-48ef-8280-e120dfa0b441');\n",
              "          const dataTable =\n",
              "            await google.colab.kernel.invokeFunction('convertToInteractive',\n",
              "                                                     [key], {});\n",
              "          if (!dataTable) return;\n",
              "\n",
              "          const docLinkHtml = 'Like what you see? Visit the ' +\n",
              "            '<a target=\"_blank\" href=https://colab.research.google.com/notebooks/data_table.ipynb>data table notebook</a>'\n",
              "            + ' to learn more about interactive tables.';\n",
              "          element.innerHTML = '';\n",
              "          dataTable['output_type'] = 'display_data';\n",
              "          await google.colab.output.renderOutput(dataTable, element);\n",
              "          const docLink = document.createElement('div');\n",
              "          docLink.innerHTML = docLinkHtml;\n",
              "          element.appendChild(docLink);\n",
              "        }\n",
              "      </script>\n",
              "    </div>\n",
              "  </div>\n",
              "  "
            ]
          },
          "metadata": {},
          "execution_count": 303
        }
      ]
    },
    {
      "cell_type": "code",
      "source": [
        "#Exposure calc\n",
        "exp_df = df2['Name_x'].value_counts()\n",
        "exp_df = exp_df.reset_index()\n",
        "exp_df['Count'] = exp_df['Name_x']\n",
        "exp_df['%'] = round((exp_df['Count'] / df2['Team'].max()) * 100, 1)\n",
        "exp_df = exp_df.drop(columns=['Name_x'])\n",
        "exp_df.rename({'index' : 'Player'}, axis='columns', inplace=True)\n",
        "pos_df = df2.drop_duplicates(subset='Name_x')\n",
        "pos_df = pos_df.drop(columns=['Team', 'TEAM', 'Round', 'Pick', 'ADP', 'Value', 'Draft Start', 'Cumulative Val', 'Strategy', 'Elite Onesie', 'build', 'Name_y'])\n",
        "pos_df.rename({'Name_x' : 'Player'}, axis='columns', inplace=True)\n",
        "exp_df = exp_df.merge(pos_df, on='Player', how='left')\n",
        "exp_df"
      ],
      "metadata": {
        "colab": {
          "base_uri": "https://localhost:8080/",
          "height": 424
        },
        "id": "15kWU98aQJfX",
        "outputId": "cce49731-c8f1-4581-cd5d-2bd6512cf151"
      },
      "execution_count": 304,
      "outputs": [
        {
          "output_type": "execute_result",
          "data": {
            "text/plain": [
              "                  Player  Count     % POS\n",
              "0          Rachaad White      7  53.8  RB\n",
              "1             Trey Lance      6  46.2  QB\n",
              "2            Chris Evans      5  38.5  RB\n",
              "3         Hunter Renfrow      5  38.5  WR\n",
              "4    JuJu Smith-Schuster      5  38.5  WR\n",
              "..                   ...    ...   ...  ..\n",
              "139       James Robinson      1   7.7  RB\n",
              "140         Robert Woods      1   7.7  WR\n",
              "141        Devonta Smith      1   7.7  WR\n",
              "142           Mike Evans      1   7.7  WR\n",
              "143          James White      1   7.7  RB\n",
              "\n",
              "[144 rows x 4 columns]"
            ],
            "text/html": [
              "\n",
              "  <div id=\"df-e0261ca7-a48f-4627-b5ef-a65b59a74164\">\n",
              "    <div class=\"colab-df-container\">\n",
              "      <div>\n",
              "<style scoped>\n",
              "    .dataframe tbody tr th:only-of-type {\n",
              "        vertical-align: middle;\n",
              "    }\n",
              "\n",
              "    .dataframe tbody tr th {\n",
              "        vertical-align: top;\n",
              "    }\n",
              "\n",
              "    .dataframe thead th {\n",
              "        text-align: right;\n",
              "    }\n",
              "</style>\n",
              "<table border=\"1\" class=\"dataframe\">\n",
              "  <thead>\n",
              "    <tr style=\"text-align: right;\">\n",
              "      <th></th>\n",
              "      <th>Player</th>\n",
              "      <th>Count</th>\n",
              "      <th>%</th>\n",
              "      <th>POS</th>\n",
              "    </tr>\n",
              "  </thead>\n",
              "  <tbody>\n",
              "    <tr>\n",
              "      <th>0</th>\n",
              "      <td>Rachaad White</td>\n",
              "      <td>7</td>\n",
              "      <td>53.8</td>\n",
              "      <td>RB</td>\n",
              "    </tr>\n",
              "    <tr>\n",
              "      <th>1</th>\n",
              "      <td>Trey Lance</td>\n",
              "      <td>6</td>\n",
              "      <td>46.2</td>\n",
              "      <td>QB</td>\n",
              "    </tr>\n",
              "    <tr>\n",
              "      <th>2</th>\n",
              "      <td>Chris Evans</td>\n",
              "      <td>5</td>\n",
              "      <td>38.5</td>\n",
              "      <td>RB</td>\n",
              "    </tr>\n",
              "    <tr>\n",
              "      <th>3</th>\n",
              "      <td>Hunter Renfrow</td>\n",
              "      <td>5</td>\n",
              "      <td>38.5</td>\n",
              "      <td>WR</td>\n",
              "    </tr>\n",
              "    <tr>\n",
              "      <th>4</th>\n",
              "      <td>JuJu Smith-Schuster</td>\n",
              "      <td>5</td>\n",
              "      <td>38.5</td>\n",
              "      <td>WR</td>\n",
              "    </tr>\n",
              "    <tr>\n",
              "      <th>...</th>\n",
              "      <td>...</td>\n",
              "      <td>...</td>\n",
              "      <td>...</td>\n",
              "      <td>...</td>\n",
              "    </tr>\n",
              "    <tr>\n",
              "      <th>139</th>\n",
              "      <td>James Robinson</td>\n",
              "      <td>1</td>\n",
              "      <td>7.7</td>\n",
              "      <td>RB</td>\n",
              "    </tr>\n",
              "    <tr>\n",
              "      <th>140</th>\n",
              "      <td>Robert Woods</td>\n",
              "      <td>1</td>\n",
              "      <td>7.7</td>\n",
              "      <td>WR</td>\n",
              "    </tr>\n",
              "    <tr>\n",
              "      <th>141</th>\n",
              "      <td>Devonta Smith</td>\n",
              "      <td>1</td>\n",
              "      <td>7.7</td>\n",
              "      <td>WR</td>\n",
              "    </tr>\n",
              "    <tr>\n",
              "      <th>142</th>\n",
              "      <td>Mike Evans</td>\n",
              "      <td>1</td>\n",
              "      <td>7.7</td>\n",
              "      <td>WR</td>\n",
              "    </tr>\n",
              "    <tr>\n",
              "      <th>143</th>\n",
              "      <td>James White</td>\n",
              "      <td>1</td>\n",
              "      <td>7.7</td>\n",
              "      <td>RB</td>\n",
              "    </tr>\n",
              "  </tbody>\n",
              "</table>\n",
              "<p>144 rows × 4 columns</p>\n",
              "</div>\n",
              "      <button class=\"colab-df-convert\" onclick=\"convertToInteractive('df-e0261ca7-a48f-4627-b5ef-a65b59a74164')\"\n",
              "              title=\"Convert this dataframe to an interactive table.\"\n",
              "              style=\"display:none;\">\n",
              "        \n",
              "  <svg xmlns=\"http://www.w3.org/2000/svg\" height=\"24px\"viewBox=\"0 0 24 24\"\n",
              "       width=\"24px\">\n",
              "    <path d=\"M0 0h24v24H0V0z\" fill=\"none\"/>\n",
              "    <path d=\"M18.56 5.44l.94 2.06.94-2.06 2.06-.94-2.06-.94-.94-2.06-.94 2.06-2.06.94zm-11 1L8.5 8.5l.94-2.06 2.06-.94-2.06-.94L8.5 2.5l-.94 2.06-2.06.94zm10 10l.94 2.06.94-2.06 2.06-.94-2.06-.94-.94-2.06-.94 2.06-2.06.94z\"/><path d=\"M17.41 7.96l-1.37-1.37c-.4-.4-.92-.59-1.43-.59-.52 0-1.04.2-1.43.59L10.3 9.45l-7.72 7.72c-.78.78-.78 2.05 0 2.83L4 21.41c.39.39.9.59 1.41.59.51 0 1.02-.2 1.41-.59l7.78-7.78 2.81-2.81c.8-.78.8-2.07 0-2.86zM5.41 20L4 18.59l7.72-7.72 1.47 1.35L5.41 20z\"/>\n",
              "  </svg>\n",
              "      </button>\n",
              "      \n",
              "  <style>\n",
              "    .colab-df-container {\n",
              "      display:flex;\n",
              "      flex-wrap:wrap;\n",
              "      gap: 12px;\n",
              "    }\n",
              "\n",
              "    .colab-df-convert {\n",
              "      background-color: #E8F0FE;\n",
              "      border: none;\n",
              "      border-radius: 50%;\n",
              "      cursor: pointer;\n",
              "      display: none;\n",
              "      fill: #1967D2;\n",
              "      height: 32px;\n",
              "      padding: 0 0 0 0;\n",
              "      width: 32px;\n",
              "    }\n",
              "\n",
              "    .colab-df-convert:hover {\n",
              "      background-color: #E2EBFA;\n",
              "      box-shadow: 0px 1px 2px rgba(60, 64, 67, 0.3), 0px 1px 3px 1px rgba(60, 64, 67, 0.15);\n",
              "      fill: #174EA6;\n",
              "    }\n",
              "\n",
              "    [theme=dark] .colab-df-convert {\n",
              "      background-color: #3B4455;\n",
              "      fill: #D2E3FC;\n",
              "    }\n",
              "\n",
              "    [theme=dark] .colab-df-convert:hover {\n",
              "      background-color: #434B5C;\n",
              "      box-shadow: 0px 1px 3px 1px rgba(0, 0, 0, 0.15);\n",
              "      filter: drop-shadow(0px 1px 2px rgba(0, 0, 0, 0.3));\n",
              "      fill: #FFFFFF;\n",
              "    }\n",
              "  </style>\n",
              "\n",
              "      <script>\n",
              "        const buttonEl =\n",
              "          document.querySelector('#df-e0261ca7-a48f-4627-b5ef-a65b59a74164 button.colab-df-convert');\n",
              "        buttonEl.style.display =\n",
              "          google.colab.kernel.accessAllowed ? 'block' : 'none';\n",
              "\n",
              "        async function convertToInteractive(key) {\n",
              "          const element = document.querySelector('#df-e0261ca7-a48f-4627-b5ef-a65b59a74164');\n",
              "          const dataTable =\n",
              "            await google.colab.kernel.invokeFunction('convertToInteractive',\n",
              "                                                     [key], {});\n",
              "          if (!dataTable) return;\n",
              "\n",
              "          const docLinkHtml = 'Like what you see? Visit the ' +\n",
              "            '<a target=\"_blank\" href=https://colab.research.google.com/notebooks/data_table.ipynb>data table notebook</a>'\n",
              "            + ' to learn more about interactive tables.';\n",
              "          element.innerHTML = '';\n",
              "          dataTable['output_type'] = 'display_data';\n",
              "          await google.colab.output.renderOutput(dataTable, element);\n",
              "          const docLink = document.createElement('div');\n",
              "          docLink.innerHTML = docLinkHtml;\n",
              "          element.appendChild(docLink);\n",
              "        }\n",
              "      </script>\n",
              "    </div>\n",
              "  </div>\n",
              "  "
            ]
          },
          "metadata": {},
          "execution_count": 304
        }
      ]
    },
    {
      "cell_type": "code",
      "source": [
        "pos_count = exp_df['POS'].value_counts()\n",
        "pos_count = pos_count.reset_index()\n",
        "pos_count = pos_count.rename({'index' : 'Position'}, axis='columns', inplace=True)\n",
        "pos_count"
      ],
      "metadata": {
        "id": "UgEl8ryXw3MM"
      },
      "execution_count": 305,
      "outputs": []
    },
    {
      "cell_type": "code",
      "source": [
        "\n",
        "#Player Exposure\n",
        "alt.Chart(exp_df).mark_circle(size=60).encode(\n",
        "    x='Count',\n",
        "     y=alt.Y(\"Player\", sort='-x'),\n",
        "    color='Count',\n",
        "    tooltip=['Player', 'Count', '%']\n",
        ").interactive()"
      ],
      "metadata": {
        "colab": {
          "base_uri": "https://localhost:8080/",
          "height": 17
        },
        "id": "6_jO3v6TvqId",
        "outputId": "4a560529-45b4-42eb-babd-3bf44e64f45b"
      },
      "execution_count": 306,
      "outputs": [
        {
          "output_type": "display_data",
          "data": {
            "application/javascript": [
              "const spec = {\"config\": {\"view\": {\"continuousWidth\": 400, \"continuousHeight\": 300}}, \"data\": {\"name\": \"data-73bf2f50ea8fb47235396f01a873b8d2\"}, \"mark\": {\"type\": \"circle\", \"size\": 60}, \"encoding\": {\"color\": {\"field\": \"Count\", \"type\": \"quantitative\"}, \"tooltip\": [{\"field\": \"Player\", \"type\": \"nominal\"}, {\"field\": \"Count\", \"type\": \"quantitative\"}, {\"field\": \"%\", \"type\": \"quantitative\"}], \"x\": {\"field\": \"Count\", \"type\": \"quantitative\"}, \"y\": {\"field\": \"Player\", \"sort\": \"-x\", \"type\": \"nominal\"}}, \"selection\": {\"selector284\": {\"type\": \"interval\", \"bind\": \"scales\", \"encodings\": [\"x\", \"y\"]}}, \"$schema\": \"https://vega.github.io/schema/vega-lite/v4.17.0.json\", \"datasets\": {\"data-73bf2f50ea8fb47235396f01a873b8d2\": [{\"Player\": \"Rachaad White\", \"Count\": 7, \"%\": 53.8, \"POS\": \"RB\"}, {\"Player\": \"Trey Lance\", \"Count\": 6, \"%\": 46.2, \"POS\": \"QB\"}, {\"Player\": \"Chris Evans\", \"Count\": 5, \"%\": 38.5, \"POS\": \"RB\"}, {\"Player\": \"Hunter Renfrow\", \"Count\": 5, \"%\": 38.5, \"POS\": \"WR\"}, {\"Player\": \"JuJu Smith-Schuster\", \"Count\": 5, \"%\": 38.5, \"POS\": \"WR\"}, {\"Player\": \"Donta Foreman\", \"Count\": 5, \"%\": 38.5, \"POS\": \"RB\"}, {\"Player\": \"Sony Michel\", \"Count\": 5, \"%\": 38.5, \"POS\": \"RB\"}, {\"Player\": \"DJ Moore\", \"Count\": 5, \"%\": 38.5, \"POS\": \"WR\"}, {\"Player\": \"Robert Tonyan\", \"Count\": 4, \"%\": 30.8, \"POS\": \"TE\"}, {\"Player\": \"Jalen Tolbert\", \"Count\": 4, \"%\": 30.8, \"POS\": \"WR\"}, {\"Player\": \"Mark Andrews\", \"Count\": 3, \"%\": 23.1, \"POS\": \"TE\"}, {\"Player\": \"Brian Robinson\", \"Count\": 3, \"%\": 23.1, \"POS\": \"WR\"}, {\"Player\": \"Lamar Jackson\", \"Count\": 3, \"%\": 23.1, \"POS\": \"QB\"}, {\"Player\": \"Chris Godwin\", \"Count\": 3, \"%\": 23.1, \"POS\": \"WR\"}, {\"Player\": \"Christian Watson\", \"Count\": 3, \"%\": 23.1, \"POS\": \"WR\"}, {\"Player\": \"Saquon Barkley\", \"Count\": 3, \"%\": 23.1, \"POS\": \"RB\"}, {\"Player\": \"Khalil Herbert\", \"Count\": 3, \"%\": 23.1, \"POS\": \"RB\"}, {\"Player\": \"Darrell Henderson\", \"Count\": 3, \"%\": 23.1, \"POS\": \"RB\"}, {\"Player\": \"Kyler Murray\", \"Count\": 3, \"%\": 23.1, \"POS\": \"QB\"}, {\"Player\": \"DK Metcalf\", \"Count\": 3, \"%\": 23.1, \"POS\": \"WR\"}, {\"Player\": \"Najee Harris\", \"Count\": 3, \"%\": 23.1, \"POS\": \"RB\"}, {\"Player\": \"Jahan Dotson\", \"Count\": 3, \"%\": 23.1, \"POS\": \"WR\"}, {\"Player\": \"Noah Fant\", \"Count\": 3, \"%\": 23.1, \"POS\": \"TE\"}, {\"Player\": \"Javonte Williams\", \"Count\": 2, \"%\": 15.4, \"POS\": \"RB\"}, {\"Player\": \"Deebo Samuel\", \"Count\": 2, \"%\": 15.4, \"POS\": \"WR\"}, {\"Player\": \"Justin Jefferson\", \"Count\": 2, \"%\": 15.4, \"POS\": \"WR\"}, {\"Player\": \"Keenan Allen\", \"Count\": 2, \"%\": 15.4, \"POS\": \"WR\"}, {\"Player\": \"Daniel Jones\", \"Count\": 2, \"%\": 15.4, \"POS\": \"QB\"}, {\"Player\": \"KJ Hamler\", \"Count\": 2, \"%\": 15.4, \"POS\": \"WR\"}, {\"Player\": \"David Bell\", \"Count\": 2, \"%\": 15.4, \"POS\": \"WR\"}, {\"Player\": \"Greg Dulcich\", \"Count\": 2, \"%\": 15.4, \"POS\": \"TE\"}, {\"Player\": \"Tyler Allgeier\", \"Count\": 2, \"%\": 15.4, \"POS\": \"RB\"}, {\"Player\": \"Stefon Diggs\", \"Count\": 2, \"%\": 15.4, \"POS\": \"WR\"}, {\"Player\": \"Tylan Wallace\", \"Count\": 2, \"%\": 15.4, \"POS\": \"WR\"}, {\"Player\": \"Rondale Moore\", \"Count\": 2, \"%\": 15.4, \"POS\": \"WR\"}, {\"Player\": \"Rob Gronkowski\", \"Count\": 2, \"%\": 15.4, \"POS\": \"TE\"}, {\"Player\": \"Logan Thomas\", \"Count\": 2, \"%\": 15.4, \"POS\": \"TE\"}, {\"Player\": \"Kenyan Drake\", \"Count\": 2, \"%\": 15.4, \"POS\": \"RB\"}, {\"Player\": \"Cooper Kupp\", \"Count\": 2, \"%\": 15.4, \"POS\": \"WR\"}, {\"Player\": \"Alvin Kamara\", \"Count\": 2, \"%\": 15.4, \"POS\": \"RB\"}, {\"Player\": \"Jerry Jeudy\", \"Count\": 2, \"%\": 15.4, \"POS\": \"WR\"}, {\"Player\": \"Christian Kirk\", \"Count\": 2, \"%\": 15.4, \"POS\": \"WR\"}, {\"Player\": \"JD Mckissic\", \"Count\": 2, \"%\": 15.4, \"POS\": \"RB\"}, {\"Player\": \"George Pickens\", \"Count\": 2, \"%\": 15.4, \"POS\": \"WR\"}, {\"Player\": \"Travis Etienne\", \"Count\": 2, \"%\": 15.4, \"POS\": \"RB\"}, {\"Player\": \"AJ Brown\", \"Count\": 2, \"%\": 15.4, \"POS\": \"WR\"}, {\"Player\": \"Corey Davis\", \"Count\": 2, \"%\": 15.4, \"POS\": \"WR\"}, {\"Player\": \"James Washington\", \"Count\": 2, \"%\": 15.4, \"POS\": \"WR\"}, {\"Player\": \"James Conner\", \"Count\": 2, \"%\": 15.4, \"POS\": \"RB\"}, {\"Player\": \"Russell Wilson\", \"Count\": 2, \"%\": 15.4, \"POS\": \"QB\"}, {\"Player\": \"Skyy Moore\", \"Count\": 2, \"%\": 15.4, \"POS\": \"WR\"}, {\"Player\": \"Kenneth Walker\", \"Count\": 2, \"%\": 15.4, \"POS\": \"RB\"}, {\"Player\": \"Drake London\", \"Count\": 2, \"%\": 15.4, \"POS\": \"WR\"}, {\"Player\": \"Elijah Moore\", \"Count\": 2, \"%\": 15.4, \"POS\": \"WR\"}, {\"Player\": \"Tyler Higbee\", \"Count\": 2, \"%\": 15.4, \"POS\": \"TE\"}, {\"Player\": \"KJ Osborn\", \"Count\": 2, \"%\": 15.4, \"POS\": \"WR\"}, {\"Player\": \"Alec Pierce\", \"Count\": 2, \"%\": 15.4, \"POS\": \"WR\"}, {\"Player\": \"Gabriel Davis\", \"Count\": 2, \"%\": 15.4, \"POS\": \"WR\"}, {\"Player\": \"OJ Howard\", \"Count\": 2, \"%\": 15.4, \"POS\": \"TE\"}, {\"Player\": \"Tee Higgins\", \"Count\": 2, \"%\": 15.4, \"POS\": \"WR\"}, {\"Player\": \"Tyler Boyd\", \"Count\": 2, \"%\": 15.4, \"POS\": \"WR\"}, {\"Player\": \"Jonathan Taylor\", \"Count\": 2, \"%\": 15.4, \"POS\": \"RB\"}, {\"Player\": \"Brandon Aiyuk\", \"Count\": 2, \"%\": 15.4, \"POS\": \"WR\"}, {\"Player\": \"Adam Thielen\", \"Count\": 2, \"%\": 15.4, \"POS\": \"WR\"}, {\"Player\": \"Danny Gray\", \"Count\": 2, \"%\": 15.4, \"POS\": \"WR\"}, {\"Player\": \"Jakobi Meyers\", \"Count\": 2, \"%\": 15.4, \"POS\": \"WR\"}, {\"Player\": \"Dak Prescott\", \"Count\": 2, \"%\": 15.4, \"POS\": \"QB\"}, {\"Player\": \"Wandale Robinson\", \"Count\": 2, \"%\": 15.4, \"POS\": \"WR\"}, {\"Player\": \"Tyrion Davis-Price\", \"Count\": 2, \"%\": 15.4, \"POS\": \"RB\"}, {\"Player\": \"Darren Waller\", \"Count\": 2, \"%\": 15.4, \"POS\": \"TE\"}, {\"Player\": \"Brevin Jordan\", \"Count\": 2, \"%\": 15.4, \"POS\": \"TE\"}, {\"Player\": \"Ronald Jones\", \"Count\": 2, \"%\": 15.4, \"POS\": \"RB\"}, {\"Player\": \"Drew Lock\", \"Count\": 1, \"%\": 7.7, \"POS\": \"QB\"}, {\"Player\": \"Deandre Swift\", \"Count\": 1, \"%\": 7.7, \"POS\": \"RB\"}, {\"Player\": \"Adam Trautman\", \"Count\": 1, \"%\": 7.7, \"POS\": \"TE\"}, {\"Player\": \"Jared Goff\", \"Count\": 1, \"%\": 7.7, \"POS\": \"QB\"}, {\"Player\": \"Jameson Williams\", \"Count\": 1, \"%\": 7.7, \"POS\": \"WR\"}, {\"Player\": \"Nyheim Hines\", \"Count\": 1, \"%\": 7.7, \"POS\": \"RB\"}, {\"Player\": \"Christian Mccaffrey\", \"Count\": 1, \"%\": 7.7, \"POS\": \"RB\"}, {\"Player\": \"Byron Pringle\", \"Count\": 1, \"%\": 7.7, \"POS\": \"WR\"}, {\"Player\": \"Sterling Shepard\", \"Count\": 1, \"%\": 7.7, \"POS\": \"WR\"}, {\"Player\": \"Jamison Crowder\", \"Count\": 1, \"%\": 7.7, \"POS\": \"WR\"}, {\"Player\": \"Isaiah Spiller\", \"Count\": 1, \"%\": 7.7, \"POS\": \"RB\"}, {\"Player\": \"Pat Freiermuth\", \"Count\": 1, \"%\": 7.7, \"POS\": \"TE\"}, {\"Player\": \"Chase Claypool\", \"Count\": 1, \"%\": 7.7, \"POS\": \"WR\"}, {\"Player\": \"Rashod Bateman\", \"Count\": 1, \"%\": 7.7, \"POS\": \"WR\"}, {\"Player\": \"Jamar Chase\", \"Count\": 1, \"%\": 7.7, \"POS\": \"WR\"}, {\"Player\": \"Hassan Haskins\", \"Count\": 1, \"%\": 7.7, \"POS\": \"RB\"}, {\"Player\": \"Gerald Everett\", \"Count\": 1, \"%\": 7.7, \"POS\": \"TE\"}, {\"Player\": \"Devin Singletary\", \"Count\": 1, \"%\": 7.7, \"POS\": \"RB\"}, {\"Player\": \"Ceedee Lamb\", \"Count\": 1, \"%\": 7.7, \"POS\": \"WR\"}, {\"Player\": \"Quez Watkins\", \"Count\": 1, \"%\": 7.7, \"POS\": \"WR\"}, {\"Player\": \"Rhamondre Stevenson\", \"Count\": 1, \"%\": 7.7, \"POS\": \"RB\"}, {\"Player\": \"Dallas Goedert\", \"Count\": 1, \"%\": 7.7, \"POS\": \"TE\"}, {\"Player\": \"Jalen Hurts\", \"Count\": 1, \"%\": 7.7, \"POS\": \"QB\"}, {\"Player\": \"Michael Pittman\", \"Count\": 1, \"%\": 7.7, \"POS\": \"WR\"}, {\"Player\": \"Chase Edmonds\", \"Count\": 1, \"%\": 7.7, \"POS\": \"RB\"}, {\"Player\": \"Tua Tagovailoa\", \"Count\": 1, \"%\": 7.7, \"POS\": \"QB\"}, {\"Player\": \"Dalton Schulz\", \"Count\": 1, \"%\": 7.7, \"POS\": \"TE\"}, {\"Player\": \"Deandre Hopkins\", \"Count\": 1, \"%\": 7.7, \"POS\": \"WR\"}, {\"Player\": \"Courtland Sutton\", \"Count\": 1, \"%\": 7.7, \"POS\": \"WR\"}, {\"Player\": \"Nick Westbrook-Ikhine\", \"Count\": 1, \"%\": 7.7, \"POS\": \"WR\"}, {\"Player\": \"Evan Engram\", \"Count\": 1, \"%\": 7.7, \"POS\": \"TE\"}, {\"Player\": \"Kareem Hunt\", \"Count\": 1, \"%\": 7.7, \"POS\": \"RB\"}, {\"Player\": \"Justin Fields\", \"Count\": 1, \"%\": 7.7, \"POS\": \"QB\"}, {\"Player\": \"Michael Carter\", \"Count\": 1, \"%\": 7.7, \"POS\": \"RB\"}, {\"Player\": \"Will Fuller\", \"Count\": 1, \"%\": 7.7, \"POS\": \"WR\"}, {\"Player\": \"Clyde Edwards-Helaire\", \"Count\": 1, \"%\": 7.7, \"POS\": \"RB\"}, {\"Player\": \"Tom Brady\", \"Count\": 1, \"%\": 7.7, \"POS\": \"QB\"}, {\"Player\": \"Marlon Mack\", \"Count\": 1, \"%\": 7.7, \"POS\": \"RB\"}, {\"Player\": \"Trey Mcbride\", \"Count\": 1, \"%\": 7.7, \"POS\": \"TE\"}, {\"Player\": \"Donovan Peoples-Jones\", \"Count\": 1, \"%\": 7.7, \"POS\": \"WR\"}, {\"Player\": \"Aaron Rodgers\", \"Count\": 1, \"%\": 7.7, \"POS\": \"QB\"}, {\"Player\": \"Dalvin Cook\", \"Count\": 1, \"%\": 7.7, \"POS\": \"RB\"}, {\"Player\": \"Ihmir Smith-Marsette\", \"Count\": 1, \"%\": 7.7, \"POS\": \"WR\"}, {\"Player\": \"Tyquan Thorton\", \"Count\": 1, \"%\": 7.7, \"POS\": \"WR\"}, {\"Player\": \"Kendrick Bourne\", \"Count\": 1, \"%\": 7.7, \"POS\": \"WR\"}, {\"Player\": \"Mac Jones\", \"Count\": 1, \"%\": 7.7, \"POS\": \"QB\"}, {\"Player\": \"Michael Gallup\", \"Count\": 1, \"%\": 7.7, \"POS\": \"WR\"}, {\"Player\": \"DJ Chark\", \"Count\": 1, \"%\": 7.7, \"POS\": \"WR\"}, {\"Player\": \"Matthew Stafford\", \"Count\": 1, \"%\": 7.7, \"POS\": \"QB\"}, {\"Player\": \"Allen Robinson\", \"Count\": 1, \"%\": 7.7, \"POS\": \"WR\"}, {\"Player\": \"Cam Akers\", \"Count\": 1, \"%\": 7.7, \"POS\": \"RB\"}, {\"Player\": \"Amon-Ra St. Brown\", \"Count\": 1, \"%\": 7.7, \"POS\": \"WR\"}, {\"Player\": \"Elijah Mitchell\", \"Count\": 1, \"%\": 7.7, \"POS\": \"RB\"}, {\"Player\": \"Kadarius Toney\", \"Count\": 1, \"%\": 7.7, \"POS\": \"WR\"}, {\"Player\": \"AJ Dillon\", \"Count\": 1, \"%\": 7.7, \"POS\": \"RB\"}, {\"Player\": \"Derek Carr\", \"Count\": 1, \"%\": 7.7, \"POS\": \"QB\"}, {\"Player\": \"Chris Olave\", \"Count\": 1, \"%\": 7.7, \"POS\": \"WR\"}, {\"Player\": \"Dernest Johnson\", \"Count\": 1, \"%\": 7.7, \"POS\": \"RB\"}, {\"Player\": \"Hayden Hurst\", \"Count\": 1, \"%\": 7.7, \"POS\": \"TE\"}, {\"Player\": \"Irv Smith\", \"Count\": 1, \"%\": 7.7, \"POS\": \"TE\"}, {\"Player\": \"Trevor Lawrence\", \"Count\": 1, \"%\": 7.7, \"POS\": \"QB\"}, {\"Player\": \"Dawson Knox\", \"Count\": 1, \"%\": 7.7, \"POS\": \"TE\"}, {\"Player\": \"Josh Allen\", \"Count\": 1, \"%\": 7.7, \"POS\": \"QB\"}, {\"Player\": \"Zach Ertz\", \"Count\": 1, \"%\": 7.7, \"POS\": \"TE\"}, {\"Player\": \"Calvin Austin\", \"Count\": 1, \"%\": 7.7, \"POS\": \"WR\"}, {\"Player\": \"Raheem Mostert\", \"Count\": 1, \"%\": 7.7, \"POS\": \"RB\"}, {\"Player\": \"Aaron Jones\", \"Count\": 1, \"%\": 7.7, \"POS\": \"RB\"}, {\"Player\": \"James Robinson\", \"Count\": 1, \"%\": 7.7, \"POS\": \"RB\"}, {\"Player\": \"Robert Woods\", \"Count\": 1, \"%\": 7.7, \"POS\": \"WR\"}, {\"Player\": \"Devonta Smith\", \"Count\": 1, \"%\": 7.7, \"POS\": \"WR\"}, {\"Player\": \"Mike Evans\", \"Count\": 1, \"%\": 7.7, \"POS\": \"WR\"}, {\"Player\": \"James White\", \"Count\": 1, \"%\": 7.7, \"POS\": \"RB\"}]}};\n",
              "const opt = {};\n",
              "const type = \"vega-lite\";\n",
              "const id = \"ec133654-73f2-485b-a482-f6486b534c5e\";\n",
              "\n",
              "const output_area = this;\n",
              "\n",
              "require([\"jupyter-vega\"], function(vega) {\n",
              "  const target = document.createElement(\"div\");\n",
              "  target.id = id;\n",
              "  target.className = \"vega-embed\";\n",
              "\n",
              "  const style = document.createElement(\"style\");\n",
              "  style.textContent = [\n",
              "    \".vega-embed .error p {\",\n",
              "    \"  color: firebrick;\",\n",
              "    \"  font-size: 14px;\",\n",
              "    \"}\",\n",
              "  ].join(\"\\\\n\");\n",
              "\n",
              "  // element is a jQuery wrapped DOM element inside the output area\n",
              "  // see http://ipython.readthedocs.io/en/stable/api/generated/\\\n",
              "  // IPython.display.html#IPython.display.Javascript.__init__\n",
              "  element[0].appendChild(target);\n",
              "  element[0].appendChild(style);\n",
              "\n",
              "  vega.render(`#$ec133654-73f2-485b-a482-f6486b534c5e`, spec, type, opt, output_area);\n",
              "}, function (err) {\n",
              "  if (err.requireType !== \"scripterror\") {\n",
              "    throw(err);\n",
              "  }\n",
              "});\n"
            ],
            "text/plain": [
              "<vega.vegalite.VegaLite at 0x7fa501776f10>"
            ]
          },
          "metadata": {
            "jupyter-vega": "#ec133654-73f2-485b-a482-f6486b534c5e"
          }
        },
        {
          "output_type": "execute_result",
          "data": {
            "text/plain": [
              ""
            ]
          },
          "metadata": {},
          "execution_count": 306
        }
      ]
    },
    {
      "cell_type": "code",
      "source": [
        "#Better exp viz\n",
        "#my_range=range(1,len(exp_df.index)+1)\n",
        "\n",
        "#plt.stem(exp_df['Count'])\n",
        "#plt.xticks(my_range, exp_df['Player'])"
      ],
      "metadata": {
        "id": "HbLFVchsAVBN"
      },
      "execution_count": 307,
      "outputs": []
    },
    {
      "cell_type": "code",
      "source": [
        "#Team Build by draft date, with cumulative ADP value\n",
        "\n",
        "alt.Chart(df1).mark_circle(size=40).encode(\n",
        "    x='Draft Start',\n",
        "    y='Cumulative Val',\n",
        "    color='build_x',\n",
        "    tooltip=['Draft Start','Team', 'Strategy', 'Elite Onesie', 'build_x', 'Cumulative Val']\n",
        ").interactive()"
      ],
      "metadata": {
        "colab": {
          "base_uri": "https://localhost:8080/",
          "height": 17
        },
        "id": "5gObtfyhzOz_",
        "outputId": "8c7dfb41-8ca9-4004-a558-3790b91abbb8"
      },
      "execution_count": 308,
      "outputs": [
        {
          "output_type": "display_data",
          "data": {
            "application/javascript": [
              "const spec = {\"config\": {\"view\": {\"continuousWidth\": 400, \"continuousHeight\": 300}}, \"data\": {\"name\": \"data-a13933d6c873d3880437b9d54f876eaa\"}, \"mark\": {\"type\": \"circle\", \"size\": 40}, \"encoding\": {\"color\": {\"field\": \"build_x\", \"type\": \"nominal\"}, \"tooltip\": [{\"field\": \"Draft Start\", \"type\": \"nominal\"}, {\"field\": \"Team\", \"type\": \"quantitative\"}, {\"field\": \"Strategy\", \"type\": \"nominal\"}, {\"field\": \"Elite Onesie\", \"type\": \"nominal\"}, {\"field\": \"build_x\", \"type\": \"nominal\"}, {\"field\": \"Cumulative Val\", \"type\": \"quantitative\"}], \"x\": {\"field\": \"Draft Start\", \"type\": \"nominal\"}, \"y\": {\"field\": \"Cumulative Val\", \"type\": \"quantitative\"}}, \"selection\": {\"selector285\": {\"type\": \"interval\", \"bind\": \"scales\", \"encodings\": [\"x\", \"y\"]}}, \"$schema\": \"https://vega.github.io/schema/vega-lite/v4.17.0.json\", \"datasets\": {\"data-a13933d6c873d3880437b9d54f876eaa\": [{\"Team\": 1, \"build_x\": \"3/5/10/2\", \"Draft Start\": \"5/13/2022\", \"Cumulative Val\": 94.3, \"Strategy\": \"Hyperfragile RB\", \"Elite Onesie\": \"Elite TE\", \"build_y\": \"3/5/10/2\"}, {\"Team\": 1, \"build_x\": \"3/5/10/2\", \"Draft Start\": \"5/13/2022\", \"Cumulative Val\": 94.3, \"Strategy\": \"Hyperfragile RB\", \"Elite Onesie\": \"Elite TE\", \"build_y\": \"3/5/10/2\"}, {\"Team\": 1, \"build_x\": \"3/5/10/2\", \"Draft Start\": \"5/13/2022\", \"Cumulative Val\": 94.3, \"Strategy\": \"Hyperfragile RB\", \"Elite Onesie\": \"Elite TE\", \"build_y\": \"3/5/10/2\"}, {\"Team\": 1, \"build_x\": \"3/5/10/2\", \"Draft Start\": \"5/13/2022\", \"Cumulative Val\": 94.3, \"Strategy\": \"Hyperfragile RB\", \"Elite Onesie\": \"Elite TE\", \"build_y\": \"3/5/10/2\"}, {\"Team\": 1, \"build_x\": \"3/5/10/2\", \"Draft Start\": \"5/13/2022\", \"Cumulative Val\": 94.3, \"Strategy\": \"Hyperfragile RB\", \"Elite Onesie\": \"Elite TE\", \"build_y\": \"3/5/10/2\"}, {\"Team\": 1, \"build_x\": \"3/5/10/2\", \"Draft Start\": \"5/13/2022\", \"Cumulative Val\": 94.3, \"Strategy\": \"Hyperfragile RB\", \"Elite Onesie\": \"Elite TE\", \"build_y\": \"3/5/10/2\"}, {\"Team\": 1, \"build_x\": \"3/5/10/2\", \"Draft Start\": \"5/13/2022\", \"Cumulative Val\": 94.3, \"Strategy\": \"Hyperfragile RB\", \"Elite Onesie\": \"Elite TE\", \"build_y\": \"3/5/10/2\"}, {\"Team\": 1, \"build_x\": \"3/5/10/2\", \"Draft Start\": \"5/13/2022\", \"Cumulative Val\": 94.3, \"Strategy\": \"Hyperfragile RB\", \"Elite Onesie\": \"Elite TE\", \"build_y\": \"3/5/10/2\"}, {\"Team\": 1, \"build_x\": \"3/5/10/2\", \"Draft Start\": \"5/13/2022\", \"Cumulative Val\": 94.3, \"Strategy\": \"Hyperfragile RB\", \"Elite Onesie\": \"Elite TE\", \"build_y\": \"3/5/10/2\"}, {\"Team\": 1, \"build_x\": \"3/5/10/2\", \"Draft Start\": \"5/13/2022\", \"Cumulative Val\": 94.3, \"Strategy\": \"Hyperfragile RB\", \"Elite Onesie\": \"Elite TE\", \"build_y\": \"3/5/10/2\"}, {\"Team\": 1, \"build_x\": \"3/5/10/2\", \"Draft Start\": \"5/13/2022\", \"Cumulative Val\": 94.3, \"Strategy\": \"Hyperfragile RB\", \"Elite Onesie\": \"Elite TE\", \"build_y\": \"3/5/10/2\"}, {\"Team\": 1, \"build_x\": \"3/5/10/2\", \"Draft Start\": \"5/13/2022\", \"Cumulative Val\": 94.3, \"Strategy\": \"Hyperfragile RB\", \"Elite Onesie\": \"Elite TE\", \"build_y\": \"3/5/10/2\"}, {\"Team\": 1, \"build_x\": \"3/5/10/2\", \"Draft Start\": \"5/13/2022\", \"Cumulative Val\": 94.3, \"Strategy\": \"Hyperfragile RB\", \"Elite Onesie\": \"Elite TE\", \"build_y\": \"3/5/10/2\"}, {\"Team\": 1, \"build_x\": \"3/5/10/2\", \"Draft Start\": \"5/13/2022\", \"Cumulative Val\": 94.3, \"Strategy\": \"Hyperfragile RB\", \"Elite Onesie\": \"Elite TE\", \"build_y\": \"3/5/10/2\"}, {\"Team\": 1, \"build_x\": \"3/5/10/2\", \"Draft Start\": \"5/13/2022\", \"Cumulative Val\": 94.3, \"Strategy\": \"Hyperfragile RB\", \"Elite Onesie\": \"Elite TE\", \"build_y\": \"3/5/10/2\"}, {\"Team\": 1, \"build_x\": \"3/5/10/2\", \"Draft Start\": \"5/13/2022\", \"Cumulative Val\": 94.3, \"Strategy\": \"Hyperfragile RB\", \"Elite Onesie\": \"Elite TE\", \"build_y\": \"3/5/10/2\"}, {\"Team\": 1, \"build_x\": \"3/5/10/2\", \"Draft Start\": \"5/13/2022\", \"Cumulative Val\": 94.3, \"Strategy\": \"Hyperfragile RB\", \"Elite Onesie\": \"Elite TE\", \"build_y\": \"3/5/10/2\"}, {\"Team\": 1, \"build_x\": \"3/5/10/2\", \"Draft Start\": \"5/13/2022\", \"Cumulative Val\": 94.3, \"Strategy\": \"Hyperfragile RB\", \"Elite Onesie\": \"Elite TE\", \"build_y\": \"3/5/10/2\"}, {\"Team\": 1, \"build_x\": \"3/5/10/2\", \"Draft Start\": \"5/13/2022\", \"Cumulative Val\": 94.3, \"Strategy\": \"Hyperfragile RB\", \"Elite Onesie\": \"Elite TE\", \"build_y\": \"3/5/10/2\"}, {\"Team\": 1, \"build_x\": \"3/5/10/2\", \"Draft Start\": \"5/13/2022\", \"Cumulative Val\": 94.3, \"Strategy\": \"Hyperfragile RB\", \"Elite Onesie\": \"Elite TE\", \"build_y\": \"3/5/10/2\"}, {\"Team\": 2, \"build_x\": \"2/5/10/3\", \"Draft Start\": \"5/13/2022\", \"Cumulative Val\": 112.8, \"Strategy\": \"Hyperfragile RB\", \"Elite Onesie\": \"Neither\", \"build_y\": \"2/5/10/3\"}, {\"Team\": 2, \"build_x\": \"2/5/10/3\", \"Draft Start\": \"5/13/2022\", \"Cumulative Val\": 112.8, \"Strategy\": \"Hyperfragile RB\", \"Elite Onesie\": \"Neither\", \"build_y\": \"2/5/10/3\"}, {\"Team\": 2, \"build_x\": \"2/5/10/3\", \"Draft Start\": \"5/13/2022\", \"Cumulative Val\": 112.8, \"Strategy\": \"Hyperfragile RB\", \"Elite Onesie\": \"Neither\", \"build_y\": \"2/5/10/3\"}, {\"Team\": 2, \"build_x\": \"2/5/10/3\", \"Draft Start\": \"5/13/2022\", \"Cumulative Val\": 112.8, \"Strategy\": \"Hyperfragile RB\", \"Elite Onesie\": \"Neither\", \"build_y\": \"2/5/10/3\"}, {\"Team\": 2, \"build_x\": \"2/5/10/3\", \"Draft Start\": \"5/13/2022\", \"Cumulative Val\": 112.8, \"Strategy\": \"Hyperfragile RB\", \"Elite Onesie\": \"Neither\", \"build_y\": \"2/5/10/3\"}, {\"Team\": 2, \"build_x\": \"2/5/10/3\", \"Draft Start\": \"5/13/2022\", \"Cumulative Val\": 112.8, \"Strategy\": \"Hyperfragile RB\", \"Elite Onesie\": \"Neither\", \"build_y\": \"2/5/10/3\"}, {\"Team\": 2, \"build_x\": \"2/5/10/3\", \"Draft Start\": \"5/13/2022\", \"Cumulative Val\": 112.8, \"Strategy\": \"Hyperfragile RB\", \"Elite Onesie\": \"Neither\", \"build_y\": \"2/5/10/3\"}, {\"Team\": 2, \"build_x\": \"2/5/10/3\", \"Draft Start\": \"5/13/2022\", \"Cumulative Val\": 112.8, \"Strategy\": \"Hyperfragile RB\", \"Elite Onesie\": \"Neither\", \"build_y\": \"2/5/10/3\"}, {\"Team\": 2, \"build_x\": \"2/5/10/3\", \"Draft Start\": \"5/13/2022\", \"Cumulative Val\": 112.8, \"Strategy\": \"Hyperfragile RB\", \"Elite Onesie\": \"Neither\", \"build_y\": \"2/5/10/3\"}, {\"Team\": 2, \"build_x\": \"2/5/10/3\", \"Draft Start\": \"5/13/2022\", \"Cumulative Val\": 112.8, \"Strategy\": \"Hyperfragile RB\", \"Elite Onesie\": \"Neither\", \"build_y\": \"2/5/10/3\"}, {\"Team\": 2, \"build_x\": \"2/5/10/3\", \"Draft Start\": \"5/13/2022\", \"Cumulative Val\": 112.8, \"Strategy\": \"Hyperfragile RB\", \"Elite Onesie\": \"Neither\", \"build_y\": \"2/5/10/3\"}, {\"Team\": 2, \"build_x\": \"2/5/10/3\", \"Draft Start\": \"5/13/2022\", \"Cumulative Val\": 112.8, \"Strategy\": \"Hyperfragile RB\", \"Elite Onesie\": \"Neither\", \"build_y\": \"2/5/10/3\"}, {\"Team\": 2, \"build_x\": \"2/5/10/3\", \"Draft Start\": \"5/13/2022\", \"Cumulative Val\": 112.8, \"Strategy\": \"Hyperfragile RB\", \"Elite Onesie\": \"Neither\", \"build_y\": \"2/5/10/3\"}, {\"Team\": 2, \"build_x\": \"2/5/10/3\", \"Draft Start\": \"5/13/2022\", \"Cumulative Val\": 112.8, \"Strategy\": \"Hyperfragile RB\", \"Elite Onesie\": \"Neither\", \"build_y\": \"2/5/10/3\"}, {\"Team\": 2, \"build_x\": \"2/5/10/3\", \"Draft Start\": \"5/13/2022\", \"Cumulative Val\": 112.8, \"Strategy\": \"Hyperfragile RB\", \"Elite Onesie\": \"Neither\", \"build_y\": \"2/5/10/3\"}, {\"Team\": 2, \"build_x\": \"2/5/10/3\", \"Draft Start\": \"5/13/2022\", \"Cumulative Val\": 112.8, \"Strategy\": \"Hyperfragile RB\", \"Elite Onesie\": \"Neither\", \"build_y\": \"2/5/10/3\"}, {\"Team\": 2, \"build_x\": \"2/5/10/3\", \"Draft Start\": \"5/13/2022\", \"Cumulative Val\": 112.8, \"Strategy\": \"Hyperfragile RB\", \"Elite Onesie\": \"Neither\", \"build_y\": \"2/5/10/3\"}, {\"Team\": 2, \"build_x\": \"2/5/10/3\", \"Draft Start\": \"5/13/2022\", \"Cumulative Val\": 112.8, \"Strategy\": \"Hyperfragile RB\", \"Elite Onesie\": \"Neither\", \"build_y\": \"2/5/10/3\"}, {\"Team\": 2, \"build_x\": \"2/5/10/3\", \"Draft Start\": \"5/13/2022\", \"Cumulative Val\": 112.8, \"Strategy\": \"Hyperfragile RB\", \"Elite Onesie\": \"Neither\", \"build_y\": \"2/5/10/3\"}, {\"Team\": 2, \"build_x\": \"2/5/10/3\", \"Draft Start\": \"5/13/2022\", \"Cumulative Val\": 112.8, \"Strategy\": \"Hyperfragile RB\", \"Elite Onesie\": \"Neither\", \"build_y\": \"2/5/10/3\"}, {\"Team\": 3, \"build_x\": \"2/5/10/3\", \"Draft Start\": \"5/13/2022\", \"Cumulative Val\": 71.1, \"Strategy\": \"Anchor RB\", \"Elite Onesie\": \"Neither\", \"build_y\": \"2/5/10/3\"}, {\"Team\": 3, \"build_x\": \"2/5/10/3\", \"Draft Start\": \"5/13/2022\", \"Cumulative Val\": 71.1, \"Strategy\": \"Anchor RB\", \"Elite Onesie\": \"Neither\", \"build_y\": \"2/5/10/3\"}, {\"Team\": 3, \"build_x\": \"2/5/10/3\", \"Draft Start\": \"5/13/2022\", \"Cumulative Val\": 71.1, \"Strategy\": \"Anchor RB\", \"Elite Onesie\": \"Neither\", \"build_y\": \"2/5/10/3\"}, {\"Team\": 3, \"build_x\": \"2/5/10/3\", \"Draft Start\": \"5/13/2022\", \"Cumulative Val\": 71.1, \"Strategy\": \"Anchor RB\", \"Elite Onesie\": \"Neither\", \"build_y\": \"2/5/10/3\"}, {\"Team\": 3, \"build_x\": \"2/5/10/3\", \"Draft Start\": \"5/13/2022\", \"Cumulative Val\": 71.1, \"Strategy\": \"Anchor RB\", \"Elite Onesie\": \"Neither\", \"build_y\": \"2/5/10/3\"}, {\"Team\": 3, \"build_x\": \"2/5/10/3\", \"Draft Start\": \"5/13/2022\", \"Cumulative Val\": 71.1, \"Strategy\": \"Anchor RB\", \"Elite Onesie\": \"Neither\", \"build_y\": \"2/5/10/3\"}, {\"Team\": 3, \"build_x\": \"2/5/10/3\", \"Draft Start\": \"5/13/2022\", \"Cumulative Val\": 71.1, \"Strategy\": \"Anchor RB\", \"Elite Onesie\": \"Neither\", \"build_y\": \"2/5/10/3\"}, {\"Team\": 3, \"build_x\": \"2/5/10/3\", \"Draft Start\": \"5/13/2022\", \"Cumulative Val\": 71.1, \"Strategy\": \"Anchor RB\", \"Elite Onesie\": \"Neither\", \"build_y\": \"2/5/10/3\"}, {\"Team\": 3, \"build_x\": \"2/5/10/3\", \"Draft Start\": \"5/13/2022\", \"Cumulative Val\": 71.1, \"Strategy\": \"Anchor RB\", \"Elite Onesie\": \"Neither\", \"build_y\": \"2/5/10/3\"}, {\"Team\": 3, \"build_x\": \"2/5/10/3\", \"Draft Start\": \"5/13/2022\", \"Cumulative Val\": 71.1, \"Strategy\": \"Anchor RB\", \"Elite Onesie\": \"Neither\", \"build_y\": \"2/5/10/3\"}, {\"Team\": 3, \"build_x\": \"2/5/10/3\", \"Draft Start\": \"5/13/2022\", \"Cumulative Val\": 71.1, \"Strategy\": \"Anchor RB\", \"Elite Onesie\": \"Neither\", \"build_y\": \"2/5/10/3\"}, {\"Team\": 3, \"build_x\": \"2/5/10/3\", \"Draft Start\": \"5/13/2022\", \"Cumulative Val\": 71.1, \"Strategy\": \"Anchor RB\", \"Elite Onesie\": \"Neither\", \"build_y\": \"2/5/10/3\"}, {\"Team\": 3, \"build_x\": \"2/5/10/3\", \"Draft Start\": \"5/13/2022\", \"Cumulative Val\": 71.1, \"Strategy\": \"Anchor RB\", \"Elite Onesie\": \"Neither\", \"build_y\": \"2/5/10/3\"}, {\"Team\": 3, \"build_x\": \"2/5/10/3\", \"Draft Start\": \"5/13/2022\", \"Cumulative Val\": 71.1, \"Strategy\": \"Anchor RB\", \"Elite Onesie\": \"Neither\", \"build_y\": \"2/5/10/3\"}, {\"Team\": 3, \"build_x\": \"2/5/10/3\", \"Draft Start\": \"5/13/2022\", \"Cumulative Val\": 71.1, \"Strategy\": \"Anchor RB\", \"Elite Onesie\": \"Neither\", \"build_y\": \"2/5/10/3\"}, {\"Team\": 3, \"build_x\": \"2/5/10/3\", \"Draft Start\": \"5/13/2022\", \"Cumulative Val\": 71.1, \"Strategy\": \"Anchor RB\", \"Elite Onesie\": \"Neither\", \"build_y\": \"2/5/10/3\"}, {\"Team\": 3, \"build_x\": \"2/5/10/3\", \"Draft Start\": \"5/13/2022\", \"Cumulative Val\": 71.1, \"Strategy\": \"Anchor RB\", \"Elite Onesie\": \"Neither\", \"build_y\": \"2/5/10/3\"}, {\"Team\": 3, \"build_x\": \"2/5/10/3\", \"Draft Start\": \"5/13/2022\", \"Cumulative Val\": 71.1, \"Strategy\": \"Anchor RB\", \"Elite Onesie\": \"Neither\", \"build_y\": \"2/5/10/3\"}, {\"Team\": 3, \"build_x\": \"2/5/10/3\", \"Draft Start\": \"5/13/2022\", \"Cumulative Val\": 71.1, \"Strategy\": \"Anchor RB\", \"Elite Onesie\": \"Neither\", \"build_y\": \"2/5/10/3\"}, {\"Team\": 3, \"build_x\": \"2/5/10/3\", \"Draft Start\": \"5/13/2022\", \"Cumulative Val\": 71.1, \"Strategy\": \"Anchor RB\", \"Elite Onesie\": \"Neither\", \"build_y\": \"2/5/10/3\"}, {\"Team\": 4, \"build_x\": \"2/7/8/3\", \"Draft Start\": \"5/13/2022\", \"Cumulative Val\": 54.3, \"Strategy\": \"Anchor RB\", \"Elite Onesie\": \"Elite QB\", \"build_y\": \"2/7/8/3\"}, {\"Team\": 4, \"build_x\": \"2/7/8/3\", \"Draft Start\": \"5/13/2022\", \"Cumulative Val\": 54.3, \"Strategy\": \"Anchor RB\", \"Elite Onesie\": \"Elite QB\", \"build_y\": \"2/7/8/3\"}, {\"Team\": 4, \"build_x\": \"2/7/8/3\", \"Draft Start\": \"5/13/2022\", \"Cumulative Val\": 54.3, \"Strategy\": \"Anchor RB\", \"Elite Onesie\": \"Elite QB\", \"build_y\": \"2/7/8/3\"}, {\"Team\": 4, \"build_x\": \"2/7/8/3\", \"Draft Start\": \"5/13/2022\", \"Cumulative Val\": 54.3, \"Strategy\": \"Anchor RB\", \"Elite Onesie\": \"Elite QB\", \"build_y\": \"2/7/8/3\"}, {\"Team\": 4, \"build_x\": \"2/7/8/3\", \"Draft Start\": \"5/13/2022\", \"Cumulative Val\": 54.3, \"Strategy\": \"Anchor RB\", \"Elite Onesie\": \"Elite QB\", \"build_y\": \"2/7/8/3\"}, {\"Team\": 4, \"build_x\": \"2/7/8/3\", \"Draft Start\": \"5/13/2022\", \"Cumulative Val\": 54.3, \"Strategy\": \"Anchor RB\", \"Elite Onesie\": \"Elite QB\", \"build_y\": \"2/7/8/3\"}, {\"Team\": 4, \"build_x\": \"2/7/8/3\", \"Draft Start\": \"5/13/2022\", \"Cumulative Val\": 54.3, \"Strategy\": \"Anchor RB\", \"Elite Onesie\": \"Elite QB\", \"build_y\": \"2/7/8/3\"}, {\"Team\": 4, \"build_x\": \"2/7/8/3\", \"Draft Start\": \"5/13/2022\", \"Cumulative Val\": 54.3, \"Strategy\": \"Anchor RB\", \"Elite Onesie\": \"Elite QB\", \"build_y\": \"2/7/8/3\"}, {\"Team\": 4, \"build_x\": \"2/7/8/3\", \"Draft Start\": \"5/13/2022\", \"Cumulative Val\": 54.3, \"Strategy\": \"Anchor RB\", \"Elite Onesie\": \"Elite QB\", \"build_y\": \"2/7/8/3\"}, {\"Team\": 4, \"build_x\": \"2/7/8/3\", \"Draft Start\": \"5/13/2022\", \"Cumulative Val\": 54.3, \"Strategy\": \"Anchor RB\", \"Elite Onesie\": \"Elite QB\", \"build_y\": \"2/7/8/3\"}, {\"Team\": 4, \"build_x\": \"2/7/8/3\", \"Draft Start\": \"5/13/2022\", \"Cumulative Val\": 54.3, \"Strategy\": \"Anchor RB\", \"Elite Onesie\": \"Elite QB\", \"build_y\": \"2/7/8/3\"}, {\"Team\": 4, \"build_x\": \"2/7/8/3\", \"Draft Start\": \"5/13/2022\", \"Cumulative Val\": 54.3, \"Strategy\": \"Anchor RB\", \"Elite Onesie\": \"Elite QB\", \"build_y\": \"2/7/8/3\"}, {\"Team\": 4, \"build_x\": \"2/7/8/3\", \"Draft Start\": \"5/13/2022\", \"Cumulative Val\": 54.3, \"Strategy\": \"Anchor RB\", \"Elite Onesie\": \"Elite QB\", \"build_y\": \"2/7/8/3\"}, {\"Team\": 4, \"build_x\": \"2/7/8/3\", \"Draft Start\": \"5/13/2022\", \"Cumulative Val\": 54.3, \"Strategy\": \"Anchor RB\", \"Elite Onesie\": \"Elite QB\", \"build_y\": \"2/7/8/3\"}, {\"Team\": 4, \"build_x\": \"2/7/8/3\", \"Draft Start\": \"5/13/2022\", \"Cumulative Val\": 54.3, \"Strategy\": \"Anchor RB\", \"Elite Onesie\": \"Elite QB\", \"build_y\": \"2/7/8/3\"}, {\"Team\": 4, \"build_x\": \"2/7/8/3\", \"Draft Start\": \"5/13/2022\", \"Cumulative Val\": 54.3, \"Strategy\": \"Anchor RB\", \"Elite Onesie\": \"Elite QB\", \"build_y\": \"2/7/8/3\"}, {\"Team\": 4, \"build_x\": \"2/7/8/3\", \"Draft Start\": \"5/13/2022\", \"Cumulative Val\": 54.3, \"Strategy\": \"Anchor RB\", \"Elite Onesie\": \"Elite QB\", \"build_y\": \"2/7/8/3\"}, {\"Team\": 4, \"build_x\": \"2/7/8/3\", \"Draft Start\": \"5/13/2022\", \"Cumulative Val\": 54.3, \"Strategy\": \"Anchor RB\", \"Elite Onesie\": \"Elite QB\", \"build_y\": \"2/7/8/3\"}, {\"Team\": 4, \"build_x\": \"2/7/8/3\", \"Draft Start\": \"5/13/2022\", \"Cumulative Val\": 54.3, \"Strategy\": \"Anchor RB\", \"Elite Onesie\": \"Elite QB\", \"build_y\": \"2/7/8/3\"}, {\"Team\": 4, \"build_x\": \"2/7/8/3\", \"Draft Start\": \"5/13/2022\", \"Cumulative Val\": 54.3, \"Strategy\": \"Anchor RB\", \"Elite Onesie\": \"Elite QB\", \"build_y\": \"2/7/8/3\"}, {\"Team\": 5, \"build_x\": \"2/6/9/3\", \"Draft Start\": \"5/13/2022\", \"Cumulative Val\": 221.5, \"Strategy\": \"Anchor RB\", \"Elite Onesie\": \"Neither\", \"build_y\": \"2/6/9/3\"}, {\"Team\": 5, \"build_x\": \"2/6/9/3\", \"Draft Start\": \"5/13/2022\", \"Cumulative Val\": 221.5, \"Strategy\": \"Anchor RB\", \"Elite Onesie\": \"Neither\", \"build_y\": \"2/6/9/3\"}, {\"Team\": 5, \"build_x\": \"2/6/9/3\", \"Draft Start\": \"5/13/2022\", \"Cumulative Val\": 221.5, \"Strategy\": \"Anchor RB\", \"Elite Onesie\": \"Neither\", \"build_y\": \"2/6/9/3\"}, {\"Team\": 5, \"build_x\": \"2/6/9/3\", \"Draft Start\": \"5/13/2022\", \"Cumulative Val\": 221.5, \"Strategy\": \"Anchor RB\", \"Elite Onesie\": \"Neither\", \"build_y\": \"2/6/9/3\"}, {\"Team\": 5, \"build_x\": \"2/6/9/3\", \"Draft Start\": \"5/13/2022\", \"Cumulative Val\": 221.5, \"Strategy\": \"Anchor RB\", \"Elite Onesie\": \"Neither\", \"build_y\": \"2/6/9/3\"}, {\"Team\": 5, \"build_x\": \"2/6/9/3\", \"Draft Start\": \"5/13/2022\", \"Cumulative Val\": 221.5, \"Strategy\": \"Anchor RB\", \"Elite Onesie\": \"Neither\", \"build_y\": \"2/6/9/3\"}, {\"Team\": 5, \"build_x\": \"2/6/9/3\", \"Draft Start\": \"5/13/2022\", \"Cumulative Val\": 221.5, \"Strategy\": \"Anchor RB\", \"Elite Onesie\": \"Neither\", \"build_y\": \"2/6/9/3\"}, {\"Team\": 5, \"build_x\": \"2/6/9/3\", \"Draft Start\": \"5/13/2022\", \"Cumulative Val\": 221.5, \"Strategy\": \"Anchor RB\", \"Elite Onesie\": \"Neither\", \"build_y\": \"2/6/9/3\"}, {\"Team\": 5, \"build_x\": \"2/6/9/3\", \"Draft Start\": \"5/13/2022\", \"Cumulative Val\": 221.5, \"Strategy\": \"Anchor RB\", \"Elite Onesie\": \"Neither\", \"build_y\": \"2/6/9/3\"}, {\"Team\": 5, \"build_x\": \"2/6/9/3\", \"Draft Start\": \"5/13/2022\", \"Cumulative Val\": 221.5, \"Strategy\": \"Anchor RB\", \"Elite Onesie\": \"Neither\", \"build_y\": \"2/6/9/3\"}, {\"Team\": 5, \"build_x\": \"2/6/9/3\", \"Draft Start\": \"5/13/2022\", \"Cumulative Val\": 221.5, \"Strategy\": \"Anchor RB\", \"Elite Onesie\": \"Neither\", \"build_y\": \"2/6/9/3\"}, {\"Team\": 5, \"build_x\": \"2/6/9/3\", \"Draft Start\": \"5/13/2022\", \"Cumulative Val\": 221.5, \"Strategy\": \"Anchor RB\", \"Elite Onesie\": \"Neither\", \"build_y\": \"2/6/9/3\"}, {\"Team\": 5, \"build_x\": \"2/6/9/3\", \"Draft Start\": \"5/13/2022\", \"Cumulative Val\": 221.5, \"Strategy\": \"Anchor RB\", \"Elite Onesie\": \"Neither\", \"build_y\": \"2/6/9/3\"}, {\"Team\": 5, \"build_x\": \"2/6/9/3\", \"Draft Start\": \"5/13/2022\", \"Cumulative Val\": 221.5, \"Strategy\": \"Anchor RB\", \"Elite Onesie\": \"Neither\", \"build_y\": \"2/6/9/3\"}, {\"Team\": 5, \"build_x\": \"2/6/9/3\", \"Draft Start\": \"5/13/2022\", \"Cumulative Val\": 221.5, \"Strategy\": \"Anchor RB\", \"Elite Onesie\": \"Neither\", \"build_y\": \"2/6/9/3\"}, {\"Team\": 5, \"build_x\": \"2/6/9/3\", \"Draft Start\": \"5/13/2022\", \"Cumulative Val\": 221.5, \"Strategy\": \"Anchor RB\", \"Elite Onesie\": \"Neither\", \"build_y\": \"2/6/9/3\"}, {\"Team\": 5, \"build_x\": \"2/6/9/3\", \"Draft Start\": \"5/13/2022\", \"Cumulative Val\": 221.5, \"Strategy\": \"Anchor RB\", \"Elite Onesie\": \"Neither\", \"build_y\": \"2/6/9/3\"}, {\"Team\": 5, \"build_x\": \"2/6/9/3\", \"Draft Start\": \"5/13/2022\", \"Cumulative Val\": 221.5, \"Strategy\": \"Anchor RB\", \"Elite Onesie\": \"Neither\", \"build_y\": \"2/6/9/3\"}, {\"Team\": 5, \"build_x\": \"2/6/9/3\", \"Draft Start\": \"5/13/2022\", \"Cumulative Val\": 221.5, \"Strategy\": \"Anchor RB\", \"Elite Onesie\": \"Neither\", \"build_y\": \"2/6/9/3\"}, {\"Team\": 5, \"build_x\": \"2/6/9/3\", \"Draft Start\": \"5/13/2022\", \"Cumulative Val\": 221.5, \"Strategy\": \"Anchor RB\", \"Elite Onesie\": \"Neither\", \"build_y\": \"2/6/9/3\"}, {\"Team\": 6, \"build_x\": \"2/7/9/2\", \"Draft Start\": \"5/13/2022\", \"Cumulative Val\": 46.3, \"Strategy\": \"Anchor RB\", \"Elite Onesie\": \"Elite QB/TE\", \"build_y\": \"2/7/9/2\"}, {\"Team\": 6, \"build_x\": \"2/7/9/2\", \"Draft Start\": \"5/13/2022\", \"Cumulative Val\": 46.3, \"Strategy\": \"Anchor RB\", \"Elite Onesie\": \"Elite QB/TE\", \"build_y\": \"2/7/9/2\"}, {\"Team\": 6, \"build_x\": \"2/7/9/2\", \"Draft Start\": \"5/13/2022\", \"Cumulative Val\": 46.3, \"Strategy\": \"Anchor RB\", \"Elite Onesie\": \"Elite QB/TE\", \"build_y\": \"2/7/9/2\"}, {\"Team\": 6, \"build_x\": \"2/7/9/2\", \"Draft Start\": \"5/13/2022\", \"Cumulative Val\": 46.3, \"Strategy\": \"Anchor RB\", \"Elite Onesie\": \"Elite QB/TE\", \"build_y\": \"2/7/9/2\"}, {\"Team\": 6, \"build_x\": \"2/7/9/2\", \"Draft Start\": \"5/13/2022\", \"Cumulative Val\": 46.3, \"Strategy\": \"Anchor RB\", \"Elite Onesie\": \"Elite QB/TE\", \"build_y\": \"2/7/9/2\"}, {\"Team\": 6, \"build_x\": \"2/7/9/2\", \"Draft Start\": \"5/13/2022\", \"Cumulative Val\": 46.3, \"Strategy\": \"Anchor RB\", \"Elite Onesie\": \"Elite QB/TE\", \"build_y\": \"2/7/9/2\"}, {\"Team\": 6, \"build_x\": \"2/7/9/2\", \"Draft Start\": \"5/13/2022\", \"Cumulative Val\": 46.3, \"Strategy\": \"Anchor RB\", \"Elite Onesie\": \"Elite QB/TE\", \"build_y\": \"2/7/9/2\"}, {\"Team\": 6, \"build_x\": \"2/7/9/2\", \"Draft Start\": \"5/13/2022\", \"Cumulative Val\": 46.3, \"Strategy\": \"Anchor RB\", \"Elite Onesie\": \"Elite QB/TE\", \"build_y\": \"2/7/9/2\"}, {\"Team\": 6, \"build_x\": \"2/7/9/2\", \"Draft Start\": \"5/13/2022\", \"Cumulative Val\": 46.3, \"Strategy\": \"Anchor RB\", \"Elite Onesie\": \"Elite QB/TE\", \"build_y\": \"2/7/9/2\"}, {\"Team\": 6, \"build_x\": \"2/7/9/2\", \"Draft Start\": \"5/13/2022\", \"Cumulative Val\": 46.3, \"Strategy\": \"Anchor RB\", \"Elite Onesie\": \"Elite QB/TE\", \"build_y\": \"2/7/9/2\"}, {\"Team\": 6, \"build_x\": \"2/7/9/2\", \"Draft Start\": \"5/13/2022\", \"Cumulative Val\": 46.3, \"Strategy\": \"Anchor RB\", \"Elite Onesie\": \"Elite QB/TE\", \"build_y\": \"2/7/9/2\"}, {\"Team\": 6, \"build_x\": \"2/7/9/2\", \"Draft Start\": \"5/13/2022\", \"Cumulative Val\": 46.3, \"Strategy\": \"Anchor RB\", \"Elite Onesie\": \"Elite QB/TE\", \"build_y\": \"2/7/9/2\"}, {\"Team\": 6, \"build_x\": \"2/7/9/2\", \"Draft Start\": \"5/13/2022\", \"Cumulative Val\": 46.3, \"Strategy\": \"Anchor RB\", \"Elite Onesie\": \"Elite QB/TE\", \"build_y\": \"2/7/9/2\"}, {\"Team\": 6, \"build_x\": \"2/7/9/2\", \"Draft Start\": \"5/13/2022\", \"Cumulative Val\": 46.3, \"Strategy\": \"Anchor RB\", \"Elite Onesie\": \"Elite QB/TE\", \"build_y\": \"2/7/9/2\"}, {\"Team\": 6, \"build_x\": \"2/7/9/2\", \"Draft Start\": \"5/13/2022\", \"Cumulative Val\": 46.3, \"Strategy\": \"Anchor RB\", \"Elite Onesie\": \"Elite QB/TE\", \"build_y\": \"2/7/9/2\"}, {\"Team\": 6, \"build_x\": \"2/7/9/2\", \"Draft Start\": \"5/13/2022\", \"Cumulative Val\": 46.3, \"Strategy\": \"Anchor RB\", \"Elite Onesie\": \"Elite QB/TE\", \"build_y\": \"2/7/9/2\"}, {\"Team\": 6, \"build_x\": \"2/7/9/2\", \"Draft Start\": \"5/13/2022\", \"Cumulative Val\": 46.3, \"Strategy\": \"Anchor RB\", \"Elite Onesie\": \"Elite QB/TE\", \"build_y\": \"2/7/9/2\"}, {\"Team\": 6, \"build_x\": \"2/7/9/2\", \"Draft Start\": \"5/13/2022\", \"Cumulative Val\": 46.3, \"Strategy\": \"Anchor RB\", \"Elite Onesie\": \"Elite QB/TE\", \"build_y\": \"2/7/9/2\"}, {\"Team\": 6, \"build_x\": \"2/7/9/2\", \"Draft Start\": \"5/13/2022\", \"Cumulative Val\": 46.3, \"Strategy\": \"Anchor RB\", \"Elite Onesie\": \"Elite QB/TE\", \"build_y\": \"2/7/9/2\"}, {\"Team\": 6, \"build_x\": \"2/7/9/2\", \"Draft Start\": \"5/13/2022\", \"Cumulative Val\": 46.3, \"Strategy\": \"Anchor RB\", \"Elite Onesie\": \"Elite QB/TE\", \"build_y\": \"2/7/9/2\"}, {\"Team\": 7, \"build_x\": \"2/7/8/3\", \"Draft Start\": \"5/14/2022\", \"Cumulative Val\": 74.9, \"Strategy\": \"Zero RB\", \"Elite Onesie\": \"Elite QB\", \"build_y\": \"2/7/8/3\"}, {\"Team\": 7, \"build_x\": \"2/7/8/3\", \"Draft Start\": \"5/14/2022\", \"Cumulative Val\": 74.9, \"Strategy\": \"Zero RB\", \"Elite Onesie\": \"Elite QB\", \"build_y\": \"2/7/8/3\"}, {\"Team\": 7, \"build_x\": \"2/7/8/3\", \"Draft Start\": \"5/14/2022\", \"Cumulative Val\": 74.9, \"Strategy\": \"Zero RB\", \"Elite Onesie\": \"Elite QB\", \"build_y\": \"2/7/8/3\"}, {\"Team\": 7, \"build_x\": \"2/7/8/3\", \"Draft Start\": \"5/14/2022\", \"Cumulative Val\": 74.9, \"Strategy\": \"Zero RB\", \"Elite Onesie\": \"Elite QB\", \"build_y\": \"2/7/8/3\"}, {\"Team\": 7, \"build_x\": \"2/7/8/3\", \"Draft Start\": \"5/14/2022\", \"Cumulative Val\": 74.9, \"Strategy\": \"Zero RB\", \"Elite Onesie\": \"Elite QB\", \"build_y\": \"2/7/8/3\"}, {\"Team\": 7, \"build_x\": \"2/7/8/3\", \"Draft Start\": \"5/14/2022\", \"Cumulative Val\": 74.9, \"Strategy\": \"Zero RB\", \"Elite Onesie\": \"Elite QB\", \"build_y\": \"2/7/8/3\"}, {\"Team\": 7, \"build_x\": \"2/7/8/3\", \"Draft Start\": \"5/14/2022\", \"Cumulative Val\": 74.9, \"Strategy\": \"Zero RB\", \"Elite Onesie\": \"Elite QB\", \"build_y\": \"2/7/8/3\"}, {\"Team\": 7, \"build_x\": \"2/7/8/3\", \"Draft Start\": \"5/14/2022\", \"Cumulative Val\": 74.9, \"Strategy\": \"Zero RB\", \"Elite Onesie\": \"Elite QB\", \"build_y\": \"2/7/8/3\"}, {\"Team\": 7, \"build_x\": \"2/7/8/3\", \"Draft Start\": \"5/14/2022\", \"Cumulative Val\": 74.9, \"Strategy\": \"Zero RB\", \"Elite Onesie\": \"Elite QB\", \"build_y\": \"2/7/8/3\"}, {\"Team\": 7, \"build_x\": \"2/7/8/3\", \"Draft Start\": \"5/14/2022\", \"Cumulative Val\": 74.9, \"Strategy\": \"Zero RB\", \"Elite Onesie\": \"Elite QB\", \"build_y\": \"2/7/8/3\"}, {\"Team\": 7, \"build_x\": \"2/7/8/3\", \"Draft Start\": \"5/14/2022\", \"Cumulative Val\": 74.9, \"Strategy\": \"Zero RB\", \"Elite Onesie\": \"Elite QB\", \"build_y\": \"2/7/8/3\"}, {\"Team\": 7, \"build_x\": \"2/7/8/3\", \"Draft Start\": \"5/14/2022\", \"Cumulative Val\": 74.9, \"Strategy\": \"Zero RB\", \"Elite Onesie\": \"Elite QB\", \"build_y\": \"2/7/8/3\"}, {\"Team\": 7, \"build_x\": \"2/7/8/3\", \"Draft Start\": \"5/14/2022\", \"Cumulative Val\": 74.9, \"Strategy\": \"Zero RB\", \"Elite Onesie\": \"Elite QB\", \"build_y\": \"2/7/8/3\"}, {\"Team\": 7, \"build_x\": \"2/7/8/3\", \"Draft Start\": \"5/14/2022\", \"Cumulative Val\": 74.9, \"Strategy\": \"Zero RB\", \"Elite Onesie\": \"Elite QB\", \"build_y\": \"2/7/8/3\"}, {\"Team\": 7, \"build_x\": \"2/7/8/3\", \"Draft Start\": \"5/14/2022\", \"Cumulative Val\": 74.9, \"Strategy\": \"Zero RB\", \"Elite Onesie\": \"Elite QB\", \"build_y\": \"2/7/8/3\"}, {\"Team\": 7, \"build_x\": \"2/7/8/3\", \"Draft Start\": \"5/14/2022\", \"Cumulative Val\": 74.9, \"Strategy\": \"Zero RB\", \"Elite Onesie\": \"Elite QB\", \"build_y\": \"2/7/8/3\"}, {\"Team\": 7, \"build_x\": \"2/7/8/3\", \"Draft Start\": \"5/14/2022\", \"Cumulative Val\": 74.9, \"Strategy\": \"Zero RB\", \"Elite Onesie\": \"Elite QB\", \"build_y\": \"2/7/8/3\"}, {\"Team\": 7, \"build_x\": \"2/7/8/3\", \"Draft Start\": \"5/14/2022\", \"Cumulative Val\": 74.9, \"Strategy\": \"Zero RB\", \"Elite Onesie\": \"Elite QB\", \"build_y\": \"2/7/8/3\"}, {\"Team\": 7, \"build_x\": \"2/7/8/3\", \"Draft Start\": \"5/14/2022\", \"Cumulative Val\": 74.9, \"Strategy\": \"Zero RB\", \"Elite Onesie\": \"Elite QB\", \"build_y\": \"2/7/8/3\"}, {\"Team\": 7, \"build_x\": \"2/7/8/3\", \"Draft Start\": \"5/14/2022\", \"Cumulative Val\": 74.9, \"Strategy\": \"Zero RB\", \"Elite Onesie\": \"Elite QB\", \"build_y\": \"2/7/8/3\"}, {\"Team\": 8, \"build_x\": \"3/4/9/4\", \"Draft Start\": \"5/14/2022\", \"Cumulative Val\": 84.3, \"Strategy\": \"Superhero RB\", \"Elite Onesie\": \"Neither\", \"build_y\": \"3/4/9/4\"}, {\"Team\": 8, \"build_x\": \"3/4/9/4\", \"Draft Start\": \"5/14/2022\", \"Cumulative Val\": 84.3, \"Strategy\": \"Superhero RB\", \"Elite Onesie\": \"Neither\", \"build_y\": \"3/4/9/4\"}, {\"Team\": 8, \"build_x\": \"3/4/9/4\", \"Draft Start\": \"5/14/2022\", \"Cumulative Val\": 84.3, \"Strategy\": \"Superhero RB\", \"Elite Onesie\": \"Neither\", \"build_y\": \"3/4/9/4\"}, {\"Team\": 8, \"build_x\": \"3/4/9/4\", \"Draft Start\": \"5/14/2022\", \"Cumulative Val\": 84.3, \"Strategy\": \"Superhero RB\", \"Elite Onesie\": \"Neither\", \"build_y\": \"3/4/9/4\"}, {\"Team\": 8, \"build_x\": \"3/4/9/4\", \"Draft Start\": \"5/14/2022\", \"Cumulative Val\": 84.3, \"Strategy\": \"Superhero RB\", \"Elite Onesie\": \"Neither\", \"build_y\": \"3/4/9/4\"}, {\"Team\": 8, \"build_x\": \"3/4/9/4\", \"Draft Start\": \"5/14/2022\", \"Cumulative Val\": 84.3, \"Strategy\": \"Superhero RB\", \"Elite Onesie\": \"Neither\", \"build_y\": \"3/4/9/4\"}, {\"Team\": 8, \"build_x\": \"3/4/9/4\", \"Draft Start\": \"5/14/2022\", \"Cumulative Val\": 84.3, \"Strategy\": \"Superhero RB\", \"Elite Onesie\": \"Neither\", \"build_y\": \"3/4/9/4\"}, {\"Team\": 8, \"build_x\": \"3/4/9/4\", \"Draft Start\": \"5/14/2022\", \"Cumulative Val\": 84.3, \"Strategy\": \"Superhero RB\", \"Elite Onesie\": \"Neither\", \"build_y\": \"3/4/9/4\"}, {\"Team\": 8, \"build_x\": \"3/4/9/4\", \"Draft Start\": \"5/14/2022\", \"Cumulative Val\": 84.3, \"Strategy\": \"Superhero RB\", \"Elite Onesie\": \"Neither\", \"build_y\": \"3/4/9/4\"}, {\"Team\": 8, \"build_x\": \"3/4/9/4\", \"Draft Start\": \"5/14/2022\", \"Cumulative Val\": 84.3, \"Strategy\": \"Superhero RB\", \"Elite Onesie\": \"Neither\", \"build_y\": \"3/4/9/4\"}, {\"Team\": 8, \"build_x\": \"3/4/9/4\", \"Draft Start\": \"5/14/2022\", \"Cumulative Val\": 84.3, \"Strategy\": \"Superhero RB\", \"Elite Onesie\": \"Neither\", \"build_y\": \"3/4/9/4\"}, {\"Team\": 8, \"build_x\": \"3/4/9/4\", \"Draft Start\": \"5/14/2022\", \"Cumulative Val\": 84.3, \"Strategy\": \"Superhero RB\", \"Elite Onesie\": \"Neither\", \"build_y\": \"3/4/9/4\"}, {\"Team\": 8, \"build_x\": \"3/4/9/4\", \"Draft Start\": \"5/14/2022\", \"Cumulative Val\": 84.3, \"Strategy\": \"Superhero RB\", \"Elite Onesie\": \"Neither\", \"build_y\": \"3/4/9/4\"}, {\"Team\": 8, \"build_x\": \"3/4/9/4\", \"Draft Start\": \"5/14/2022\", \"Cumulative Val\": 84.3, \"Strategy\": \"Superhero RB\", \"Elite Onesie\": \"Neither\", \"build_y\": \"3/4/9/4\"}, {\"Team\": 8, \"build_x\": \"3/4/9/4\", \"Draft Start\": \"5/14/2022\", \"Cumulative Val\": 84.3, \"Strategy\": \"Superhero RB\", \"Elite Onesie\": \"Neither\", \"build_y\": \"3/4/9/4\"}, {\"Team\": 8, \"build_x\": \"3/4/9/4\", \"Draft Start\": \"5/14/2022\", \"Cumulative Val\": 84.3, \"Strategy\": \"Superhero RB\", \"Elite Onesie\": \"Neither\", \"build_y\": \"3/4/9/4\"}, {\"Team\": 8, \"build_x\": \"3/4/9/4\", \"Draft Start\": \"5/14/2022\", \"Cumulative Val\": 84.3, \"Strategy\": \"Superhero RB\", \"Elite Onesie\": \"Neither\", \"build_y\": \"3/4/9/4\"}, {\"Team\": 8, \"build_x\": \"3/4/9/4\", \"Draft Start\": \"5/14/2022\", \"Cumulative Val\": 84.3, \"Strategy\": \"Superhero RB\", \"Elite Onesie\": \"Neither\", \"build_y\": \"3/4/9/4\"}, {\"Team\": 8, \"build_x\": \"3/4/9/4\", \"Draft Start\": \"5/14/2022\", \"Cumulative Val\": 84.3, \"Strategy\": \"Superhero RB\", \"Elite Onesie\": \"Neither\", \"build_y\": \"3/4/9/4\"}, {\"Team\": 8, \"build_x\": \"3/4/9/4\", \"Draft Start\": \"5/14/2022\", \"Cumulative Val\": 84.3, \"Strategy\": \"Superhero RB\", \"Elite Onesie\": \"Neither\", \"build_y\": \"3/4/9/4\"}, {\"Team\": 9, \"build_x\": \"3/5/10/2\", \"Draft Start\": \"5/14/2022\", \"Cumulative Val\": 32.9, \"Strategy\": \"Superhero RB\", \"Elite Onesie\": \"Elite TE\", \"build_y\": \"3/5/10/2\"}, {\"Team\": 9, \"build_x\": \"3/5/10/2\", \"Draft Start\": \"5/14/2022\", \"Cumulative Val\": 32.9, \"Strategy\": \"Superhero RB\", \"Elite Onesie\": \"Elite TE\", \"build_y\": \"3/5/10/2\"}, {\"Team\": 9, \"build_x\": \"3/5/10/2\", \"Draft Start\": \"5/14/2022\", \"Cumulative Val\": 32.9, \"Strategy\": \"Superhero RB\", \"Elite Onesie\": \"Elite TE\", \"build_y\": \"3/5/10/2\"}, {\"Team\": 9, \"build_x\": \"3/5/10/2\", \"Draft Start\": \"5/14/2022\", \"Cumulative Val\": 32.9, \"Strategy\": \"Superhero RB\", \"Elite Onesie\": \"Elite TE\", \"build_y\": \"3/5/10/2\"}, {\"Team\": 9, \"build_x\": \"3/5/10/2\", \"Draft Start\": \"5/14/2022\", \"Cumulative Val\": 32.9, \"Strategy\": \"Superhero RB\", \"Elite Onesie\": \"Elite TE\", \"build_y\": \"3/5/10/2\"}, {\"Team\": 9, \"build_x\": \"3/5/10/2\", \"Draft Start\": \"5/14/2022\", \"Cumulative Val\": 32.9, \"Strategy\": \"Superhero RB\", \"Elite Onesie\": \"Elite TE\", \"build_y\": \"3/5/10/2\"}, {\"Team\": 9, \"build_x\": \"3/5/10/2\", \"Draft Start\": \"5/14/2022\", \"Cumulative Val\": 32.9, \"Strategy\": \"Superhero RB\", \"Elite Onesie\": \"Elite TE\", \"build_y\": \"3/5/10/2\"}, {\"Team\": 9, \"build_x\": \"3/5/10/2\", \"Draft Start\": \"5/14/2022\", \"Cumulative Val\": 32.9, \"Strategy\": \"Superhero RB\", \"Elite Onesie\": \"Elite TE\", \"build_y\": \"3/5/10/2\"}, {\"Team\": 9, \"build_x\": \"3/5/10/2\", \"Draft Start\": \"5/14/2022\", \"Cumulative Val\": 32.9, \"Strategy\": \"Superhero RB\", \"Elite Onesie\": \"Elite TE\", \"build_y\": \"3/5/10/2\"}, {\"Team\": 9, \"build_x\": \"3/5/10/2\", \"Draft Start\": \"5/14/2022\", \"Cumulative Val\": 32.9, \"Strategy\": \"Superhero RB\", \"Elite Onesie\": \"Elite TE\", \"build_y\": \"3/5/10/2\"}, {\"Team\": 9, \"build_x\": \"3/5/10/2\", \"Draft Start\": \"5/14/2022\", \"Cumulative Val\": 32.9, \"Strategy\": \"Superhero RB\", \"Elite Onesie\": \"Elite TE\", \"build_y\": \"3/5/10/2\"}, {\"Team\": 9, \"build_x\": \"3/5/10/2\", \"Draft Start\": \"5/14/2022\", \"Cumulative Val\": 32.9, \"Strategy\": \"Superhero RB\", \"Elite Onesie\": \"Elite TE\", \"build_y\": \"3/5/10/2\"}, {\"Team\": 9, \"build_x\": \"3/5/10/2\", \"Draft Start\": \"5/14/2022\", \"Cumulative Val\": 32.9, \"Strategy\": \"Superhero RB\", \"Elite Onesie\": \"Elite TE\", \"build_y\": \"3/5/10/2\"}, {\"Team\": 9, \"build_x\": \"3/5/10/2\", \"Draft Start\": \"5/14/2022\", \"Cumulative Val\": 32.9, \"Strategy\": \"Superhero RB\", \"Elite Onesie\": \"Elite TE\", \"build_y\": \"3/5/10/2\"}, {\"Team\": 9, \"build_x\": \"3/5/10/2\", \"Draft Start\": \"5/14/2022\", \"Cumulative Val\": 32.9, \"Strategy\": \"Superhero RB\", \"Elite Onesie\": \"Elite TE\", \"build_y\": \"3/5/10/2\"}, {\"Team\": 9, \"build_x\": \"3/5/10/2\", \"Draft Start\": \"5/14/2022\", \"Cumulative Val\": 32.9, \"Strategy\": \"Superhero RB\", \"Elite Onesie\": \"Elite TE\", \"build_y\": \"3/5/10/2\"}, {\"Team\": 9, \"build_x\": \"3/5/10/2\", \"Draft Start\": \"5/14/2022\", \"Cumulative Val\": 32.9, \"Strategy\": \"Superhero RB\", \"Elite Onesie\": \"Elite TE\", \"build_y\": \"3/5/10/2\"}, {\"Team\": 9, \"build_x\": \"3/5/10/2\", \"Draft Start\": \"5/14/2022\", \"Cumulative Val\": 32.9, \"Strategy\": \"Superhero RB\", \"Elite Onesie\": \"Elite TE\", \"build_y\": \"3/5/10/2\"}, {\"Team\": 9, \"build_x\": \"3/5/10/2\", \"Draft Start\": \"5/14/2022\", \"Cumulative Val\": 32.9, \"Strategy\": \"Superhero RB\", \"Elite Onesie\": \"Elite TE\", \"build_y\": \"3/5/10/2\"}, {\"Team\": 9, \"build_x\": \"3/5/10/2\", \"Draft Start\": \"5/14/2022\", \"Cumulative Val\": 32.9, \"Strategy\": \"Superhero RB\", \"Elite Onesie\": \"Elite TE\", \"build_y\": \"3/5/10/2\"}, {\"Team\": 10, \"build_x\": \"3/6/8/3\", \"Draft Start\": \"5/14/2022\", \"Cumulative Val\": 43.9, \"Strategy\": \"Anchor RB\", \"Elite Onesie\": \"Neither\", \"build_y\": \"3/6/8/3\"}, {\"Team\": 10, \"build_x\": \"3/6/8/3\", \"Draft Start\": \"5/14/2022\", \"Cumulative Val\": 43.9, \"Strategy\": \"Anchor RB\", \"Elite Onesie\": \"Neither\", \"build_y\": \"3/6/8/3\"}, {\"Team\": 10, \"build_x\": \"3/6/8/3\", \"Draft Start\": \"5/14/2022\", \"Cumulative Val\": 43.9, \"Strategy\": \"Anchor RB\", \"Elite Onesie\": \"Neither\", \"build_y\": \"3/6/8/3\"}, {\"Team\": 10, \"build_x\": \"3/6/8/3\", \"Draft Start\": \"5/14/2022\", \"Cumulative Val\": 43.9, \"Strategy\": \"Anchor RB\", \"Elite Onesie\": \"Neither\", \"build_y\": \"3/6/8/3\"}, {\"Team\": 10, \"build_x\": \"3/6/8/3\", \"Draft Start\": \"5/14/2022\", \"Cumulative Val\": 43.9, \"Strategy\": \"Anchor RB\", \"Elite Onesie\": \"Neither\", \"build_y\": \"3/6/8/3\"}, {\"Team\": 10, \"build_x\": \"3/6/8/3\", \"Draft Start\": \"5/14/2022\", \"Cumulative Val\": 43.9, \"Strategy\": \"Anchor RB\", \"Elite Onesie\": \"Neither\", \"build_y\": \"3/6/8/3\"}, {\"Team\": 10, \"build_x\": \"3/6/8/3\", \"Draft Start\": \"5/14/2022\", \"Cumulative Val\": 43.9, \"Strategy\": \"Anchor RB\", \"Elite Onesie\": \"Neither\", \"build_y\": \"3/6/8/3\"}, {\"Team\": 10, \"build_x\": \"3/6/8/3\", \"Draft Start\": \"5/14/2022\", \"Cumulative Val\": 43.9, \"Strategy\": \"Anchor RB\", \"Elite Onesie\": \"Neither\", \"build_y\": \"3/6/8/3\"}, {\"Team\": 10, \"build_x\": \"3/6/8/3\", \"Draft Start\": \"5/14/2022\", \"Cumulative Val\": 43.9, \"Strategy\": \"Anchor RB\", \"Elite Onesie\": \"Neither\", \"build_y\": \"3/6/8/3\"}, {\"Team\": 10, \"build_x\": \"3/6/8/3\", \"Draft Start\": \"5/14/2022\", \"Cumulative Val\": 43.9, \"Strategy\": \"Anchor RB\", \"Elite Onesie\": \"Neither\", \"build_y\": \"3/6/8/3\"}, {\"Team\": 10, \"build_x\": \"3/6/8/3\", \"Draft Start\": \"5/14/2022\", \"Cumulative Val\": 43.9, \"Strategy\": \"Anchor RB\", \"Elite Onesie\": \"Neither\", \"build_y\": \"3/6/8/3\"}, {\"Team\": 10, \"build_x\": \"3/6/8/3\", \"Draft Start\": \"5/14/2022\", \"Cumulative Val\": 43.9, \"Strategy\": \"Anchor RB\", \"Elite Onesie\": \"Neither\", \"build_y\": \"3/6/8/3\"}, {\"Team\": 10, \"build_x\": \"3/6/8/3\", \"Draft Start\": \"5/14/2022\", \"Cumulative Val\": 43.9, \"Strategy\": \"Anchor RB\", \"Elite Onesie\": \"Neither\", \"build_y\": \"3/6/8/3\"}, {\"Team\": 10, \"build_x\": \"3/6/8/3\", \"Draft Start\": \"5/14/2022\", \"Cumulative Val\": 43.9, \"Strategy\": \"Anchor RB\", \"Elite Onesie\": \"Neither\", \"build_y\": \"3/6/8/3\"}, {\"Team\": 10, \"build_x\": \"3/6/8/3\", \"Draft Start\": \"5/14/2022\", \"Cumulative Val\": 43.9, \"Strategy\": \"Anchor RB\", \"Elite Onesie\": \"Neither\", \"build_y\": \"3/6/8/3\"}, {\"Team\": 10, \"build_x\": \"3/6/8/3\", \"Draft Start\": \"5/14/2022\", \"Cumulative Val\": 43.9, \"Strategy\": \"Anchor RB\", \"Elite Onesie\": \"Neither\", \"build_y\": \"3/6/8/3\"}, {\"Team\": 10, \"build_x\": \"3/6/8/3\", \"Draft Start\": \"5/14/2022\", \"Cumulative Val\": 43.9, \"Strategy\": \"Anchor RB\", \"Elite Onesie\": \"Neither\", \"build_y\": \"3/6/8/3\"}, {\"Team\": 10, \"build_x\": \"3/6/8/3\", \"Draft Start\": \"5/14/2022\", \"Cumulative Val\": 43.9, \"Strategy\": \"Anchor RB\", \"Elite Onesie\": \"Neither\", \"build_y\": \"3/6/8/3\"}, {\"Team\": 10, \"build_x\": \"3/6/8/3\", \"Draft Start\": \"5/14/2022\", \"Cumulative Val\": 43.9, \"Strategy\": \"Anchor RB\", \"Elite Onesie\": \"Neither\", \"build_y\": \"3/6/8/3\"}, {\"Team\": 10, \"build_x\": \"3/6/8/3\", \"Draft Start\": \"5/14/2022\", \"Cumulative Val\": 43.9, \"Strategy\": \"Anchor RB\", \"Elite Onesie\": \"Neither\", \"build_y\": \"3/6/8/3\"}, {\"Team\": 11, \"build_x\": \"2/7/9/2\", \"Draft Start\": \"5/15/2022\", \"Cumulative Val\": 67.5, \"Strategy\": \"Anchor RB\", \"Elite Onesie\": \"Elite TE\", \"build_y\": \"2/7/9/2\"}, {\"Team\": 11, \"build_x\": \"2/7/9/2\", \"Draft Start\": \"5/15/2022\", \"Cumulative Val\": 67.5, \"Strategy\": \"Anchor RB\", \"Elite Onesie\": \"Elite TE\", \"build_y\": \"2/7/9/2\"}, {\"Team\": 11, \"build_x\": \"2/7/9/2\", \"Draft Start\": \"5/15/2022\", \"Cumulative Val\": 67.5, \"Strategy\": \"Anchor RB\", \"Elite Onesie\": \"Elite TE\", \"build_y\": \"2/7/9/2\"}, {\"Team\": 11, \"build_x\": \"2/7/9/2\", \"Draft Start\": \"5/15/2022\", \"Cumulative Val\": 67.5, \"Strategy\": \"Anchor RB\", \"Elite Onesie\": \"Elite TE\", \"build_y\": \"2/7/9/2\"}, {\"Team\": 11, \"build_x\": \"2/7/9/2\", \"Draft Start\": \"5/15/2022\", \"Cumulative Val\": 67.5, \"Strategy\": \"Anchor RB\", \"Elite Onesie\": \"Elite TE\", \"build_y\": \"2/7/9/2\"}, {\"Team\": 11, \"build_x\": \"2/7/9/2\", \"Draft Start\": \"5/15/2022\", \"Cumulative Val\": 67.5, \"Strategy\": \"Anchor RB\", \"Elite Onesie\": \"Elite TE\", \"build_y\": \"2/7/9/2\"}, {\"Team\": 11, \"build_x\": \"2/7/9/2\", \"Draft Start\": \"5/15/2022\", \"Cumulative Val\": 67.5, \"Strategy\": \"Anchor RB\", \"Elite Onesie\": \"Elite TE\", \"build_y\": \"2/7/9/2\"}, {\"Team\": 11, \"build_x\": \"2/7/9/2\", \"Draft Start\": \"5/15/2022\", \"Cumulative Val\": 67.5, \"Strategy\": \"Anchor RB\", \"Elite Onesie\": \"Elite TE\", \"build_y\": \"2/7/9/2\"}, {\"Team\": 11, \"build_x\": \"2/7/9/2\", \"Draft Start\": \"5/15/2022\", \"Cumulative Val\": 67.5, \"Strategy\": \"Anchor RB\", \"Elite Onesie\": \"Elite TE\", \"build_y\": \"2/7/9/2\"}, {\"Team\": 11, \"build_x\": \"2/7/9/2\", \"Draft Start\": \"5/15/2022\", \"Cumulative Val\": 67.5, \"Strategy\": \"Anchor RB\", \"Elite Onesie\": \"Elite TE\", \"build_y\": \"2/7/9/2\"}, {\"Team\": 11, \"build_x\": \"2/7/9/2\", \"Draft Start\": \"5/15/2022\", \"Cumulative Val\": 67.5, \"Strategy\": \"Anchor RB\", \"Elite Onesie\": \"Elite TE\", \"build_y\": \"2/7/9/2\"}, {\"Team\": 11, \"build_x\": \"2/7/9/2\", \"Draft Start\": \"5/15/2022\", \"Cumulative Val\": 67.5, \"Strategy\": \"Anchor RB\", \"Elite Onesie\": \"Elite TE\", \"build_y\": \"2/7/9/2\"}, {\"Team\": 11, \"build_x\": \"2/7/9/2\", \"Draft Start\": \"5/15/2022\", \"Cumulative Val\": 67.5, \"Strategy\": \"Anchor RB\", \"Elite Onesie\": \"Elite TE\", \"build_y\": \"2/7/9/2\"}, {\"Team\": 11, \"build_x\": \"2/7/9/2\", \"Draft Start\": \"5/15/2022\", \"Cumulative Val\": 67.5, \"Strategy\": \"Anchor RB\", \"Elite Onesie\": \"Elite TE\", \"build_y\": \"2/7/9/2\"}, {\"Team\": 11, \"build_x\": \"2/7/9/2\", \"Draft Start\": \"5/15/2022\", \"Cumulative Val\": 67.5, \"Strategy\": \"Anchor RB\", \"Elite Onesie\": \"Elite TE\", \"build_y\": \"2/7/9/2\"}, {\"Team\": 11, \"build_x\": \"2/7/9/2\", \"Draft Start\": \"5/15/2022\", \"Cumulative Val\": 67.5, \"Strategy\": \"Anchor RB\", \"Elite Onesie\": \"Elite TE\", \"build_y\": \"2/7/9/2\"}, {\"Team\": 11, \"build_x\": \"2/7/9/2\", \"Draft Start\": \"5/15/2022\", \"Cumulative Val\": 67.5, \"Strategy\": \"Anchor RB\", \"Elite Onesie\": \"Elite TE\", \"build_y\": \"2/7/9/2\"}, {\"Team\": 11, \"build_x\": \"2/7/9/2\", \"Draft Start\": \"5/15/2022\", \"Cumulative Val\": 67.5, \"Strategy\": \"Anchor RB\", \"Elite Onesie\": \"Elite TE\", \"build_y\": \"2/7/9/2\"}, {\"Team\": 11, \"build_x\": \"2/7/9/2\", \"Draft Start\": \"5/15/2022\", \"Cumulative Val\": 67.5, \"Strategy\": \"Anchor RB\", \"Elite Onesie\": \"Elite TE\", \"build_y\": \"2/7/9/2\"}, {\"Team\": 11, \"build_x\": \"2/7/9/2\", \"Draft Start\": \"5/15/2022\", \"Cumulative Val\": 67.5, \"Strategy\": \"Anchor RB\", \"Elite Onesie\": \"Elite TE\", \"build_y\": \"2/7/9/2\"}, {\"Team\": 12, \"build_x\": \"2/7/8/3\", \"Draft Start\": \"5/15/2022\", \"Cumulative Val\": 96.2, \"Strategy\": \"Zero RB\", \"Elite Onesie\": \"Elite QB\", \"build_y\": \"2/7/8/3\"}, {\"Team\": 12, \"build_x\": \"2/7/8/3\", \"Draft Start\": \"5/15/2022\", \"Cumulative Val\": 96.2, \"Strategy\": \"Zero RB\", \"Elite Onesie\": \"Elite QB\", \"build_y\": \"2/7/8/3\"}, {\"Team\": 12, \"build_x\": \"2/7/8/3\", \"Draft Start\": \"5/15/2022\", \"Cumulative Val\": 96.2, \"Strategy\": \"Zero RB\", \"Elite Onesie\": \"Elite QB\", \"build_y\": \"2/7/8/3\"}, {\"Team\": 12, \"build_x\": \"2/7/8/3\", \"Draft Start\": \"5/15/2022\", \"Cumulative Val\": 96.2, \"Strategy\": \"Zero RB\", \"Elite Onesie\": \"Elite QB\", \"build_y\": \"2/7/8/3\"}, {\"Team\": 12, \"build_x\": \"2/7/8/3\", \"Draft Start\": \"5/15/2022\", \"Cumulative Val\": 96.2, \"Strategy\": \"Zero RB\", \"Elite Onesie\": \"Elite QB\", \"build_y\": \"2/7/8/3\"}, {\"Team\": 12, \"build_x\": \"2/7/8/3\", \"Draft Start\": \"5/15/2022\", \"Cumulative Val\": 96.2, \"Strategy\": \"Zero RB\", \"Elite Onesie\": \"Elite QB\", \"build_y\": \"2/7/8/3\"}, {\"Team\": 12, \"build_x\": \"2/7/8/3\", \"Draft Start\": \"5/15/2022\", \"Cumulative Val\": 96.2, \"Strategy\": \"Zero RB\", \"Elite Onesie\": \"Elite QB\", \"build_y\": \"2/7/8/3\"}, {\"Team\": 12, \"build_x\": \"2/7/8/3\", \"Draft Start\": \"5/15/2022\", \"Cumulative Val\": 96.2, \"Strategy\": \"Zero RB\", \"Elite Onesie\": \"Elite QB\", \"build_y\": \"2/7/8/3\"}, {\"Team\": 12, \"build_x\": \"2/7/8/3\", \"Draft Start\": \"5/15/2022\", \"Cumulative Val\": 96.2, \"Strategy\": \"Zero RB\", \"Elite Onesie\": \"Elite QB\", \"build_y\": \"2/7/8/3\"}, {\"Team\": 12, \"build_x\": \"2/7/8/3\", \"Draft Start\": \"5/15/2022\", \"Cumulative Val\": 96.2, \"Strategy\": \"Zero RB\", \"Elite Onesie\": \"Elite QB\", \"build_y\": \"2/7/8/3\"}, {\"Team\": 12, \"build_x\": \"2/7/8/3\", \"Draft Start\": \"5/15/2022\", \"Cumulative Val\": 96.2, \"Strategy\": \"Zero RB\", \"Elite Onesie\": \"Elite QB\", \"build_y\": \"2/7/8/3\"}, {\"Team\": 12, \"build_x\": \"2/7/8/3\", \"Draft Start\": \"5/15/2022\", \"Cumulative Val\": 96.2, \"Strategy\": \"Zero RB\", \"Elite Onesie\": \"Elite QB\", \"build_y\": \"2/7/8/3\"}, {\"Team\": 12, \"build_x\": \"2/7/8/3\", \"Draft Start\": \"5/15/2022\", \"Cumulative Val\": 96.2, \"Strategy\": \"Zero RB\", \"Elite Onesie\": \"Elite QB\", \"build_y\": \"2/7/8/3\"}, {\"Team\": 12, \"build_x\": \"2/7/8/3\", \"Draft Start\": \"5/15/2022\", \"Cumulative Val\": 96.2, \"Strategy\": \"Zero RB\", \"Elite Onesie\": \"Elite QB\", \"build_y\": \"2/7/8/3\"}, {\"Team\": 12, \"build_x\": \"2/7/8/3\", \"Draft Start\": \"5/15/2022\", \"Cumulative Val\": 96.2, \"Strategy\": \"Zero RB\", \"Elite Onesie\": \"Elite QB\", \"build_y\": \"2/7/8/3\"}, {\"Team\": 12, \"build_x\": \"2/7/8/3\", \"Draft Start\": \"5/15/2022\", \"Cumulative Val\": 96.2, \"Strategy\": \"Zero RB\", \"Elite Onesie\": \"Elite QB\", \"build_y\": \"2/7/8/3\"}, {\"Team\": 12, \"build_x\": \"2/7/8/3\", \"Draft Start\": \"5/15/2022\", \"Cumulative Val\": 96.2, \"Strategy\": \"Zero RB\", \"Elite Onesie\": \"Elite QB\", \"build_y\": \"2/7/8/3\"}, {\"Team\": 12, \"build_x\": \"2/7/8/3\", \"Draft Start\": \"5/15/2022\", \"Cumulative Val\": 96.2, \"Strategy\": \"Zero RB\", \"Elite Onesie\": \"Elite QB\", \"build_y\": \"2/7/8/3\"}, {\"Team\": 12, \"build_x\": \"2/7/8/3\", \"Draft Start\": \"5/15/2022\", \"Cumulative Val\": 96.2, \"Strategy\": \"Zero RB\", \"Elite Onesie\": \"Elite QB\", \"build_y\": \"2/7/8/3\"}, {\"Team\": 12, \"build_x\": \"2/7/8/3\", \"Draft Start\": \"5/15/2022\", \"Cumulative Val\": 96.2, \"Strategy\": \"Zero RB\", \"Elite Onesie\": \"Elite QB\", \"build_y\": \"2/7/8/3\"}, {\"Team\": 13, \"build_x\": \"2/8/8/2\", \"Draft Start\": \"5/16/2022\", \"Cumulative Val\": 60.6, \"Strategy\": \"Anchor RB\", \"Elite Onesie\": \"Elite QB/TE\", \"build_y\": \"2/8/8/2\"}, {\"Team\": 13, \"build_x\": \"2/8/8/2\", \"Draft Start\": \"5/16/2022\", \"Cumulative Val\": 60.6, \"Strategy\": \"Anchor RB\", \"Elite Onesie\": \"Elite QB/TE\", \"build_y\": \"2/8/8/2\"}, {\"Team\": 13, \"build_x\": \"2/8/8/2\", \"Draft Start\": \"5/16/2022\", \"Cumulative Val\": 60.6, \"Strategy\": \"Anchor RB\", \"Elite Onesie\": \"Elite QB/TE\", \"build_y\": \"2/8/8/2\"}, {\"Team\": 13, \"build_x\": \"2/8/8/2\", \"Draft Start\": \"5/16/2022\", \"Cumulative Val\": 60.6, \"Strategy\": \"Anchor RB\", \"Elite Onesie\": \"Elite QB/TE\", \"build_y\": \"2/8/8/2\"}, {\"Team\": 13, \"build_x\": \"2/8/8/2\", \"Draft Start\": \"5/16/2022\", \"Cumulative Val\": 60.6, \"Strategy\": \"Anchor RB\", \"Elite Onesie\": \"Elite QB/TE\", \"build_y\": \"2/8/8/2\"}, {\"Team\": 13, \"build_x\": \"2/8/8/2\", \"Draft Start\": \"5/16/2022\", \"Cumulative Val\": 60.6, \"Strategy\": \"Anchor RB\", \"Elite Onesie\": \"Elite QB/TE\", \"build_y\": \"2/8/8/2\"}, {\"Team\": 13, \"build_x\": \"2/8/8/2\", \"Draft Start\": \"5/16/2022\", \"Cumulative Val\": 60.6, \"Strategy\": \"Anchor RB\", \"Elite Onesie\": \"Elite QB/TE\", \"build_y\": \"2/8/8/2\"}, {\"Team\": 13, \"build_x\": \"2/8/8/2\", \"Draft Start\": \"5/16/2022\", \"Cumulative Val\": 60.6, \"Strategy\": \"Anchor RB\", \"Elite Onesie\": \"Elite QB/TE\", \"build_y\": \"2/8/8/2\"}, {\"Team\": 13, \"build_x\": \"2/8/8/2\", \"Draft Start\": \"5/16/2022\", \"Cumulative Val\": 60.6, \"Strategy\": \"Anchor RB\", \"Elite Onesie\": \"Elite QB/TE\", \"build_y\": \"2/8/8/2\"}, {\"Team\": 13, \"build_x\": \"2/8/8/2\", \"Draft Start\": \"5/16/2022\", \"Cumulative Val\": 60.6, \"Strategy\": \"Anchor RB\", \"Elite Onesie\": \"Elite QB/TE\", \"build_y\": \"2/8/8/2\"}, {\"Team\": 13, \"build_x\": \"2/8/8/2\", \"Draft Start\": \"5/16/2022\", \"Cumulative Val\": 60.6, \"Strategy\": \"Anchor RB\", \"Elite Onesie\": \"Elite QB/TE\", \"build_y\": \"2/8/8/2\"}, {\"Team\": 13, \"build_x\": \"2/8/8/2\", \"Draft Start\": \"5/16/2022\", \"Cumulative Val\": 60.6, \"Strategy\": \"Anchor RB\", \"Elite Onesie\": \"Elite QB/TE\", \"build_y\": \"2/8/8/2\"}, {\"Team\": 13, \"build_x\": \"2/8/8/2\", \"Draft Start\": \"5/16/2022\", \"Cumulative Val\": 60.6, \"Strategy\": \"Anchor RB\", \"Elite Onesie\": \"Elite QB/TE\", \"build_y\": \"2/8/8/2\"}, {\"Team\": 13, \"build_x\": \"2/8/8/2\", \"Draft Start\": \"5/16/2022\", \"Cumulative Val\": 60.6, \"Strategy\": \"Anchor RB\", \"Elite Onesie\": \"Elite QB/TE\", \"build_y\": \"2/8/8/2\"}, {\"Team\": 13, \"build_x\": \"2/8/8/2\", \"Draft Start\": \"5/16/2022\", \"Cumulative Val\": 60.6, \"Strategy\": \"Anchor RB\", \"Elite Onesie\": \"Elite QB/TE\", \"build_y\": \"2/8/8/2\"}, {\"Team\": 13, \"build_x\": \"2/8/8/2\", \"Draft Start\": \"5/16/2022\", \"Cumulative Val\": 60.6, \"Strategy\": \"Anchor RB\", \"Elite Onesie\": \"Elite QB/TE\", \"build_y\": \"2/8/8/2\"}, {\"Team\": 13, \"build_x\": \"2/8/8/2\", \"Draft Start\": \"5/16/2022\", \"Cumulative Val\": 60.6, \"Strategy\": \"Anchor RB\", \"Elite Onesie\": \"Elite QB/TE\", \"build_y\": \"2/8/8/2\"}, {\"Team\": 13, \"build_x\": \"2/8/8/2\", \"Draft Start\": \"5/16/2022\", \"Cumulative Val\": 60.6, \"Strategy\": \"Anchor RB\", \"Elite Onesie\": \"Elite QB/TE\", \"build_y\": \"2/8/8/2\"}, {\"Team\": 13, \"build_x\": \"2/8/8/2\", \"Draft Start\": \"5/16/2022\", \"Cumulative Val\": 60.6, \"Strategy\": \"Anchor RB\", \"Elite Onesie\": \"Elite QB/TE\", \"build_y\": \"2/8/8/2\"}, {\"Team\": 13, \"build_x\": \"2/8/8/2\", \"Draft Start\": \"5/16/2022\", \"Cumulative Val\": 60.6, \"Strategy\": \"Anchor RB\", \"Elite Onesie\": \"Elite QB/TE\", \"build_y\": \"2/8/8/2\"}]}};\n",
              "const opt = {};\n",
              "const type = \"vega-lite\";\n",
              "const id = \"0ddcaf58-ee43-48cc-b62b-48c6f97347af\";\n",
              "\n",
              "const output_area = this;\n",
              "\n",
              "require([\"jupyter-vega\"], function(vega) {\n",
              "  const target = document.createElement(\"div\");\n",
              "  target.id = id;\n",
              "  target.className = \"vega-embed\";\n",
              "\n",
              "  const style = document.createElement(\"style\");\n",
              "  style.textContent = [\n",
              "    \".vega-embed .error p {\",\n",
              "    \"  color: firebrick;\",\n",
              "    \"  font-size: 14px;\",\n",
              "    \"}\",\n",
              "  ].join(\"\\\\n\");\n",
              "\n",
              "  // element is a jQuery wrapped DOM element inside the output area\n",
              "  // see http://ipython.readthedocs.io/en/stable/api/generated/\\\n",
              "  // IPython.display.html#IPython.display.Javascript.__init__\n",
              "  element[0].appendChild(target);\n",
              "  element[0].appendChild(style);\n",
              "\n",
              "  vega.render(`#$0ddcaf58-ee43-48cc-b62b-48c6f97347af`, spec, type, opt, output_area);\n",
              "}, function (err) {\n",
              "  if (err.requireType !== \"scripterror\") {\n",
              "    throw(err);\n",
              "  }\n",
              "});\n"
            ],
            "text/plain": [
              "<vega.vegalite.VegaLite at 0x7fa501704410>"
            ]
          },
          "metadata": {
            "jupyter-vega": "#0ddcaf58-ee43-48cc-b62b-48c6f97347af"
          }
        },
        {
          "output_type": "execute_result",
          "data": {
            "text/plain": [
              ""
            ]
          },
          "metadata": {},
          "execution_count": 308
        }
      ]
    },
    {
      "cell_type": "code",
      "source": [
        "#Team Build by draft date, with cumulative ADP value\n",
        "\n",
        "alt.Chart(df1).mark_circle(size=40).encode(\n",
        "    x='Draft Start',\n",
        "    y='Cumulative Val',\n",
        "    color='Strategy',\n",
        "    tooltip=['Draft Start','Team', 'Strategy', 'Elite Onesie', 'build_x', 'Cumulative Val']\n",
        ").interactive()"
      ],
      "metadata": {
        "colab": {
          "base_uri": "https://localhost:8080/",
          "height": 17
        },
        "id": "G1TeWwRH5KOP",
        "outputId": "7b4ded87-825f-4ca9-ea97-601a7c9d5b10"
      },
      "execution_count": 309,
      "outputs": [
        {
          "output_type": "display_data",
          "data": {
            "application/javascript": [
              "const spec = {\"config\": {\"view\": {\"continuousWidth\": 400, \"continuousHeight\": 300}}, \"data\": {\"name\": \"data-a13933d6c873d3880437b9d54f876eaa\"}, \"mark\": {\"type\": \"circle\", \"size\": 40}, \"encoding\": {\"color\": {\"field\": \"Strategy\", \"type\": \"nominal\"}, \"tooltip\": [{\"field\": \"Draft Start\", \"type\": \"nominal\"}, {\"field\": \"Team\", \"type\": \"quantitative\"}, {\"field\": \"Strategy\", \"type\": \"nominal\"}, {\"field\": \"Elite Onesie\", \"type\": \"nominal\"}, {\"field\": \"build_x\", \"type\": \"nominal\"}, {\"field\": \"Cumulative Val\", \"type\": \"quantitative\"}], \"x\": {\"field\": \"Draft Start\", \"type\": \"nominal\"}, \"y\": {\"field\": \"Cumulative Val\", \"type\": \"quantitative\"}}, \"selection\": {\"selector286\": {\"type\": \"interval\", \"bind\": \"scales\", \"encodings\": [\"x\", \"y\"]}}, \"$schema\": \"https://vega.github.io/schema/vega-lite/v4.17.0.json\", \"datasets\": {\"data-a13933d6c873d3880437b9d54f876eaa\": [{\"Team\": 1, \"build_x\": \"3/5/10/2\", \"Draft Start\": \"5/13/2022\", \"Cumulative Val\": 94.3, \"Strategy\": \"Hyperfragile RB\", \"Elite Onesie\": \"Elite TE\", \"build_y\": \"3/5/10/2\"}, {\"Team\": 1, \"build_x\": \"3/5/10/2\", \"Draft Start\": \"5/13/2022\", \"Cumulative Val\": 94.3, \"Strategy\": \"Hyperfragile RB\", \"Elite Onesie\": \"Elite TE\", \"build_y\": \"3/5/10/2\"}, {\"Team\": 1, \"build_x\": \"3/5/10/2\", \"Draft Start\": \"5/13/2022\", \"Cumulative Val\": 94.3, \"Strategy\": \"Hyperfragile RB\", \"Elite Onesie\": \"Elite TE\", \"build_y\": \"3/5/10/2\"}, {\"Team\": 1, \"build_x\": \"3/5/10/2\", \"Draft Start\": \"5/13/2022\", \"Cumulative Val\": 94.3, \"Strategy\": \"Hyperfragile RB\", \"Elite Onesie\": \"Elite TE\", \"build_y\": \"3/5/10/2\"}, {\"Team\": 1, \"build_x\": \"3/5/10/2\", \"Draft Start\": \"5/13/2022\", \"Cumulative Val\": 94.3, \"Strategy\": \"Hyperfragile RB\", \"Elite Onesie\": \"Elite TE\", \"build_y\": \"3/5/10/2\"}, {\"Team\": 1, \"build_x\": \"3/5/10/2\", \"Draft Start\": \"5/13/2022\", \"Cumulative Val\": 94.3, \"Strategy\": \"Hyperfragile RB\", \"Elite Onesie\": \"Elite TE\", \"build_y\": \"3/5/10/2\"}, {\"Team\": 1, \"build_x\": \"3/5/10/2\", \"Draft Start\": \"5/13/2022\", \"Cumulative Val\": 94.3, \"Strategy\": \"Hyperfragile RB\", \"Elite Onesie\": \"Elite TE\", \"build_y\": \"3/5/10/2\"}, {\"Team\": 1, \"build_x\": \"3/5/10/2\", \"Draft Start\": \"5/13/2022\", \"Cumulative Val\": 94.3, \"Strategy\": \"Hyperfragile RB\", \"Elite Onesie\": \"Elite TE\", \"build_y\": \"3/5/10/2\"}, {\"Team\": 1, \"build_x\": \"3/5/10/2\", \"Draft Start\": \"5/13/2022\", \"Cumulative Val\": 94.3, \"Strategy\": \"Hyperfragile RB\", \"Elite Onesie\": \"Elite TE\", \"build_y\": \"3/5/10/2\"}, {\"Team\": 1, \"build_x\": \"3/5/10/2\", \"Draft Start\": \"5/13/2022\", \"Cumulative Val\": 94.3, \"Strategy\": \"Hyperfragile RB\", \"Elite Onesie\": \"Elite TE\", \"build_y\": \"3/5/10/2\"}, {\"Team\": 1, \"build_x\": \"3/5/10/2\", \"Draft Start\": \"5/13/2022\", \"Cumulative Val\": 94.3, \"Strategy\": \"Hyperfragile RB\", \"Elite Onesie\": \"Elite TE\", \"build_y\": \"3/5/10/2\"}, {\"Team\": 1, \"build_x\": \"3/5/10/2\", \"Draft Start\": \"5/13/2022\", \"Cumulative Val\": 94.3, \"Strategy\": \"Hyperfragile RB\", \"Elite Onesie\": \"Elite TE\", \"build_y\": \"3/5/10/2\"}, {\"Team\": 1, \"build_x\": \"3/5/10/2\", \"Draft Start\": \"5/13/2022\", \"Cumulative Val\": 94.3, \"Strategy\": \"Hyperfragile RB\", \"Elite Onesie\": \"Elite TE\", \"build_y\": \"3/5/10/2\"}, {\"Team\": 1, \"build_x\": \"3/5/10/2\", \"Draft Start\": \"5/13/2022\", \"Cumulative Val\": 94.3, \"Strategy\": \"Hyperfragile RB\", \"Elite Onesie\": \"Elite TE\", \"build_y\": \"3/5/10/2\"}, {\"Team\": 1, \"build_x\": \"3/5/10/2\", \"Draft Start\": \"5/13/2022\", \"Cumulative Val\": 94.3, \"Strategy\": \"Hyperfragile RB\", \"Elite Onesie\": \"Elite TE\", \"build_y\": \"3/5/10/2\"}, {\"Team\": 1, \"build_x\": \"3/5/10/2\", \"Draft Start\": \"5/13/2022\", \"Cumulative Val\": 94.3, \"Strategy\": \"Hyperfragile RB\", \"Elite Onesie\": \"Elite TE\", \"build_y\": \"3/5/10/2\"}, {\"Team\": 1, \"build_x\": \"3/5/10/2\", \"Draft Start\": \"5/13/2022\", \"Cumulative Val\": 94.3, \"Strategy\": \"Hyperfragile RB\", \"Elite Onesie\": \"Elite TE\", \"build_y\": \"3/5/10/2\"}, {\"Team\": 1, \"build_x\": \"3/5/10/2\", \"Draft Start\": \"5/13/2022\", \"Cumulative Val\": 94.3, \"Strategy\": \"Hyperfragile RB\", \"Elite Onesie\": \"Elite TE\", \"build_y\": \"3/5/10/2\"}, {\"Team\": 1, \"build_x\": \"3/5/10/2\", \"Draft Start\": \"5/13/2022\", \"Cumulative Val\": 94.3, \"Strategy\": \"Hyperfragile RB\", \"Elite Onesie\": \"Elite TE\", \"build_y\": \"3/5/10/2\"}, {\"Team\": 1, \"build_x\": \"3/5/10/2\", \"Draft Start\": \"5/13/2022\", \"Cumulative Val\": 94.3, \"Strategy\": \"Hyperfragile RB\", \"Elite Onesie\": \"Elite TE\", \"build_y\": \"3/5/10/2\"}, {\"Team\": 2, \"build_x\": \"2/5/10/3\", \"Draft Start\": \"5/13/2022\", \"Cumulative Val\": 112.8, \"Strategy\": \"Hyperfragile RB\", \"Elite Onesie\": \"Neither\", \"build_y\": \"2/5/10/3\"}, {\"Team\": 2, \"build_x\": \"2/5/10/3\", \"Draft Start\": \"5/13/2022\", \"Cumulative Val\": 112.8, \"Strategy\": \"Hyperfragile RB\", \"Elite Onesie\": \"Neither\", \"build_y\": \"2/5/10/3\"}, {\"Team\": 2, \"build_x\": \"2/5/10/3\", \"Draft Start\": \"5/13/2022\", \"Cumulative Val\": 112.8, \"Strategy\": \"Hyperfragile RB\", \"Elite Onesie\": \"Neither\", \"build_y\": \"2/5/10/3\"}, {\"Team\": 2, \"build_x\": \"2/5/10/3\", \"Draft Start\": \"5/13/2022\", \"Cumulative Val\": 112.8, \"Strategy\": \"Hyperfragile RB\", \"Elite Onesie\": \"Neither\", \"build_y\": \"2/5/10/3\"}, {\"Team\": 2, \"build_x\": \"2/5/10/3\", \"Draft Start\": \"5/13/2022\", \"Cumulative Val\": 112.8, \"Strategy\": \"Hyperfragile RB\", \"Elite Onesie\": \"Neither\", \"build_y\": \"2/5/10/3\"}, {\"Team\": 2, \"build_x\": \"2/5/10/3\", \"Draft Start\": \"5/13/2022\", \"Cumulative Val\": 112.8, \"Strategy\": \"Hyperfragile RB\", \"Elite Onesie\": \"Neither\", \"build_y\": \"2/5/10/3\"}, {\"Team\": 2, \"build_x\": \"2/5/10/3\", \"Draft Start\": \"5/13/2022\", \"Cumulative Val\": 112.8, \"Strategy\": \"Hyperfragile RB\", \"Elite Onesie\": \"Neither\", \"build_y\": \"2/5/10/3\"}, {\"Team\": 2, \"build_x\": \"2/5/10/3\", \"Draft Start\": \"5/13/2022\", \"Cumulative Val\": 112.8, \"Strategy\": \"Hyperfragile RB\", \"Elite Onesie\": \"Neither\", \"build_y\": \"2/5/10/3\"}, {\"Team\": 2, \"build_x\": \"2/5/10/3\", \"Draft Start\": \"5/13/2022\", \"Cumulative Val\": 112.8, \"Strategy\": \"Hyperfragile RB\", \"Elite Onesie\": \"Neither\", \"build_y\": \"2/5/10/3\"}, {\"Team\": 2, \"build_x\": \"2/5/10/3\", \"Draft Start\": \"5/13/2022\", \"Cumulative Val\": 112.8, \"Strategy\": \"Hyperfragile RB\", \"Elite Onesie\": \"Neither\", \"build_y\": \"2/5/10/3\"}, {\"Team\": 2, \"build_x\": \"2/5/10/3\", \"Draft Start\": \"5/13/2022\", \"Cumulative Val\": 112.8, \"Strategy\": \"Hyperfragile RB\", \"Elite Onesie\": \"Neither\", \"build_y\": \"2/5/10/3\"}, {\"Team\": 2, \"build_x\": \"2/5/10/3\", \"Draft Start\": \"5/13/2022\", \"Cumulative Val\": 112.8, \"Strategy\": \"Hyperfragile RB\", \"Elite Onesie\": \"Neither\", \"build_y\": \"2/5/10/3\"}, {\"Team\": 2, \"build_x\": \"2/5/10/3\", \"Draft Start\": \"5/13/2022\", \"Cumulative Val\": 112.8, \"Strategy\": \"Hyperfragile RB\", \"Elite Onesie\": \"Neither\", \"build_y\": \"2/5/10/3\"}, {\"Team\": 2, \"build_x\": \"2/5/10/3\", \"Draft Start\": \"5/13/2022\", \"Cumulative Val\": 112.8, \"Strategy\": \"Hyperfragile RB\", \"Elite Onesie\": \"Neither\", \"build_y\": \"2/5/10/3\"}, {\"Team\": 2, \"build_x\": \"2/5/10/3\", \"Draft Start\": \"5/13/2022\", \"Cumulative Val\": 112.8, \"Strategy\": \"Hyperfragile RB\", \"Elite Onesie\": \"Neither\", \"build_y\": \"2/5/10/3\"}, {\"Team\": 2, \"build_x\": \"2/5/10/3\", \"Draft Start\": \"5/13/2022\", \"Cumulative Val\": 112.8, \"Strategy\": \"Hyperfragile RB\", \"Elite Onesie\": \"Neither\", \"build_y\": \"2/5/10/3\"}, {\"Team\": 2, \"build_x\": \"2/5/10/3\", \"Draft Start\": \"5/13/2022\", \"Cumulative Val\": 112.8, \"Strategy\": \"Hyperfragile RB\", \"Elite Onesie\": \"Neither\", \"build_y\": \"2/5/10/3\"}, {\"Team\": 2, \"build_x\": \"2/5/10/3\", \"Draft Start\": \"5/13/2022\", \"Cumulative Val\": 112.8, \"Strategy\": \"Hyperfragile RB\", \"Elite Onesie\": \"Neither\", \"build_y\": \"2/5/10/3\"}, {\"Team\": 2, \"build_x\": \"2/5/10/3\", \"Draft Start\": \"5/13/2022\", \"Cumulative Val\": 112.8, \"Strategy\": \"Hyperfragile RB\", \"Elite Onesie\": \"Neither\", \"build_y\": \"2/5/10/3\"}, {\"Team\": 2, \"build_x\": \"2/5/10/3\", \"Draft Start\": \"5/13/2022\", \"Cumulative Val\": 112.8, \"Strategy\": \"Hyperfragile RB\", \"Elite Onesie\": \"Neither\", \"build_y\": \"2/5/10/3\"}, {\"Team\": 3, \"build_x\": \"2/5/10/3\", \"Draft Start\": \"5/13/2022\", \"Cumulative Val\": 71.1, \"Strategy\": \"Anchor RB\", \"Elite Onesie\": \"Neither\", \"build_y\": \"2/5/10/3\"}, {\"Team\": 3, \"build_x\": \"2/5/10/3\", \"Draft Start\": \"5/13/2022\", \"Cumulative Val\": 71.1, \"Strategy\": \"Anchor RB\", \"Elite Onesie\": \"Neither\", \"build_y\": \"2/5/10/3\"}, {\"Team\": 3, \"build_x\": \"2/5/10/3\", \"Draft Start\": \"5/13/2022\", \"Cumulative Val\": 71.1, \"Strategy\": \"Anchor RB\", \"Elite Onesie\": \"Neither\", \"build_y\": \"2/5/10/3\"}, {\"Team\": 3, \"build_x\": \"2/5/10/3\", \"Draft Start\": \"5/13/2022\", \"Cumulative Val\": 71.1, \"Strategy\": \"Anchor RB\", \"Elite Onesie\": \"Neither\", \"build_y\": \"2/5/10/3\"}, {\"Team\": 3, \"build_x\": \"2/5/10/3\", \"Draft Start\": \"5/13/2022\", \"Cumulative Val\": 71.1, \"Strategy\": \"Anchor RB\", \"Elite Onesie\": \"Neither\", \"build_y\": \"2/5/10/3\"}, {\"Team\": 3, \"build_x\": \"2/5/10/3\", \"Draft Start\": \"5/13/2022\", \"Cumulative Val\": 71.1, \"Strategy\": \"Anchor RB\", \"Elite Onesie\": \"Neither\", \"build_y\": \"2/5/10/3\"}, {\"Team\": 3, \"build_x\": \"2/5/10/3\", \"Draft Start\": \"5/13/2022\", \"Cumulative Val\": 71.1, \"Strategy\": \"Anchor RB\", \"Elite Onesie\": \"Neither\", \"build_y\": \"2/5/10/3\"}, {\"Team\": 3, \"build_x\": \"2/5/10/3\", \"Draft Start\": \"5/13/2022\", \"Cumulative Val\": 71.1, \"Strategy\": \"Anchor RB\", \"Elite Onesie\": \"Neither\", \"build_y\": \"2/5/10/3\"}, {\"Team\": 3, \"build_x\": \"2/5/10/3\", \"Draft Start\": \"5/13/2022\", \"Cumulative Val\": 71.1, \"Strategy\": \"Anchor RB\", \"Elite Onesie\": \"Neither\", \"build_y\": \"2/5/10/3\"}, {\"Team\": 3, \"build_x\": \"2/5/10/3\", \"Draft Start\": \"5/13/2022\", \"Cumulative Val\": 71.1, \"Strategy\": \"Anchor RB\", \"Elite Onesie\": \"Neither\", \"build_y\": \"2/5/10/3\"}, {\"Team\": 3, \"build_x\": \"2/5/10/3\", \"Draft Start\": \"5/13/2022\", \"Cumulative Val\": 71.1, \"Strategy\": \"Anchor RB\", \"Elite Onesie\": \"Neither\", \"build_y\": \"2/5/10/3\"}, {\"Team\": 3, \"build_x\": \"2/5/10/3\", \"Draft Start\": \"5/13/2022\", \"Cumulative Val\": 71.1, \"Strategy\": \"Anchor RB\", \"Elite Onesie\": \"Neither\", \"build_y\": \"2/5/10/3\"}, {\"Team\": 3, \"build_x\": \"2/5/10/3\", \"Draft Start\": \"5/13/2022\", \"Cumulative Val\": 71.1, \"Strategy\": \"Anchor RB\", \"Elite Onesie\": \"Neither\", \"build_y\": \"2/5/10/3\"}, {\"Team\": 3, \"build_x\": \"2/5/10/3\", \"Draft Start\": \"5/13/2022\", \"Cumulative Val\": 71.1, \"Strategy\": \"Anchor RB\", \"Elite Onesie\": \"Neither\", \"build_y\": \"2/5/10/3\"}, {\"Team\": 3, \"build_x\": \"2/5/10/3\", \"Draft Start\": \"5/13/2022\", \"Cumulative Val\": 71.1, \"Strategy\": \"Anchor RB\", \"Elite Onesie\": \"Neither\", \"build_y\": \"2/5/10/3\"}, {\"Team\": 3, \"build_x\": \"2/5/10/3\", \"Draft Start\": \"5/13/2022\", \"Cumulative Val\": 71.1, \"Strategy\": \"Anchor RB\", \"Elite Onesie\": \"Neither\", \"build_y\": \"2/5/10/3\"}, {\"Team\": 3, \"build_x\": \"2/5/10/3\", \"Draft Start\": \"5/13/2022\", \"Cumulative Val\": 71.1, \"Strategy\": \"Anchor RB\", \"Elite Onesie\": \"Neither\", \"build_y\": \"2/5/10/3\"}, {\"Team\": 3, \"build_x\": \"2/5/10/3\", \"Draft Start\": \"5/13/2022\", \"Cumulative Val\": 71.1, \"Strategy\": \"Anchor RB\", \"Elite Onesie\": \"Neither\", \"build_y\": \"2/5/10/3\"}, {\"Team\": 3, \"build_x\": \"2/5/10/3\", \"Draft Start\": \"5/13/2022\", \"Cumulative Val\": 71.1, \"Strategy\": \"Anchor RB\", \"Elite Onesie\": \"Neither\", \"build_y\": \"2/5/10/3\"}, {\"Team\": 3, \"build_x\": \"2/5/10/3\", \"Draft Start\": \"5/13/2022\", \"Cumulative Val\": 71.1, \"Strategy\": \"Anchor RB\", \"Elite Onesie\": \"Neither\", \"build_y\": \"2/5/10/3\"}, {\"Team\": 4, \"build_x\": \"2/7/8/3\", \"Draft Start\": \"5/13/2022\", \"Cumulative Val\": 54.3, \"Strategy\": \"Anchor RB\", \"Elite Onesie\": \"Elite QB\", \"build_y\": \"2/7/8/3\"}, {\"Team\": 4, \"build_x\": \"2/7/8/3\", \"Draft Start\": \"5/13/2022\", \"Cumulative Val\": 54.3, \"Strategy\": \"Anchor RB\", \"Elite Onesie\": \"Elite QB\", \"build_y\": \"2/7/8/3\"}, {\"Team\": 4, \"build_x\": \"2/7/8/3\", \"Draft Start\": \"5/13/2022\", \"Cumulative Val\": 54.3, \"Strategy\": \"Anchor RB\", \"Elite Onesie\": \"Elite QB\", \"build_y\": \"2/7/8/3\"}, {\"Team\": 4, \"build_x\": \"2/7/8/3\", \"Draft Start\": \"5/13/2022\", \"Cumulative Val\": 54.3, \"Strategy\": \"Anchor RB\", \"Elite Onesie\": \"Elite QB\", \"build_y\": \"2/7/8/3\"}, {\"Team\": 4, \"build_x\": \"2/7/8/3\", \"Draft Start\": \"5/13/2022\", \"Cumulative Val\": 54.3, \"Strategy\": \"Anchor RB\", \"Elite Onesie\": \"Elite QB\", \"build_y\": \"2/7/8/3\"}, {\"Team\": 4, \"build_x\": \"2/7/8/3\", \"Draft Start\": \"5/13/2022\", \"Cumulative Val\": 54.3, \"Strategy\": \"Anchor RB\", \"Elite Onesie\": \"Elite QB\", \"build_y\": \"2/7/8/3\"}, {\"Team\": 4, \"build_x\": \"2/7/8/3\", \"Draft Start\": \"5/13/2022\", \"Cumulative Val\": 54.3, \"Strategy\": \"Anchor RB\", \"Elite Onesie\": \"Elite QB\", \"build_y\": \"2/7/8/3\"}, {\"Team\": 4, \"build_x\": \"2/7/8/3\", \"Draft Start\": \"5/13/2022\", \"Cumulative Val\": 54.3, \"Strategy\": \"Anchor RB\", \"Elite Onesie\": \"Elite QB\", \"build_y\": \"2/7/8/3\"}, {\"Team\": 4, \"build_x\": \"2/7/8/3\", \"Draft Start\": \"5/13/2022\", \"Cumulative Val\": 54.3, \"Strategy\": \"Anchor RB\", \"Elite Onesie\": \"Elite QB\", \"build_y\": \"2/7/8/3\"}, {\"Team\": 4, \"build_x\": \"2/7/8/3\", \"Draft Start\": \"5/13/2022\", \"Cumulative Val\": 54.3, \"Strategy\": \"Anchor RB\", \"Elite Onesie\": \"Elite QB\", \"build_y\": \"2/7/8/3\"}, {\"Team\": 4, \"build_x\": \"2/7/8/3\", \"Draft Start\": \"5/13/2022\", \"Cumulative Val\": 54.3, \"Strategy\": \"Anchor RB\", \"Elite Onesie\": \"Elite QB\", \"build_y\": \"2/7/8/3\"}, {\"Team\": 4, \"build_x\": \"2/7/8/3\", \"Draft Start\": \"5/13/2022\", \"Cumulative Val\": 54.3, \"Strategy\": \"Anchor RB\", \"Elite Onesie\": \"Elite QB\", \"build_y\": \"2/7/8/3\"}, {\"Team\": 4, \"build_x\": \"2/7/8/3\", \"Draft Start\": \"5/13/2022\", \"Cumulative Val\": 54.3, \"Strategy\": \"Anchor RB\", \"Elite Onesie\": \"Elite QB\", \"build_y\": \"2/7/8/3\"}, {\"Team\": 4, \"build_x\": \"2/7/8/3\", \"Draft Start\": \"5/13/2022\", \"Cumulative Val\": 54.3, \"Strategy\": \"Anchor RB\", \"Elite Onesie\": \"Elite QB\", \"build_y\": \"2/7/8/3\"}, {\"Team\": 4, \"build_x\": \"2/7/8/3\", \"Draft Start\": \"5/13/2022\", \"Cumulative Val\": 54.3, \"Strategy\": \"Anchor RB\", \"Elite Onesie\": \"Elite QB\", \"build_y\": \"2/7/8/3\"}, {\"Team\": 4, \"build_x\": \"2/7/8/3\", \"Draft Start\": \"5/13/2022\", \"Cumulative Val\": 54.3, \"Strategy\": \"Anchor RB\", \"Elite Onesie\": \"Elite QB\", \"build_y\": \"2/7/8/3\"}, {\"Team\": 4, \"build_x\": \"2/7/8/3\", \"Draft Start\": \"5/13/2022\", \"Cumulative Val\": 54.3, \"Strategy\": \"Anchor RB\", \"Elite Onesie\": \"Elite QB\", \"build_y\": \"2/7/8/3\"}, {\"Team\": 4, \"build_x\": \"2/7/8/3\", \"Draft Start\": \"5/13/2022\", \"Cumulative Val\": 54.3, \"Strategy\": \"Anchor RB\", \"Elite Onesie\": \"Elite QB\", \"build_y\": \"2/7/8/3\"}, {\"Team\": 4, \"build_x\": \"2/7/8/3\", \"Draft Start\": \"5/13/2022\", \"Cumulative Val\": 54.3, \"Strategy\": \"Anchor RB\", \"Elite Onesie\": \"Elite QB\", \"build_y\": \"2/7/8/3\"}, {\"Team\": 4, \"build_x\": \"2/7/8/3\", \"Draft Start\": \"5/13/2022\", \"Cumulative Val\": 54.3, \"Strategy\": \"Anchor RB\", \"Elite Onesie\": \"Elite QB\", \"build_y\": \"2/7/8/3\"}, {\"Team\": 5, \"build_x\": \"2/6/9/3\", \"Draft Start\": \"5/13/2022\", \"Cumulative Val\": 221.5, \"Strategy\": \"Anchor RB\", \"Elite Onesie\": \"Neither\", \"build_y\": \"2/6/9/3\"}, {\"Team\": 5, \"build_x\": \"2/6/9/3\", \"Draft Start\": \"5/13/2022\", \"Cumulative Val\": 221.5, \"Strategy\": \"Anchor RB\", \"Elite Onesie\": \"Neither\", \"build_y\": \"2/6/9/3\"}, {\"Team\": 5, \"build_x\": \"2/6/9/3\", \"Draft Start\": \"5/13/2022\", \"Cumulative Val\": 221.5, \"Strategy\": \"Anchor RB\", \"Elite Onesie\": \"Neither\", \"build_y\": \"2/6/9/3\"}, {\"Team\": 5, \"build_x\": \"2/6/9/3\", \"Draft Start\": \"5/13/2022\", \"Cumulative Val\": 221.5, \"Strategy\": \"Anchor RB\", \"Elite Onesie\": \"Neither\", \"build_y\": \"2/6/9/3\"}, {\"Team\": 5, \"build_x\": \"2/6/9/3\", \"Draft Start\": \"5/13/2022\", \"Cumulative Val\": 221.5, \"Strategy\": \"Anchor RB\", \"Elite Onesie\": \"Neither\", \"build_y\": \"2/6/9/3\"}, {\"Team\": 5, \"build_x\": \"2/6/9/3\", \"Draft Start\": \"5/13/2022\", \"Cumulative Val\": 221.5, \"Strategy\": \"Anchor RB\", \"Elite Onesie\": \"Neither\", \"build_y\": \"2/6/9/3\"}, {\"Team\": 5, \"build_x\": \"2/6/9/3\", \"Draft Start\": \"5/13/2022\", \"Cumulative Val\": 221.5, \"Strategy\": \"Anchor RB\", \"Elite Onesie\": \"Neither\", \"build_y\": \"2/6/9/3\"}, {\"Team\": 5, \"build_x\": \"2/6/9/3\", \"Draft Start\": \"5/13/2022\", \"Cumulative Val\": 221.5, \"Strategy\": \"Anchor RB\", \"Elite Onesie\": \"Neither\", \"build_y\": \"2/6/9/3\"}, {\"Team\": 5, \"build_x\": \"2/6/9/3\", \"Draft Start\": \"5/13/2022\", \"Cumulative Val\": 221.5, \"Strategy\": \"Anchor RB\", \"Elite Onesie\": \"Neither\", \"build_y\": \"2/6/9/3\"}, {\"Team\": 5, \"build_x\": \"2/6/9/3\", \"Draft Start\": \"5/13/2022\", \"Cumulative Val\": 221.5, \"Strategy\": \"Anchor RB\", \"Elite Onesie\": \"Neither\", \"build_y\": \"2/6/9/3\"}, {\"Team\": 5, \"build_x\": \"2/6/9/3\", \"Draft Start\": \"5/13/2022\", \"Cumulative Val\": 221.5, \"Strategy\": \"Anchor RB\", \"Elite Onesie\": \"Neither\", \"build_y\": \"2/6/9/3\"}, {\"Team\": 5, \"build_x\": \"2/6/9/3\", \"Draft Start\": \"5/13/2022\", \"Cumulative Val\": 221.5, \"Strategy\": \"Anchor RB\", \"Elite Onesie\": \"Neither\", \"build_y\": \"2/6/9/3\"}, {\"Team\": 5, \"build_x\": \"2/6/9/3\", \"Draft Start\": \"5/13/2022\", \"Cumulative Val\": 221.5, \"Strategy\": \"Anchor RB\", \"Elite Onesie\": \"Neither\", \"build_y\": \"2/6/9/3\"}, {\"Team\": 5, \"build_x\": \"2/6/9/3\", \"Draft Start\": \"5/13/2022\", \"Cumulative Val\": 221.5, \"Strategy\": \"Anchor RB\", \"Elite Onesie\": \"Neither\", \"build_y\": \"2/6/9/3\"}, {\"Team\": 5, \"build_x\": \"2/6/9/3\", \"Draft Start\": \"5/13/2022\", \"Cumulative Val\": 221.5, \"Strategy\": \"Anchor RB\", \"Elite Onesie\": \"Neither\", \"build_y\": \"2/6/9/3\"}, {\"Team\": 5, \"build_x\": \"2/6/9/3\", \"Draft Start\": \"5/13/2022\", \"Cumulative Val\": 221.5, \"Strategy\": \"Anchor RB\", \"Elite Onesie\": \"Neither\", \"build_y\": \"2/6/9/3\"}, {\"Team\": 5, \"build_x\": \"2/6/9/3\", \"Draft Start\": \"5/13/2022\", \"Cumulative Val\": 221.5, \"Strategy\": \"Anchor RB\", \"Elite Onesie\": \"Neither\", \"build_y\": \"2/6/9/3\"}, {\"Team\": 5, \"build_x\": \"2/6/9/3\", \"Draft Start\": \"5/13/2022\", \"Cumulative Val\": 221.5, \"Strategy\": \"Anchor RB\", \"Elite Onesie\": \"Neither\", \"build_y\": \"2/6/9/3\"}, {\"Team\": 5, \"build_x\": \"2/6/9/3\", \"Draft Start\": \"5/13/2022\", \"Cumulative Val\": 221.5, \"Strategy\": \"Anchor RB\", \"Elite Onesie\": \"Neither\", \"build_y\": \"2/6/9/3\"}, {\"Team\": 5, \"build_x\": \"2/6/9/3\", \"Draft Start\": \"5/13/2022\", \"Cumulative Val\": 221.5, \"Strategy\": \"Anchor RB\", \"Elite Onesie\": \"Neither\", \"build_y\": \"2/6/9/3\"}, {\"Team\": 6, \"build_x\": \"2/7/9/2\", \"Draft Start\": \"5/13/2022\", \"Cumulative Val\": 46.3, \"Strategy\": \"Anchor RB\", \"Elite Onesie\": \"Elite QB/TE\", \"build_y\": \"2/7/9/2\"}, {\"Team\": 6, \"build_x\": \"2/7/9/2\", \"Draft Start\": \"5/13/2022\", \"Cumulative Val\": 46.3, \"Strategy\": \"Anchor RB\", \"Elite Onesie\": \"Elite QB/TE\", \"build_y\": \"2/7/9/2\"}, {\"Team\": 6, \"build_x\": \"2/7/9/2\", \"Draft Start\": \"5/13/2022\", \"Cumulative Val\": 46.3, \"Strategy\": \"Anchor RB\", \"Elite Onesie\": \"Elite QB/TE\", \"build_y\": \"2/7/9/2\"}, {\"Team\": 6, \"build_x\": \"2/7/9/2\", \"Draft Start\": \"5/13/2022\", \"Cumulative Val\": 46.3, \"Strategy\": \"Anchor RB\", \"Elite Onesie\": \"Elite QB/TE\", \"build_y\": \"2/7/9/2\"}, {\"Team\": 6, \"build_x\": \"2/7/9/2\", \"Draft Start\": \"5/13/2022\", \"Cumulative Val\": 46.3, \"Strategy\": \"Anchor RB\", \"Elite Onesie\": \"Elite QB/TE\", \"build_y\": \"2/7/9/2\"}, {\"Team\": 6, \"build_x\": \"2/7/9/2\", \"Draft Start\": \"5/13/2022\", \"Cumulative Val\": 46.3, \"Strategy\": \"Anchor RB\", \"Elite Onesie\": \"Elite QB/TE\", \"build_y\": \"2/7/9/2\"}, {\"Team\": 6, \"build_x\": \"2/7/9/2\", \"Draft Start\": \"5/13/2022\", \"Cumulative Val\": 46.3, \"Strategy\": \"Anchor RB\", \"Elite Onesie\": \"Elite QB/TE\", \"build_y\": \"2/7/9/2\"}, {\"Team\": 6, \"build_x\": \"2/7/9/2\", \"Draft Start\": \"5/13/2022\", \"Cumulative Val\": 46.3, \"Strategy\": \"Anchor RB\", \"Elite Onesie\": \"Elite QB/TE\", \"build_y\": \"2/7/9/2\"}, {\"Team\": 6, \"build_x\": \"2/7/9/2\", \"Draft Start\": \"5/13/2022\", \"Cumulative Val\": 46.3, \"Strategy\": \"Anchor RB\", \"Elite Onesie\": \"Elite QB/TE\", \"build_y\": \"2/7/9/2\"}, {\"Team\": 6, \"build_x\": \"2/7/9/2\", \"Draft Start\": \"5/13/2022\", \"Cumulative Val\": 46.3, \"Strategy\": \"Anchor RB\", \"Elite Onesie\": \"Elite QB/TE\", \"build_y\": \"2/7/9/2\"}, {\"Team\": 6, \"build_x\": \"2/7/9/2\", \"Draft Start\": \"5/13/2022\", \"Cumulative Val\": 46.3, \"Strategy\": \"Anchor RB\", \"Elite Onesie\": \"Elite QB/TE\", \"build_y\": \"2/7/9/2\"}, {\"Team\": 6, \"build_x\": \"2/7/9/2\", \"Draft Start\": \"5/13/2022\", \"Cumulative Val\": 46.3, \"Strategy\": \"Anchor RB\", \"Elite Onesie\": \"Elite QB/TE\", \"build_y\": \"2/7/9/2\"}, {\"Team\": 6, \"build_x\": \"2/7/9/2\", \"Draft Start\": \"5/13/2022\", \"Cumulative Val\": 46.3, \"Strategy\": \"Anchor RB\", \"Elite Onesie\": \"Elite QB/TE\", \"build_y\": \"2/7/9/2\"}, {\"Team\": 6, \"build_x\": \"2/7/9/2\", \"Draft Start\": \"5/13/2022\", \"Cumulative Val\": 46.3, \"Strategy\": \"Anchor RB\", \"Elite Onesie\": \"Elite QB/TE\", \"build_y\": \"2/7/9/2\"}, {\"Team\": 6, \"build_x\": \"2/7/9/2\", \"Draft Start\": \"5/13/2022\", \"Cumulative Val\": 46.3, \"Strategy\": \"Anchor RB\", \"Elite Onesie\": \"Elite QB/TE\", \"build_y\": \"2/7/9/2\"}, {\"Team\": 6, \"build_x\": \"2/7/9/2\", \"Draft Start\": \"5/13/2022\", \"Cumulative Val\": 46.3, \"Strategy\": \"Anchor RB\", \"Elite Onesie\": \"Elite QB/TE\", \"build_y\": \"2/7/9/2\"}, {\"Team\": 6, \"build_x\": \"2/7/9/2\", \"Draft Start\": \"5/13/2022\", \"Cumulative Val\": 46.3, \"Strategy\": \"Anchor RB\", \"Elite Onesie\": \"Elite QB/TE\", \"build_y\": \"2/7/9/2\"}, {\"Team\": 6, \"build_x\": \"2/7/9/2\", \"Draft Start\": \"5/13/2022\", \"Cumulative Val\": 46.3, \"Strategy\": \"Anchor RB\", \"Elite Onesie\": \"Elite QB/TE\", \"build_y\": \"2/7/9/2\"}, {\"Team\": 6, \"build_x\": \"2/7/9/2\", \"Draft Start\": \"5/13/2022\", \"Cumulative Val\": 46.3, \"Strategy\": \"Anchor RB\", \"Elite Onesie\": \"Elite QB/TE\", \"build_y\": \"2/7/9/2\"}, {\"Team\": 6, \"build_x\": \"2/7/9/2\", \"Draft Start\": \"5/13/2022\", \"Cumulative Val\": 46.3, \"Strategy\": \"Anchor RB\", \"Elite Onesie\": \"Elite QB/TE\", \"build_y\": \"2/7/9/2\"}, {\"Team\": 7, \"build_x\": \"2/7/8/3\", \"Draft Start\": \"5/14/2022\", \"Cumulative Val\": 74.9, \"Strategy\": \"Zero RB\", \"Elite Onesie\": \"Elite QB\", \"build_y\": \"2/7/8/3\"}, {\"Team\": 7, \"build_x\": \"2/7/8/3\", \"Draft Start\": \"5/14/2022\", \"Cumulative Val\": 74.9, \"Strategy\": \"Zero RB\", \"Elite Onesie\": \"Elite QB\", \"build_y\": \"2/7/8/3\"}, {\"Team\": 7, \"build_x\": \"2/7/8/3\", \"Draft Start\": \"5/14/2022\", \"Cumulative Val\": 74.9, \"Strategy\": \"Zero RB\", \"Elite Onesie\": \"Elite QB\", \"build_y\": \"2/7/8/3\"}, {\"Team\": 7, \"build_x\": \"2/7/8/3\", \"Draft Start\": \"5/14/2022\", \"Cumulative Val\": 74.9, \"Strategy\": \"Zero RB\", \"Elite Onesie\": \"Elite QB\", \"build_y\": \"2/7/8/3\"}, {\"Team\": 7, \"build_x\": \"2/7/8/3\", \"Draft Start\": \"5/14/2022\", \"Cumulative Val\": 74.9, \"Strategy\": \"Zero RB\", \"Elite Onesie\": \"Elite QB\", \"build_y\": \"2/7/8/3\"}, {\"Team\": 7, \"build_x\": \"2/7/8/3\", \"Draft Start\": \"5/14/2022\", \"Cumulative Val\": 74.9, \"Strategy\": \"Zero RB\", \"Elite Onesie\": \"Elite QB\", \"build_y\": \"2/7/8/3\"}, {\"Team\": 7, \"build_x\": \"2/7/8/3\", \"Draft Start\": \"5/14/2022\", \"Cumulative Val\": 74.9, \"Strategy\": \"Zero RB\", \"Elite Onesie\": \"Elite QB\", \"build_y\": \"2/7/8/3\"}, {\"Team\": 7, \"build_x\": \"2/7/8/3\", \"Draft Start\": \"5/14/2022\", \"Cumulative Val\": 74.9, \"Strategy\": \"Zero RB\", \"Elite Onesie\": \"Elite QB\", \"build_y\": \"2/7/8/3\"}, {\"Team\": 7, \"build_x\": \"2/7/8/3\", \"Draft Start\": \"5/14/2022\", \"Cumulative Val\": 74.9, \"Strategy\": \"Zero RB\", \"Elite Onesie\": \"Elite QB\", \"build_y\": \"2/7/8/3\"}, {\"Team\": 7, \"build_x\": \"2/7/8/3\", \"Draft Start\": \"5/14/2022\", \"Cumulative Val\": 74.9, \"Strategy\": \"Zero RB\", \"Elite Onesie\": \"Elite QB\", \"build_y\": \"2/7/8/3\"}, {\"Team\": 7, \"build_x\": \"2/7/8/3\", \"Draft Start\": \"5/14/2022\", \"Cumulative Val\": 74.9, \"Strategy\": \"Zero RB\", \"Elite Onesie\": \"Elite QB\", \"build_y\": \"2/7/8/3\"}, {\"Team\": 7, \"build_x\": \"2/7/8/3\", \"Draft Start\": \"5/14/2022\", \"Cumulative Val\": 74.9, \"Strategy\": \"Zero RB\", \"Elite Onesie\": \"Elite QB\", \"build_y\": \"2/7/8/3\"}, {\"Team\": 7, \"build_x\": \"2/7/8/3\", \"Draft Start\": \"5/14/2022\", \"Cumulative Val\": 74.9, \"Strategy\": \"Zero RB\", \"Elite Onesie\": \"Elite QB\", \"build_y\": \"2/7/8/3\"}, {\"Team\": 7, \"build_x\": \"2/7/8/3\", \"Draft Start\": \"5/14/2022\", \"Cumulative Val\": 74.9, \"Strategy\": \"Zero RB\", \"Elite Onesie\": \"Elite QB\", \"build_y\": \"2/7/8/3\"}, {\"Team\": 7, \"build_x\": \"2/7/8/3\", \"Draft Start\": \"5/14/2022\", \"Cumulative Val\": 74.9, \"Strategy\": \"Zero RB\", \"Elite Onesie\": \"Elite QB\", \"build_y\": \"2/7/8/3\"}, {\"Team\": 7, \"build_x\": \"2/7/8/3\", \"Draft Start\": \"5/14/2022\", \"Cumulative Val\": 74.9, \"Strategy\": \"Zero RB\", \"Elite Onesie\": \"Elite QB\", \"build_y\": \"2/7/8/3\"}, {\"Team\": 7, \"build_x\": \"2/7/8/3\", \"Draft Start\": \"5/14/2022\", \"Cumulative Val\": 74.9, \"Strategy\": \"Zero RB\", \"Elite Onesie\": \"Elite QB\", \"build_y\": \"2/7/8/3\"}, {\"Team\": 7, \"build_x\": \"2/7/8/3\", \"Draft Start\": \"5/14/2022\", \"Cumulative Val\": 74.9, \"Strategy\": \"Zero RB\", \"Elite Onesie\": \"Elite QB\", \"build_y\": \"2/7/8/3\"}, {\"Team\": 7, \"build_x\": \"2/7/8/3\", \"Draft Start\": \"5/14/2022\", \"Cumulative Val\": 74.9, \"Strategy\": \"Zero RB\", \"Elite Onesie\": \"Elite QB\", \"build_y\": \"2/7/8/3\"}, {\"Team\": 7, \"build_x\": \"2/7/8/3\", \"Draft Start\": \"5/14/2022\", \"Cumulative Val\": 74.9, \"Strategy\": \"Zero RB\", \"Elite Onesie\": \"Elite QB\", \"build_y\": \"2/7/8/3\"}, {\"Team\": 8, \"build_x\": \"3/4/9/4\", \"Draft Start\": \"5/14/2022\", \"Cumulative Val\": 84.3, \"Strategy\": \"Superhero RB\", \"Elite Onesie\": \"Neither\", \"build_y\": \"3/4/9/4\"}, {\"Team\": 8, \"build_x\": \"3/4/9/4\", \"Draft Start\": \"5/14/2022\", \"Cumulative Val\": 84.3, \"Strategy\": \"Superhero RB\", \"Elite Onesie\": \"Neither\", \"build_y\": \"3/4/9/4\"}, {\"Team\": 8, \"build_x\": \"3/4/9/4\", \"Draft Start\": \"5/14/2022\", \"Cumulative Val\": 84.3, \"Strategy\": \"Superhero RB\", \"Elite Onesie\": \"Neither\", \"build_y\": \"3/4/9/4\"}, {\"Team\": 8, \"build_x\": \"3/4/9/4\", \"Draft Start\": \"5/14/2022\", \"Cumulative Val\": 84.3, \"Strategy\": \"Superhero RB\", \"Elite Onesie\": \"Neither\", \"build_y\": \"3/4/9/4\"}, {\"Team\": 8, \"build_x\": \"3/4/9/4\", \"Draft Start\": \"5/14/2022\", \"Cumulative Val\": 84.3, \"Strategy\": \"Superhero RB\", \"Elite Onesie\": \"Neither\", \"build_y\": \"3/4/9/4\"}, {\"Team\": 8, \"build_x\": \"3/4/9/4\", \"Draft Start\": \"5/14/2022\", \"Cumulative Val\": 84.3, \"Strategy\": \"Superhero RB\", \"Elite Onesie\": \"Neither\", \"build_y\": \"3/4/9/4\"}, {\"Team\": 8, \"build_x\": \"3/4/9/4\", \"Draft Start\": \"5/14/2022\", \"Cumulative Val\": 84.3, \"Strategy\": \"Superhero RB\", \"Elite Onesie\": \"Neither\", \"build_y\": \"3/4/9/4\"}, {\"Team\": 8, \"build_x\": \"3/4/9/4\", \"Draft Start\": \"5/14/2022\", \"Cumulative Val\": 84.3, \"Strategy\": \"Superhero RB\", \"Elite Onesie\": \"Neither\", \"build_y\": \"3/4/9/4\"}, {\"Team\": 8, \"build_x\": \"3/4/9/4\", \"Draft Start\": \"5/14/2022\", \"Cumulative Val\": 84.3, \"Strategy\": \"Superhero RB\", \"Elite Onesie\": \"Neither\", \"build_y\": \"3/4/9/4\"}, {\"Team\": 8, \"build_x\": \"3/4/9/4\", \"Draft Start\": \"5/14/2022\", \"Cumulative Val\": 84.3, \"Strategy\": \"Superhero RB\", \"Elite Onesie\": \"Neither\", \"build_y\": \"3/4/9/4\"}, {\"Team\": 8, \"build_x\": \"3/4/9/4\", \"Draft Start\": \"5/14/2022\", \"Cumulative Val\": 84.3, \"Strategy\": \"Superhero RB\", \"Elite Onesie\": \"Neither\", \"build_y\": \"3/4/9/4\"}, {\"Team\": 8, \"build_x\": \"3/4/9/4\", \"Draft Start\": \"5/14/2022\", \"Cumulative Val\": 84.3, \"Strategy\": \"Superhero RB\", \"Elite Onesie\": \"Neither\", \"build_y\": \"3/4/9/4\"}, {\"Team\": 8, \"build_x\": \"3/4/9/4\", \"Draft Start\": \"5/14/2022\", \"Cumulative Val\": 84.3, \"Strategy\": \"Superhero RB\", \"Elite Onesie\": \"Neither\", \"build_y\": \"3/4/9/4\"}, {\"Team\": 8, \"build_x\": \"3/4/9/4\", \"Draft Start\": \"5/14/2022\", \"Cumulative Val\": 84.3, \"Strategy\": \"Superhero RB\", \"Elite Onesie\": \"Neither\", \"build_y\": \"3/4/9/4\"}, {\"Team\": 8, \"build_x\": \"3/4/9/4\", \"Draft Start\": \"5/14/2022\", \"Cumulative Val\": 84.3, \"Strategy\": \"Superhero RB\", \"Elite Onesie\": \"Neither\", \"build_y\": \"3/4/9/4\"}, {\"Team\": 8, \"build_x\": \"3/4/9/4\", \"Draft Start\": \"5/14/2022\", \"Cumulative Val\": 84.3, \"Strategy\": \"Superhero RB\", \"Elite Onesie\": \"Neither\", \"build_y\": \"3/4/9/4\"}, {\"Team\": 8, \"build_x\": \"3/4/9/4\", \"Draft Start\": \"5/14/2022\", \"Cumulative Val\": 84.3, \"Strategy\": \"Superhero RB\", \"Elite Onesie\": \"Neither\", \"build_y\": \"3/4/9/4\"}, {\"Team\": 8, \"build_x\": \"3/4/9/4\", \"Draft Start\": \"5/14/2022\", \"Cumulative Val\": 84.3, \"Strategy\": \"Superhero RB\", \"Elite Onesie\": \"Neither\", \"build_y\": \"3/4/9/4\"}, {\"Team\": 8, \"build_x\": \"3/4/9/4\", \"Draft Start\": \"5/14/2022\", \"Cumulative Val\": 84.3, \"Strategy\": \"Superhero RB\", \"Elite Onesie\": \"Neither\", \"build_y\": \"3/4/9/4\"}, {\"Team\": 8, \"build_x\": \"3/4/9/4\", \"Draft Start\": \"5/14/2022\", \"Cumulative Val\": 84.3, \"Strategy\": \"Superhero RB\", \"Elite Onesie\": \"Neither\", \"build_y\": \"3/4/9/4\"}, {\"Team\": 9, \"build_x\": \"3/5/10/2\", \"Draft Start\": \"5/14/2022\", \"Cumulative Val\": 32.9, \"Strategy\": \"Superhero RB\", \"Elite Onesie\": \"Elite TE\", \"build_y\": \"3/5/10/2\"}, {\"Team\": 9, \"build_x\": \"3/5/10/2\", \"Draft Start\": \"5/14/2022\", \"Cumulative Val\": 32.9, \"Strategy\": \"Superhero RB\", \"Elite Onesie\": \"Elite TE\", \"build_y\": \"3/5/10/2\"}, {\"Team\": 9, \"build_x\": \"3/5/10/2\", \"Draft Start\": \"5/14/2022\", \"Cumulative Val\": 32.9, \"Strategy\": \"Superhero RB\", \"Elite Onesie\": \"Elite TE\", \"build_y\": \"3/5/10/2\"}, {\"Team\": 9, \"build_x\": \"3/5/10/2\", \"Draft Start\": \"5/14/2022\", \"Cumulative Val\": 32.9, \"Strategy\": \"Superhero RB\", \"Elite Onesie\": \"Elite TE\", \"build_y\": \"3/5/10/2\"}, {\"Team\": 9, \"build_x\": \"3/5/10/2\", \"Draft Start\": \"5/14/2022\", \"Cumulative Val\": 32.9, \"Strategy\": \"Superhero RB\", \"Elite Onesie\": \"Elite TE\", \"build_y\": \"3/5/10/2\"}, {\"Team\": 9, \"build_x\": \"3/5/10/2\", \"Draft Start\": \"5/14/2022\", \"Cumulative Val\": 32.9, \"Strategy\": \"Superhero RB\", \"Elite Onesie\": \"Elite TE\", \"build_y\": \"3/5/10/2\"}, {\"Team\": 9, \"build_x\": \"3/5/10/2\", \"Draft Start\": \"5/14/2022\", \"Cumulative Val\": 32.9, \"Strategy\": \"Superhero RB\", \"Elite Onesie\": \"Elite TE\", \"build_y\": \"3/5/10/2\"}, {\"Team\": 9, \"build_x\": \"3/5/10/2\", \"Draft Start\": \"5/14/2022\", \"Cumulative Val\": 32.9, \"Strategy\": \"Superhero RB\", \"Elite Onesie\": \"Elite TE\", \"build_y\": \"3/5/10/2\"}, {\"Team\": 9, \"build_x\": \"3/5/10/2\", \"Draft Start\": \"5/14/2022\", \"Cumulative Val\": 32.9, \"Strategy\": \"Superhero RB\", \"Elite Onesie\": \"Elite TE\", \"build_y\": \"3/5/10/2\"}, {\"Team\": 9, \"build_x\": \"3/5/10/2\", \"Draft Start\": \"5/14/2022\", \"Cumulative Val\": 32.9, \"Strategy\": \"Superhero RB\", \"Elite Onesie\": \"Elite TE\", \"build_y\": \"3/5/10/2\"}, {\"Team\": 9, \"build_x\": \"3/5/10/2\", \"Draft Start\": \"5/14/2022\", \"Cumulative Val\": 32.9, \"Strategy\": \"Superhero RB\", \"Elite Onesie\": \"Elite TE\", \"build_y\": \"3/5/10/2\"}, {\"Team\": 9, \"build_x\": \"3/5/10/2\", \"Draft Start\": \"5/14/2022\", \"Cumulative Val\": 32.9, \"Strategy\": \"Superhero RB\", \"Elite Onesie\": \"Elite TE\", \"build_y\": \"3/5/10/2\"}, {\"Team\": 9, \"build_x\": \"3/5/10/2\", \"Draft Start\": \"5/14/2022\", \"Cumulative Val\": 32.9, \"Strategy\": \"Superhero RB\", \"Elite Onesie\": \"Elite TE\", \"build_y\": \"3/5/10/2\"}, {\"Team\": 9, \"build_x\": \"3/5/10/2\", \"Draft Start\": \"5/14/2022\", \"Cumulative Val\": 32.9, \"Strategy\": \"Superhero RB\", \"Elite Onesie\": \"Elite TE\", \"build_y\": \"3/5/10/2\"}, {\"Team\": 9, \"build_x\": \"3/5/10/2\", \"Draft Start\": \"5/14/2022\", \"Cumulative Val\": 32.9, \"Strategy\": \"Superhero RB\", \"Elite Onesie\": \"Elite TE\", \"build_y\": \"3/5/10/2\"}, {\"Team\": 9, \"build_x\": \"3/5/10/2\", \"Draft Start\": \"5/14/2022\", \"Cumulative Val\": 32.9, \"Strategy\": \"Superhero RB\", \"Elite Onesie\": \"Elite TE\", \"build_y\": \"3/5/10/2\"}, {\"Team\": 9, \"build_x\": \"3/5/10/2\", \"Draft Start\": \"5/14/2022\", \"Cumulative Val\": 32.9, \"Strategy\": \"Superhero RB\", \"Elite Onesie\": \"Elite TE\", \"build_y\": \"3/5/10/2\"}, {\"Team\": 9, \"build_x\": \"3/5/10/2\", \"Draft Start\": \"5/14/2022\", \"Cumulative Val\": 32.9, \"Strategy\": \"Superhero RB\", \"Elite Onesie\": \"Elite TE\", \"build_y\": \"3/5/10/2\"}, {\"Team\": 9, \"build_x\": \"3/5/10/2\", \"Draft Start\": \"5/14/2022\", \"Cumulative Val\": 32.9, \"Strategy\": \"Superhero RB\", \"Elite Onesie\": \"Elite TE\", \"build_y\": \"3/5/10/2\"}, {\"Team\": 9, \"build_x\": \"3/5/10/2\", \"Draft Start\": \"5/14/2022\", \"Cumulative Val\": 32.9, \"Strategy\": \"Superhero RB\", \"Elite Onesie\": \"Elite TE\", \"build_y\": \"3/5/10/2\"}, {\"Team\": 10, \"build_x\": \"3/6/8/3\", \"Draft Start\": \"5/14/2022\", \"Cumulative Val\": 43.9, \"Strategy\": \"Anchor RB\", \"Elite Onesie\": \"Neither\", \"build_y\": \"3/6/8/3\"}, {\"Team\": 10, \"build_x\": \"3/6/8/3\", \"Draft Start\": \"5/14/2022\", \"Cumulative Val\": 43.9, \"Strategy\": \"Anchor RB\", \"Elite Onesie\": \"Neither\", \"build_y\": \"3/6/8/3\"}, {\"Team\": 10, \"build_x\": \"3/6/8/3\", \"Draft Start\": \"5/14/2022\", \"Cumulative Val\": 43.9, \"Strategy\": \"Anchor RB\", \"Elite Onesie\": \"Neither\", \"build_y\": \"3/6/8/3\"}, {\"Team\": 10, \"build_x\": \"3/6/8/3\", \"Draft Start\": \"5/14/2022\", \"Cumulative Val\": 43.9, \"Strategy\": \"Anchor RB\", \"Elite Onesie\": \"Neither\", \"build_y\": \"3/6/8/3\"}, {\"Team\": 10, \"build_x\": \"3/6/8/3\", \"Draft Start\": \"5/14/2022\", \"Cumulative Val\": 43.9, \"Strategy\": \"Anchor RB\", \"Elite Onesie\": \"Neither\", \"build_y\": \"3/6/8/3\"}, {\"Team\": 10, \"build_x\": \"3/6/8/3\", \"Draft Start\": \"5/14/2022\", \"Cumulative Val\": 43.9, \"Strategy\": \"Anchor RB\", \"Elite Onesie\": \"Neither\", \"build_y\": \"3/6/8/3\"}, {\"Team\": 10, \"build_x\": \"3/6/8/3\", \"Draft Start\": \"5/14/2022\", \"Cumulative Val\": 43.9, \"Strategy\": \"Anchor RB\", \"Elite Onesie\": \"Neither\", \"build_y\": \"3/6/8/3\"}, {\"Team\": 10, \"build_x\": \"3/6/8/3\", \"Draft Start\": \"5/14/2022\", \"Cumulative Val\": 43.9, \"Strategy\": \"Anchor RB\", \"Elite Onesie\": \"Neither\", \"build_y\": \"3/6/8/3\"}, {\"Team\": 10, \"build_x\": \"3/6/8/3\", \"Draft Start\": \"5/14/2022\", \"Cumulative Val\": 43.9, \"Strategy\": \"Anchor RB\", \"Elite Onesie\": \"Neither\", \"build_y\": \"3/6/8/3\"}, {\"Team\": 10, \"build_x\": \"3/6/8/3\", \"Draft Start\": \"5/14/2022\", \"Cumulative Val\": 43.9, \"Strategy\": \"Anchor RB\", \"Elite Onesie\": \"Neither\", \"build_y\": \"3/6/8/3\"}, {\"Team\": 10, \"build_x\": \"3/6/8/3\", \"Draft Start\": \"5/14/2022\", \"Cumulative Val\": 43.9, \"Strategy\": \"Anchor RB\", \"Elite Onesie\": \"Neither\", \"build_y\": \"3/6/8/3\"}, {\"Team\": 10, \"build_x\": \"3/6/8/3\", \"Draft Start\": \"5/14/2022\", \"Cumulative Val\": 43.9, \"Strategy\": \"Anchor RB\", \"Elite Onesie\": \"Neither\", \"build_y\": \"3/6/8/3\"}, {\"Team\": 10, \"build_x\": \"3/6/8/3\", \"Draft Start\": \"5/14/2022\", \"Cumulative Val\": 43.9, \"Strategy\": \"Anchor RB\", \"Elite Onesie\": \"Neither\", \"build_y\": \"3/6/8/3\"}, {\"Team\": 10, \"build_x\": \"3/6/8/3\", \"Draft Start\": \"5/14/2022\", \"Cumulative Val\": 43.9, \"Strategy\": \"Anchor RB\", \"Elite Onesie\": \"Neither\", \"build_y\": \"3/6/8/3\"}, {\"Team\": 10, \"build_x\": \"3/6/8/3\", \"Draft Start\": \"5/14/2022\", \"Cumulative Val\": 43.9, \"Strategy\": \"Anchor RB\", \"Elite Onesie\": \"Neither\", \"build_y\": \"3/6/8/3\"}, {\"Team\": 10, \"build_x\": \"3/6/8/3\", \"Draft Start\": \"5/14/2022\", \"Cumulative Val\": 43.9, \"Strategy\": \"Anchor RB\", \"Elite Onesie\": \"Neither\", \"build_y\": \"3/6/8/3\"}, {\"Team\": 10, \"build_x\": \"3/6/8/3\", \"Draft Start\": \"5/14/2022\", \"Cumulative Val\": 43.9, \"Strategy\": \"Anchor RB\", \"Elite Onesie\": \"Neither\", \"build_y\": \"3/6/8/3\"}, {\"Team\": 10, \"build_x\": \"3/6/8/3\", \"Draft Start\": \"5/14/2022\", \"Cumulative Val\": 43.9, \"Strategy\": \"Anchor RB\", \"Elite Onesie\": \"Neither\", \"build_y\": \"3/6/8/3\"}, {\"Team\": 10, \"build_x\": \"3/6/8/3\", \"Draft Start\": \"5/14/2022\", \"Cumulative Val\": 43.9, \"Strategy\": \"Anchor RB\", \"Elite Onesie\": \"Neither\", \"build_y\": \"3/6/8/3\"}, {\"Team\": 10, \"build_x\": \"3/6/8/3\", \"Draft Start\": \"5/14/2022\", \"Cumulative Val\": 43.9, \"Strategy\": \"Anchor RB\", \"Elite Onesie\": \"Neither\", \"build_y\": \"3/6/8/3\"}, {\"Team\": 11, \"build_x\": \"2/7/9/2\", \"Draft Start\": \"5/15/2022\", \"Cumulative Val\": 67.5, \"Strategy\": \"Anchor RB\", \"Elite Onesie\": \"Elite TE\", \"build_y\": \"2/7/9/2\"}, {\"Team\": 11, \"build_x\": \"2/7/9/2\", \"Draft Start\": \"5/15/2022\", \"Cumulative Val\": 67.5, \"Strategy\": \"Anchor RB\", \"Elite Onesie\": \"Elite TE\", \"build_y\": \"2/7/9/2\"}, {\"Team\": 11, \"build_x\": \"2/7/9/2\", \"Draft Start\": \"5/15/2022\", \"Cumulative Val\": 67.5, \"Strategy\": \"Anchor RB\", \"Elite Onesie\": \"Elite TE\", \"build_y\": \"2/7/9/2\"}, {\"Team\": 11, \"build_x\": \"2/7/9/2\", \"Draft Start\": \"5/15/2022\", \"Cumulative Val\": 67.5, \"Strategy\": \"Anchor RB\", \"Elite Onesie\": \"Elite TE\", \"build_y\": \"2/7/9/2\"}, {\"Team\": 11, \"build_x\": \"2/7/9/2\", \"Draft Start\": \"5/15/2022\", \"Cumulative Val\": 67.5, \"Strategy\": \"Anchor RB\", \"Elite Onesie\": \"Elite TE\", \"build_y\": \"2/7/9/2\"}, {\"Team\": 11, \"build_x\": \"2/7/9/2\", \"Draft Start\": \"5/15/2022\", \"Cumulative Val\": 67.5, \"Strategy\": \"Anchor RB\", \"Elite Onesie\": \"Elite TE\", \"build_y\": \"2/7/9/2\"}, {\"Team\": 11, \"build_x\": \"2/7/9/2\", \"Draft Start\": \"5/15/2022\", \"Cumulative Val\": 67.5, \"Strategy\": \"Anchor RB\", \"Elite Onesie\": \"Elite TE\", \"build_y\": \"2/7/9/2\"}, {\"Team\": 11, \"build_x\": \"2/7/9/2\", \"Draft Start\": \"5/15/2022\", \"Cumulative Val\": 67.5, \"Strategy\": \"Anchor RB\", \"Elite Onesie\": \"Elite TE\", \"build_y\": \"2/7/9/2\"}, {\"Team\": 11, \"build_x\": \"2/7/9/2\", \"Draft Start\": \"5/15/2022\", \"Cumulative Val\": 67.5, \"Strategy\": \"Anchor RB\", \"Elite Onesie\": \"Elite TE\", \"build_y\": \"2/7/9/2\"}, {\"Team\": 11, \"build_x\": \"2/7/9/2\", \"Draft Start\": \"5/15/2022\", \"Cumulative Val\": 67.5, \"Strategy\": \"Anchor RB\", \"Elite Onesie\": \"Elite TE\", \"build_y\": \"2/7/9/2\"}, {\"Team\": 11, \"build_x\": \"2/7/9/2\", \"Draft Start\": \"5/15/2022\", \"Cumulative Val\": 67.5, \"Strategy\": \"Anchor RB\", \"Elite Onesie\": \"Elite TE\", \"build_y\": \"2/7/9/2\"}, {\"Team\": 11, \"build_x\": \"2/7/9/2\", \"Draft Start\": \"5/15/2022\", \"Cumulative Val\": 67.5, \"Strategy\": \"Anchor RB\", \"Elite Onesie\": \"Elite TE\", \"build_y\": \"2/7/9/2\"}, {\"Team\": 11, \"build_x\": \"2/7/9/2\", \"Draft Start\": \"5/15/2022\", \"Cumulative Val\": 67.5, \"Strategy\": \"Anchor RB\", \"Elite Onesie\": \"Elite TE\", \"build_y\": \"2/7/9/2\"}, {\"Team\": 11, \"build_x\": \"2/7/9/2\", \"Draft Start\": \"5/15/2022\", \"Cumulative Val\": 67.5, \"Strategy\": \"Anchor RB\", \"Elite Onesie\": \"Elite TE\", \"build_y\": \"2/7/9/2\"}, {\"Team\": 11, \"build_x\": \"2/7/9/2\", \"Draft Start\": \"5/15/2022\", \"Cumulative Val\": 67.5, \"Strategy\": \"Anchor RB\", \"Elite Onesie\": \"Elite TE\", \"build_y\": \"2/7/9/2\"}, {\"Team\": 11, \"build_x\": \"2/7/9/2\", \"Draft Start\": \"5/15/2022\", \"Cumulative Val\": 67.5, \"Strategy\": \"Anchor RB\", \"Elite Onesie\": \"Elite TE\", \"build_y\": \"2/7/9/2\"}, {\"Team\": 11, \"build_x\": \"2/7/9/2\", \"Draft Start\": \"5/15/2022\", \"Cumulative Val\": 67.5, \"Strategy\": \"Anchor RB\", \"Elite Onesie\": \"Elite TE\", \"build_y\": \"2/7/9/2\"}, {\"Team\": 11, \"build_x\": \"2/7/9/2\", \"Draft Start\": \"5/15/2022\", \"Cumulative Val\": 67.5, \"Strategy\": \"Anchor RB\", \"Elite Onesie\": \"Elite TE\", \"build_y\": \"2/7/9/2\"}, {\"Team\": 11, \"build_x\": \"2/7/9/2\", \"Draft Start\": \"5/15/2022\", \"Cumulative Val\": 67.5, \"Strategy\": \"Anchor RB\", \"Elite Onesie\": \"Elite TE\", \"build_y\": \"2/7/9/2\"}, {\"Team\": 11, \"build_x\": \"2/7/9/2\", \"Draft Start\": \"5/15/2022\", \"Cumulative Val\": 67.5, \"Strategy\": \"Anchor RB\", \"Elite Onesie\": \"Elite TE\", \"build_y\": \"2/7/9/2\"}, {\"Team\": 12, \"build_x\": \"2/7/8/3\", \"Draft Start\": \"5/15/2022\", \"Cumulative Val\": 96.2, \"Strategy\": \"Zero RB\", \"Elite Onesie\": \"Elite QB\", \"build_y\": \"2/7/8/3\"}, {\"Team\": 12, \"build_x\": \"2/7/8/3\", \"Draft Start\": \"5/15/2022\", \"Cumulative Val\": 96.2, \"Strategy\": \"Zero RB\", \"Elite Onesie\": \"Elite QB\", \"build_y\": \"2/7/8/3\"}, {\"Team\": 12, \"build_x\": \"2/7/8/3\", \"Draft Start\": \"5/15/2022\", \"Cumulative Val\": 96.2, \"Strategy\": \"Zero RB\", \"Elite Onesie\": \"Elite QB\", \"build_y\": \"2/7/8/3\"}, {\"Team\": 12, \"build_x\": \"2/7/8/3\", \"Draft Start\": \"5/15/2022\", \"Cumulative Val\": 96.2, \"Strategy\": \"Zero RB\", \"Elite Onesie\": \"Elite QB\", \"build_y\": \"2/7/8/3\"}, {\"Team\": 12, \"build_x\": \"2/7/8/3\", \"Draft Start\": \"5/15/2022\", \"Cumulative Val\": 96.2, \"Strategy\": \"Zero RB\", \"Elite Onesie\": \"Elite QB\", \"build_y\": \"2/7/8/3\"}, {\"Team\": 12, \"build_x\": \"2/7/8/3\", \"Draft Start\": \"5/15/2022\", \"Cumulative Val\": 96.2, \"Strategy\": \"Zero RB\", \"Elite Onesie\": \"Elite QB\", \"build_y\": \"2/7/8/3\"}, {\"Team\": 12, \"build_x\": \"2/7/8/3\", \"Draft Start\": \"5/15/2022\", \"Cumulative Val\": 96.2, \"Strategy\": \"Zero RB\", \"Elite Onesie\": \"Elite QB\", \"build_y\": \"2/7/8/3\"}, {\"Team\": 12, \"build_x\": \"2/7/8/3\", \"Draft Start\": \"5/15/2022\", \"Cumulative Val\": 96.2, \"Strategy\": \"Zero RB\", \"Elite Onesie\": \"Elite QB\", \"build_y\": \"2/7/8/3\"}, {\"Team\": 12, \"build_x\": \"2/7/8/3\", \"Draft Start\": \"5/15/2022\", \"Cumulative Val\": 96.2, \"Strategy\": \"Zero RB\", \"Elite Onesie\": \"Elite QB\", \"build_y\": \"2/7/8/3\"}, {\"Team\": 12, \"build_x\": \"2/7/8/3\", \"Draft Start\": \"5/15/2022\", \"Cumulative Val\": 96.2, \"Strategy\": \"Zero RB\", \"Elite Onesie\": \"Elite QB\", \"build_y\": \"2/7/8/3\"}, {\"Team\": 12, \"build_x\": \"2/7/8/3\", \"Draft Start\": \"5/15/2022\", \"Cumulative Val\": 96.2, \"Strategy\": \"Zero RB\", \"Elite Onesie\": \"Elite QB\", \"build_y\": \"2/7/8/3\"}, {\"Team\": 12, \"build_x\": \"2/7/8/3\", \"Draft Start\": \"5/15/2022\", \"Cumulative Val\": 96.2, \"Strategy\": \"Zero RB\", \"Elite Onesie\": \"Elite QB\", \"build_y\": \"2/7/8/3\"}, {\"Team\": 12, \"build_x\": \"2/7/8/3\", \"Draft Start\": \"5/15/2022\", \"Cumulative Val\": 96.2, \"Strategy\": \"Zero RB\", \"Elite Onesie\": \"Elite QB\", \"build_y\": \"2/7/8/3\"}, {\"Team\": 12, \"build_x\": \"2/7/8/3\", \"Draft Start\": \"5/15/2022\", \"Cumulative Val\": 96.2, \"Strategy\": \"Zero RB\", \"Elite Onesie\": \"Elite QB\", \"build_y\": \"2/7/8/3\"}, {\"Team\": 12, \"build_x\": \"2/7/8/3\", \"Draft Start\": \"5/15/2022\", \"Cumulative Val\": 96.2, \"Strategy\": \"Zero RB\", \"Elite Onesie\": \"Elite QB\", \"build_y\": \"2/7/8/3\"}, {\"Team\": 12, \"build_x\": \"2/7/8/3\", \"Draft Start\": \"5/15/2022\", \"Cumulative Val\": 96.2, \"Strategy\": \"Zero RB\", \"Elite Onesie\": \"Elite QB\", \"build_y\": \"2/7/8/3\"}, {\"Team\": 12, \"build_x\": \"2/7/8/3\", \"Draft Start\": \"5/15/2022\", \"Cumulative Val\": 96.2, \"Strategy\": \"Zero RB\", \"Elite Onesie\": \"Elite QB\", \"build_y\": \"2/7/8/3\"}, {\"Team\": 12, \"build_x\": \"2/7/8/3\", \"Draft Start\": \"5/15/2022\", \"Cumulative Val\": 96.2, \"Strategy\": \"Zero RB\", \"Elite Onesie\": \"Elite QB\", \"build_y\": \"2/7/8/3\"}, {\"Team\": 12, \"build_x\": \"2/7/8/3\", \"Draft Start\": \"5/15/2022\", \"Cumulative Val\": 96.2, \"Strategy\": \"Zero RB\", \"Elite Onesie\": \"Elite QB\", \"build_y\": \"2/7/8/3\"}, {\"Team\": 12, \"build_x\": \"2/7/8/3\", \"Draft Start\": \"5/15/2022\", \"Cumulative Val\": 96.2, \"Strategy\": \"Zero RB\", \"Elite Onesie\": \"Elite QB\", \"build_y\": \"2/7/8/3\"}, {\"Team\": 13, \"build_x\": \"2/8/8/2\", \"Draft Start\": \"5/16/2022\", \"Cumulative Val\": 60.6, \"Strategy\": \"Anchor RB\", \"Elite Onesie\": \"Elite QB/TE\", \"build_y\": \"2/8/8/2\"}, {\"Team\": 13, \"build_x\": \"2/8/8/2\", \"Draft Start\": \"5/16/2022\", \"Cumulative Val\": 60.6, \"Strategy\": \"Anchor RB\", \"Elite Onesie\": \"Elite QB/TE\", \"build_y\": \"2/8/8/2\"}, {\"Team\": 13, \"build_x\": \"2/8/8/2\", \"Draft Start\": \"5/16/2022\", \"Cumulative Val\": 60.6, \"Strategy\": \"Anchor RB\", \"Elite Onesie\": \"Elite QB/TE\", \"build_y\": \"2/8/8/2\"}, {\"Team\": 13, \"build_x\": \"2/8/8/2\", \"Draft Start\": \"5/16/2022\", \"Cumulative Val\": 60.6, \"Strategy\": \"Anchor RB\", \"Elite Onesie\": \"Elite QB/TE\", \"build_y\": \"2/8/8/2\"}, {\"Team\": 13, \"build_x\": \"2/8/8/2\", \"Draft Start\": \"5/16/2022\", \"Cumulative Val\": 60.6, \"Strategy\": \"Anchor RB\", \"Elite Onesie\": \"Elite QB/TE\", \"build_y\": \"2/8/8/2\"}, {\"Team\": 13, \"build_x\": \"2/8/8/2\", \"Draft Start\": \"5/16/2022\", \"Cumulative Val\": 60.6, \"Strategy\": \"Anchor RB\", \"Elite Onesie\": \"Elite QB/TE\", \"build_y\": \"2/8/8/2\"}, {\"Team\": 13, \"build_x\": \"2/8/8/2\", \"Draft Start\": \"5/16/2022\", \"Cumulative Val\": 60.6, \"Strategy\": \"Anchor RB\", \"Elite Onesie\": \"Elite QB/TE\", \"build_y\": \"2/8/8/2\"}, {\"Team\": 13, \"build_x\": \"2/8/8/2\", \"Draft Start\": \"5/16/2022\", \"Cumulative Val\": 60.6, \"Strategy\": \"Anchor RB\", \"Elite Onesie\": \"Elite QB/TE\", \"build_y\": \"2/8/8/2\"}, {\"Team\": 13, \"build_x\": \"2/8/8/2\", \"Draft Start\": \"5/16/2022\", \"Cumulative Val\": 60.6, \"Strategy\": \"Anchor RB\", \"Elite Onesie\": \"Elite QB/TE\", \"build_y\": \"2/8/8/2\"}, {\"Team\": 13, \"build_x\": \"2/8/8/2\", \"Draft Start\": \"5/16/2022\", \"Cumulative Val\": 60.6, \"Strategy\": \"Anchor RB\", \"Elite Onesie\": \"Elite QB/TE\", \"build_y\": \"2/8/8/2\"}, {\"Team\": 13, \"build_x\": \"2/8/8/2\", \"Draft Start\": \"5/16/2022\", \"Cumulative Val\": 60.6, \"Strategy\": \"Anchor RB\", \"Elite Onesie\": \"Elite QB/TE\", \"build_y\": \"2/8/8/2\"}, {\"Team\": 13, \"build_x\": \"2/8/8/2\", \"Draft Start\": \"5/16/2022\", \"Cumulative Val\": 60.6, \"Strategy\": \"Anchor RB\", \"Elite Onesie\": \"Elite QB/TE\", \"build_y\": \"2/8/8/2\"}, {\"Team\": 13, \"build_x\": \"2/8/8/2\", \"Draft Start\": \"5/16/2022\", \"Cumulative Val\": 60.6, \"Strategy\": \"Anchor RB\", \"Elite Onesie\": \"Elite QB/TE\", \"build_y\": \"2/8/8/2\"}, {\"Team\": 13, \"build_x\": \"2/8/8/2\", \"Draft Start\": \"5/16/2022\", \"Cumulative Val\": 60.6, \"Strategy\": \"Anchor RB\", \"Elite Onesie\": \"Elite QB/TE\", \"build_y\": \"2/8/8/2\"}, {\"Team\": 13, \"build_x\": \"2/8/8/2\", \"Draft Start\": \"5/16/2022\", \"Cumulative Val\": 60.6, \"Strategy\": \"Anchor RB\", \"Elite Onesie\": \"Elite QB/TE\", \"build_y\": \"2/8/8/2\"}, {\"Team\": 13, \"build_x\": \"2/8/8/2\", \"Draft Start\": \"5/16/2022\", \"Cumulative Val\": 60.6, \"Strategy\": \"Anchor RB\", \"Elite Onesie\": \"Elite QB/TE\", \"build_y\": \"2/8/8/2\"}, {\"Team\": 13, \"build_x\": \"2/8/8/2\", \"Draft Start\": \"5/16/2022\", \"Cumulative Val\": 60.6, \"Strategy\": \"Anchor RB\", \"Elite Onesie\": \"Elite QB/TE\", \"build_y\": \"2/8/8/2\"}, {\"Team\": 13, \"build_x\": \"2/8/8/2\", \"Draft Start\": \"5/16/2022\", \"Cumulative Val\": 60.6, \"Strategy\": \"Anchor RB\", \"Elite Onesie\": \"Elite QB/TE\", \"build_y\": \"2/8/8/2\"}, {\"Team\": 13, \"build_x\": \"2/8/8/2\", \"Draft Start\": \"5/16/2022\", \"Cumulative Val\": 60.6, \"Strategy\": \"Anchor RB\", \"Elite Onesie\": \"Elite QB/TE\", \"build_y\": \"2/8/8/2\"}, {\"Team\": 13, \"build_x\": \"2/8/8/2\", \"Draft Start\": \"5/16/2022\", \"Cumulative Val\": 60.6, \"Strategy\": \"Anchor RB\", \"Elite Onesie\": \"Elite QB/TE\", \"build_y\": \"2/8/8/2\"}]}};\n",
              "const opt = {};\n",
              "const type = \"vega-lite\";\n",
              "const id = \"a102daf0-6e61-4a9b-bd2f-1bc7c8f4114b\";\n",
              "\n",
              "const output_area = this;\n",
              "\n",
              "require([\"jupyter-vega\"], function(vega) {\n",
              "  const target = document.createElement(\"div\");\n",
              "  target.id = id;\n",
              "  target.className = \"vega-embed\";\n",
              "\n",
              "  const style = document.createElement(\"style\");\n",
              "  style.textContent = [\n",
              "    \".vega-embed .error p {\",\n",
              "    \"  color: firebrick;\",\n",
              "    \"  font-size: 14px;\",\n",
              "    \"}\",\n",
              "  ].join(\"\\\\n\");\n",
              "\n",
              "  // element is a jQuery wrapped DOM element inside the output area\n",
              "  // see http://ipython.readthedocs.io/en/stable/api/generated/\\\n",
              "  // IPython.display.html#IPython.display.Javascript.__init__\n",
              "  element[0].appendChild(target);\n",
              "  element[0].appendChild(style);\n",
              "\n",
              "  vega.render(`#$a102daf0-6e61-4a9b-bd2f-1bc7c8f4114b`, spec, type, opt, output_area);\n",
              "}, function (err) {\n",
              "  if (err.requireType !== \"scripterror\") {\n",
              "    throw(err);\n",
              "  }\n",
              "});\n"
            ],
            "text/plain": [
              "<vega.vegalite.VegaLite at 0x7fa501aa3390>"
            ]
          },
          "metadata": {
            "jupyter-vega": "#a102daf0-6e61-4a9b-bd2f-1bc7c8f4114b"
          }
        },
        {
          "output_type": "execute_result",
          "data": {
            "text/plain": [
              ""
            ]
          },
          "metadata": {},
          "execution_count": 309
        }
      ]
    },
    {
      "cell_type": "code",
      "source": [
        "#Elite QB/TE with CLV/Date\n",
        "alt.Chart(df1).mark_circle(size=40).encode(\n",
        "    x='Draft Start',\n",
        "    y='Cumulative Val',\n",
        "    color='Elite Onesie',\n",
        "    tooltip=['Draft Start','Team', 'Strategy', 'Elite Onesie', 'build_x', 'Cumulative Val']\n",
        ").interactive"
      ],
      "metadata": {
        "colab": {
          "base_uri": "https://localhost:8080/"
        },
        "id": "fqVsIr1KUcLj",
        "outputId": "9f5db890-ccc7-492e-d7aa-c34b9616dee9"
      },
      "execution_count": 310,
      "outputs": [
        {
          "output_type": "execute_result",
          "data": {
            "text/plain": [
              "<bound method Chart.interactive of alt.Chart(...)>"
            ]
          },
          "metadata": {},
          "execution_count": 310
        }
      ]
    },
    {
      "cell_type": "code",
      "source": [
        "#Breakdown of all builds\n",
        "build_count = final_df['build'].value_counts()\n",
        "build_count = build_count.reset_index()\n",
        "build_count['Count'] = build_count['build']\n",
        "build_count['%'] = round((build_count['Count'] / df2['Team'].max()) * 100, 1)\n",
        "build_count = build_count.drop(columns=['build'])\n",
        "build_count.rename({'index' : 'Build'}, axis='columns', inplace=True)\n",
        "build_count"
      ],
      "metadata": {
        "colab": {
          "base_uri": "https://localhost:8080/",
          "height": 300
        },
        "id": "uW3OXUgbrtNQ",
        "outputId": "dd2edb82-ee13-43f7-e83e-c0857ecfe576"
      },
      "execution_count": 311,
      "outputs": [
        {
          "output_type": "execute_result",
          "data": {
            "text/plain": [
              "      Build  Count     %\n",
              "0   2/7/8/3      3  23.1\n",
              "1  3/5/10/2      2  15.4\n",
              "2  2/5/10/3      2  15.4\n",
              "3   2/7/9/2      2  15.4\n",
              "4   2/6/9/3      1   7.7\n",
              "5   3/4/9/4      1   7.7\n",
              "6   3/6/8/3      1   7.7\n",
              "7   2/8/8/2      1   7.7"
            ],
            "text/html": [
              "\n",
              "  <div id=\"df-8a96c789-3060-40a7-b882-e6b14f108b71\">\n",
              "    <div class=\"colab-df-container\">\n",
              "      <div>\n",
              "<style scoped>\n",
              "    .dataframe tbody tr th:only-of-type {\n",
              "        vertical-align: middle;\n",
              "    }\n",
              "\n",
              "    .dataframe tbody tr th {\n",
              "        vertical-align: top;\n",
              "    }\n",
              "\n",
              "    .dataframe thead th {\n",
              "        text-align: right;\n",
              "    }\n",
              "</style>\n",
              "<table border=\"1\" class=\"dataframe\">\n",
              "  <thead>\n",
              "    <tr style=\"text-align: right;\">\n",
              "      <th></th>\n",
              "      <th>Build</th>\n",
              "      <th>Count</th>\n",
              "      <th>%</th>\n",
              "    </tr>\n",
              "  </thead>\n",
              "  <tbody>\n",
              "    <tr>\n",
              "      <th>0</th>\n",
              "      <td>2/7/8/3</td>\n",
              "      <td>3</td>\n",
              "      <td>23.1</td>\n",
              "    </tr>\n",
              "    <tr>\n",
              "      <th>1</th>\n",
              "      <td>3/5/10/2</td>\n",
              "      <td>2</td>\n",
              "      <td>15.4</td>\n",
              "    </tr>\n",
              "    <tr>\n",
              "      <th>2</th>\n",
              "      <td>2/5/10/3</td>\n",
              "      <td>2</td>\n",
              "      <td>15.4</td>\n",
              "    </tr>\n",
              "    <tr>\n",
              "      <th>3</th>\n",
              "      <td>2/7/9/2</td>\n",
              "      <td>2</td>\n",
              "      <td>15.4</td>\n",
              "    </tr>\n",
              "    <tr>\n",
              "      <th>4</th>\n",
              "      <td>2/6/9/3</td>\n",
              "      <td>1</td>\n",
              "      <td>7.7</td>\n",
              "    </tr>\n",
              "    <tr>\n",
              "      <th>5</th>\n",
              "      <td>3/4/9/4</td>\n",
              "      <td>1</td>\n",
              "      <td>7.7</td>\n",
              "    </tr>\n",
              "    <tr>\n",
              "      <th>6</th>\n",
              "      <td>3/6/8/3</td>\n",
              "      <td>1</td>\n",
              "      <td>7.7</td>\n",
              "    </tr>\n",
              "    <tr>\n",
              "      <th>7</th>\n",
              "      <td>2/8/8/2</td>\n",
              "      <td>1</td>\n",
              "      <td>7.7</td>\n",
              "    </tr>\n",
              "  </tbody>\n",
              "</table>\n",
              "</div>\n",
              "      <button class=\"colab-df-convert\" onclick=\"convertToInteractive('df-8a96c789-3060-40a7-b882-e6b14f108b71')\"\n",
              "              title=\"Convert this dataframe to an interactive table.\"\n",
              "              style=\"display:none;\">\n",
              "        \n",
              "  <svg xmlns=\"http://www.w3.org/2000/svg\" height=\"24px\"viewBox=\"0 0 24 24\"\n",
              "       width=\"24px\">\n",
              "    <path d=\"M0 0h24v24H0V0z\" fill=\"none\"/>\n",
              "    <path d=\"M18.56 5.44l.94 2.06.94-2.06 2.06-.94-2.06-.94-.94-2.06-.94 2.06-2.06.94zm-11 1L8.5 8.5l.94-2.06 2.06-.94-2.06-.94L8.5 2.5l-.94 2.06-2.06.94zm10 10l.94 2.06.94-2.06 2.06-.94-2.06-.94-.94-2.06-.94 2.06-2.06.94z\"/><path d=\"M17.41 7.96l-1.37-1.37c-.4-.4-.92-.59-1.43-.59-.52 0-1.04.2-1.43.59L10.3 9.45l-7.72 7.72c-.78.78-.78 2.05 0 2.83L4 21.41c.39.39.9.59 1.41.59.51 0 1.02-.2 1.41-.59l7.78-7.78 2.81-2.81c.8-.78.8-2.07 0-2.86zM5.41 20L4 18.59l7.72-7.72 1.47 1.35L5.41 20z\"/>\n",
              "  </svg>\n",
              "      </button>\n",
              "      \n",
              "  <style>\n",
              "    .colab-df-container {\n",
              "      display:flex;\n",
              "      flex-wrap:wrap;\n",
              "      gap: 12px;\n",
              "    }\n",
              "\n",
              "    .colab-df-convert {\n",
              "      background-color: #E8F0FE;\n",
              "      border: none;\n",
              "      border-radius: 50%;\n",
              "      cursor: pointer;\n",
              "      display: none;\n",
              "      fill: #1967D2;\n",
              "      height: 32px;\n",
              "      padding: 0 0 0 0;\n",
              "      width: 32px;\n",
              "    }\n",
              "\n",
              "    .colab-df-convert:hover {\n",
              "      background-color: #E2EBFA;\n",
              "      box-shadow: 0px 1px 2px rgba(60, 64, 67, 0.3), 0px 1px 3px 1px rgba(60, 64, 67, 0.15);\n",
              "      fill: #174EA6;\n",
              "    }\n",
              "\n",
              "    [theme=dark] .colab-df-convert {\n",
              "      background-color: #3B4455;\n",
              "      fill: #D2E3FC;\n",
              "    }\n",
              "\n",
              "    [theme=dark] .colab-df-convert:hover {\n",
              "      background-color: #434B5C;\n",
              "      box-shadow: 0px 1px 3px 1px rgba(0, 0, 0, 0.15);\n",
              "      filter: drop-shadow(0px 1px 2px rgba(0, 0, 0, 0.3));\n",
              "      fill: #FFFFFF;\n",
              "    }\n",
              "  </style>\n",
              "\n",
              "      <script>\n",
              "        const buttonEl =\n",
              "          document.querySelector('#df-8a96c789-3060-40a7-b882-e6b14f108b71 button.colab-df-convert');\n",
              "        buttonEl.style.display =\n",
              "          google.colab.kernel.accessAllowed ? 'block' : 'none';\n",
              "\n",
              "        async function convertToInteractive(key) {\n",
              "          const element = document.querySelector('#df-8a96c789-3060-40a7-b882-e6b14f108b71');\n",
              "          const dataTable =\n",
              "            await google.colab.kernel.invokeFunction('convertToInteractive',\n",
              "                                                     [key], {});\n",
              "          if (!dataTable) return;\n",
              "\n",
              "          const docLinkHtml = 'Like what you see? Visit the ' +\n",
              "            '<a target=\"_blank\" href=https://colab.research.google.com/notebooks/data_table.ipynb>data table notebook</a>'\n",
              "            + ' to learn more about interactive tables.';\n",
              "          element.innerHTML = '';\n",
              "          dataTable['output_type'] = 'display_data';\n",
              "          await google.colab.output.renderOutput(dataTable, element);\n",
              "          const docLink = document.createElement('div');\n",
              "          docLink.innerHTML = docLinkHtml;\n",
              "          element.appendChild(docLink);\n",
              "        }\n",
              "      </script>\n",
              "    </div>\n",
              "  </div>\n",
              "  "
            ]
          },
          "metadata": {},
          "execution_count": 311
        }
      ]
    },
    {
      "cell_type": "code",
      "source": [
        "#Breakdown of structural strategies\n",
        "strat_count = final_df['Strategy'].value_counts()\n",
        "strat_count = strat_count.reset_index()\n",
        "strat_count['Count'] = strat_count['Strategy']\n",
        "strat_count['%'] = round((strat_count['Count'] / df2['Team'].max()) * 100, 1)\n",
        "strat_count = strat_count.drop(columns=['Strategy'])\n",
        "strat_count.rename({'index' : 'Strategy'}, axis='columns', inplace=True)\n",
        "strat_count"
      ],
      "metadata": {
        "colab": {
          "base_uri": "https://localhost:8080/",
          "height": 175
        },
        "id": "fpFB8xOw4HOf",
        "outputId": "511f4a57-9c3f-4720-ef3c-0b0275d2850e"
      },
      "execution_count": 312,
      "outputs": [
        {
          "output_type": "execute_result",
          "data": {
            "text/plain": [
              "          Strategy  Count     %\n",
              "0        Anchor RB      7  53.8\n",
              "1  Hyperfragile RB      2  15.4\n",
              "2          Zero RB      2  15.4\n",
              "3     Superhero RB      2  15.4"
            ],
            "text/html": [
              "\n",
              "  <div id=\"df-ebdddca5-0217-4c42-b474-71de5d9a6e73\">\n",
              "    <div class=\"colab-df-container\">\n",
              "      <div>\n",
              "<style scoped>\n",
              "    .dataframe tbody tr th:only-of-type {\n",
              "        vertical-align: middle;\n",
              "    }\n",
              "\n",
              "    .dataframe tbody tr th {\n",
              "        vertical-align: top;\n",
              "    }\n",
              "\n",
              "    .dataframe thead th {\n",
              "        text-align: right;\n",
              "    }\n",
              "</style>\n",
              "<table border=\"1\" class=\"dataframe\">\n",
              "  <thead>\n",
              "    <tr style=\"text-align: right;\">\n",
              "      <th></th>\n",
              "      <th>Strategy</th>\n",
              "      <th>Count</th>\n",
              "      <th>%</th>\n",
              "    </tr>\n",
              "  </thead>\n",
              "  <tbody>\n",
              "    <tr>\n",
              "      <th>0</th>\n",
              "      <td>Anchor RB</td>\n",
              "      <td>7</td>\n",
              "      <td>53.8</td>\n",
              "    </tr>\n",
              "    <tr>\n",
              "      <th>1</th>\n",
              "      <td>Hyperfragile RB</td>\n",
              "      <td>2</td>\n",
              "      <td>15.4</td>\n",
              "    </tr>\n",
              "    <tr>\n",
              "      <th>2</th>\n",
              "      <td>Zero RB</td>\n",
              "      <td>2</td>\n",
              "      <td>15.4</td>\n",
              "    </tr>\n",
              "    <tr>\n",
              "      <th>3</th>\n",
              "      <td>Superhero RB</td>\n",
              "      <td>2</td>\n",
              "      <td>15.4</td>\n",
              "    </tr>\n",
              "  </tbody>\n",
              "</table>\n",
              "</div>\n",
              "      <button class=\"colab-df-convert\" onclick=\"convertToInteractive('df-ebdddca5-0217-4c42-b474-71de5d9a6e73')\"\n",
              "              title=\"Convert this dataframe to an interactive table.\"\n",
              "              style=\"display:none;\">\n",
              "        \n",
              "  <svg xmlns=\"http://www.w3.org/2000/svg\" height=\"24px\"viewBox=\"0 0 24 24\"\n",
              "       width=\"24px\">\n",
              "    <path d=\"M0 0h24v24H0V0z\" fill=\"none\"/>\n",
              "    <path d=\"M18.56 5.44l.94 2.06.94-2.06 2.06-.94-2.06-.94-.94-2.06-.94 2.06-2.06.94zm-11 1L8.5 8.5l.94-2.06 2.06-.94-2.06-.94L8.5 2.5l-.94 2.06-2.06.94zm10 10l.94 2.06.94-2.06 2.06-.94-2.06-.94-.94-2.06-.94 2.06-2.06.94z\"/><path d=\"M17.41 7.96l-1.37-1.37c-.4-.4-.92-.59-1.43-.59-.52 0-1.04.2-1.43.59L10.3 9.45l-7.72 7.72c-.78.78-.78 2.05 0 2.83L4 21.41c.39.39.9.59 1.41.59.51 0 1.02-.2 1.41-.59l7.78-7.78 2.81-2.81c.8-.78.8-2.07 0-2.86zM5.41 20L4 18.59l7.72-7.72 1.47 1.35L5.41 20z\"/>\n",
              "  </svg>\n",
              "      </button>\n",
              "      \n",
              "  <style>\n",
              "    .colab-df-container {\n",
              "      display:flex;\n",
              "      flex-wrap:wrap;\n",
              "      gap: 12px;\n",
              "    }\n",
              "\n",
              "    .colab-df-convert {\n",
              "      background-color: #E8F0FE;\n",
              "      border: none;\n",
              "      border-radius: 50%;\n",
              "      cursor: pointer;\n",
              "      display: none;\n",
              "      fill: #1967D2;\n",
              "      height: 32px;\n",
              "      padding: 0 0 0 0;\n",
              "      width: 32px;\n",
              "    }\n",
              "\n",
              "    .colab-df-convert:hover {\n",
              "      background-color: #E2EBFA;\n",
              "      box-shadow: 0px 1px 2px rgba(60, 64, 67, 0.3), 0px 1px 3px 1px rgba(60, 64, 67, 0.15);\n",
              "      fill: #174EA6;\n",
              "    }\n",
              "\n",
              "    [theme=dark] .colab-df-convert {\n",
              "      background-color: #3B4455;\n",
              "      fill: #D2E3FC;\n",
              "    }\n",
              "\n",
              "    [theme=dark] .colab-df-convert:hover {\n",
              "      background-color: #434B5C;\n",
              "      box-shadow: 0px 1px 3px 1px rgba(0, 0, 0, 0.15);\n",
              "      filter: drop-shadow(0px 1px 2px rgba(0, 0, 0, 0.3));\n",
              "      fill: #FFFFFF;\n",
              "    }\n",
              "  </style>\n",
              "\n",
              "      <script>\n",
              "        const buttonEl =\n",
              "          document.querySelector('#df-ebdddca5-0217-4c42-b474-71de5d9a6e73 button.colab-df-convert');\n",
              "        buttonEl.style.display =\n",
              "          google.colab.kernel.accessAllowed ? 'block' : 'none';\n",
              "\n",
              "        async function convertToInteractive(key) {\n",
              "          const element = document.querySelector('#df-ebdddca5-0217-4c42-b474-71de5d9a6e73');\n",
              "          const dataTable =\n",
              "            await google.colab.kernel.invokeFunction('convertToInteractive',\n",
              "                                                     [key], {});\n",
              "          if (!dataTable) return;\n",
              "\n",
              "          const docLinkHtml = 'Like what you see? Visit the ' +\n",
              "            '<a target=\"_blank\" href=https://colab.research.google.com/notebooks/data_table.ipynb>data table notebook</a>'\n",
              "            + ' to learn more about interactive tables.';\n",
              "          element.innerHTML = '';\n",
              "          dataTable['output_type'] = 'display_data';\n",
              "          await google.colab.output.renderOutput(dataTable, element);\n",
              "          const docLink = document.createElement('div');\n",
              "          docLink.innerHTML = docLinkHtml;\n",
              "          element.appendChild(docLink);\n",
              "        }\n",
              "      </script>\n",
              "    </div>\n",
              "  </div>\n",
              "  "
            ]
          },
          "metadata": {},
          "execution_count": 312
        }
      ]
    },
    {
      "cell_type": "code",
      "source": [
        "#Breakdown of Elite QB/TE teams\n",
        "onesie_count = final_df['Elite Onesie'].value_counts()\n",
        "onesie_count = onesie_count.reset_index()\n",
        "onesie_count['Count'] = onesie_count['Elite Onesie']\n",
        "onesie_count['%'] = round((onesie_count['Count'] / df2['Team'].max()) * 100, 1)\n",
        "onesie_count = onesie_count.drop(columns=['Elite Onesie'])\n",
        "onesie_count.rename({'index' : 'Elite Onesie'}, axis='columns', inplace=True)\n",
        "onesie_count"
      ],
      "metadata": {
        "colab": {
          "base_uri": "https://localhost:8080/",
          "height": 175
        },
        "id": "qWij5hc9UUhU",
        "outputId": "8980ea70-79ef-4c78-a0e8-6986d5ef2151"
      },
      "execution_count": 313,
      "outputs": [
        {
          "output_type": "execute_result",
          "data": {
            "text/plain": [
              "  Elite Onesie  Count     %\n",
              "0      Neither      5  38.5\n",
              "1     Elite TE      3  23.1\n",
              "2     Elite QB      3  23.1\n",
              "3  Elite QB/TE      2  15.4"
            ],
            "text/html": [
              "\n",
              "  <div id=\"df-6eefd4c1-db90-4933-8b10-ae05f2b402da\">\n",
              "    <div class=\"colab-df-container\">\n",
              "      <div>\n",
              "<style scoped>\n",
              "    .dataframe tbody tr th:only-of-type {\n",
              "        vertical-align: middle;\n",
              "    }\n",
              "\n",
              "    .dataframe tbody tr th {\n",
              "        vertical-align: top;\n",
              "    }\n",
              "\n",
              "    .dataframe thead th {\n",
              "        text-align: right;\n",
              "    }\n",
              "</style>\n",
              "<table border=\"1\" class=\"dataframe\">\n",
              "  <thead>\n",
              "    <tr style=\"text-align: right;\">\n",
              "      <th></th>\n",
              "      <th>Elite Onesie</th>\n",
              "      <th>Count</th>\n",
              "      <th>%</th>\n",
              "    </tr>\n",
              "  </thead>\n",
              "  <tbody>\n",
              "    <tr>\n",
              "      <th>0</th>\n",
              "      <td>Neither</td>\n",
              "      <td>5</td>\n",
              "      <td>38.5</td>\n",
              "    </tr>\n",
              "    <tr>\n",
              "      <th>1</th>\n",
              "      <td>Elite TE</td>\n",
              "      <td>3</td>\n",
              "      <td>23.1</td>\n",
              "    </tr>\n",
              "    <tr>\n",
              "      <th>2</th>\n",
              "      <td>Elite QB</td>\n",
              "      <td>3</td>\n",
              "      <td>23.1</td>\n",
              "    </tr>\n",
              "    <tr>\n",
              "      <th>3</th>\n",
              "      <td>Elite QB/TE</td>\n",
              "      <td>2</td>\n",
              "      <td>15.4</td>\n",
              "    </tr>\n",
              "  </tbody>\n",
              "</table>\n",
              "</div>\n",
              "      <button class=\"colab-df-convert\" onclick=\"convertToInteractive('df-6eefd4c1-db90-4933-8b10-ae05f2b402da')\"\n",
              "              title=\"Convert this dataframe to an interactive table.\"\n",
              "              style=\"display:none;\">\n",
              "        \n",
              "  <svg xmlns=\"http://www.w3.org/2000/svg\" height=\"24px\"viewBox=\"0 0 24 24\"\n",
              "       width=\"24px\">\n",
              "    <path d=\"M0 0h24v24H0V0z\" fill=\"none\"/>\n",
              "    <path d=\"M18.56 5.44l.94 2.06.94-2.06 2.06-.94-2.06-.94-.94-2.06-.94 2.06-2.06.94zm-11 1L8.5 8.5l.94-2.06 2.06-.94-2.06-.94L8.5 2.5l-.94 2.06-2.06.94zm10 10l.94 2.06.94-2.06 2.06-.94-2.06-.94-.94-2.06-.94 2.06-2.06.94z\"/><path d=\"M17.41 7.96l-1.37-1.37c-.4-.4-.92-.59-1.43-.59-.52 0-1.04.2-1.43.59L10.3 9.45l-7.72 7.72c-.78.78-.78 2.05 0 2.83L4 21.41c.39.39.9.59 1.41.59.51 0 1.02-.2 1.41-.59l7.78-7.78 2.81-2.81c.8-.78.8-2.07 0-2.86zM5.41 20L4 18.59l7.72-7.72 1.47 1.35L5.41 20z\"/>\n",
              "  </svg>\n",
              "      </button>\n",
              "      \n",
              "  <style>\n",
              "    .colab-df-container {\n",
              "      display:flex;\n",
              "      flex-wrap:wrap;\n",
              "      gap: 12px;\n",
              "    }\n",
              "\n",
              "    .colab-df-convert {\n",
              "      background-color: #E8F0FE;\n",
              "      border: none;\n",
              "      border-radius: 50%;\n",
              "      cursor: pointer;\n",
              "      display: none;\n",
              "      fill: #1967D2;\n",
              "      height: 32px;\n",
              "      padding: 0 0 0 0;\n",
              "      width: 32px;\n",
              "    }\n",
              "\n",
              "    .colab-df-convert:hover {\n",
              "      background-color: #E2EBFA;\n",
              "      box-shadow: 0px 1px 2px rgba(60, 64, 67, 0.3), 0px 1px 3px 1px rgba(60, 64, 67, 0.15);\n",
              "      fill: #174EA6;\n",
              "    }\n",
              "\n",
              "    [theme=dark] .colab-df-convert {\n",
              "      background-color: #3B4455;\n",
              "      fill: #D2E3FC;\n",
              "    }\n",
              "\n",
              "    [theme=dark] .colab-df-convert:hover {\n",
              "      background-color: #434B5C;\n",
              "      box-shadow: 0px 1px 3px 1px rgba(0, 0, 0, 0.15);\n",
              "      filter: drop-shadow(0px 1px 2px rgba(0, 0, 0, 0.3));\n",
              "      fill: #FFFFFF;\n",
              "    }\n",
              "  </style>\n",
              "\n",
              "      <script>\n",
              "        const buttonEl =\n",
              "          document.querySelector('#df-6eefd4c1-db90-4933-8b10-ae05f2b402da button.colab-df-convert');\n",
              "        buttonEl.style.display =\n",
              "          google.colab.kernel.accessAllowed ? 'block' : 'none';\n",
              "\n",
              "        async function convertToInteractive(key) {\n",
              "          const element = document.querySelector('#df-6eefd4c1-db90-4933-8b10-ae05f2b402da');\n",
              "          const dataTable =\n",
              "            await google.colab.kernel.invokeFunction('convertToInteractive',\n",
              "                                                     [key], {});\n",
              "          if (!dataTable) return;\n",
              "\n",
              "          const docLinkHtml = 'Like what you see? Visit the ' +\n",
              "            '<a target=\"_blank\" href=https://colab.research.google.com/notebooks/data_table.ipynb>data table notebook</a>'\n",
              "            + ' to learn more about interactive tables.';\n",
              "          element.innerHTML = '';\n",
              "          dataTable['output_type'] = 'display_data';\n",
              "          await google.colab.output.renderOutput(dataTable, element);\n",
              "          const docLink = document.createElement('div');\n",
              "          docLink.innerHTML = docLinkHtml;\n",
              "          element.appendChild(docLink);\n",
              "        }\n",
              "      </script>\n",
              "    </div>\n",
              "  </div>\n",
              "  "
            ]
          },
          "metadata": {},
          "execution_count": 313
        }
      ]
    },
    {
      "cell_type": "markdown",
      "source": [
        "#### Player team by round search"
      ],
      "metadata": {
        "id": "Vd-dWjk8zQ9E"
      }
    },
    {
      "cell_type": "code",
      "source": [
        "#Function that returns all teams with player passed, along with the builds used with the player\n",
        "def player_team_search(players):\n",
        "      base = r'^{}'\n",
        "      expr = '(?=.*{})'\n",
        "      base = base.format(''.join(expr.format(p) for p in players))\n",
        "      #Change for number of rounds\n",
        "      rounds = 20\n",
        "      i = 1\n",
        "\n",
        "      with_player = final_df.loc[final_df['Players'].str.contains(base)]\n",
        "      with_player = with_player.drop_duplicates(subset=['Team'])\n",
        "\n",
        "      #Building out round by round breakdown for teams with given player\n",
        "      split_df = pd.concat([final_df['Team'], final_df['Players'].str.split(', ', expand=True)], axis=1)\n",
        "      split_df.rename({0 : 1, 1 : 2, 2 : 3, 3 : 4, 4 : 5, 5 : 6, 6 : 7, 7 : 8, 8 : 9, 9 : 10, 10 : 11, 11 : 12, 12 : 13, 13 : 14, 14 : 15, 15 : 16, 16 : 17, 17 : 18, 18 : 19, 19: 20}, axis='columns', inplace=True)\n",
        "      split_df = split_df.merge(with_player, on=['Team', 'Team'], how='right')\n",
        "      split_df = split_df.drop_duplicates(subset=['Team'])\n",
        "      print(\"Round by Round selections with \" + ', '.join(players) + \" on the team \\n\")\n",
        "      while i <= rounds:\n",
        "        round_count = split_df[i].value_counts().rename_axis('Player').reset_index(name='Times Selected')\n",
        "        round_count = round_count.sort_index()\n",
        "        print(\"===============================================================\")\n",
        "        print(\"                                    Round \" + str(i) + \" \\n\")\n",
        "        chart = bars = alt.Chart(round_count).mark_bar().encode(\n",
        "            x=alt.X('Times Selected', axis=alt.Axis(labels=True), title=\"\"),\n",
        "            y=alt.Y('Player', axis=alt.Axis(labels=True), sort='-x', title=\"\"),\n",
        "            tooltip=['Player', 'Times Selected'],\n",
        "            color=alt.Color('Player', legend=None, scale=alt.Scale(scheme=alt.SchemeParams(name='darkblue')))\n",
        "        ).interactive()\n",
        "        chart.display(renderer='svg')\n",
        "        i=i+1\n",
        "\n",
        "      #List of teams with given player on roster\n",
        "      #print(\"===========================================================\")\n",
        "      #print(\"Full Teams with \" + ', '.join(players) + \" on the roster \\n\")\n",
        "      #print(with_player['Players'].value_counts())"
      ],
      "metadata": {
        "id": "MqsoATci1cD_"
      },
      "execution_count": 314,
      "outputs": []
    },
    {
      "cell_type": "markdown",
      "source": [
        "#### Build Count with Given Players"
      ],
      "metadata": {
        "id": "klq-wmAcmRIU"
      }
    },
    {
      "cell_type": "code",
      "source": [
        "#Build Count with given players function\n",
        "def builds_with_players(players):\n",
        "      base = r'^{}'\n",
        "      expr = '(?=.*{})'\n",
        "      base = base.format(''.join(expr.format(p) for p in players))\n",
        "      #Change for number of rounds\n",
        "      rounds = 20\n",
        "      i = 1\n",
        "\n",
        "      with_player = final_df.loc[final_df['Players'].str.contains(base)]\n",
        "      with_player = with_player.drop_duplicates(subset=['Team'])    \n",
        "      print(\"Structural builds with \" + ', '.join(players) + \" on the roster\")\n",
        "      print(with_player['build'].value_counts())\n",
        "      chart = (alt.Chart(with_player).mark_circle(size=30).encode(\n",
        "      x='Draft Start',\n",
        "      y='Cumulative Val',\n",
        "      color='build',\n",
        "      tooltip=['Draft Start','Team', 'build', 'Cumulative Val']\n",
        "      ).interactive())\n",
        "      chart.display(renderer='svg')\n",
        "      print(\"\\n\")"
      ],
      "metadata": {
        "id": "KkoPcaCZl-QK"
      },
      "execution_count": 315,
      "outputs": []
    },
    {
      "cell_type": "markdown",
      "source": [
        "#### Strategy and Elite Onesie count functions"
      ],
      "metadata": {
        "id": "kzX3UciZeDPV"
      }
    },
    {
      "cell_type": "code",
      "source": [
        "#Strat Count with given players function\n",
        "def strats_with_players(players):\n",
        "      base = r'^{}'\n",
        "      expr = '(?=.*{})'\n",
        "      base = base.format(''.join(expr.format(p) for p in players))\n",
        "      #Change for number of rounds\n",
        "      rounds = 20\n",
        "      i = 1\n",
        "\n",
        "      with_player = final_df.loc[final_df['Players'].str.contains(base)]\n",
        "      with_player = with_player.drop_duplicates(subset=['Team'])    \n",
        "      print(\"Strategies with \" + ', '.join(players) + \" on the roster\")\n",
        "      print(with_player['Strategy'].value_counts())\n",
        "      chart = (alt.Chart(with_player).mark_circle(size=30).encode(\n",
        "      x='Draft Start',\n",
        "      y='Cumulative Val',\n",
        "      color='Strategy',\n",
        "      tooltip=['Draft Start','Team', 'Strategy', 'build', 'Cumulative Val']\n",
        "      ).interactive())\n",
        "      chart.display(renderer='svg')\n",
        "      print(\"\\n\")"
      ],
      "metadata": {
        "id": "z-vrKOUm5XJ2"
      },
      "execution_count": 316,
      "outputs": []
    },
    {
      "cell_type": "code",
      "source": [
        "#Elite Onesie Count with given players function\n",
        "def onesie_with_players(players):\n",
        "      base = r'^{}'\n",
        "      expr = '(?=.*{})'\n",
        "      base = base.format(''.join(expr.format(p) for p in players))\n",
        "      #Change for number of rounds\n",
        "      rounds = 20\n",
        "      i = 1\n",
        "\n",
        "      with_player = final_df.loc[final_df['Players'].str.contains(base)]\n",
        "      with_player = with_player.drop_duplicates(subset=['Team'])    \n",
        "      print(\"Elite Onesie teams with \" + ', '.join(players) + \" on the roster\")\n",
        "      print(with_player['Elite Onesie'].value_counts())\n",
        "      chart = (alt.Chart(with_player).mark_circle(size=30).encode(\n",
        "      x='Draft Start',\n",
        "      y='Cumulative Val',\n",
        "      color='Elite Onesie',\n",
        "      tooltip=['Draft Start','Team', 'Strategy', 'Elite Onesie', 'build', 'Cumulative Val']\n",
        "      ).interactive())\n",
        "      chart.display(renderer='svg')\n",
        "      print(\"\\n\")"
      ],
      "metadata": {
        "id": "G2CBclJeeHrY"
      },
      "execution_count": 317,
      "outputs": []
    },
    {
      "cell_type": "markdown",
      "source": [
        "#### To use while drafting"
      ],
      "metadata": {
        "id": "Ce-lksXYmVUM"
      }
    },
    {
      "cell_type": "code",
      "source": [
        "#Use of build and player search functions\n",
        "players_to_search = ['Jonathan Taylor']\n",
        "builds_with_players(players_to_search)\n",
        "strats_with_players(players_to_search)\n",
        "onesie_with_players(players_to_search)\n"
      ],
      "metadata": {
        "colab": {
          "base_uri": "https://localhost:8080/",
          "height": 295
        },
        "id": "b2YAwThImaWu",
        "outputId": "3332d0bf-8ded-47d0-f14a-7f8647d6b778"
      },
      "execution_count": 318,
      "outputs": [
        {
          "output_type": "stream",
          "name": "stdout",
          "text": [
            "Structural builds with Jonathan Taylor on the roster\n",
            "2/5/10/3    1\n",
            "3/6/8/3     1\n",
            "Name: build, dtype: int64\n"
          ]
        },
        {
          "output_type": "display_data",
          "data": {
            "application/javascript": [
              "const spec = {\"config\": {\"view\": {\"continuousWidth\": 400, \"continuousHeight\": 300}}, \"data\": {\"name\": \"data-da93d0e8085f1fb7f4cd80d13a6d220b\"}, \"mark\": {\"type\": \"circle\", \"size\": 30}, \"encoding\": {\"color\": {\"field\": \"build\", \"type\": \"nominal\"}, \"tooltip\": [{\"field\": \"Draft Start\", \"type\": \"nominal\"}, {\"field\": \"Team\", \"type\": \"quantitative\"}, {\"field\": \"build\", \"type\": \"nominal\"}, {\"field\": \"Cumulative Val\", \"type\": \"quantitative\"}], \"x\": {\"field\": \"Draft Start\", \"type\": \"nominal\"}, \"y\": {\"field\": \"Cumulative Val\", \"type\": \"quantitative\"}}, \"selection\": {\"selector287\": {\"type\": \"interval\", \"bind\": \"scales\", \"encodings\": [\"x\", \"y\"]}}, \"$schema\": \"https://vega.github.io/schema/vega-lite/v4.17.0.json\", \"datasets\": {\"data-da93d0e8085f1fb7f4cd80d13a6d220b\": [{\"Team\": 3, \"Draft Start\": \"5/13/2022\", \"Cumulative Val\": 71.1, \"Strategy\": \"Anchor RB\", \"Elite Onesie\": \"Neither\", \"build\": \"2/5/10/3\", \"Players\": \"Jonathan Taylor, AJ Brown, Saquon Barkley, DK Metcalf, Chris Godwin, JuJu Smith-Schuster, Tom Brady, Clyde Edwards-Helaire, Skyy Moore, Christian Watson, Rachaad White, Corey Davis, Noah Fant, Will Fuller, Daniel Jones, Jalen Tolbert, KJ Hamler, Brevin Jordan, Sony Michel, Greg Dulcich\"}, {\"Team\": 10, \"Draft Start\": \"5/14/2022\", \"Cumulative Val\": 43.9, \"Strategy\": \"Anchor RB\", \"Elite Onesie\": \"Neither\", \"build\": \"3/6/8/3\", \"Players\": \"Jonathan Taylor, Tee Higgins, AJ Brown, Gabriel Davis, Courtland Sutton, Deandre Hopkins, Drake London, Trey Lance, Dalton Schulz, Tua Tagovailoa, Chase Edmonds, Robert Tonyan, Rachaad White, Daniel Jones, David Bell, Brian Robinson, Donta Foreman, Wandale Robinson, Chris Evans, OJ Howard\"}]}};\n",
              "const opt = {\"renderer\": \"svg\"};\n",
              "const type = \"vega-lite\";\n",
              "const id = \"3d14242e-d917-4864-ac31-86fdfe3db30b\";\n",
              "\n",
              "const output_area = this;\n",
              "\n",
              "require([\"jupyter-vega\"], function(vega) {\n",
              "  const target = document.createElement(\"div\");\n",
              "  target.id = id;\n",
              "  target.className = \"vega-embed\";\n",
              "\n",
              "  const style = document.createElement(\"style\");\n",
              "  style.textContent = [\n",
              "    \".vega-embed .error p {\",\n",
              "    \"  color: firebrick;\",\n",
              "    \"  font-size: 14px;\",\n",
              "    \"}\",\n",
              "  ].join(\"\\\\n\");\n",
              "\n",
              "  // element is a jQuery wrapped DOM element inside the output area\n",
              "  // see http://ipython.readthedocs.io/en/stable/api/generated/\\\n",
              "  // IPython.display.html#IPython.display.Javascript.__init__\n",
              "  element[0].appendChild(target);\n",
              "  element[0].appendChild(style);\n",
              "\n",
              "  vega.render(`#$3d14242e-d917-4864-ac31-86fdfe3db30b`, spec, type, opt, output_area);\n",
              "}, function (err) {\n",
              "  if (err.requireType !== \"scripterror\") {\n",
              "    throw(err);\n",
              "  }\n",
              "});\n"
            ],
            "text/plain": [
              "<vega.vegalite.VegaLite at 0x7fa501a2c210>"
            ]
          },
          "metadata": {
            "jupyter-vega": "#3d14242e-d917-4864-ac31-86fdfe3db30b"
          }
        },
        {
          "output_type": "display_data",
          "data": {
            "text/plain": [
              ""
            ]
          },
          "metadata": {}
        },
        {
          "output_type": "stream",
          "name": "stdout",
          "text": [
            "\n",
            "\n",
            "Strategies with Jonathan Taylor on the roster\n",
            "Anchor RB    2\n",
            "Name: Strategy, dtype: int64\n"
          ]
        },
        {
          "output_type": "display_data",
          "data": {
            "application/javascript": [
              "const spec = {\"config\": {\"view\": {\"continuousWidth\": 400, \"continuousHeight\": 300}}, \"data\": {\"name\": \"data-da93d0e8085f1fb7f4cd80d13a6d220b\"}, \"mark\": {\"type\": \"circle\", \"size\": 30}, \"encoding\": {\"color\": {\"field\": \"Strategy\", \"type\": \"nominal\"}, \"tooltip\": [{\"field\": \"Draft Start\", \"type\": \"nominal\"}, {\"field\": \"Team\", \"type\": \"quantitative\"}, {\"field\": \"Strategy\", \"type\": \"nominal\"}, {\"field\": \"build\", \"type\": \"nominal\"}, {\"field\": \"Cumulative Val\", \"type\": \"quantitative\"}], \"x\": {\"field\": \"Draft Start\", \"type\": \"nominal\"}, \"y\": {\"field\": \"Cumulative Val\", \"type\": \"quantitative\"}}, \"selection\": {\"selector288\": {\"type\": \"interval\", \"bind\": \"scales\", \"encodings\": [\"x\", \"y\"]}}, \"$schema\": \"https://vega.github.io/schema/vega-lite/v4.17.0.json\", \"datasets\": {\"data-da93d0e8085f1fb7f4cd80d13a6d220b\": [{\"Team\": 3, \"Draft Start\": \"5/13/2022\", \"Cumulative Val\": 71.1, \"Strategy\": \"Anchor RB\", \"Elite Onesie\": \"Neither\", \"build\": \"2/5/10/3\", \"Players\": \"Jonathan Taylor, AJ Brown, Saquon Barkley, DK Metcalf, Chris Godwin, JuJu Smith-Schuster, Tom Brady, Clyde Edwards-Helaire, Skyy Moore, Christian Watson, Rachaad White, Corey Davis, Noah Fant, Will Fuller, Daniel Jones, Jalen Tolbert, KJ Hamler, Brevin Jordan, Sony Michel, Greg Dulcich\"}, {\"Team\": 10, \"Draft Start\": \"5/14/2022\", \"Cumulative Val\": 43.9, \"Strategy\": \"Anchor RB\", \"Elite Onesie\": \"Neither\", \"build\": \"3/6/8/3\", \"Players\": \"Jonathan Taylor, Tee Higgins, AJ Brown, Gabriel Davis, Courtland Sutton, Deandre Hopkins, Drake London, Trey Lance, Dalton Schulz, Tua Tagovailoa, Chase Edmonds, Robert Tonyan, Rachaad White, Daniel Jones, David Bell, Brian Robinson, Donta Foreman, Wandale Robinson, Chris Evans, OJ Howard\"}]}};\n",
              "const opt = {\"renderer\": \"svg\"};\n",
              "const type = \"vega-lite\";\n",
              "const id = \"d3e2612b-f70e-41d8-8233-b56a617d9873\";\n",
              "\n",
              "const output_area = this;\n",
              "\n",
              "require([\"jupyter-vega\"], function(vega) {\n",
              "  const target = document.createElement(\"div\");\n",
              "  target.id = id;\n",
              "  target.className = \"vega-embed\";\n",
              "\n",
              "  const style = document.createElement(\"style\");\n",
              "  style.textContent = [\n",
              "    \".vega-embed .error p {\",\n",
              "    \"  color: firebrick;\",\n",
              "    \"  font-size: 14px;\",\n",
              "    \"}\",\n",
              "  ].join(\"\\\\n\");\n",
              "\n",
              "  // element is a jQuery wrapped DOM element inside the output area\n",
              "  // see http://ipython.readthedocs.io/en/stable/api/generated/\\\n",
              "  // IPython.display.html#IPython.display.Javascript.__init__\n",
              "  element[0].appendChild(target);\n",
              "  element[0].appendChild(style);\n",
              "\n",
              "  vega.render(`#$d3e2612b-f70e-41d8-8233-b56a617d9873`, spec, type, opt, output_area);\n",
              "}, function (err) {\n",
              "  if (err.requireType !== \"scripterror\") {\n",
              "    throw(err);\n",
              "  }\n",
              "});\n"
            ],
            "text/plain": [
              "<vega.vegalite.VegaLite at 0x7fa501a2f4d0>"
            ]
          },
          "metadata": {
            "jupyter-vega": "#d3e2612b-f70e-41d8-8233-b56a617d9873"
          }
        },
        {
          "output_type": "display_data",
          "data": {
            "text/plain": [
              ""
            ]
          },
          "metadata": {}
        },
        {
          "output_type": "stream",
          "name": "stdout",
          "text": [
            "\n",
            "\n",
            "Elite Onesie teams with Jonathan Taylor on the roster\n",
            "Neither    2\n",
            "Name: Elite Onesie, dtype: int64\n"
          ]
        },
        {
          "output_type": "display_data",
          "data": {
            "application/javascript": [
              "const spec = {\"config\": {\"view\": {\"continuousWidth\": 400, \"continuousHeight\": 300}}, \"data\": {\"name\": \"data-da93d0e8085f1fb7f4cd80d13a6d220b\"}, \"mark\": {\"type\": \"circle\", \"size\": 30}, \"encoding\": {\"color\": {\"field\": \"Elite Onesie\", \"type\": \"nominal\"}, \"tooltip\": [{\"field\": \"Draft Start\", \"type\": \"nominal\"}, {\"field\": \"Team\", \"type\": \"quantitative\"}, {\"field\": \"Strategy\", \"type\": \"nominal\"}, {\"field\": \"Elite Onesie\", \"type\": \"nominal\"}, {\"field\": \"build\", \"type\": \"nominal\"}, {\"field\": \"Cumulative Val\", \"type\": \"quantitative\"}], \"x\": {\"field\": \"Draft Start\", \"type\": \"nominal\"}, \"y\": {\"field\": \"Cumulative Val\", \"type\": \"quantitative\"}}, \"selection\": {\"selector289\": {\"type\": \"interval\", \"bind\": \"scales\", \"encodings\": [\"x\", \"y\"]}}, \"$schema\": \"https://vega.github.io/schema/vega-lite/v4.17.0.json\", \"datasets\": {\"data-da93d0e8085f1fb7f4cd80d13a6d220b\": [{\"Team\": 3, \"Draft Start\": \"5/13/2022\", \"Cumulative Val\": 71.1, \"Strategy\": \"Anchor RB\", \"Elite Onesie\": \"Neither\", \"build\": \"2/5/10/3\", \"Players\": \"Jonathan Taylor, AJ Brown, Saquon Barkley, DK Metcalf, Chris Godwin, JuJu Smith-Schuster, Tom Brady, Clyde Edwards-Helaire, Skyy Moore, Christian Watson, Rachaad White, Corey Davis, Noah Fant, Will Fuller, Daniel Jones, Jalen Tolbert, KJ Hamler, Brevin Jordan, Sony Michel, Greg Dulcich\"}, {\"Team\": 10, \"Draft Start\": \"5/14/2022\", \"Cumulative Val\": 43.9, \"Strategy\": \"Anchor RB\", \"Elite Onesie\": \"Neither\", \"build\": \"3/6/8/3\", \"Players\": \"Jonathan Taylor, Tee Higgins, AJ Brown, Gabriel Davis, Courtland Sutton, Deandre Hopkins, Drake London, Trey Lance, Dalton Schulz, Tua Tagovailoa, Chase Edmonds, Robert Tonyan, Rachaad White, Daniel Jones, David Bell, Brian Robinson, Donta Foreman, Wandale Robinson, Chris Evans, OJ Howard\"}]}};\n",
              "const opt = {\"renderer\": \"svg\"};\n",
              "const type = \"vega-lite\";\n",
              "const id = \"00622f44-57c2-43b2-b611-eadae42e4d3f\";\n",
              "\n",
              "const output_area = this;\n",
              "\n",
              "require([\"jupyter-vega\"], function(vega) {\n",
              "  const target = document.createElement(\"div\");\n",
              "  target.id = id;\n",
              "  target.className = \"vega-embed\";\n",
              "\n",
              "  const style = document.createElement(\"style\");\n",
              "  style.textContent = [\n",
              "    \".vega-embed .error p {\",\n",
              "    \"  color: firebrick;\",\n",
              "    \"  font-size: 14px;\",\n",
              "    \"}\",\n",
              "  ].join(\"\\\\n\");\n",
              "\n",
              "  // element is a jQuery wrapped DOM element inside the output area\n",
              "  // see http://ipython.readthedocs.io/en/stable/api/generated/\\\n",
              "  // IPython.display.html#IPython.display.Javascript.__init__\n",
              "  element[0].appendChild(target);\n",
              "  element[0].appendChild(style);\n",
              "\n",
              "  vega.render(`#$00622f44-57c2-43b2-b611-eadae42e4d3f`, spec, type, opt, output_area);\n",
              "}, function (err) {\n",
              "  if (err.requireType !== \"scripterror\") {\n",
              "    throw(err);\n",
              "  }\n",
              "});\n"
            ],
            "text/plain": [
              "<vega.vegalite.VegaLite at 0x7fa501a2b350>"
            ]
          },
          "metadata": {
            "jupyter-vega": "#00622f44-57c2-43b2-b611-eadae42e4d3f"
          }
        },
        {
          "output_type": "display_data",
          "data": {
            "text/plain": [
              ""
            ]
          },
          "metadata": {}
        },
        {
          "output_type": "stream",
          "name": "stdout",
          "text": [
            "\n",
            "\n"
          ]
        }
      ]
    },
    {
      "cell_type": "code",
      "source": [
        "#Round by Round searching\n",
        "player_team_search(players_to_search)"
      ],
      "metadata": {
        "colab": {
          "base_uri": "https://localhost:8080/",
          "height": 1000
        },
        "id": "58scTEjT2aRX",
        "outputId": "55364a3f-052d-4244-d96e-983249faa716"
      },
      "execution_count": 319,
      "outputs": [
        {
          "output_type": "stream",
          "name": "stdout",
          "text": [
            "Round by Round selections with Jonathan Taylor on the team \n",
            "\n",
            "===============================================================\n",
            "                                    Round 1 \n",
            "\n"
          ]
        },
        {
          "output_type": "display_data",
          "data": {
            "application/javascript": [
              "const spec = {\"config\": {\"view\": {\"continuousWidth\": 400, \"continuousHeight\": 300}}, \"data\": {\"name\": \"data-748c576be0c1ae3ea55e2c8aaa2ae49f\"}, \"mark\": \"bar\", \"encoding\": {\"color\": {\"field\": \"Player\", \"legend\": null, \"scale\": {\"scheme\": {\"name\": \"darkblue\"}}, \"type\": \"nominal\"}, \"tooltip\": [{\"field\": \"Player\", \"type\": \"nominal\"}, {\"field\": \"Times Selected\", \"type\": \"quantitative\"}], \"x\": {\"axis\": {\"labels\": true}, \"field\": \"Times Selected\", \"title\": \"\", \"type\": \"quantitative\"}, \"y\": {\"axis\": {\"labels\": true}, \"field\": \"Player\", \"sort\": \"-x\", \"title\": \"\", \"type\": \"nominal\"}}, \"selection\": {\"selector290\": {\"type\": \"interval\", \"bind\": \"scales\", \"encodings\": [\"x\", \"y\"]}}, \"$schema\": \"https://vega.github.io/schema/vega-lite/v4.17.0.json\", \"datasets\": {\"data-748c576be0c1ae3ea55e2c8aaa2ae49f\": [{\"Player\": \"Jonathan Taylor\", \"Times Selected\": 2}]}};\n",
              "const opt = {\"renderer\": \"svg\"};\n",
              "const type = \"vega-lite\";\n",
              "const id = \"2ba357c3-192b-416b-a28b-04d7e3ecb41c\";\n",
              "\n",
              "const output_area = this;\n",
              "\n",
              "require([\"jupyter-vega\"], function(vega) {\n",
              "  const target = document.createElement(\"div\");\n",
              "  target.id = id;\n",
              "  target.className = \"vega-embed\";\n",
              "\n",
              "  const style = document.createElement(\"style\");\n",
              "  style.textContent = [\n",
              "    \".vega-embed .error p {\",\n",
              "    \"  color: firebrick;\",\n",
              "    \"  font-size: 14px;\",\n",
              "    \"}\",\n",
              "  ].join(\"\\\\n\");\n",
              "\n",
              "  // element is a jQuery wrapped DOM element inside the output area\n",
              "  // see http://ipython.readthedocs.io/en/stable/api/generated/\\\n",
              "  // IPython.display.html#IPython.display.Javascript.__init__\n",
              "  element[0].appendChild(target);\n",
              "  element[0].appendChild(style);\n",
              "\n",
              "  vega.render(`#$2ba357c3-192b-416b-a28b-04d7e3ecb41c`, spec, type, opt, output_area);\n",
              "}, function (err) {\n",
              "  if (err.requireType !== \"scripterror\") {\n",
              "    throw(err);\n",
              "  }\n",
              "});\n"
            ],
            "text/plain": [
              "<vega.vegalite.VegaLite at 0x7fa501954050>"
            ]
          },
          "metadata": {
            "jupyter-vega": "#2ba357c3-192b-416b-a28b-04d7e3ecb41c"
          }
        },
        {
          "output_type": "display_data",
          "data": {
            "text/plain": [
              ""
            ]
          },
          "metadata": {}
        },
        {
          "output_type": "stream",
          "name": "stdout",
          "text": [
            "===============================================================\n",
            "                                    Round 2 \n",
            "\n"
          ]
        },
        {
          "output_type": "display_data",
          "data": {
            "application/javascript": [
              "const spec = {\"config\": {\"view\": {\"continuousWidth\": 400, \"continuousHeight\": 300}}, \"data\": {\"name\": \"data-e43e5b496a913337fc9110418e703c1d\"}, \"mark\": \"bar\", \"encoding\": {\"color\": {\"field\": \"Player\", \"legend\": null, \"scale\": {\"scheme\": {\"name\": \"darkblue\"}}, \"type\": \"nominal\"}, \"tooltip\": [{\"field\": \"Player\", \"type\": \"nominal\"}, {\"field\": \"Times Selected\", \"type\": \"quantitative\"}], \"x\": {\"axis\": {\"labels\": true}, \"field\": \"Times Selected\", \"title\": \"\", \"type\": \"quantitative\"}, \"y\": {\"axis\": {\"labels\": true}, \"field\": \"Player\", \"sort\": \"-x\", \"title\": \"\", \"type\": \"nominal\"}}, \"selection\": {\"selector291\": {\"type\": \"interval\", \"bind\": \"scales\", \"encodings\": [\"x\", \"y\"]}}, \"$schema\": \"https://vega.github.io/schema/vega-lite/v4.17.0.json\", \"datasets\": {\"data-e43e5b496a913337fc9110418e703c1d\": [{\"Player\": \"AJ Brown\", \"Times Selected\": 1}, {\"Player\": \"Tee Higgins\", \"Times Selected\": 1}]}};\n",
              "const opt = {\"renderer\": \"svg\"};\n",
              "const type = \"vega-lite\";\n",
              "const id = \"b14e1114-8946-456d-8b7d-aeebd2322559\";\n",
              "\n",
              "const output_area = this;\n",
              "\n",
              "require([\"jupyter-vega\"], function(vega) {\n",
              "  const target = document.createElement(\"div\");\n",
              "  target.id = id;\n",
              "  target.className = \"vega-embed\";\n",
              "\n",
              "  const style = document.createElement(\"style\");\n",
              "  style.textContent = [\n",
              "    \".vega-embed .error p {\",\n",
              "    \"  color: firebrick;\",\n",
              "    \"  font-size: 14px;\",\n",
              "    \"}\",\n",
              "  ].join(\"\\\\n\");\n",
              "\n",
              "  // element is a jQuery wrapped DOM element inside the output area\n",
              "  // see http://ipython.readthedocs.io/en/stable/api/generated/\\\n",
              "  // IPython.display.html#IPython.display.Javascript.__init__\n",
              "  element[0].appendChild(target);\n",
              "  element[0].appendChild(style);\n",
              "\n",
              "  vega.render(`#$b14e1114-8946-456d-8b7d-aeebd2322559`, spec, type, opt, output_area);\n",
              "}, function (err) {\n",
              "  if (err.requireType !== \"scripterror\") {\n",
              "    throw(err);\n",
              "  }\n",
              "});\n"
            ],
            "text/plain": [
              "<vega.vegalite.VegaLite at 0x7fa501977c50>"
            ]
          },
          "metadata": {
            "jupyter-vega": "#b14e1114-8946-456d-8b7d-aeebd2322559"
          }
        },
        {
          "output_type": "display_data",
          "data": {
            "text/plain": [
              ""
            ]
          },
          "metadata": {}
        },
        {
          "output_type": "stream",
          "name": "stdout",
          "text": [
            "===============================================================\n",
            "                                    Round 3 \n",
            "\n"
          ]
        },
        {
          "output_type": "display_data",
          "data": {
            "application/javascript": [
              "const spec = {\"config\": {\"view\": {\"continuousWidth\": 400, \"continuousHeight\": 300}}, \"data\": {\"name\": \"data-1b59ee6a38dba2bc97dbc9585b8281b8\"}, \"mark\": \"bar\", \"encoding\": {\"color\": {\"field\": \"Player\", \"legend\": null, \"scale\": {\"scheme\": {\"name\": \"darkblue\"}}, \"type\": \"nominal\"}, \"tooltip\": [{\"field\": \"Player\", \"type\": \"nominal\"}, {\"field\": \"Times Selected\", \"type\": \"quantitative\"}], \"x\": {\"axis\": {\"labels\": true}, \"field\": \"Times Selected\", \"title\": \"\", \"type\": \"quantitative\"}, \"y\": {\"axis\": {\"labels\": true}, \"field\": \"Player\", \"sort\": \"-x\", \"title\": \"\", \"type\": \"nominal\"}}, \"selection\": {\"selector292\": {\"type\": \"interval\", \"bind\": \"scales\", \"encodings\": [\"x\", \"y\"]}}, \"$schema\": \"https://vega.github.io/schema/vega-lite/v4.17.0.json\", \"datasets\": {\"data-1b59ee6a38dba2bc97dbc9585b8281b8\": [{\"Player\": \"Saquon Barkley\", \"Times Selected\": 1}, {\"Player\": \"AJ Brown\", \"Times Selected\": 1}]}};\n",
              "const opt = {\"renderer\": \"svg\"};\n",
              "const type = \"vega-lite\";\n",
              "const id = \"7bdb5f0e-a962-4007-bd97-a93ab34e32f0\";\n",
              "\n",
              "const output_area = this;\n",
              "\n",
              "require([\"jupyter-vega\"], function(vega) {\n",
              "  const target = document.createElement(\"div\");\n",
              "  target.id = id;\n",
              "  target.className = \"vega-embed\";\n",
              "\n",
              "  const style = document.createElement(\"style\");\n",
              "  style.textContent = [\n",
              "    \".vega-embed .error p {\",\n",
              "    \"  color: firebrick;\",\n",
              "    \"  font-size: 14px;\",\n",
              "    \"}\",\n",
              "  ].join(\"\\\\n\");\n",
              "\n",
              "  // element is a jQuery wrapped DOM element inside the output area\n",
              "  // see http://ipython.readthedocs.io/en/stable/api/generated/\\\n",
              "  // IPython.display.html#IPython.display.Javascript.__init__\n",
              "  element[0].appendChild(target);\n",
              "  element[0].appendChild(style);\n",
              "\n",
              "  vega.render(`#$7bdb5f0e-a962-4007-bd97-a93ab34e32f0`, spec, type, opt, output_area);\n",
              "}, function (err) {\n",
              "  if (err.requireType !== \"scripterror\") {\n",
              "    throw(err);\n",
              "  }\n",
              "});\n"
            ],
            "text/plain": [
              "<vega.vegalite.VegaLite at 0x7fa501a22450>"
            ]
          },
          "metadata": {
            "jupyter-vega": "#7bdb5f0e-a962-4007-bd97-a93ab34e32f0"
          }
        },
        {
          "output_type": "display_data",
          "data": {
            "text/plain": [
              ""
            ]
          },
          "metadata": {}
        },
        {
          "output_type": "stream",
          "name": "stdout",
          "text": [
            "===============================================================\n",
            "                                    Round 4 \n",
            "\n"
          ]
        },
        {
          "output_type": "display_data",
          "data": {
            "application/javascript": [
              "const spec = {\"config\": {\"view\": {\"continuousWidth\": 400, \"continuousHeight\": 300}}, \"data\": {\"name\": \"data-57cbfb2655eeafe0e8b02546145a40eb\"}, \"mark\": \"bar\", \"encoding\": {\"color\": {\"field\": \"Player\", \"legend\": null, \"scale\": {\"scheme\": {\"name\": \"darkblue\"}}, \"type\": \"nominal\"}, \"tooltip\": [{\"field\": \"Player\", \"type\": \"nominal\"}, {\"field\": \"Times Selected\", \"type\": \"quantitative\"}], \"x\": {\"axis\": {\"labels\": true}, \"field\": \"Times Selected\", \"title\": \"\", \"type\": \"quantitative\"}, \"y\": {\"axis\": {\"labels\": true}, \"field\": \"Player\", \"sort\": \"-x\", \"title\": \"\", \"type\": \"nominal\"}}, \"selection\": {\"selector293\": {\"type\": \"interval\", \"bind\": \"scales\", \"encodings\": [\"x\", \"y\"]}}, \"$schema\": \"https://vega.github.io/schema/vega-lite/v4.17.0.json\", \"datasets\": {\"data-57cbfb2655eeafe0e8b02546145a40eb\": [{\"Player\": \"DK Metcalf\", \"Times Selected\": 1}, {\"Player\": \"Gabriel Davis\", \"Times Selected\": 1}]}};\n",
              "const opt = {\"renderer\": \"svg\"};\n",
              "const type = \"vega-lite\";\n",
              "const id = \"c137927c-3111-4dbf-8f5e-76b816015972\";\n",
              "\n",
              "const output_area = this;\n",
              "\n",
              "require([\"jupyter-vega\"], function(vega) {\n",
              "  const target = document.createElement(\"div\");\n",
              "  target.id = id;\n",
              "  target.className = \"vega-embed\";\n",
              "\n",
              "  const style = document.createElement(\"style\");\n",
              "  style.textContent = [\n",
              "    \".vega-embed .error p {\",\n",
              "    \"  color: firebrick;\",\n",
              "    \"  font-size: 14px;\",\n",
              "    \"}\",\n",
              "  ].join(\"\\\\n\");\n",
              "\n",
              "  // element is a jQuery wrapped DOM element inside the output area\n",
              "  // see http://ipython.readthedocs.io/en/stable/api/generated/\\\n",
              "  // IPython.display.html#IPython.display.Javascript.__init__\n",
              "  element[0].appendChild(target);\n",
              "  element[0].appendChild(style);\n",
              "\n",
              "  vega.render(`#$c137927c-3111-4dbf-8f5e-76b816015972`, spec, type, opt, output_area);\n",
              "}, function (err) {\n",
              "  if (err.requireType !== \"scripterror\") {\n",
              "    throw(err);\n",
              "  }\n",
              "});\n"
            ],
            "text/plain": [
              "<vega.vegalite.VegaLite at 0x7fa501901b90>"
            ]
          },
          "metadata": {
            "jupyter-vega": "#c137927c-3111-4dbf-8f5e-76b816015972"
          }
        },
        {
          "output_type": "display_data",
          "data": {
            "text/plain": [
              ""
            ]
          },
          "metadata": {}
        },
        {
          "output_type": "stream",
          "name": "stdout",
          "text": [
            "===============================================================\n",
            "                                    Round 5 \n",
            "\n"
          ]
        },
        {
          "output_type": "display_data",
          "data": {
            "application/javascript": [
              "const spec = {\"config\": {\"view\": {\"continuousWidth\": 400, \"continuousHeight\": 300}}, \"data\": {\"name\": \"data-07ee6aefbe826ddd7d4c884935d1b005\"}, \"mark\": \"bar\", \"encoding\": {\"color\": {\"field\": \"Player\", \"legend\": null, \"scale\": {\"scheme\": {\"name\": \"darkblue\"}}, \"type\": \"nominal\"}, \"tooltip\": [{\"field\": \"Player\", \"type\": \"nominal\"}, {\"field\": \"Times Selected\", \"type\": \"quantitative\"}], \"x\": {\"axis\": {\"labels\": true}, \"field\": \"Times Selected\", \"title\": \"\", \"type\": \"quantitative\"}, \"y\": {\"axis\": {\"labels\": true}, \"field\": \"Player\", \"sort\": \"-x\", \"title\": \"\", \"type\": \"nominal\"}}, \"selection\": {\"selector294\": {\"type\": \"interval\", \"bind\": \"scales\", \"encodings\": [\"x\", \"y\"]}}, \"$schema\": \"https://vega.github.io/schema/vega-lite/v4.17.0.json\", \"datasets\": {\"data-07ee6aefbe826ddd7d4c884935d1b005\": [{\"Player\": \"Chris Godwin\", \"Times Selected\": 1}, {\"Player\": \"Courtland Sutton\", \"Times Selected\": 1}]}};\n",
              "const opt = {\"renderer\": \"svg\"};\n",
              "const type = \"vega-lite\";\n",
              "const id = \"9a309903-f04d-43d2-bc17-a89ce184b256\";\n",
              "\n",
              "const output_area = this;\n",
              "\n",
              "require([\"jupyter-vega\"], function(vega) {\n",
              "  const target = document.createElement(\"div\");\n",
              "  target.id = id;\n",
              "  target.className = \"vega-embed\";\n",
              "\n",
              "  const style = document.createElement(\"style\");\n",
              "  style.textContent = [\n",
              "    \".vega-embed .error p {\",\n",
              "    \"  color: firebrick;\",\n",
              "    \"  font-size: 14px;\",\n",
              "    \"}\",\n",
              "  ].join(\"\\\\n\");\n",
              "\n",
              "  // element is a jQuery wrapped DOM element inside the output area\n",
              "  // see http://ipython.readthedocs.io/en/stable/api/generated/\\\n",
              "  // IPython.display.html#IPython.display.Javascript.__init__\n",
              "  element[0].appendChild(target);\n",
              "  element[0].appendChild(style);\n",
              "\n",
              "  vega.render(`#$9a309903-f04d-43d2-bc17-a89ce184b256`, spec, type, opt, output_area);\n",
              "}, function (err) {\n",
              "  if (err.requireType !== \"scripterror\") {\n",
              "    throw(err);\n",
              "  }\n",
              "});\n"
            ],
            "text/plain": [
              "<vega.vegalite.VegaLite at 0x7fa501901250>"
            ]
          },
          "metadata": {
            "jupyter-vega": "#9a309903-f04d-43d2-bc17-a89ce184b256"
          }
        },
        {
          "output_type": "display_data",
          "data": {
            "text/plain": [
              ""
            ]
          },
          "metadata": {}
        },
        {
          "output_type": "stream",
          "name": "stdout",
          "text": [
            "===============================================================\n",
            "                                    Round 6 \n",
            "\n"
          ]
        },
        {
          "output_type": "display_data",
          "data": {
            "application/javascript": [
              "const spec = {\"config\": {\"view\": {\"continuousWidth\": 400, \"continuousHeight\": 300}}, \"data\": {\"name\": \"data-dacb9bf98b11f62f797189c8bcb0e4c1\"}, \"mark\": \"bar\", \"encoding\": {\"color\": {\"field\": \"Player\", \"legend\": null, \"scale\": {\"scheme\": {\"name\": \"darkblue\"}}, \"type\": \"nominal\"}, \"tooltip\": [{\"field\": \"Player\", \"type\": \"nominal\"}, {\"field\": \"Times Selected\", \"type\": \"quantitative\"}], \"x\": {\"axis\": {\"labels\": true}, \"field\": \"Times Selected\", \"title\": \"\", \"type\": \"quantitative\"}, \"y\": {\"axis\": {\"labels\": true}, \"field\": \"Player\", \"sort\": \"-x\", \"title\": \"\", \"type\": \"nominal\"}}, \"selection\": {\"selector295\": {\"type\": \"interval\", \"bind\": \"scales\", \"encodings\": [\"x\", \"y\"]}}, \"$schema\": \"https://vega.github.io/schema/vega-lite/v4.17.0.json\", \"datasets\": {\"data-dacb9bf98b11f62f797189c8bcb0e4c1\": [{\"Player\": \"JuJu Smith-Schuster\", \"Times Selected\": 1}, {\"Player\": \"Deandre Hopkins\", \"Times Selected\": 1}]}};\n",
              "const opt = {\"renderer\": \"svg\"};\n",
              "const type = \"vega-lite\";\n",
              "const id = \"fe97ab34-3de7-4005-b7bf-30f9f6bfd885\";\n",
              "\n",
              "const output_area = this;\n",
              "\n",
              "require([\"jupyter-vega\"], function(vega) {\n",
              "  const target = document.createElement(\"div\");\n",
              "  target.id = id;\n",
              "  target.className = \"vega-embed\";\n",
              "\n",
              "  const style = document.createElement(\"style\");\n",
              "  style.textContent = [\n",
              "    \".vega-embed .error p {\",\n",
              "    \"  color: firebrick;\",\n",
              "    \"  font-size: 14px;\",\n",
              "    \"}\",\n",
              "  ].join(\"\\\\n\");\n",
              "\n",
              "  // element is a jQuery wrapped DOM element inside the output area\n",
              "  // see http://ipython.readthedocs.io/en/stable/api/generated/\\\n",
              "  // IPython.display.html#IPython.display.Javascript.__init__\n",
              "  element[0].appendChild(target);\n",
              "  element[0].appendChild(style);\n",
              "\n",
              "  vega.render(`#$fe97ab34-3de7-4005-b7bf-30f9f6bfd885`, spec, type, opt, output_area);\n",
              "}, function (err) {\n",
              "  if (err.requireType !== \"scripterror\") {\n",
              "    throw(err);\n",
              "  }\n",
              "});\n"
            ],
            "text/plain": [
              "<vega.vegalite.VegaLite at 0x7fa50191bbd0>"
            ]
          },
          "metadata": {
            "jupyter-vega": "#fe97ab34-3de7-4005-b7bf-30f9f6bfd885"
          }
        },
        {
          "output_type": "display_data",
          "data": {
            "text/plain": [
              ""
            ]
          },
          "metadata": {}
        },
        {
          "output_type": "stream",
          "name": "stdout",
          "text": [
            "===============================================================\n",
            "                                    Round 7 \n",
            "\n"
          ]
        },
        {
          "output_type": "display_data",
          "data": {
            "application/javascript": [
              "const spec = {\"config\": {\"view\": {\"continuousWidth\": 400, \"continuousHeight\": 300}}, \"data\": {\"name\": \"data-256e59b925a48942c2483fc9bc7c316e\"}, \"mark\": \"bar\", \"encoding\": {\"color\": {\"field\": \"Player\", \"legend\": null, \"scale\": {\"scheme\": {\"name\": \"darkblue\"}}, \"type\": \"nominal\"}, \"tooltip\": [{\"field\": \"Player\", \"type\": \"nominal\"}, {\"field\": \"Times Selected\", \"type\": \"quantitative\"}], \"x\": {\"axis\": {\"labels\": true}, \"field\": \"Times Selected\", \"title\": \"\", \"type\": \"quantitative\"}, \"y\": {\"axis\": {\"labels\": true}, \"field\": \"Player\", \"sort\": \"-x\", \"title\": \"\", \"type\": \"nominal\"}}, \"selection\": {\"selector296\": {\"type\": \"interval\", \"bind\": \"scales\", \"encodings\": [\"x\", \"y\"]}}, \"$schema\": \"https://vega.github.io/schema/vega-lite/v4.17.0.json\", \"datasets\": {\"data-256e59b925a48942c2483fc9bc7c316e\": [{\"Player\": \"Tom Brady\", \"Times Selected\": 1}, {\"Player\": \"Drake London\", \"Times Selected\": 1}]}};\n",
              "const opt = {\"renderer\": \"svg\"};\n",
              "const type = \"vega-lite\";\n",
              "const id = \"bbe03bf0-69b4-43be-ba74-7fb61c821334\";\n",
              "\n",
              "const output_area = this;\n",
              "\n",
              "require([\"jupyter-vega\"], function(vega) {\n",
              "  const target = document.createElement(\"div\");\n",
              "  target.id = id;\n",
              "  target.className = \"vega-embed\";\n",
              "\n",
              "  const style = document.createElement(\"style\");\n",
              "  style.textContent = [\n",
              "    \".vega-embed .error p {\",\n",
              "    \"  color: firebrick;\",\n",
              "    \"  font-size: 14px;\",\n",
              "    \"}\",\n",
              "  ].join(\"\\\\n\");\n",
              "\n",
              "  // element is a jQuery wrapped DOM element inside the output area\n",
              "  // see http://ipython.readthedocs.io/en/stable/api/generated/\\\n",
              "  // IPython.display.html#IPython.display.Javascript.__init__\n",
              "  element[0].appendChild(target);\n",
              "  element[0].appendChild(style);\n",
              "\n",
              "  vega.render(`#$bbe03bf0-69b4-43be-ba74-7fb61c821334`, spec, type, opt, output_area);\n",
              "}, function (err) {\n",
              "  if (err.requireType !== \"scripterror\") {\n",
              "    throw(err);\n",
              "  }\n",
              "});\n"
            ],
            "text/plain": [
              "<vega.vegalite.VegaLite at 0x7fa501901250>"
            ]
          },
          "metadata": {
            "jupyter-vega": "#bbe03bf0-69b4-43be-ba74-7fb61c821334"
          }
        },
        {
          "output_type": "display_data",
          "data": {
            "text/plain": [
              ""
            ]
          },
          "metadata": {}
        },
        {
          "output_type": "stream",
          "name": "stdout",
          "text": [
            "===============================================================\n",
            "                                    Round 8 \n",
            "\n"
          ]
        },
        {
          "output_type": "display_data",
          "data": {
            "application/javascript": [
              "const spec = {\"config\": {\"view\": {\"continuousWidth\": 400, \"continuousHeight\": 300}}, \"data\": {\"name\": \"data-ec0638ccb168e788827467c8721be46b\"}, \"mark\": \"bar\", \"encoding\": {\"color\": {\"field\": \"Player\", \"legend\": null, \"scale\": {\"scheme\": {\"name\": \"darkblue\"}}, \"type\": \"nominal\"}, \"tooltip\": [{\"field\": \"Player\", \"type\": \"nominal\"}, {\"field\": \"Times Selected\", \"type\": \"quantitative\"}], \"x\": {\"axis\": {\"labels\": true}, \"field\": \"Times Selected\", \"title\": \"\", \"type\": \"quantitative\"}, \"y\": {\"axis\": {\"labels\": true}, \"field\": \"Player\", \"sort\": \"-x\", \"title\": \"\", \"type\": \"nominal\"}}, \"selection\": {\"selector297\": {\"type\": \"interval\", \"bind\": \"scales\", \"encodings\": [\"x\", \"y\"]}}, \"$schema\": \"https://vega.github.io/schema/vega-lite/v4.17.0.json\", \"datasets\": {\"data-ec0638ccb168e788827467c8721be46b\": [{\"Player\": \"Clyde Edwards-Helaire\", \"Times Selected\": 1}, {\"Player\": \"Trey Lance\", \"Times Selected\": 1}]}};\n",
              "const opt = {\"renderer\": \"svg\"};\n",
              "const type = \"vega-lite\";\n",
              "const id = \"d5cd8950-3109-4dec-a226-2e5b63224b3c\";\n",
              "\n",
              "const output_area = this;\n",
              "\n",
              "require([\"jupyter-vega\"], function(vega) {\n",
              "  const target = document.createElement(\"div\");\n",
              "  target.id = id;\n",
              "  target.className = \"vega-embed\";\n",
              "\n",
              "  const style = document.createElement(\"style\");\n",
              "  style.textContent = [\n",
              "    \".vega-embed .error p {\",\n",
              "    \"  color: firebrick;\",\n",
              "    \"  font-size: 14px;\",\n",
              "    \"}\",\n",
              "  ].join(\"\\\\n\");\n",
              "\n",
              "  // element is a jQuery wrapped DOM element inside the output area\n",
              "  // see http://ipython.readthedocs.io/en/stable/api/generated/\\\n",
              "  // IPython.display.html#IPython.display.Javascript.__init__\n",
              "  element[0].appendChild(target);\n",
              "  element[0].appendChild(style);\n",
              "\n",
              "  vega.render(`#$d5cd8950-3109-4dec-a226-2e5b63224b3c`, spec, type, opt, output_area);\n",
              "}, function (err) {\n",
              "  if (err.requireType !== \"scripterror\") {\n",
              "    throw(err);\n",
              "  }\n",
              "});\n"
            ],
            "text/plain": [
              "<vega.vegalite.VegaLite at 0x7fa501954d50>"
            ]
          },
          "metadata": {
            "jupyter-vega": "#d5cd8950-3109-4dec-a226-2e5b63224b3c"
          }
        },
        {
          "output_type": "display_data",
          "data": {
            "text/plain": [
              ""
            ]
          },
          "metadata": {}
        },
        {
          "output_type": "stream",
          "name": "stdout",
          "text": [
            "===============================================================\n",
            "                                    Round 9 \n",
            "\n"
          ]
        },
        {
          "output_type": "display_data",
          "data": {
            "application/javascript": [
              "const spec = {\"config\": {\"view\": {\"continuousWidth\": 400, \"continuousHeight\": 300}}, \"data\": {\"name\": \"data-cd82b48c72076a2c815ee7c3563e9aa9\"}, \"mark\": \"bar\", \"encoding\": {\"color\": {\"field\": \"Player\", \"legend\": null, \"scale\": {\"scheme\": {\"name\": \"darkblue\"}}, \"type\": \"nominal\"}, \"tooltip\": [{\"field\": \"Player\", \"type\": \"nominal\"}, {\"field\": \"Times Selected\", \"type\": \"quantitative\"}], \"x\": {\"axis\": {\"labels\": true}, \"field\": \"Times Selected\", \"title\": \"\", \"type\": \"quantitative\"}, \"y\": {\"axis\": {\"labels\": true}, \"field\": \"Player\", \"sort\": \"-x\", \"title\": \"\", \"type\": \"nominal\"}}, \"selection\": {\"selector298\": {\"type\": \"interval\", \"bind\": \"scales\", \"encodings\": [\"x\", \"y\"]}}, \"$schema\": \"https://vega.github.io/schema/vega-lite/v4.17.0.json\", \"datasets\": {\"data-cd82b48c72076a2c815ee7c3563e9aa9\": [{\"Player\": \"Skyy Moore\", \"Times Selected\": 1}, {\"Player\": \"Dalton Schulz\", \"Times Selected\": 1}]}};\n",
              "const opt = {\"renderer\": \"svg\"};\n",
              "const type = \"vega-lite\";\n",
              "const id = \"92b9d928-a526-4cb2-b8b8-08aa15d13b49\";\n",
              "\n",
              "const output_area = this;\n",
              "\n",
              "require([\"jupyter-vega\"], function(vega) {\n",
              "  const target = document.createElement(\"div\");\n",
              "  target.id = id;\n",
              "  target.className = \"vega-embed\";\n",
              "\n",
              "  const style = document.createElement(\"style\");\n",
              "  style.textContent = [\n",
              "    \".vega-embed .error p {\",\n",
              "    \"  color: firebrick;\",\n",
              "    \"  font-size: 14px;\",\n",
              "    \"}\",\n",
              "  ].join(\"\\\\n\");\n",
              "\n",
              "  // element is a jQuery wrapped DOM element inside the output area\n",
              "  // see http://ipython.readthedocs.io/en/stable/api/generated/\\\n",
              "  // IPython.display.html#IPython.display.Javascript.__init__\n",
              "  element[0].appendChild(target);\n",
              "  element[0].appendChild(style);\n",
              "\n",
              "  vega.render(`#$92b9d928-a526-4cb2-b8b8-08aa15d13b49`, spec, type, opt, output_area);\n",
              "}, function (err) {\n",
              "  if (err.requireType !== \"scripterror\") {\n",
              "    throw(err);\n",
              "  }\n",
              "});\n"
            ],
            "text/plain": [
              "<vega.vegalite.VegaLite at 0x7fa50196d690>"
            ]
          },
          "metadata": {
            "jupyter-vega": "#92b9d928-a526-4cb2-b8b8-08aa15d13b49"
          }
        },
        {
          "output_type": "display_data",
          "data": {
            "text/plain": [
              ""
            ]
          },
          "metadata": {}
        },
        {
          "output_type": "stream",
          "name": "stdout",
          "text": [
            "===============================================================\n",
            "                                    Round 10 \n",
            "\n"
          ]
        },
        {
          "output_type": "display_data",
          "data": {
            "application/javascript": [
              "const spec = {\"config\": {\"view\": {\"continuousWidth\": 400, \"continuousHeight\": 300}}, \"data\": {\"name\": \"data-72cbfbc27dbcf9ae90f7c5de842672c7\"}, \"mark\": \"bar\", \"encoding\": {\"color\": {\"field\": \"Player\", \"legend\": null, \"scale\": {\"scheme\": {\"name\": \"darkblue\"}}, \"type\": \"nominal\"}, \"tooltip\": [{\"field\": \"Player\", \"type\": \"nominal\"}, {\"field\": \"Times Selected\", \"type\": \"quantitative\"}], \"x\": {\"axis\": {\"labels\": true}, \"field\": \"Times Selected\", \"title\": \"\", \"type\": \"quantitative\"}, \"y\": {\"axis\": {\"labels\": true}, \"field\": \"Player\", \"sort\": \"-x\", \"title\": \"\", \"type\": \"nominal\"}}, \"selection\": {\"selector299\": {\"type\": \"interval\", \"bind\": \"scales\", \"encodings\": [\"x\", \"y\"]}}, \"$schema\": \"https://vega.github.io/schema/vega-lite/v4.17.0.json\", \"datasets\": {\"data-72cbfbc27dbcf9ae90f7c5de842672c7\": [{\"Player\": \"Christian Watson\", \"Times Selected\": 1}, {\"Player\": \"Tua Tagovailoa\", \"Times Selected\": 1}]}};\n",
              "const opt = {\"renderer\": \"svg\"};\n",
              "const type = \"vega-lite\";\n",
              "const id = \"cc791eff-cbe2-43af-a3ec-2a5da6555bb2\";\n",
              "\n",
              "const output_area = this;\n",
              "\n",
              "require([\"jupyter-vega\"], function(vega) {\n",
              "  const target = document.createElement(\"div\");\n",
              "  target.id = id;\n",
              "  target.className = \"vega-embed\";\n",
              "\n",
              "  const style = document.createElement(\"style\");\n",
              "  style.textContent = [\n",
              "    \".vega-embed .error p {\",\n",
              "    \"  color: firebrick;\",\n",
              "    \"  font-size: 14px;\",\n",
              "    \"}\",\n",
              "  ].join(\"\\\\n\");\n",
              "\n",
              "  // element is a jQuery wrapped DOM element inside the output area\n",
              "  // see http://ipython.readthedocs.io/en/stable/api/generated/\\\n",
              "  // IPython.display.html#IPython.display.Javascript.__init__\n",
              "  element[0].appendChild(target);\n",
              "  element[0].appendChild(style);\n",
              "\n",
              "  vega.render(`#$cc791eff-cbe2-43af-a3ec-2a5da6555bb2`, spec, type, opt, output_area);\n",
              "}, function (err) {\n",
              "  if (err.requireType !== \"scripterror\") {\n",
              "    throw(err);\n",
              "  }\n",
              "});\n"
            ],
            "text/plain": [
              "<vega.vegalite.VegaLite at 0x7fa501eab710>"
            ]
          },
          "metadata": {
            "jupyter-vega": "#cc791eff-cbe2-43af-a3ec-2a5da6555bb2"
          }
        },
        {
          "output_type": "display_data",
          "data": {
            "text/plain": [
              ""
            ]
          },
          "metadata": {}
        },
        {
          "output_type": "stream",
          "name": "stdout",
          "text": [
            "===============================================================\n",
            "                                    Round 11 \n",
            "\n"
          ]
        },
        {
          "output_type": "display_data",
          "data": {
            "application/javascript": [
              "const spec = {\"config\": {\"view\": {\"continuousWidth\": 400, \"continuousHeight\": 300}}, \"data\": {\"name\": \"data-ca17ea2ef23891ffc268ef750518f11d\"}, \"mark\": \"bar\", \"encoding\": {\"color\": {\"field\": \"Player\", \"legend\": null, \"scale\": {\"scheme\": {\"name\": \"darkblue\"}}, \"type\": \"nominal\"}, \"tooltip\": [{\"field\": \"Player\", \"type\": \"nominal\"}, {\"field\": \"Times Selected\", \"type\": \"quantitative\"}], \"x\": {\"axis\": {\"labels\": true}, \"field\": \"Times Selected\", \"title\": \"\", \"type\": \"quantitative\"}, \"y\": {\"axis\": {\"labels\": true}, \"field\": \"Player\", \"sort\": \"-x\", \"title\": \"\", \"type\": \"nominal\"}}, \"selection\": {\"selector300\": {\"type\": \"interval\", \"bind\": \"scales\", \"encodings\": [\"x\", \"y\"]}}, \"$schema\": \"https://vega.github.io/schema/vega-lite/v4.17.0.json\", \"datasets\": {\"data-ca17ea2ef23891ffc268ef750518f11d\": [{\"Player\": \"Rachaad White\", \"Times Selected\": 1}, {\"Player\": \"Chase Edmonds\", \"Times Selected\": 1}]}};\n",
              "const opt = {\"renderer\": \"svg\"};\n",
              "const type = \"vega-lite\";\n",
              "const id = \"a8077edd-b070-479a-8d78-97d962bfddae\";\n",
              "\n",
              "const output_area = this;\n",
              "\n",
              "require([\"jupyter-vega\"], function(vega) {\n",
              "  const target = document.createElement(\"div\");\n",
              "  target.id = id;\n",
              "  target.className = \"vega-embed\";\n",
              "\n",
              "  const style = document.createElement(\"style\");\n",
              "  style.textContent = [\n",
              "    \".vega-embed .error p {\",\n",
              "    \"  color: firebrick;\",\n",
              "    \"  font-size: 14px;\",\n",
              "    \"}\",\n",
              "  ].join(\"\\\\n\");\n",
              "\n",
              "  // element is a jQuery wrapped DOM element inside the output area\n",
              "  // see http://ipython.readthedocs.io/en/stable/api/generated/\\\n",
              "  // IPython.display.html#IPython.display.Javascript.__init__\n",
              "  element[0].appendChild(target);\n",
              "  element[0].appendChild(style);\n",
              "\n",
              "  vega.render(`#$a8077edd-b070-479a-8d78-97d962bfddae`, spec, type, opt, output_area);\n",
              "}, function (err) {\n",
              "  if (err.requireType !== \"scripterror\") {\n",
              "    throw(err);\n",
              "  }\n",
              "});\n"
            ],
            "text/plain": [
              "<vega.vegalite.VegaLite at 0x7fa5017d24d0>"
            ]
          },
          "metadata": {
            "jupyter-vega": "#a8077edd-b070-479a-8d78-97d962bfddae"
          }
        },
        {
          "output_type": "display_data",
          "data": {
            "text/plain": [
              ""
            ]
          },
          "metadata": {}
        },
        {
          "output_type": "stream",
          "name": "stdout",
          "text": [
            "===============================================================\n",
            "                                    Round 12 \n",
            "\n"
          ]
        },
        {
          "output_type": "display_data",
          "data": {
            "application/javascript": [
              "const spec = {\"config\": {\"view\": {\"continuousWidth\": 400, \"continuousHeight\": 300}}, \"data\": {\"name\": \"data-1f58fd80bea938b2c400429be4cbc7c0\"}, \"mark\": \"bar\", \"encoding\": {\"color\": {\"field\": \"Player\", \"legend\": null, \"scale\": {\"scheme\": {\"name\": \"darkblue\"}}, \"type\": \"nominal\"}, \"tooltip\": [{\"field\": \"Player\", \"type\": \"nominal\"}, {\"field\": \"Times Selected\", \"type\": \"quantitative\"}], \"x\": {\"axis\": {\"labels\": true}, \"field\": \"Times Selected\", \"title\": \"\", \"type\": \"quantitative\"}, \"y\": {\"axis\": {\"labels\": true}, \"field\": \"Player\", \"sort\": \"-x\", \"title\": \"\", \"type\": \"nominal\"}}, \"selection\": {\"selector301\": {\"type\": \"interval\", \"bind\": \"scales\", \"encodings\": [\"x\", \"y\"]}}, \"$schema\": \"https://vega.github.io/schema/vega-lite/v4.17.0.json\", \"datasets\": {\"data-1f58fd80bea938b2c400429be4cbc7c0\": [{\"Player\": \"Corey Davis\", \"Times Selected\": 1}, {\"Player\": \"Robert Tonyan\", \"Times Selected\": 1}]}};\n",
              "const opt = {\"renderer\": \"svg\"};\n",
              "const type = \"vega-lite\";\n",
              "const id = \"666ecc8e-6ca9-42c7-bc5d-ea6ed30e9545\";\n",
              "\n",
              "const output_area = this;\n",
              "\n",
              "require([\"jupyter-vega\"], function(vega) {\n",
              "  const target = document.createElement(\"div\");\n",
              "  target.id = id;\n",
              "  target.className = \"vega-embed\";\n",
              "\n",
              "  const style = document.createElement(\"style\");\n",
              "  style.textContent = [\n",
              "    \".vega-embed .error p {\",\n",
              "    \"  color: firebrick;\",\n",
              "    \"  font-size: 14px;\",\n",
              "    \"}\",\n",
              "  ].join(\"\\\\n\");\n",
              "\n",
              "  // element is a jQuery wrapped DOM element inside the output area\n",
              "  // see http://ipython.readthedocs.io/en/stable/api/generated/\\\n",
              "  // IPython.display.html#IPython.display.Javascript.__init__\n",
              "  element[0].appendChild(target);\n",
              "  element[0].appendChild(style);\n",
              "\n",
              "  vega.render(`#$666ecc8e-6ca9-42c7-bc5d-ea6ed30e9545`, spec, type, opt, output_area);\n",
              "}, function (err) {\n",
              "  if (err.requireType !== \"scripterror\") {\n",
              "    throw(err);\n",
              "  }\n",
              "});\n"
            ],
            "text/plain": [
              "<vega.vegalite.VegaLite at 0x7fa501976410>"
            ]
          },
          "metadata": {
            "jupyter-vega": "#666ecc8e-6ca9-42c7-bc5d-ea6ed30e9545"
          }
        },
        {
          "output_type": "display_data",
          "data": {
            "text/plain": [
              ""
            ]
          },
          "metadata": {}
        },
        {
          "output_type": "stream",
          "name": "stdout",
          "text": [
            "===============================================================\n",
            "                                    Round 13 \n",
            "\n"
          ]
        },
        {
          "output_type": "display_data",
          "data": {
            "application/javascript": [
              "const spec = {\"config\": {\"view\": {\"continuousWidth\": 400, \"continuousHeight\": 300}}, \"data\": {\"name\": \"data-87ad10fb56389059493be31c8d7595fa\"}, \"mark\": \"bar\", \"encoding\": {\"color\": {\"field\": \"Player\", \"legend\": null, \"scale\": {\"scheme\": {\"name\": \"darkblue\"}}, \"type\": \"nominal\"}, \"tooltip\": [{\"field\": \"Player\", \"type\": \"nominal\"}, {\"field\": \"Times Selected\", \"type\": \"quantitative\"}], \"x\": {\"axis\": {\"labels\": true}, \"field\": \"Times Selected\", \"title\": \"\", \"type\": \"quantitative\"}, \"y\": {\"axis\": {\"labels\": true}, \"field\": \"Player\", \"sort\": \"-x\", \"title\": \"\", \"type\": \"nominal\"}}, \"selection\": {\"selector302\": {\"type\": \"interval\", \"bind\": \"scales\", \"encodings\": [\"x\", \"y\"]}}, \"$schema\": \"https://vega.github.io/schema/vega-lite/v4.17.0.json\", \"datasets\": {\"data-87ad10fb56389059493be31c8d7595fa\": [{\"Player\": \"Noah Fant\", \"Times Selected\": 1}, {\"Player\": \"Rachaad White\", \"Times Selected\": 1}]}};\n",
              "const opt = {\"renderer\": \"svg\"};\n",
              "const type = \"vega-lite\";\n",
              "const id = \"cd6bf4bd-ccf4-4d90-9f2d-f105a001cfda\";\n",
              "\n",
              "const output_area = this;\n",
              "\n",
              "require([\"jupyter-vega\"], function(vega) {\n",
              "  const target = document.createElement(\"div\");\n",
              "  target.id = id;\n",
              "  target.className = \"vega-embed\";\n",
              "\n",
              "  const style = document.createElement(\"style\");\n",
              "  style.textContent = [\n",
              "    \".vega-embed .error p {\",\n",
              "    \"  color: firebrick;\",\n",
              "    \"  font-size: 14px;\",\n",
              "    \"}\",\n",
              "  ].join(\"\\\\n\");\n",
              "\n",
              "  // element is a jQuery wrapped DOM element inside the output area\n",
              "  // see http://ipython.readthedocs.io/en/stable/api/generated/\\\n",
              "  // IPython.display.html#IPython.display.Javascript.__init__\n",
              "  element[0].appendChild(target);\n",
              "  element[0].appendChild(style);\n",
              "\n",
              "  vega.render(`#$cd6bf4bd-ccf4-4d90-9f2d-f105a001cfda`, spec, type, opt, output_area);\n",
              "}, function (err) {\n",
              "  if (err.requireType !== \"scripterror\") {\n",
              "    throw(err);\n",
              "  }\n",
              "});\n"
            ],
            "text/plain": [
              "<vega.vegalite.VegaLite at 0x7fa50182f110>"
            ]
          },
          "metadata": {
            "jupyter-vega": "#cd6bf4bd-ccf4-4d90-9f2d-f105a001cfda"
          }
        },
        {
          "output_type": "display_data",
          "data": {
            "text/plain": [
              ""
            ]
          },
          "metadata": {}
        },
        {
          "output_type": "stream",
          "name": "stdout",
          "text": [
            "===============================================================\n",
            "                                    Round 14 \n",
            "\n"
          ]
        },
        {
          "output_type": "display_data",
          "data": {
            "application/javascript": [
              "const spec = {\"config\": {\"view\": {\"continuousWidth\": 400, \"continuousHeight\": 300}}, \"data\": {\"name\": \"data-e85da58eb8821abb1f55910b63702dc1\"}, \"mark\": \"bar\", \"encoding\": {\"color\": {\"field\": \"Player\", \"legend\": null, \"scale\": {\"scheme\": {\"name\": \"darkblue\"}}, \"type\": \"nominal\"}, \"tooltip\": [{\"field\": \"Player\", \"type\": \"nominal\"}, {\"field\": \"Times Selected\", \"type\": \"quantitative\"}], \"x\": {\"axis\": {\"labels\": true}, \"field\": \"Times Selected\", \"title\": \"\", \"type\": \"quantitative\"}, \"y\": {\"axis\": {\"labels\": true}, \"field\": \"Player\", \"sort\": \"-x\", \"title\": \"\", \"type\": \"nominal\"}}, \"selection\": {\"selector303\": {\"type\": \"interval\", \"bind\": \"scales\", \"encodings\": [\"x\", \"y\"]}}, \"$schema\": \"https://vega.github.io/schema/vega-lite/v4.17.0.json\", \"datasets\": {\"data-e85da58eb8821abb1f55910b63702dc1\": [{\"Player\": \"Will Fuller\", \"Times Selected\": 1}, {\"Player\": \"Daniel Jones\", \"Times Selected\": 1}]}};\n",
              "const opt = {\"renderer\": \"svg\"};\n",
              "const type = \"vega-lite\";\n",
              "const id = \"bd99a322-7c8f-422e-907a-29aa3ec2f9c6\";\n",
              "\n",
              "const output_area = this;\n",
              "\n",
              "require([\"jupyter-vega\"], function(vega) {\n",
              "  const target = document.createElement(\"div\");\n",
              "  target.id = id;\n",
              "  target.className = \"vega-embed\";\n",
              "\n",
              "  const style = document.createElement(\"style\");\n",
              "  style.textContent = [\n",
              "    \".vega-embed .error p {\",\n",
              "    \"  color: firebrick;\",\n",
              "    \"  font-size: 14px;\",\n",
              "    \"}\",\n",
              "  ].join(\"\\\\n\");\n",
              "\n",
              "  // element is a jQuery wrapped DOM element inside the output area\n",
              "  // see http://ipython.readthedocs.io/en/stable/api/generated/\\\n",
              "  // IPython.display.html#IPython.display.Javascript.__init__\n",
              "  element[0].appendChild(target);\n",
              "  element[0].appendChild(style);\n",
              "\n",
              "  vega.render(`#$bd99a322-7c8f-422e-907a-29aa3ec2f9c6`, spec, type, opt, output_area);\n",
              "}, function (err) {\n",
              "  if (err.requireType !== \"scripterror\") {\n",
              "    throw(err);\n",
              "  }\n",
              "});\n"
            ],
            "text/plain": [
              "<vega.vegalite.VegaLite at 0x7fa501857f50>"
            ]
          },
          "metadata": {
            "jupyter-vega": "#bd99a322-7c8f-422e-907a-29aa3ec2f9c6"
          }
        },
        {
          "output_type": "display_data",
          "data": {
            "text/plain": [
              ""
            ]
          },
          "metadata": {}
        },
        {
          "output_type": "stream",
          "name": "stdout",
          "text": [
            "===============================================================\n",
            "                                    Round 15 \n",
            "\n"
          ]
        },
        {
          "output_type": "display_data",
          "data": {
            "application/javascript": [
              "const spec = {\"config\": {\"view\": {\"continuousWidth\": 400, \"continuousHeight\": 300}}, \"data\": {\"name\": \"data-a162df2d97625ff73696de0471e15f38\"}, \"mark\": \"bar\", \"encoding\": {\"color\": {\"field\": \"Player\", \"legend\": null, \"scale\": {\"scheme\": {\"name\": \"darkblue\"}}, \"type\": \"nominal\"}, \"tooltip\": [{\"field\": \"Player\", \"type\": \"nominal\"}, {\"field\": \"Times Selected\", \"type\": \"quantitative\"}], \"x\": {\"axis\": {\"labels\": true}, \"field\": \"Times Selected\", \"title\": \"\", \"type\": \"quantitative\"}, \"y\": {\"axis\": {\"labels\": true}, \"field\": \"Player\", \"sort\": \"-x\", \"title\": \"\", \"type\": \"nominal\"}}, \"selection\": {\"selector304\": {\"type\": \"interval\", \"bind\": \"scales\", \"encodings\": [\"x\", \"y\"]}}, \"$schema\": \"https://vega.github.io/schema/vega-lite/v4.17.0.json\", \"datasets\": {\"data-a162df2d97625ff73696de0471e15f38\": [{\"Player\": \"Daniel Jones\", \"Times Selected\": 1}, {\"Player\": \"David Bell\", \"Times Selected\": 1}]}};\n",
              "const opt = {\"renderer\": \"svg\"};\n",
              "const type = \"vega-lite\";\n",
              "const id = \"dfe54ba4-9994-45c6-b516-798f9bd6be64\";\n",
              "\n",
              "const output_area = this;\n",
              "\n",
              "require([\"jupyter-vega\"], function(vega) {\n",
              "  const target = document.createElement(\"div\");\n",
              "  target.id = id;\n",
              "  target.className = \"vega-embed\";\n",
              "\n",
              "  const style = document.createElement(\"style\");\n",
              "  style.textContent = [\n",
              "    \".vega-embed .error p {\",\n",
              "    \"  color: firebrick;\",\n",
              "    \"  font-size: 14px;\",\n",
              "    \"}\",\n",
              "  ].join(\"\\\\n\");\n",
              "\n",
              "  // element is a jQuery wrapped DOM element inside the output area\n",
              "  // see http://ipython.readthedocs.io/en/stable/api/generated/\\\n",
              "  // IPython.display.html#IPython.display.Javascript.__init__\n",
              "  element[0].appendChild(target);\n",
              "  element[0].appendChild(style);\n",
              "\n",
              "  vega.render(`#$dfe54ba4-9994-45c6-b516-798f9bd6be64`, spec, type, opt, output_area);\n",
              "}, function (err) {\n",
              "  if (err.requireType !== \"scripterror\") {\n",
              "    throw(err);\n",
              "  }\n",
              "});\n"
            ],
            "text/plain": [
              "<vega.vegalite.VegaLite at 0x7fa501a27710>"
            ]
          },
          "metadata": {
            "jupyter-vega": "#dfe54ba4-9994-45c6-b516-798f9bd6be64"
          }
        },
        {
          "output_type": "display_data",
          "data": {
            "text/plain": [
              ""
            ]
          },
          "metadata": {}
        },
        {
          "output_type": "stream",
          "name": "stdout",
          "text": [
            "===============================================================\n",
            "                                    Round 16 \n",
            "\n"
          ]
        },
        {
          "output_type": "display_data",
          "data": {
            "application/javascript": [
              "const spec = {\"config\": {\"view\": {\"continuousWidth\": 400, \"continuousHeight\": 300}}, \"data\": {\"name\": \"data-5424ff6c70774b31e2c98abde0218734\"}, \"mark\": \"bar\", \"encoding\": {\"color\": {\"field\": \"Player\", \"legend\": null, \"scale\": {\"scheme\": {\"name\": \"darkblue\"}}, \"type\": \"nominal\"}, \"tooltip\": [{\"field\": \"Player\", \"type\": \"nominal\"}, {\"field\": \"Times Selected\", \"type\": \"quantitative\"}], \"x\": {\"axis\": {\"labels\": true}, \"field\": \"Times Selected\", \"title\": \"\", \"type\": \"quantitative\"}, \"y\": {\"axis\": {\"labels\": true}, \"field\": \"Player\", \"sort\": \"-x\", \"title\": \"\", \"type\": \"nominal\"}}, \"selection\": {\"selector305\": {\"type\": \"interval\", \"bind\": \"scales\", \"encodings\": [\"x\", \"y\"]}}, \"$schema\": \"https://vega.github.io/schema/vega-lite/v4.17.0.json\", \"datasets\": {\"data-5424ff6c70774b31e2c98abde0218734\": [{\"Player\": \"Jalen Tolbert\", \"Times Selected\": 1}, {\"Player\": \"Brian Robinson\", \"Times Selected\": 1}]}};\n",
              "const opt = {\"renderer\": \"svg\"};\n",
              "const type = \"vega-lite\";\n",
              "const id = \"7fbc5dd2-1e36-48d5-8a23-e7f1f2df0674\";\n",
              "\n",
              "const output_area = this;\n",
              "\n",
              "require([\"jupyter-vega\"], function(vega) {\n",
              "  const target = document.createElement(\"div\");\n",
              "  target.id = id;\n",
              "  target.className = \"vega-embed\";\n",
              "\n",
              "  const style = document.createElement(\"style\");\n",
              "  style.textContent = [\n",
              "    \".vega-embed .error p {\",\n",
              "    \"  color: firebrick;\",\n",
              "    \"  font-size: 14px;\",\n",
              "    \"}\",\n",
              "  ].join(\"\\\\n\");\n",
              "\n",
              "  // element is a jQuery wrapped DOM element inside the output area\n",
              "  // see http://ipython.readthedocs.io/en/stable/api/generated/\\\n",
              "  // IPython.display.html#IPython.display.Javascript.__init__\n",
              "  element[0].appendChild(target);\n",
              "  element[0].appendChild(style);\n",
              "\n",
              "  vega.render(`#$7fbc5dd2-1e36-48d5-8a23-e7f1f2df0674`, spec, type, opt, output_area);\n",
              "}, function (err) {\n",
              "  if (err.requireType !== \"scripterror\") {\n",
              "    throw(err);\n",
              "  }\n",
              "});\n"
            ],
            "text/plain": [
              "<vega.vegalite.VegaLite at 0x7fa50182b110>"
            ]
          },
          "metadata": {
            "jupyter-vega": "#7fbc5dd2-1e36-48d5-8a23-e7f1f2df0674"
          }
        },
        {
          "output_type": "display_data",
          "data": {
            "text/plain": [
              ""
            ]
          },
          "metadata": {}
        },
        {
          "output_type": "stream",
          "name": "stdout",
          "text": [
            "===============================================================\n",
            "                                    Round 17 \n",
            "\n"
          ]
        },
        {
          "output_type": "display_data",
          "data": {
            "application/javascript": [
              "const spec = {\"config\": {\"view\": {\"continuousWidth\": 400, \"continuousHeight\": 300}}, \"data\": {\"name\": \"data-1b1cbd0a5ac1db713dfe1978ee538bb1\"}, \"mark\": \"bar\", \"encoding\": {\"color\": {\"field\": \"Player\", \"legend\": null, \"scale\": {\"scheme\": {\"name\": \"darkblue\"}}, \"type\": \"nominal\"}, \"tooltip\": [{\"field\": \"Player\", \"type\": \"nominal\"}, {\"field\": \"Times Selected\", \"type\": \"quantitative\"}], \"x\": {\"axis\": {\"labels\": true}, \"field\": \"Times Selected\", \"title\": \"\", \"type\": \"quantitative\"}, \"y\": {\"axis\": {\"labels\": true}, \"field\": \"Player\", \"sort\": \"-x\", \"title\": \"\", \"type\": \"nominal\"}}, \"selection\": {\"selector306\": {\"type\": \"interval\", \"bind\": \"scales\", \"encodings\": [\"x\", \"y\"]}}, \"$schema\": \"https://vega.github.io/schema/vega-lite/v4.17.0.json\", \"datasets\": {\"data-1b1cbd0a5ac1db713dfe1978ee538bb1\": [{\"Player\": \"KJ Hamler\", \"Times Selected\": 1}, {\"Player\": \"Donta Foreman\", \"Times Selected\": 1}]}};\n",
              "const opt = {\"renderer\": \"svg\"};\n",
              "const type = \"vega-lite\";\n",
              "const id = \"71db52fc-afa6-462d-9a9f-b66bc29eaf95\";\n",
              "\n",
              "const output_area = this;\n",
              "\n",
              "require([\"jupyter-vega\"], function(vega) {\n",
              "  const target = document.createElement(\"div\");\n",
              "  target.id = id;\n",
              "  target.className = \"vega-embed\";\n",
              "\n",
              "  const style = document.createElement(\"style\");\n",
              "  style.textContent = [\n",
              "    \".vega-embed .error p {\",\n",
              "    \"  color: firebrick;\",\n",
              "    \"  font-size: 14px;\",\n",
              "    \"}\",\n",
              "  ].join(\"\\\\n\");\n",
              "\n",
              "  // element is a jQuery wrapped DOM element inside the output area\n",
              "  // see http://ipython.readthedocs.io/en/stable/api/generated/\\\n",
              "  // IPython.display.html#IPython.display.Javascript.__init__\n",
              "  element[0].appendChild(target);\n",
              "  element[0].appendChild(style);\n",
              "\n",
              "  vega.render(`#$71db52fc-afa6-462d-9a9f-b66bc29eaf95`, spec, type, opt, output_area);\n",
              "}, function (err) {\n",
              "  if (err.requireType !== \"scripterror\") {\n",
              "    throw(err);\n",
              "  }\n",
              "});\n"
            ],
            "text/plain": [
              "<vega.vegalite.VegaLite at 0x7fa501a27710>"
            ]
          },
          "metadata": {
            "jupyter-vega": "#71db52fc-afa6-462d-9a9f-b66bc29eaf95"
          }
        },
        {
          "output_type": "display_data",
          "data": {
            "text/plain": [
              ""
            ]
          },
          "metadata": {}
        },
        {
          "output_type": "stream",
          "name": "stdout",
          "text": [
            "===============================================================\n",
            "                                    Round 18 \n",
            "\n"
          ]
        },
        {
          "output_type": "display_data",
          "data": {
            "application/javascript": [
              "const spec = {\"config\": {\"view\": {\"continuousWidth\": 400, \"continuousHeight\": 300}}, \"data\": {\"name\": \"data-f2a2964bc57892610e3afb2f6ea11898\"}, \"mark\": \"bar\", \"encoding\": {\"color\": {\"field\": \"Player\", \"legend\": null, \"scale\": {\"scheme\": {\"name\": \"darkblue\"}}, \"type\": \"nominal\"}, \"tooltip\": [{\"field\": \"Player\", \"type\": \"nominal\"}, {\"field\": \"Times Selected\", \"type\": \"quantitative\"}], \"x\": {\"axis\": {\"labels\": true}, \"field\": \"Times Selected\", \"title\": \"\", \"type\": \"quantitative\"}, \"y\": {\"axis\": {\"labels\": true}, \"field\": \"Player\", \"sort\": \"-x\", \"title\": \"\", \"type\": \"nominal\"}}, \"selection\": {\"selector307\": {\"type\": \"interval\", \"bind\": \"scales\", \"encodings\": [\"x\", \"y\"]}}, \"$schema\": \"https://vega.github.io/schema/vega-lite/v4.17.0.json\", \"datasets\": {\"data-f2a2964bc57892610e3afb2f6ea11898\": [{\"Player\": \"Brevin Jordan\", \"Times Selected\": 1}, {\"Player\": \"Wandale Robinson\", \"Times Selected\": 1}]}};\n",
              "const opt = {\"renderer\": \"svg\"};\n",
              "const type = \"vega-lite\";\n",
              "const id = \"45289ae8-c796-4b0b-9be7-72cbce143377\";\n",
              "\n",
              "const output_area = this;\n",
              "\n",
              "require([\"jupyter-vega\"], function(vega) {\n",
              "  const target = document.createElement(\"div\");\n",
              "  target.id = id;\n",
              "  target.className = \"vega-embed\";\n",
              "\n",
              "  const style = document.createElement(\"style\");\n",
              "  style.textContent = [\n",
              "    \".vega-embed .error p {\",\n",
              "    \"  color: firebrick;\",\n",
              "    \"  font-size: 14px;\",\n",
              "    \"}\",\n",
              "  ].join(\"\\\\n\");\n",
              "\n",
              "  // element is a jQuery wrapped DOM element inside the output area\n",
              "  // see http://ipython.readthedocs.io/en/stable/api/generated/\\\n",
              "  // IPython.display.html#IPython.display.Javascript.__init__\n",
              "  element[0].appendChild(target);\n",
              "  element[0].appendChild(style);\n",
              "\n",
              "  vega.render(`#$45289ae8-c796-4b0b-9be7-72cbce143377`, spec, type, opt, output_area);\n",
              "}, function (err) {\n",
              "  if (err.requireType !== \"scripterror\") {\n",
              "    throw(err);\n",
              "  }\n",
              "});\n"
            ],
            "text/plain": [
              "<vega.vegalite.VegaLite at 0x7fa501804210>"
            ]
          },
          "metadata": {
            "jupyter-vega": "#45289ae8-c796-4b0b-9be7-72cbce143377"
          }
        },
        {
          "output_type": "display_data",
          "data": {
            "text/plain": [
              ""
            ]
          },
          "metadata": {}
        },
        {
          "output_type": "stream",
          "name": "stdout",
          "text": [
            "===============================================================\n",
            "                                    Round 19 \n",
            "\n"
          ]
        },
        {
          "output_type": "display_data",
          "data": {
            "application/javascript": [
              "const spec = {\"config\": {\"view\": {\"continuousWidth\": 400, \"continuousHeight\": 300}}, \"data\": {\"name\": \"data-c23e6a6e9de7b4018424c28122d62c97\"}, \"mark\": \"bar\", \"encoding\": {\"color\": {\"field\": \"Player\", \"legend\": null, \"scale\": {\"scheme\": {\"name\": \"darkblue\"}}, \"type\": \"nominal\"}, \"tooltip\": [{\"field\": \"Player\", \"type\": \"nominal\"}, {\"field\": \"Times Selected\", \"type\": \"quantitative\"}], \"x\": {\"axis\": {\"labels\": true}, \"field\": \"Times Selected\", \"title\": \"\", \"type\": \"quantitative\"}, \"y\": {\"axis\": {\"labels\": true}, \"field\": \"Player\", \"sort\": \"-x\", \"title\": \"\", \"type\": \"nominal\"}}, \"selection\": {\"selector308\": {\"type\": \"interval\", \"bind\": \"scales\", \"encodings\": [\"x\", \"y\"]}}, \"$schema\": \"https://vega.github.io/schema/vega-lite/v4.17.0.json\", \"datasets\": {\"data-c23e6a6e9de7b4018424c28122d62c97\": [{\"Player\": \"Sony Michel\", \"Times Selected\": 1}, {\"Player\": \"Chris Evans\", \"Times Selected\": 1}]}};\n",
              "const opt = {\"renderer\": \"svg\"};\n",
              "const type = \"vega-lite\";\n",
              "const id = \"54947800-88a9-43cf-8987-58659e1ff49b\";\n",
              "\n",
              "const output_area = this;\n",
              "\n",
              "require([\"jupyter-vega\"], function(vega) {\n",
              "  const target = document.createElement(\"div\");\n",
              "  target.id = id;\n",
              "  target.className = \"vega-embed\";\n",
              "\n",
              "  const style = document.createElement(\"style\");\n",
              "  style.textContent = [\n",
              "    \".vega-embed .error p {\",\n",
              "    \"  color: firebrick;\",\n",
              "    \"  font-size: 14px;\",\n",
              "    \"}\",\n",
              "  ].join(\"\\\\n\");\n",
              "\n",
              "  // element is a jQuery wrapped DOM element inside the output area\n",
              "  // see http://ipython.readthedocs.io/en/stable/api/generated/\\\n",
              "  // IPython.display.html#IPython.display.Javascript.__init__\n",
              "  element[0].appendChild(target);\n",
              "  element[0].appendChild(style);\n",
              "\n",
              "  vega.render(`#$54947800-88a9-43cf-8987-58659e1ff49b`, spec, type, opt, output_area);\n",
              "}, function (err) {\n",
              "  if (err.requireType !== \"scripterror\") {\n",
              "    throw(err);\n",
              "  }\n",
              "});\n"
            ],
            "text/plain": [
              "<vega.vegalite.VegaLite at 0x7fa501881310>"
            ]
          },
          "metadata": {
            "jupyter-vega": "#54947800-88a9-43cf-8987-58659e1ff49b"
          }
        },
        {
          "output_type": "display_data",
          "data": {
            "text/plain": [
              ""
            ]
          },
          "metadata": {}
        },
        {
          "output_type": "stream",
          "name": "stdout",
          "text": [
            "===============================================================\n",
            "                                    Round 20 \n",
            "\n"
          ]
        },
        {
          "output_type": "display_data",
          "data": {
            "application/javascript": [
              "const spec = {\"config\": {\"view\": {\"continuousWidth\": 400, \"continuousHeight\": 300}}, \"data\": {\"name\": \"data-134198d2bf446d1307c1e616d620d2d4\"}, \"mark\": \"bar\", \"encoding\": {\"color\": {\"field\": \"Player\", \"legend\": null, \"scale\": {\"scheme\": {\"name\": \"darkblue\"}}, \"type\": \"nominal\"}, \"tooltip\": [{\"field\": \"Player\", \"type\": \"nominal\"}, {\"field\": \"Times Selected\", \"type\": \"quantitative\"}], \"x\": {\"axis\": {\"labels\": true}, \"field\": \"Times Selected\", \"title\": \"\", \"type\": \"quantitative\"}, \"y\": {\"axis\": {\"labels\": true}, \"field\": \"Player\", \"sort\": \"-x\", \"title\": \"\", \"type\": \"nominal\"}}, \"selection\": {\"selector309\": {\"type\": \"interval\", \"bind\": \"scales\", \"encodings\": [\"x\", \"y\"]}}, \"$schema\": \"https://vega.github.io/schema/vega-lite/v4.17.0.json\", \"datasets\": {\"data-134198d2bf446d1307c1e616d620d2d4\": [{\"Player\": \"Greg Dulcich\", \"Times Selected\": 1}, {\"Player\": \"OJ Howard\", \"Times Selected\": 1}]}};\n",
              "const opt = {\"renderer\": \"svg\"};\n",
              "const type = \"vega-lite\";\n",
              "const id = \"ce5822ff-0686-4f55-a248-436742b6a28f\";\n",
              "\n",
              "const output_area = this;\n",
              "\n",
              "require([\"jupyter-vega\"], function(vega) {\n",
              "  const target = document.createElement(\"div\");\n",
              "  target.id = id;\n",
              "  target.className = \"vega-embed\";\n",
              "\n",
              "  const style = document.createElement(\"style\");\n",
              "  style.textContent = [\n",
              "    \".vega-embed .error p {\",\n",
              "    \"  color: firebrick;\",\n",
              "    \"  font-size: 14px;\",\n",
              "    \"}\",\n",
              "  ].join(\"\\\\n\");\n",
              "\n",
              "  // element is a jQuery wrapped DOM element inside the output area\n",
              "  // see http://ipython.readthedocs.io/en/stable/api/generated/\\\n",
              "  // IPython.display.html#IPython.display.Javascript.__init__\n",
              "  element[0].appendChild(target);\n",
              "  element[0].appendChild(style);\n",
              "\n",
              "  vega.render(`#$ce5822ff-0686-4f55-a248-436742b6a28f`, spec, type, opt, output_area);\n",
              "}, function (err) {\n",
              "  if (err.requireType !== \"scripterror\") {\n",
              "    throw(err);\n",
              "  }\n",
              "});\n"
            ],
            "text/plain": [
              "<vega.vegalite.VegaLite at 0x7fa5018795d0>"
            ]
          },
          "metadata": {
            "jupyter-vega": "#ce5822ff-0686-4f55-a248-436742b6a28f"
          }
        },
        {
          "output_type": "display_data",
          "data": {
            "text/plain": [
              ""
            ]
          },
          "metadata": {}
        }
      ]
    },
    {
      "cell_type": "markdown",
      "source": [
        "#### Round by round ADP reaches (work in progress)"
      ],
      "metadata": {
        "id": "dy7QM21d3Ui-"
      }
    },
    {
      "cell_type": "code",
      "source": [
        "#General ADP Guidelines. This function when given a pick will give the user the likely players availible to them in each round, given current ADP.\n",
        "\n",
        "#WORK IN PROGRESS\n",
        "\n",
        "\n",
        "\n",
        "def adp_dist(pick):\n",
        "  adp_url = 'https://raw.githubusercontent.com/AndrewRucker/Fantasy-Football-and-Betting/main/BestBall/Underdog/adps.csv'\n",
        "  adp = pd.read_csv(adp_url, index_col='Player ID')\n",
        "  adp = adp.dropna(how='all')\n",
        "  adp = adp.drop_duplicates(subset=['Player Name'])\n",
        "  picks_url = 'https://raw.githubusercontent.com/AndrewRucker/Fantasy-Football-and-Betting/main/BestBall/PicksByRound.csv'\n",
        "  possible_picks = ['Round','1st', '2nd', '3rd', '4th', '5th', '6th', '7th', '8th', '9th', '10th', '11th', '12th' ]\n",
        "  picks = pd.read_csv(picks_url, index_col='Round', names=possible_picks, encoding=\"utf-8-sig\")\n",
        "  picks = picks.dropna(how='all')\n",
        "  picks = picks.iloc[1: , :]\n",
        "  picks   \n",
        "  round = 0\n",
        "  rounds = 19\n",
        "  team_temp = pd.DataFrame(columns=['Team', 'Diff'])\n",
        "  while round <= rounds:\n",
        "    pos = picks.iloc[round].loc[pick]\n",
        "    plus = int(pos) + 5\n",
        "    minus = int(pos) - 5\n",
        "    temp = adp[adp['ADP'].between(minus, plus)]\n",
        "    temp['diff'] = int(pos) - temp['ADP']\n",
        "    error_bars = alt.Chart(temp).mark_errorbar(extent='stdev').encode(\n",
        "    x=alt.X('diff', scale=alt.Scale(zero=False)),\n",
        "    y=alt.Y('Player Name')\n",
        "    )\n",
        "\n",
        "    points = alt.Chart(temp).mark_point(filled=True, color='black').encode(\n",
        "    x=alt.X('diff', aggregate='mean'),\n",
        "    y=alt.Y('Player Name'),\n",
        "    tooltip=['Player Name','diff', 'ADP', 'Team']\n",
        "    ).interactive()\n",
        "\n",
        "    ye = error_bars + points\n",
        "    ye.display() \n",
        "    round = round + 1\n",
        "\n",
        "\n",
        "\n",
        "  \n"
      ],
      "metadata": {
        "id": "izeD5Btj2fvE"
      },
      "execution_count": 320,
      "outputs": []
    },
    {
      "cell_type": "markdown",
      "source": [
        "#### Most likely Team Stacks by pick position accoridng to ADP. (work in progress)"
      ],
      "metadata": {
        "id": "eR8hFOFE3ZDc"
      }
    },
    {
      "cell_type": "code",
      "source": [
        "#This function will tell you the most likely team stacks given a draft position for players with an ADP lower than 180.\n",
        "#The closer to zero a team's value is, the more likely that team stack from that draft position has happened.\n",
        "#General ADP Guidelines. This function when given a pick will give the user the likely players availible to them in each round, given current ADP.\n",
        "def Likely_team_stacks(pick):\n",
        "  adp_url = 'https://raw.githubusercontent.com/AndrewRucker/Fantasy-Football-and-Betting/main/BestBall/Underdog/adps.csv'\n",
        "  adp = pd.read_csv(adp_url, index_col='Player ID')\n",
        "  adp = adp.dropna(how='all')\n",
        "  adp = adp.drop_duplicates(subset=['Player Name'])\n",
        "  picks_url = 'https://raw.githubusercontent.com/AndrewRucker/Fantasy-Football-and-Betting/main/BestBall/PicksByRound.csv'\n",
        "  possible_picks = ['Round','1st', '2nd', '3rd', '4th', '5th', '6th', '7th', '8th', '9th', '10th', '11th', '12th' ]\n",
        "  picks = pd.read_csv(picks_url, index_col='Round', names=possible_picks, encoding=\"utf-8-sig\")\n",
        "  picks = picks.dropna(how='all')\n",
        "  picks = picks.iloc[1: , :]\n",
        "  picks   \n",
        "  round = 0\n",
        "  rounds = 19\n",
        "  team_temp = pd.DataFrame(columns=['Team', 'Diff'])\n",
        "  temp1 = adp[adp['ADP'] <= 190]\n",
        "  while round <= rounds:\n",
        "    pos = picks.iloc[round].loc[pick]\n",
        "    plus = int(pos) + 5\n",
        "    minus = int(pos) - 5\n",
        "    temp = temp1[temp1['ADP'].between(minus, plus)]\n",
        "    temp['diff'] = int(pos) - temp['ADP']\n",
        "    for index, row in temp.iterrows():\n",
        "      team_temp = team_temp.append({'Team': row['Team'], 'Diff' : row['diff']}, ignore_index=True)\n",
        "    \n",
        "    round = round + 1\n",
        "  Avg_team_diff = team_temp.groupby(['Team'])\n",
        "  Avg_team_diff = team_temp.groupby(['Team'])['Diff'].agg(lambda x: x.unique().mean())\n",
        "  Avg_team_diff = Avg_team_diff.sort_values(ascending=False)\n",
        "  print(Avg_team_diff)\n",
        "  #print(temp1.shape)\n",
        "  \n",
        "\n"
      ],
      "metadata": {
        "id": "-a-eSFMQ09K5"
      },
      "execution_count": 321,
      "outputs": []
    },
    {
      "cell_type": "markdown",
      "source": [
        "#### Correlation between pick position and team stack by ADP (work in progress)"
      ],
      "metadata": {
        "id": "5eR8Z5ie6WAd"
      }
    },
    {
      "cell_type": "code",
      "source": [
        "#This function will tell you the most likely team stacks given a draft position for players with an ADP lower than 180.\n",
        "#The closer to zero a team's value is, the more likely that team stack from that draft position has happened.\n",
        "#General ADP Guidelines. This function when given a pick will give the user the likely players availible to them in each round, given current UD ADP.\n",
        "def pick_to_stack_corr():\n",
        "  adp_url = 'https://raw.githubusercontent.com/AndrewRucker/Fantasy-Football-and-Betting/main/BestBall/adps.csv'\n",
        "  adp = pd.read_csv(adp_url, index_col='Player ID')\n",
        "  adp = adp.dropna(how='all')\n",
        "  adp = adp.drop_duplicates(subset=['Player Name'])\n",
        "  picks_url = 'https://raw.githubusercontent.com/AndrewRucker/Fantasy-Football-and-Betting/main/BestBall/PicksByRound.csv'\n",
        "  possible_picks = ['Round','1st', '2nd', '3rd', '4th', '5th', '6th', '7th', '8th', '9th', '10th', '11th', '12th']\n",
        "  picks = pd.read_csv(picks_url, index_col='Round', names=possible_picks, encoding=\"utf-8-sig\")\n",
        "  picks = picks.dropna(how='all')\n",
        "  picks = picks.iloc[1: , :]\n",
        "  picks   \n",
        "  round = 0\n",
        "  rounds = 19\n",
        "  avg_team_df = pd.DataFrame(columns=['Team', 'Avg'])\n",
        "  for i in possible_picks:\n",
        "    team_temp = pd.DataFrame(columns=['Team', 'Diff'])\n",
        "    temp1 = adp[adp['ADP'] <= 190]\n",
        "    while round <= rounds:\n",
        "      pos = picks.iloc[round].loc[i]\n",
        "      plus = int(pos) + 5\n",
        "      minus = int(pos) - 5\n",
        "      temp = temp1[temp1['ADP'].between(minus, plus)]\n",
        "      temp['diff'] = int(pos) - temp['ADP']\n",
        "      for index, row in temp.iterrows():\n",
        "        team_temp = team_temp.append({'Team': row['Team'], 'Diff' : row['diff']}, ignore_index=True)\n",
        "      round = round + 1\n",
        "    Avg_team_diff = team_temp.groupby(['Team'])\n",
        "    Avg_team_diff = team_temp.groupby(['Team'])['Diff'].agg(lambda x: x.unique().mean())\n",
        "    Avg_team_diff = Avg_team_diff.sort_values(ascending=False)\n",
        "    for index, row in Avg_team_diff.iterrows():\n",
        "      avg_team_df = avg_team_df.append({'Team' : row['Team'], 'Avg' : row['Diff']}. ignore_index=True)\n",
        "\n",
        "    print(Avg_team_diff)\n",
        "    #print(temp1.shape)\n",
        "  \n",
        "\n"
      ],
      "metadata": {
        "colab": {
          "base_uri": "https://localhost:8080/",
          "height": 130
        },
        "id": "5gf_2e9u6gYr",
        "outputId": "f765708e-fb44-4e33-8be4-f5930e859f7f"
      },
      "execution_count": 322,
      "outputs": [
        {
          "output_type": "error",
          "ename": "SyntaxError",
          "evalue": "ignored",
          "traceback": [
            "\u001b[0;36m  File \u001b[0;32m\"<ipython-input-322-56d0d32ea1b0>\"\u001b[0;36m, line \u001b[0;32m34\u001b[0m\n\u001b[0;31m    avg_team_df = avg_team_df.append({'Team' : row['Team'], 'Avg' : row['Diff']}. ignore_index=True)\u001b[0m\n\u001b[0m                                    ^\u001b[0m\n\u001b[0;31mSyntaxError\u001b[0m\u001b[0;31m:\u001b[0m keyword can't be an expression\n"
          ]
        }
      ]
    },
    {
      "cell_type": "markdown",
      "source": [
        "#### Functions to call ADP insights (work in progress)"
      ],
      "metadata": {
        "id": "gknFfDHv6akY"
      }
    },
    {
      "cell_type": "code",
      "source": [
        "#Insert pick you have to see round by round breakdown of the players availible to you.\n",
        "#pick = '6th'\n",
        "#adp_dist(pick)\n",
        "#Likely_team_stacks(pick)"
      ],
      "metadata": {
        "id": "e-G_tgoT6Qum"
      },
      "execution_count": null,
      "outputs": []
    },
    {
      "cell_type": "code",
      "source": [
        "  picks_url = 'https://raw.githubusercontent.com/AndrewRucker/Fantasy-Football-and-Betting/main/BestBall/PicksByRound.csv'\n",
        "  possible_picks = ['Round','1st', '2nd', '3rd', '4th', '5th', '6th', '7th', '8th', '9th', '10th', '11th', '12th' ]\n",
        "  picks = pd.read_csv(picks_url, index_col='Round', names=possible_picks, encoding=\"utf-8-sig\")\n",
        "  picks = picks.dropna(how='all')\n",
        "  picks = picks.iloc[1: , :]\n",
        "  picks   "
      ],
      "metadata": {
        "id": "DTdcL4DTEHsf"
      },
      "execution_count": null,
      "outputs": []
    }
  ]
}