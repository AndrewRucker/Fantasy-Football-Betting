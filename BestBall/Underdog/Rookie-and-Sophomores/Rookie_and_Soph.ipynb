{
  "nbformat": 4,
  "nbformat_minor": 0,
  "metadata": {
    "colab": {
      "name": "Rookie and Soph.ipynb",
      "provenance": [],
      "authorship_tag": "ABX9TyMqBeRZOEjmTtb8ABIcOMTi",
      "include_colab_link": true
    },
    "kernelspec": {
      "name": "python3",
      "display_name": "Python 3"
    },
    "language_info": {
      "name": "python"
    }
  },
  "cells": [
    {
      "cell_type": "markdown",
      "metadata": {
        "id": "view-in-github",
        "colab_type": "text"
      },
      "source": [
        "<a href=\"https://colab.research.google.com/github/AndrewRucker/Fantasy-Football-and-Betting/blob/main/BestBall/Underdog/Rookie-and-Sophomores/Rookie_and_Soph.ipynb\" target=\"_parent\"><img src=\"https://colab.research.google.com/assets/colab-badge.svg\" alt=\"Open In Colab\"/></a>"
      ]
    },
    {
      "cell_type": "markdown",
      "source": [
        "#### Library imports and dataset creation"
      ],
      "metadata": {
        "id": "3imzieoZt6q_"
      }
    },
    {
      "cell_type": "code",
      "source": [
        "import pandas as pd\n",
        "import seaborn as sns\n",
        "import numpy as np\n",
        "import altair as alt\n",
        "import ipywidgets as widgets\n",
        "from IPython.core.pylabtools import figsize\n",
        "from IPython.display import display\n",
        "\n",
        "sns.set_context(font_scale=2)\n",
        "\n",
        "# to bypass warnings in various dataframe assignments\n",
        "pd.options.mode.chained_assignment = None"
      ],
      "metadata": {
        "id": "k1fXA10C0TpE"
      },
      "execution_count": null,
      "outputs": []
    },
    {
      "cell_type": "code",
      "source": [
        "#Read in CSV to dataframe\n",
        "url = 'https://raw.githubusercontent.com/AndrewRucker/Fantasy-Football-and-Betting/main/BestBall/Underdog/Rookie-and-Sophomores/RookSophTeams.csv'\n",
        "df = pd.read_csv(url, index_col='Team')\n",
        "df = df.dropna(how='all')\n",
        "\n",
        "df"
      ],
      "metadata": {
        "id": "znmZ-2wgFypn"
      },
      "execution_count": null,
      "outputs": []
    },
    {
      "cell_type": "code",
      "source": [
        "#Creation of dataset with player drafted with value according to ADP by draft date\n",
        "some_values = ('Kenny Pickett', 'Matt Corral', 'Malik Willis', 'Sam Howell', 'Desmond Ridder', 'Trevor Lawrence', 'Justin Fields', 'Davis Mills', 'Mac Jones', 'Zach Wilson')\n",
        "df_date = df.drop(columns=['POS', 'Round', 'Pick', 'ADP', 'Cumulative Val'])\n",
        "df_date = df_date.loc[df_date['Name'].isin(some_values)]\n",
        "df_date\n"
      ],
      "metadata": {
        "id": "F6Fc5e1jJAOu"
      },
      "execution_count": null,
      "outputs": []
    },
    {
      "cell_type": "markdown",
      "source": [
        "#### Initial data manipulation"
      ],
      "metadata": {
        "id": "drGHzTXst0mm"
      }
    },
    {
      "cell_type": "code",
      "source": [
        "df1 = df.groupby('Team')['POS'].apply(lambda x: ', '.join(x.astype(str))).reset_index()\n",
        "\n",
        "df1['RB'] = df1['POS'].str.count('RB')\n",
        "df1['W/T'] = df1['POS'].str.count('W/T')\n",
        "df1['QB'] = df1['POS'].str.count('QB')\n",
        "\n",
        "df1['build'] = df1['QB'].astype(str) + \"/\" + df1['RB'].astype(str) + \"/\" + df1['W/T'].astype(str)\n",
        "df1 = df1.drop(columns=['POS', 'RB', 'W/T', 'QB'])"
      ],
      "metadata": {
        "id": "BCbWKoD43pzL"
      },
      "execution_count": null,
      "outputs": []
    },
    {
      "cell_type": "code",
      "source": [
        "df2 = pd.merge(df, df1, how='left', on = 'Team')\n",
        "df3 = df2.groupby('Team')['Name'].apply(lambda x: ', '.join(x.astype(str))).reset_index()\n",
        "df2 = pd.merge(df2, df3, how='left', on='Team')"
      ],
      "metadata": {
        "id": "unbQKn51B8jH"
      },
      "execution_count": null,
      "outputs": []
    },
    {
      "cell_type": "code",
      "source": [
        "final_df = df2.drop(columns=['POS', 'Name_x', 'TEAM', 'Round', 'Pick', 'ADP', 'Value'])\n",
        "final_df = final_df.drop_duplicates()\n",
        "final_df ['Players'] = final_df['Name_y']\n",
        "final_df = final_df.drop(columns=['Name_y'])\n",
        "final_df\n",
        "\n",
        "split_df = pd.concat([final_df['Team'], final_df['Players'].str.split(', ', expand=True)], axis=1)\n",
        "split_df.rename({0 : 1, 1 : 2, 2 : 3, 3 : 4, 4 : 5, 5 : 6, 6 : 7, 7 : 8, 8 : 9, 9 : 10, 10 : 11, 11 : 12}, axis='columns', inplace=True)"
      ],
      "metadata": {
        "id": "HIiM1f4opTqy"
      },
      "execution_count": null,
      "outputs": []
    },
    {
      "cell_type": "code",
      "source": [
        "df1 = pd.merge(df1, df2, how='left', on = 'Team')\n",
        "df1 = df1.drop(columns=['POS', 'Name_x', 'TEAM', 'Round', 'Pick', 'ADP', 'Value', 'Name_y'])\n",
        "df1"
      ],
      "metadata": {
        "id": "5Ag1QfAT0wY0"
      },
      "execution_count": null,
      "outputs": []
    },
    {
      "cell_type": "markdown",
      "source": [
        "#### Player/Build viz and stats"
      ],
      "metadata": {
        "id": "kiRbEtV7F4uv"
      }
    },
    {
      "cell_type": "code",
      "source": [
        "#Exposure calc\n",
        "exp_df = df2['Name_x'].value_counts()\n",
        "exp_df = exp_df.reset_index()\n",
        "exp_df['Count'] = exp_df['Name_x']\n",
        "exp_df['%'] = round((exp_df['Count'] / df2['Team'].max()) * 100, 1)\n",
        "exp_df = exp_df.drop(columns=['Name_x'])\n",
        "exp_df.rename({'index' : 'Player'}, axis='columns', inplace=True)\n",
        "exp_df"
      ],
      "metadata": {
        "id": "15kWU98aQJfX"
      },
      "execution_count": null,
      "outputs": []
    },
    {
      "cell_type": "code",
      "source": [
        "#Player Exposure\n",
        "alt.Chart(exp_df).mark_bar().encode(\n",
        "    x='Count',\n",
        "    y=alt.Y(\"Player\", sort='-x'),\n",
        "    tooltip=['Player','Count', '%']\n",
        ").properties(height=700)"
      ],
      "metadata": {
        "id": "HbLFVchsAVBN"
      },
      "execution_count": null,
      "outputs": []
    },
    {
      "cell_type": "code",
      "source": [
        "#My draft tendencies for QBs over time, by value\n",
        "\n",
        "stripplot =  alt.Chart(df_date, width=40).mark_circle(size=8).encode(\n",
        "    x=alt.X(\n",
        "        'jitter:Q',\n",
        "        title=None,\n",
        "        axis=alt.Axis(values=[0], ticks=True, grid=False, labels=False),\n",
        "        scale=alt.Scale(),\n",
        "    ),\n",
        "    y=alt.Y('Name'),\n",
        "    tooltip=['Name', 'Draft Start', 'Value'],\n",
        "    color=alt.Color('Value', scale=alt.Scale(scheme='orangered')),\n",
        "    column=alt.Column(\n",
        "        'Draft Start',\n",
        "        header=alt.Header(\n",
        "            labelAngle=-90,\n",
        "            titleOrient='bottom',\n",
        "            labelOrient='top',\n",
        "            labelAlign='right',\n",
        "            labelPadding=3,\n",
        "        ),\n",
        "    ),\n",
        ").transform_calculate(\n",
        "    # Generate Gaussian jitter with a Box-Muller transform\n",
        "    jitter='sqrt(-2*log(random()))*cos(2*PI*random())'\n",
        ").configure_facet(\n",
        "    spacing=0\n",
        ").configure_view(\n",
        "    stroke=None\n",
        ").configure_range(\n",
        "    category={'scheme' : 'dark2'}\n",
        ")\n",
        "\n",
        "stripplot"
      ],
      "metadata": {
        "id": "R74FptKqIDGp"
      },
      "execution_count": null,
      "outputs": []
    },
    {
      "cell_type": "code",
      "source": [
        "#Team Build by draft date, with cumulative ADP value\n",
        "\n",
        "alt.Chart(df1).mark_circle(size=40).encode(\n",
        "    x='Draft Start',\n",
        "    y='Cumulative Val',\n",
        "    color='build_x',\n",
        "    tooltip=['Draft Start','Team', 'build_x', 'Cumulative Val']\n",
        ").interactive()"
      ],
      "metadata": {
        "id": "5gObtfyhzOz_"
      },
      "execution_count": null,
      "outputs": []
    },
    {
      "cell_type": "code",
      "source": [
        "#Breakdown of all builds\n",
        "build_count = final_df['build'].value_counts()\n",
        "build_count = build_count.reset_index()\n",
        "build_count['Count'] = build_count['build']\n",
        "build_count['%'] = round((build_count['Count'] / df2['Team'].max()) * 100, 1)\n",
        "build_count = build_count.drop(columns=['build'])\n",
        "build_count.rename({'index' : 'Build'}, axis='columns', inplace=True)\n",
        "build_count"
      ],
      "metadata": {
        "id": "uW3OXUgbrtNQ"
      },
      "execution_count": null,
      "outputs": []
    },
    {
      "cell_type": "code",
      "source": [
        "#Cumulative value description\n",
        "cum_val_sum = final_df['Cumulative Val'].describe()\n",
        "cum_val_sum"
      ],
      "metadata": {
        "id": "Dth3vx2YsW8f"
      },
      "execution_count": null,
      "outputs": []
    },
    {
      "cell_type": "markdown",
      "source": [
        "#### Player team by round search"
      ],
      "metadata": {
        "id": "Vd-dWjk8zQ9E"
      }
    },
    {
      "cell_type": "code",
      "source": [
        "#Function that returns all teams with player passed, along with the builds used with the player\n",
        "def player_team_search(players):\n",
        "      base = r'^{}'\n",
        "      expr = '(?=.*{})'\n",
        "      base = base.format(''.join(expr.format(p) for p in players))\n",
        "      #Change for number of rounds\n",
        "      rounds = 12\n",
        "      i = 1\n",
        "\n",
        "      with_player = final_df.loc[final_df['Players'].str.contains(base)]\n",
        "      with_player = with_player.drop_duplicates(subset=['Team'])\n",
        "\n",
        "      #Building out round by round breakdown for teams with given player\n",
        "      split_df = pd.concat([final_df['Team'], final_df['Players'].str.split(', ', expand=True)], axis=1)\n",
        "      split_df.rename({0 : 1, 1 : 2, 2 : 3, 3 : 4, 4 : 5, 5 : 6, 6 : 7, 7 : 8, 8 : 9, 9 : 10, 10 : 11, 11 : 12}, axis='columns', inplace=True)\n",
        "      split_df = split_df.merge(with_player, on=['Team', 'Team'], how='right')\n",
        "      split_df = split_df.drop_duplicates(subset=['Team'])\n",
        "      print(\"Round by Round selections with \" + ', '.join(players) + \" on the team \\n\")\n",
        "      while i <= rounds:\n",
        "        round_count = split_df[i].value_counts().rename_axis('Player').reset_index(name='Times Selected')\n",
        "        round_count = round_count.sort_index()\n",
        "        print(\"===============================================================\")\n",
        "        print(\"                                    Round \" + str(i) + \" \\n\")\n",
        "        chart = bars = alt.Chart(round_count).mark_bar().encode(\n",
        "            x=alt.X('Times Selected', axis=alt.Axis(labels=True), title=\"\"),\n",
        "            y=alt.Y('Player', axis=alt.Axis(labels=True), sort='-x', title=\"\"),\n",
        "            tooltip=['Player', 'Times Selected'],\n",
        "            color=alt.Color('Player', legend=None, scale=alt.Scale(scheme=alt.SchemeParams(name='orangered')))\n",
        "        ).interactive()\n",
        "        chart.display()\n",
        "        i=i+1\n",
        "        \n",
        "      #List of teams with given player on roster\n",
        "      #print(\"===========================================================\")\n",
        "      #print(\"Full Teams with \" + ', '.join(players) + \" on the roster \\n\")\n",
        "      #print(with_player['Players'].value_counts())"
      ],
      "metadata": {
        "id": "MqsoATci1cD_"
      },
      "execution_count": null,
      "outputs": []
    },
    {
      "cell_type": "markdown",
      "source": [
        "#### Build Count with Given Players"
      ],
      "metadata": {
        "id": "klq-wmAcmRIU"
      }
    },
    {
      "cell_type": "code",
      "source": [
        "#Build Count with given players function\n",
        "def builds_with_players(players):\n",
        "      base = r'^{}'\n",
        "      expr = '(?=.*{})'\n",
        "      base = base.format(''.join(expr.format(p) for p in players))\n",
        "      #Change for number of rounds\n",
        "      rounds = 12\n",
        "      i = 1\n",
        "\n",
        "      with_player = final_df.loc[final_df['Players'].str.contains(base)]\n",
        "      with_player = with_player.drop_duplicates(subset=['Team'])    \n",
        "      print(\"Structural builds with \" + ', '.join(players) + \" on the roster\")\n",
        "      print(with_player['build'].value_counts())\n",
        "      chart = (alt.Chart(with_player).mark_circle(size=30).encode(\n",
        "      x='Draft Start',\n",
        "      y='Cumulative Val',\n",
        "      color='build',\n",
        "      tooltip=['Draft Start','Team', 'build', 'Cumulative Val']\n",
        "      ).interactive())\n",
        "      chart.display()\n",
        "      print(\"\\n\")"
      ],
      "metadata": {
        "id": "KkoPcaCZl-QK"
      },
      "execution_count": null,
      "outputs": []
    },
    {
      "cell_type": "markdown",
      "source": [
        "#### To use while drafting"
      ],
      "metadata": {
        "id": "Ce-lksXYmVUM"
      }
    },
    {
      "cell_type": "code",
      "source": [
        "players_to_search = ['Najee Harris', 'Trevor Lawrence']\n",
        "build = builds_with_players(players_to_search)\n",
        "player_team_search(players_to_search)"
      ],
      "metadata": {
        "id": "b2YAwThImaWu"
      },
      "execution_count": null,
      "outputs": []
    }
  ]
}