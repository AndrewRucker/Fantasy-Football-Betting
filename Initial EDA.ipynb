{
  "nbformat": 4,
  "nbformat_minor": 0,
  "metadata": {
    "colab": {
      "name": "ParlayCorrelationModel.ipynb",
      "provenance": [],
      "include_colab_link": true
    },
    "kernelspec": {
      "name": "python3",
      "display_name": "Python 3"
    },
    "language_info": {
      "name": "python"
    }
  },
  "cells": [
    {
      "cell_type": "markdown",
      "metadata": {
        "id": "view-in-github",
        "colab_type": "text"
      },
      "source": [
        "<a href=\"https://colab.research.google.com/github/AndrewRucker/ParlayCorrelation/blob/main/Initial%20EDA.ipynb\" target=\"_parent\"><img src=\"https://colab.research.google.com/assets/colab-badge.svg\" alt=\"Open In Colab\"/></a>"
      ]
    },
    {
      "cell_type": "code",
      "metadata": {
        "id": "eN4m5NASJ1-k"
      },
      "source": [
        "#Parlay betting model\n",
        "#See read me for documentation https://github.com/AndrewRucker/ParlayCorrelation/blob/main/README.md\n",
        "\n"
      ],
      "execution_count": null,
      "outputs": []
    }
  ]
}